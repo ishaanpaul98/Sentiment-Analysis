{
 "cells": [
  {
   "attachments": {},
   "cell_type": "markdown",
   "metadata": {},
   "source": [
    "# Imports #"
   ]
  },
  {
   "cell_type": "code",
   "execution_count": 48,
   "metadata": {},
   "outputs": [],
   "source": [
    "import pandas as pd\n",
    "import numpy as np\n",
    "import datetime\n",
    "import time\n",
    "from decouple import config\n",
    "import requests\n",
    "import urllib.parse\n",
    "import json\n",
    "AAapikey = config('AAKey')"
   ]
  },
  {
   "attachments": {},
   "cell_type": "markdown",
   "metadata": {},
   "source": [
    "# Gather Historic Stock News #"
   ]
  },
  {
   "cell_type": "code",
   "execution_count": 49,
   "metadata": {},
   "outputs": [],
   "source": [
    "#Function to convert user provided date to date required by AlphaAdvantage\n",
    "def toAADate(oldDate):\n",
    "    newDate = oldDate.strftime(\"%Y%m%dT0130\")\n",
    "    return str(newDate)"
   ]
  },
  {
   "cell_type": "code",
   "execution_count": 50,
   "metadata": {},
   "outputs": [],
   "source": [
    "def appendToDf(data):\n",
    "    try:\n",
    "        for i in data.get(\"feed\"):\n",
    "            test_date = i.get(\"time_published\")\n",
    "            test_date = test_date[:8]\n",
    "            newDate = datetime.datetime.strptime(test_date, '%Y%m%d').date() \n",
    "            row = [newDate, i.get(\"title\"), ticker]\n",
    "            new_df = pd.DataFrame([row],columns=['Date', 'Headline', 'Ticker'])\n",
    "            #historic_news = pd.concat([historic_news, new_df], axis=0, ignore_index=True)\n",
    "            return new_df\n",
    "    except:\n",
    "        print(\"Request failed\")\n",
    "        print(data)\n",
    "    #return new_df"
   ]
  },
  {
   "cell_type": "code",
   "execution_count": 51,
   "metadata": {},
   "outputs": [],
   "source": [
    "def getHistoricNewsData(ticker, endDate = datetime.date.today() - datetime.timedelta(days = 1), interval = 365):\n",
    "    # Format for news is [Date, Headline, Ticker]\n",
    "    historic_news = pd.DataFrame(columns=['Date', 'Headline', 'Ticker'])\n",
    "    url = 'https://www.alphavantage.co/query?'\n",
    "    window = 15\n",
    "    startDate = endDate - datetime.timedelta(days = interval)\n",
    "    windowStart = startDate\n",
    "    windowEnd = startDate + datetime.timedelta(days = window)\n",
    "    delta = datetime.timedelta(days = window)\n",
    "    count = 0\n",
    "    while (windowEnd <= endDate):\n",
    "        if count == 5:\n",
    "            time.sleep(60)\n",
    "            count = 0\n",
    "        startDateAA = toAADate(windowStart)\n",
    "        endDateAA = toAADate(windowEnd)\n",
    "        Myparams = {'function': 'NEWS_SENTIMENT', 'tickers': ticker, 'time_from': startDateAA, 'time_to': endDateAA, 'sort': 'EARLIEST','limit': 200, 'apikey': AAapikey}\n",
    "        r = requests.get(url, params = Myparams)\n",
    "        data = r.json()\n",
    "        try:\n",
    "            for i in data.get(\"feed\"):\n",
    "                test_date = i.get(\"time_published\")\n",
    "                test_date = test_date[:8]\n",
    "                newDate = datetime.datetime.strptime(test_date, '%Y%m%d').date() \n",
    "                row = [newDate, i.get(\"title\"), ticker]\n",
    "                new_df = pd.DataFrame([row],columns=['Date', 'Headline', 'Ticker'])\n",
    "                historic_news = pd.concat([historic_news, new_df], axis=0, ignore_index=True)\n",
    "        except:\n",
    "            print(\"Request failed\")\n",
    "            print(\"windowStart is: \" +str(windowStart))\n",
    "            print(\"windowEnd is: \" +str(windowEnd))\n",
    "            print(data)\n",
    "        windowStart = windowEnd\n",
    "        windowEnd = windowEnd + delta\n",
    "        count = count + 1\n",
    "    print(\"Final rolling date is: \" +str(windowEnd))\n",
    "    #print(historic_parsed_news)\n",
    "    return historic_news\n"
   ]
  },
  {
   "cell_type": "code",
   "execution_count": 52,
   "metadata": {},
   "outputs": [
    {
     "name": "stdout",
     "output_type": "stream",
     "text": [
      "TSLA\n"
     ]
    }
   ],
   "source": [
    "\n",
    "ticker = input('Input Ticker:\\n')  \n",
    "print(ticker)"
   ]
  },
  {
   "cell_type": "code",
   "execution_count": 53,
   "metadata": {},
   "outputs": [
    {
     "name": "stdout",
     "output_type": "stream",
     "text": [
      "Final rolling date is: 2023-03-03\n"
     ]
    }
   ],
   "source": [
    "hist = getHistoricNewsData(ticker)"
   ]
  },
  {
   "cell_type": "code",
   "execution_count": 54,
   "metadata": {},
   "outputs": [
    {
     "name": "stdout",
     "output_type": "stream",
     "text": [
      "<bound method NDFrame.head of             Date                                           Headline Ticker\n",
      "0     2022-03-01  Tesla Rival Slashes 2022 Production Outlook; L...   TSLA\n",
      "1     2022-03-01  Nasdaq moves into positive territory as broade...   TSLA\n",
      "2     2022-03-01  BYD to use Baidu's autonomous driving technolo...   TSLA\n",
      "3     2022-03-01  Chinese electric car makers' February sales de...   TSLA\n",
      "4     2022-03-02  Box Stock Jumps As Fourth-Quarter Results, Out...   TSLA\n",
      "...          ...                                                ...    ...\n",
      "4681  2023-02-03                Why Tesla Stock Keeps Racing Higher   TSLA\n",
      "4682  2023-02-03  Elon Musk surprise appearance as high-profile ...   TSLA\n",
      "4683  2023-02-03  Bill Gates says Elon Musk not yet a 'great phi...   TSLA\n",
      "4684  2023-02-03  Market Rally Powers Higher On Tame Fed, Meta: ...   TSLA\n",
      "4685  2023-02-03  Treasury makes more electric SUVs eligible for...   TSLA\n",
      "\n",
      "[4686 rows x 3 columns]>\n"
     ]
    }
   ],
   "source": [
    "print(hist.head)"
   ]
  },
  {
   "cell_type": "code",
   "execution_count": 55,
   "metadata": {},
   "outputs": [],
   "source": [
    "histname = \"datasets/\" + ticker + \"-hist.csv\"\n",
    "hist.to_csv(histname)"
   ]
  }
 ],
 "metadata": {
  "kernelspec": {
   "display_name": "Python 3",
   "language": "python",
   "name": "python3"
  },
  "language_info": {
   "codemirror_mode": {
    "name": "ipython",
    "version": 3
   },
   "file_extension": ".py",
   "mimetype": "text/x-python",
   "name": "python",
   "nbconvert_exporter": "python",
   "pygments_lexer": "ipython3",
   "version": "3.10.0 (tags/v3.10.0:b494f59, Oct  4 2021, 19:00:18) [MSC v.1929 64 bit (AMD64)]"
  },
  "orig_nbformat": 4,
  "vscode": {
   "interpreter": {
    "hash": "369f2c481f4da34e4445cda3fffd2e751bd1c4d706f27375911949ba6bb62e1c"
   }
  }
 },
 "nbformat": 4,
 "nbformat_minor": 2
}
