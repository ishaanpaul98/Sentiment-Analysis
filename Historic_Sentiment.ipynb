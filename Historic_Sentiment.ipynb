{
 "cells": [
  {
   "attachments": {},
   "cell_type": "markdown",
   "metadata": {},
   "source": [
    "# Imports #"
   ]
  },
  {
   "cell_type": "code",
   "execution_count": 5,
   "metadata": {},
   "outputs": [],
   "source": [
    "import pandas as pd\n",
    "import numpy as np\n",
    "import datetime\n",
    "import time\n",
    "from decouple import config\n",
    "import requests\n",
    "import urllib.parse\n",
    "import json\n",
    "AAapikey = config('AAKey')"
   ]
  },
  {
   "attachments": {},
   "cell_type": "markdown",
   "metadata": {},
   "source": [
    "# Gather Historic Stock News #"
   ]
  },
  {
   "cell_type": "code",
   "execution_count": 6,
   "metadata": {},
   "outputs": [],
   "source": [
    "#Function to convert user provided date to date required by AlphaAdvantage\n",
    "def toAADate(oldDate):\n",
    "    newDate = oldDate.strftime(\"%Y%m%dT0130\")\n",
    "    return str(newDate)"
   ]
  },
  {
   "cell_type": "code",
   "execution_count": 11,
   "metadata": {},
   "outputs": [],
   "source": [
    "def getHistoricNewsData(ticker, endDate = datetime.date.today() - datetime.timedelta(days = 1), interval = 365):\n",
    "    # Format for news is [Date, Headline, Ticker]\n",
    "    historic_news = pd.DataFrame(columns=['Date', 'Headline', 'Ticker'])\n",
    "    url = 'https://www.alphavantage.co/query?'\n",
    "    window = 15\n",
    "    startDate = endDate - datetime.timedelta(days = interval)\n",
    "    windowStart = startDate\n",
    "    windowEnd = startDate + datetime.timedelta(days = window)\n",
    "    delta = datetime.timedelta(days = window)\n",
    "    count = 0\n",
    "    while (windowEnd <= endDate):\n",
    "        if count == 5:\n",
    "            time.sleep(60)\n",
    "            count = 0\n",
    "        startDateAA = toAADate(windowStart)\n",
    "        endDateAA = toAADate(windowEnd)\n",
    "        Myparams = {'function': 'NEWS_SENTIMENT', 'tickers': ticker, 'time_from': startDateAA, 'time_to': endDateAA, 'sort': 'EARLIEST','limit': 200, 'apikey': AAapikey}\n",
    "        r = requests.get(url, params = Myparams)\n",
    "        data = r.json()\n",
    "        try:\n",
    "            for i in data.get(\"feed\"):\n",
    "                test_date = i.get(\"time_published\")\n",
    "                test_date = test_date[:8]\n",
    "                newDate = datetime.datetime.strptime(test_date, '%Y%m%d').date() \n",
    "                row = [newDate, i.get(\"title\"), ticker]\n",
    "                new_df = pd.DataFrame([row],columns=['Date', 'Headline', 'Ticker'])\n",
    "                historic_news = pd.concat([historic_news, new_df], axis=0, ignore_index=True)\n",
    "        except:\n",
    "            print(\"Request failed\")\n",
    "            print(\"Starting date: \" +str(windowStart))\n",
    "            print(\"Starting date: \" +str(windowEnd))\n",
    "            print(data)\n",
    "            break\n",
    "        windowStart = windowEnd\n",
    "        windowEnd = windowEnd + delta\n",
    "        count = count + 1\n",
    "    print(\"Final rolling date is: \" +str(windowEnd))\n",
    "    #print(historic_parsed_news)\n",
    "    return historic_news\n"
   ]
  },
  {
   "cell_type": "code",
   "execution_count": 13,
   "metadata": {},
   "outputs": [
    {
     "name": "stdout",
     "output_type": "stream",
     "text": [
      "Final rolling date is: 2023-02-25\n"
     ]
    }
   ],
   "source": [
    "hist = getHistoricNewsData('AAPL')"
   ]
  },
  {
   "cell_type": "code",
   "execution_count": 15,
   "metadata": {},
   "outputs": [
    {
     "name": "stdout",
     "output_type": "stream",
     "text": [
      "<bound method NDFrame.head of             Date                                           Headline Ticker\n",
      "0     2022-03-01  US stocks fall, oil tops $105 as Ukraine crisi...   AAPL\n",
      "1     2022-03-02  Apple halts product sales in Russia after Ukra...   AAPL\n",
      "2     2022-03-02  Russia says its economy is taking 'serious blo...   AAPL\n",
      "3     2022-03-02  Rich Russians turn to luxury jewellery, watche...   AAPL\n",
      "4     2022-03-03  Market Rallies, But Still Must Do This; 5 Stoc...   AAPL\n",
      "...          ...                                                ...    ...\n",
      "4596  2023-02-01  23 Things That Didn't Exist When Tom Brady Ent...   AAPL\n",
      "4597  2023-02-01  Meta stock spikes despite earnings miss, as Fa...   AAPL\n",
      "4598  2023-02-01                 Morning Bid: Riding the Fed dragon   AAPL\n",
      "4599  2023-02-01  Meta Revenue Beats As Company Announces $40 Bi...   AAPL\n",
      "4600  2023-02-01  Fed Chief Triggers 'Gratifying' Rally; Meta Sp...   AAPL\n",
      "\n",
      "[4601 rows x 3 columns]>\n"
     ]
    }
   ],
   "source": [
    "print(hist.head)"
   ]
  },
  {
   "cell_type": "code",
   "execution_count": 16,
   "metadata": {},
   "outputs": [],
   "source": [
    "hist.to_csv('AAPL-365-day-hist.csv')"
   ]
  }
 ],
 "metadata": {
  "kernelspec": {
   "display_name": "Python 3",
   "language": "python",
   "name": "python3"
  },
  "language_info": {
   "codemirror_mode": {
    "name": "ipython",
    "version": 3
   },
   "file_extension": ".py",
   "mimetype": "text/x-python",
   "name": "python",
   "nbconvert_exporter": "python",
   "pygments_lexer": "ipython3",
   "version": "3.10.0"
  },
  "orig_nbformat": 4,
  "vscode": {
   "interpreter": {
    "hash": "369f2c481f4da34e4445cda3fffd2e751bd1c4d706f27375911949ba6bb62e1c"
   }
  }
 },
 "nbformat": 4,
 "nbformat_minor": 2
}
