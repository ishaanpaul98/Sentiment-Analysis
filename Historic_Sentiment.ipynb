{
 "cells": [
  {
   "attachments": {},
   "cell_type": "markdown",
   "metadata": {},
   "source": [
    "# Imports #"
   ]
  },
  {
   "cell_type": "code",
   "execution_count": 7,
   "metadata": {},
   "outputs": [],
   "source": [
    "import pandas as pd\n",
    "import numpy as np\n",
    "import datetime\n",
    "import time\n",
    "from decouple import config\n",
    "import requests\n",
    "import urllib.parse\n",
    "import json\n",
    "AAapikey = config('AAKey')"
   ]
  },
  {
   "attachments": {},
   "cell_type": "markdown",
   "metadata": {},
   "source": [
    "# Gather Historic Stock News #"
   ]
  },
  {
   "cell_type": "code",
   "execution_count": 8,
   "metadata": {},
   "outputs": [],
   "source": [
    "#Function to convert user provided date to date required by AlphaAdvantage\n",
    "def toAADate(oldDate):\n",
    "    newDate = oldDate.strftime(\"%Y%m%dT0130\")\n",
    "    return str(newDate)"
   ]
  },
  {
   "cell_type": "code",
   "execution_count": 9,
   "metadata": {},
   "outputs": [],
   "source": [
    "def getHistoricNewsData(ticker, endDate = datetime.date.today() - datetime.timedelta(days = 1), interval = 365):\n",
    "    # Format for news is [Date, Headline, Ticker]\n",
    "    historic_news = pd.DataFrame(columns=['Date', 'Headline', 'Ticker'])\n",
    "    url = 'https://www.alphavantage.co/query?'\n",
    "    window = 15\n",
    "    startDate = endDate - datetime.timedelta(days = interval)\n",
    "    windowStart = startDate\n",
    "    windowEnd = startDate + datetime.timedelta(days = window)\n",
    "    delta = datetime.timedelta(days = window)\n",
    "    count = 0\n",
    "    while (windowEnd <= endDate):\n",
    "        if count == 5:\n",
    "            time.sleep(60)\n",
    "            count = 0\n",
    "        startDateAA = toAADate(windowStart)\n",
    "        endDateAA = toAADate(windowEnd)\n",
    "        Myparams = {'function': 'NEWS_SENTIMENT', 'tickers': ticker, 'time_from': startDateAA, 'time_to': endDateAA, 'sort': 'EARLIEST','limit': 200, 'apikey': AAapikey}\n",
    "        r = requests.get(url, params = Myparams)\n",
    "        data = r.json()\n",
    "        try:\n",
    "            for i in data.get(\"feed\"):\n",
    "                test_date = i.get(\"time_published\")\n",
    "                test_date = test_date[:8]\n",
    "                newDate = datetime.datetime.strptime(test_date, '%Y%m%d').date() \n",
    "                row = [newDate, i.get(\"title\"), ticker]\n",
    "                new_df = pd.DataFrame([row],columns=['Date', 'Headline', 'Ticker'])\n",
    "                historic_news = pd.concat([historic_news, new_df], axis=0, ignore_index=True)\n",
    "        except:\n",
    "            print(\"Request failed\")\n",
    "            print(\"Starting date: \" +str(windowStart))\n",
    "            print(\"Starting date: \" +str(windowEnd))\n",
    "            print(data)\n",
    "            break\n",
    "        windowStart = windowEnd\n",
    "        windowEnd = windowEnd + delta\n",
    "        count = count + 1\n",
    "    print(\"Final rolling date is: \" +str(windowEnd))\n",
    "    #print(historic_parsed_news)\n",
    "    return historic_news\n"
   ]
  },
  {
   "cell_type": "code",
   "execution_count": 10,
   "metadata": {},
   "outputs": [
    {
     "name": "stdout",
     "output_type": "stream",
     "text": [
      "MSFT\n"
     ]
    }
   ],
   "source": [
    "\n",
    "ticker = input('Input Ticker:\\n')  \n",
    "print(ticker)"
   ]
  },
  {
   "cell_type": "code",
   "execution_count": 11,
   "metadata": {},
   "outputs": [
    {
     "name": "stdout",
     "output_type": "stream",
     "text": [
      "Final rolling date is: 2023-03-02\n"
     ]
    }
   ],
   "source": [
    "hist = getHistoricNewsData(ticker)"
   ]
  },
  {
   "cell_type": "code",
   "execution_count": 12,
   "metadata": {},
   "outputs": [
    {
     "name": "stdout",
     "output_type": "stream",
     "text": [
      "<bound method NDFrame.head of             Date                                           Headline Ticker\n",
      "0     2022-03-01  MSFT: Better Buy for 2022: Salesforce.com vs. ...   MSFT\n",
      "1     2022-03-02  Facebook, YouTube, TikTok restrict access to R...   MSFT\n",
      "2     2022-03-02  Apple, Google, Netflix, and Visa join the grow...   MSFT\n",
      "3     2022-03-02  Ukraine calls on gaming industry to suspend bu...   MSFT\n",
      "4     2022-03-02  TikTok faces delicate dance to keep all sides ...   MSFT\n",
      "...          ...                                                ...    ...\n",
      "4623  2023-02-02  How to protect yourself from tax fraud and sca...   MSFT\n",
      "4624  2023-02-02  Zacks Earnings Trends Highlights: Microsoft, I...   MSFT\n",
      "4625  2023-02-02  Pinterest Bows Down To Macro Uncertainties; Le...   MSFT\n",
      "4626  2023-02-02  Samsung Hints Metaverse Ambitions At Product L...   MSFT\n",
      "4627  2023-02-02      US filings for jobless aid lowest since April   MSFT\n",
      "\n",
      "[4628 rows x 3 columns]>\n"
     ]
    }
   ],
   "source": [
    "print(hist.head)"
   ]
  },
  {
   "cell_type": "code",
   "execution_count": 13,
   "metadata": {},
   "outputs": [],
   "source": [
    "histname = \"datasets/\" + ticker + \"-365-day-hist.csv\"\n",
    "hist.to_csv(histname)"
   ]
  }
 ],
 "metadata": {
  "kernelspec": {
   "display_name": "Python 3",
   "language": "python",
   "name": "python3"
  },
  "language_info": {
   "codemirror_mode": {
    "name": "ipython",
    "version": 3
   },
   "file_extension": ".py",
   "mimetype": "text/x-python",
   "name": "python",
   "nbconvert_exporter": "python",
   "pygments_lexer": "ipython3",
   "version": "3.10.0"
  },
  "orig_nbformat": 4,
  "vscode": {
   "interpreter": {
    "hash": "369f2c481f4da34e4445cda3fffd2e751bd1c4d706f27375911949ba6bb62e1c"
   }
  }
 },
 "nbformat": 4,
 "nbformat_minor": 2
}
