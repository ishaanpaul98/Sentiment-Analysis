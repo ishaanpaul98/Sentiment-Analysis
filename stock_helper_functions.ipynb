{
 "cells": [
  {
   "cell_type": "code",
   "execution_count": 7,
   "metadata": {},
   "outputs": [],
   "source": [
    "import yfinance as yf"
   ]
  },
  {
   "cell_type": "code",
   "execution_count": 8,
   "metadata": {},
   "outputs": [
    {
     "name": "stdout",
     "output_type": "stream",
     "text": [
      "Getting stock close for stock $AAPL\n",
      "AAPL 134.50999450683594\n"
     ]
    },
    {
     "data": {
      "text/plain": [
       "134.50999450683594"
      ]
     },
     "execution_count": 8,
     "metadata": {},
     "output_type": "execute_result"
    }
   ],
   "source": [
    "def getStockClose(symbol):\n",
    "    print(\"Getting stock close for stock $\"+symbol)\n",
    "    ticker = yf.Ticker(symbol)\n",
    "    data = ticker.history()\n",
    "    #print(data)\n",
    "    last_price = data['Close'].iloc[-1]\n",
    "    print(symbol, last_price)\n",
    "    return last_price\n",
    "\n",
    "getStockClose(\"AAPL\")"
   ]
  },
  {
   "cell_type": "code",
   "execution_count": 9,
   "metadata": {},
   "outputs": [
    {
     "name": "stdout",
     "output_type": "stream",
     "text": [
      "Getting stock open for stock $AAPL\n",
      "AAPL 136.69000244140625\n"
     ]
    },
    {
     "data": {
      "text/plain": [
       "136.69000244140625"
      ]
     },
     "execution_count": 9,
     "metadata": {},
     "output_type": "execute_result"
    }
   ],
   "source": [
    "def getStockOpen(symbol):\n",
    "    print(\"Getting stock open for stock $\"+symbol)\n",
    "    ticker = yf.Ticker(symbol)\n",
    "    data = ticker.history()\n",
    "    #print(data)\n",
    "    last_price = data['Open'].iloc[-1]\n",
    "    print(symbol, last_price)\n",
    "    return last_price\n",
    "\n",
    "getStockOpen(\"AAPL\")"
   ]
  },
  {
   "cell_type": "code",
   "execution_count": 10,
   "metadata": {},
   "outputs": [
    {
     "name": "stdout",
     "output_type": "stream",
     "text": [
      "Getting stock high for stock $AAPL\n",
      "AAPL 137.64999389648438\n"
     ]
    },
    {
     "data": {
      "text/plain": [
       "137.64999389648438"
      ]
     },
     "execution_count": 10,
     "metadata": {},
     "output_type": "execute_result"
    }
   ],
   "source": [
    "def getStockHigh(symbol):\n",
    "    print(\"Getting stock high for stock $\"+symbol)\n",
    "    ticker = yf.Ticker(symbol)\n",
    "    data = ticker.history()\n",
    "    #print(data)\n",
    "    last_price = data['High'].iloc[-1]\n",
    "    print(symbol, last_price)\n",
    "    return last_price\n",
    "\n",
    "getStockHigh(\"AAPL\")"
   ]
  },
  {
   "cell_type": "code",
   "execution_count": 11,
   "metadata": {},
   "outputs": [
    {
     "name": "stdout",
     "output_type": "stream",
     "text": [
      "Getting stock low for stock $AAPL\n",
      "AAPL 133.72999572753906\n"
     ]
    },
    {
     "data": {
      "text/plain": [
       "133.72999572753906"
      ]
     },
     "execution_count": 11,
     "metadata": {},
     "output_type": "execute_result"
    }
   ],
   "source": [
    "def getStockLow(symbol):\n",
    "    print(\"Getting stock low for stock $\"+symbol)\n",
    "    ticker = yf.Ticker(symbol)\n",
    "    data = ticker.history()\n",
    "    #print(data)\n",
    "    last_price = data['Low'].iloc[-1]\n",
    "    print(symbol, last_price)\n",
    "    return last_price\n",
    "\n",
    "getStockLow(\"AAPL\")"
   ]
  }
 ],
 "metadata": {
  "kernelspec": {
   "display_name": "Python 3.10.0 64-bit",
   "language": "python",
   "name": "python3"
  },
  "language_info": {
   "codemirror_mode": {
    "name": "ipython",
    "version": 3
   },
   "file_extension": ".py",
   "mimetype": "text/x-python",
   "name": "python",
   "nbconvert_exporter": "python",
   "pygments_lexer": "ipython3",
   "version": "3.10.0"
  },
  "orig_nbformat": 4,
  "vscode": {
   "interpreter": {
    "hash": "369f2c481f4da34e4445cda3fffd2e751bd1c4d706f27375911949ba6bb62e1c"
   }
  }
 },
 "nbformat": 4,
 "nbformat_minor": 2
}
