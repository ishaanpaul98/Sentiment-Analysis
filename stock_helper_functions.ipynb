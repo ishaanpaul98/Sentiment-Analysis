{
 "cells": [
  {
   "cell_type": "code",
   "execution_count": 27,
   "metadata": {},
   "outputs": [],
   "source": [
    "import yfinance as yf"
   ]
  },
  {
   "cell_type": "code",
   "execution_count": 28,
   "metadata": {},
   "outputs": [
    {
     "name": "stdout",
     "output_type": "stream",
     "text": [
      "Getting stock data for stock $AAPL\n",
      "[*********************100%***********************]  1 of 1 completed\n",
      "Index(['Open', 'High', 'Low', 'Close', 'Adj Close', 'Volume'], dtype='object')\n"
     ]
    },
    {
     "data": {
      "text/html": [
       "<div>\n",
       "<style scoped>\n",
       "    .dataframe tbody tr th:only-of-type {\n",
       "        vertical-align: middle;\n",
       "    }\n",
       "\n",
       "    .dataframe tbody tr th {\n",
       "        vertical-align: top;\n",
       "    }\n",
       "\n",
       "    .dataframe thead th {\n",
       "        text-align: right;\n",
       "    }\n",
       "</style>\n",
       "<table border=\"1\" class=\"dataframe\">\n",
       "  <thead>\n",
       "    <tr style=\"text-align: right;\">\n",
       "      <th></th>\n",
       "      <th>Open</th>\n",
       "      <th>High</th>\n",
       "      <th>Low</th>\n",
       "      <th>Close</th>\n",
       "      <th>Adj Close</th>\n",
       "      <th>Volume</th>\n",
       "    </tr>\n",
       "    <tr>\n",
       "      <th>Date</th>\n",
       "      <th></th>\n",
       "      <th></th>\n",
       "      <th></th>\n",
       "      <th></th>\n",
       "      <th></th>\n",
       "      <th></th>\n",
       "    </tr>\n",
       "  </thead>\n",
       "  <tbody>\n",
       "    <tr>\n",
       "      <th>2022-12-20</th>\n",
       "      <td>131.389999</td>\n",
       "      <td>133.25</td>\n",
       "      <td>129.889999</td>\n",
       "      <td>132.300003</td>\n",
       "      <td>132.300003</td>\n",
       "      <td>77432819</td>\n",
       "    </tr>\n",
       "  </tbody>\n",
       "</table>\n",
       "</div>"
      ],
      "text/plain": [
       "                  Open    High         Low       Close   Adj Close    Volume\n",
       "Date                                                                        \n",
       "2022-12-20  131.389999  133.25  129.889999  132.300003  132.300003  77432819"
      ]
     },
     "execution_count": 28,
     "metadata": {},
     "output_type": "execute_result"
    }
   ],
   "source": [
    "def getStockDataDaily(symbol, day):\n",
    "    print(\"Getting stock data for stock $\"+symbol)\n",
    "    df = yf.download(symbol, start=day, period = \"1d\")\n",
    "    #df2 = df.iloc[: , 1:]\n",
    "    print(df.columns)\n",
    "    return df\n",
    "\n",
    "getStockDataDaily(\"AAPL\", \"2022-12-20\")"
   ]
  },
  {
   "cell_type": "code",
   "execution_count": 29,
   "metadata": {},
   "outputs": [
    {
     "name": "stdout",
     "output_type": "stream",
     "text": [
      "Getting stock close for stock $AAPL\n",
      "AAPL 132.3000030517578\n"
     ]
    },
    {
     "data": {
      "text/plain": [
       "132.3000030517578"
      ]
     },
     "execution_count": 29,
     "metadata": {},
     "output_type": "execute_result"
    }
   ],
   "source": [
    "def getStockClose(symbol):\n",
    "    print(\"Getting stock close for stock $\"+symbol)\n",
    "    ticker = yf.Ticker(symbol)\n",
    "    data = ticker.history()\n",
    "    #print(data)\n",
    "    last_price = data['Close'].iloc[-1]\n",
    "    print(symbol, last_price)\n",
    "    return last_price\n",
    "\n",
    "getStockClose(\"AAPL\")"
   ]
  },
  {
   "cell_type": "code",
   "execution_count": 30,
   "metadata": {},
   "outputs": [
    {
     "name": "stdout",
     "output_type": "stream",
     "text": [
      "Getting stock open for stock $AAPL\n",
      "AAPL 131.38999938964844\n"
     ]
    },
    {
     "data": {
      "text/plain": [
       "131.38999938964844"
      ]
     },
     "execution_count": 30,
     "metadata": {},
     "output_type": "execute_result"
    }
   ],
   "source": [
    "def getStockOpen(symbol):\n",
    "    print(\"Getting stock open for stock $\"+symbol)\n",
    "    ticker = yf.Ticker(symbol)\n",
    "    data = ticker.history()\n",
    "    #print(data)\n",
    "    last_price = data['Open'].iloc[-1]\n",
    "    print(symbol, last_price)\n",
    "    return last_price\n",
    "\n",
    "getStockOpen(\"AAPL\")"
   ]
  },
  {
   "cell_type": "code",
   "execution_count": 31,
   "metadata": {},
   "outputs": [
    {
     "name": "stdout",
     "output_type": "stream",
     "text": [
      "Getting stock high for stock $AAPL\n",
      "AAPL 133.25\n"
     ]
    },
    {
     "data": {
      "text/plain": [
       "133.25"
      ]
     },
     "execution_count": 31,
     "metadata": {},
     "output_type": "execute_result"
    }
   ],
   "source": [
    "def getStockHigh(symbol):\n",
    "    print(\"Getting stock high for stock $\"+symbol)\n",
    "    ticker = yf.Ticker(symbol)\n",
    "    data = ticker.history()\n",
    "    #print(data)\n",
    "    last_price = data['High'].iloc[-1]\n",
    "    print(symbol, last_price)\n",
    "    return last_price\n",
    "\n",
    "getStockHigh(\"AAPL\")"
   ]
  },
  {
   "cell_type": "code",
   "execution_count": 32,
   "metadata": {},
   "outputs": [
    {
     "name": "stdout",
     "output_type": "stream",
     "text": [
      "Getting stock low for stock $AAPL\n",
      "AAPL 129.88999938964844\n"
     ]
    },
    {
     "data": {
      "text/plain": [
       "129.88999938964844"
      ]
     },
     "execution_count": 32,
     "metadata": {},
     "output_type": "execute_result"
    }
   ],
   "source": [
    "def getStockLow(symbol):\n",
    "    print(\"Getting stock low for stock $\"+symbol)\n",
    "    ticker = yf.Ticker(symbol)\n",
    "    data = ticker.history()\n",
    "    #print(data)\n",
    "    last_price = data['Low'].iloc[-1]\n",
    "    print(symbol, last_price)\n",
    "    return last_price\n",
    "\n",
    "getStockLow(\"AAPL\")"
   ]
  }
 ],
 "metadata": {
  "kernelspec": {
   "display_name": "Python 3.10.0 64-bit",
   "language": "python",
   "name": "python3"
  },
  "language_info": {
   "codemirror_mode": {
    "name": "ipython",
    "version": 3
   },
   "file_extension": ".py",
   "mimetype": "text/x-python",
   "name": "python",
   "nbconvert_exporter": "python",
   "pygments_lexer": "ipython3",
   "version": "3.10.0"
  },
  "orig_nbformat": 4,
  "vscode": {
   "interpreter": {
    "hash": "369f2c481f4da34e4445cda3fffd2e751bd1c4d706f27375911949ba6bb62e1c"
   }
  }
 },
 "nbformat": 4,
 "nbformat_minor": 2
}
