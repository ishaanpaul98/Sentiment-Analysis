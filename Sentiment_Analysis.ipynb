{
  "cells": [
    {
      "cell_type": "markdown",
      "metadata": {
        "colab_type": "text",
        "id": "view-in-github"
      },
      "source": [
        "<a href=\"https://colab.research.google.com/github/ishaanpaul98/Sentiment-Analysis/blob/main/Sentiment_Analysis.ipynb\" target=\"_parent\"><img src=\"https://colab.research.google.com/assets/colab-badge.svg\" alt=\"Open In Colab\"/></a>"
      ]
    },
    {
      "cell_type": "markdown",
      "metadata": {},
      "source": [
        "# Imports #"
      ]
    },
    {
      "cell_type": "code",
      "execution_count": 1,
      "metadata": {
        "id": "pGQVQfr0b3SS"
      },
      "outputs": [],
      "source": [
        "# Import libraries\n",
        "import pandas as pd\n",
        "import matplotlib.pyplot as plt\n",
        "import seaborn as sns\n",
        "import numpy as np\n",
        "from wordcloud import WordCloud\n",
        "import re\n",
        "\n",
        "from bs4 import BeautifulSoup\n",
        "from urllib.request import urlopen, Request\n",
        "from nltk.sentiment.vader import SentimentIntensityAnalyzer\n",
        "\n",
        "import datetime\n",
        "import yfinance as yf\n",
        "import time\n",
        "import requests\n",
        "import io"
      ]
    },
    {
      "cell_type": "code",
      "execution_count": 2,
      "metadata": {
        "id": "WSgZEvuikgTn"
      },
      "outputs": [],
      "source": [
        "import nltk\n",
        "from nltk.corpus import stopwords\n",
        "from nltk.stem import WordNetLemmatizer"
      ]
    },
    {
      "cell_type": "code",
      "execution_count": 3,
      "metadata": {
        "id": "9hbdUWDKkgv_"
      },
      "outputs": [],
      "source": [
        "from sklearn.feature_extraction.text import CountVectorizer\n",
        "from sklearn.model_selection import GridSearchCV\n",
        "from sklearn.ensemble import RandomForestClassifier"
      ]
    },
    {
      "cell_type": "code",
      "execution_count": 4,
      "metadata": {
        "id": "Eqvj106lkgyU"
      },
      "outputs": [],
      "source": [
        "from sklearn.metrics import accuracy_score,precision_score,recall_score,confusion_matrix,roc_curve,classification_report\n",
        "from sklearn.metrics import plot_confusion_matrix"
      ]
    },
    {
      "cell_type": "markdown",
      "metadata": {},
      "source": [
        "# Stock Data Helper Functions #"
      ]
    },
    {
      "cell_type": "code",
      "execution_count": 5,
      "metadata": {},
      "outputs": [],
      "source": [
        "def arrayToString(arr):\n",
        "    print(\"Starting array to list\")\n",
        "    listToStr = ' '.join([str(elem) for elem in arr])\n",
        "    return listToStr\n"
      ]
    },
    {
      "cell_type": "code",
      "execution_count": 6,
      "metadata": {},
      "outputs": [
        {
          "name": "stdout",
          "output_type": "stream",
          "text": [
            "Starting array to list\n",
            "Getting stock data for stock $AAPL TSLA\n",
            "[*********************100%***********************]  2 of 2 completed\n"
          ]
        },
        {
          "data": {
            "text/html": [
              "<div>\n",
              "<style scoped>\n",
              "    .dataframe tbody tr th:only-of-type {\n",
              "        vertical-align: middle;\n",
              "    }\n",
              "\n",
              "    .dataframe tbody tr th {\n",
              "        vertical-align: top;\n",
              "    }\n",
              "\n",
              "    .dataframe thead tr th {\n",
              "        text-align: left;\n",
              "    }\n",
              "\n",
              "    .dataframe thead tr:last-of-type th {\n",
              "        text-align: right;\n",
              "    }\n",
              "</style>\n",
              "<table border=\"1\" class=\"dataframe\">\n",
              "  <thead>\n",
              "    <tr>\n",
              "      <th></th>\n",
              "      <th colspan=\"6\" halign=\"left\">TSLA</th>\n",
              "      <th colspan=\"6\" halign=\"left\">AAPL</th>\n",
              "    </tr>\n",
              "    <tr>\n",
              "      <th></th>\n",
              "      <th>Open</th>\n",
              "      <th>High</th>\n",
              "      <th>Low</th>\n",
              "      <th>Close</th>\n",
              "      <th>Adj Close</th>\n",
              "      <th>Volume</th>\n",
              "      <th>Open</th>\n",
              "      <th>High</th>\n",
              "      <th>Low</th>\n",
              "      <th>Close</th>\n",
              "      <th>Adj Close</th>\n",
              "      <th>Volume</th>\n",
              "    </tr>\n",
              "    <tr>\n",
              "      <th>Date</th>\n",
              "      <th></th>\n",
              "      <th></th>\n",
              "      <th></th>\n",
              "      <th></th>\n",
              "      <th></th>\n",
              "      <th></th>\n",
              "      <th></th>\n",
              "      <th></th>\n",
              "      <th></th>\n",
              "      <th></th>\n",
              "      <th></th>\n",
              "      <th></th>\n",
              "    </tr>\n",
              "  </thead>\n",
              "  <tbody>\n",
              "    <tr>\n",
              "      <th>2022-12-21</th>\n",
              "      <td>139.339996</td>\n",
              "      <td>141.259995</td>\n",
              "      <td>135.889999</td>\n",
              "      <td>137.570007</td>\n",
              "      <td>137.570007</td>\n",
              "      <td>145051100</td>\n",
              "      <td>132.979996</td>\n",
              "      <td>136.809998</td>\n",
              "      <td>132.750000</td>\n",
              "      <td>135.449997</td>\n",
              "      <td>135.449997</td>\n",
              "      <td>85859600</td>\n",
              "    </tr>\n",
              "    <tr>\n",
              "      <th>2022-12-22</th>\n",
              "      <td>136.000000</td>\n",
              "      <td>136.600006</td>\n",
              "      <td>123.910004</td>\n",
              "      <td>124.180000</td>\n",
              "      <td>124.180000</td>\n",
              "      <td>115160694</td>\n",
              "      <td>134.352005</td>\n",
              "      <td>134.550003</td>\n",
              "      <td>130.699997</td>\n",
              "      <td>130.729996</td>\n",
              "      <td>130.729996</td>\n",
              "      <td>35043191</td>\n",
              "    </tr>\n",
              "  </tbody>\n",
              "</table>\n",
              "</div>"
            ],
            "text/plain": [
              "                  TSLA                                                  \\\n",
              "                  Open        High         Low       Close   Adj Close   \n",
              "Date                                                                     \n",
              "2022-12-21  139.339996  141.259995  135.889999  137.570007  137.570007   \n",
              "2022-12-22  136.000000  136.600006  123.910004  124.180000  124.180000   \n",
              "\n",
              "                             AAPL                                      \\\n",
              "               Volume        Open        High         Low       Close   \n",
              "Date                                                                    \n",
              "2022-12-21  145051100  132.979996  136.809998  132.750000  135.449997   \n",
              "2022-12-22  115160694  134.352005  134.550003  130.699997  130.729996   \n",
              "\n",
              "                                  \n",
              "             Adj Close    Volume  \n",
              "Date                              \n",
              "2022-12-21  135.449997  85859600  \n",
              "2022-12-22  130.729996  35043191  "
            ]
          },
          "execution_count": 6,
          "metadata": {},
          "output_type": "execute_result"
        }
      ],
      "source": [
        "def getStockDataDaily(symbols, day):\n",
        "    if len(symbols) > 1:\n",
        "        symbols = arrayToString(symbols)\n",
        "    print(\"Getting stock data for stock $\"+symbols)\n",
        "    df = yf.download(symbols, start=day, period = \"1d\", group_by='ticker')\n",
        "    return df\n",
        "\n",
        "getStockDataDaily(['AAPL', 'TSLA'], \"2022-12-21\")"
      ]
    },
    {
      "cell_type": "code",
      "execution_count": 7,
      "metadata": {},
      "outputs": [
        {
          "name": "stdout",
          "output_type": "stream",
          "text": [
            "Getting stock close for stock $AAPL\n",
            "AAPL 130.7310028076172\n"
          ]
        },
        {
          "data": {
            "text/plain": [
              "130.7310028076172"
            ]
          },
          "execution_count": 7,
          "metadata": {},
          "output_type": "execute_result"
        }
      ],
      "source": [
        "def getStockClose(symbol):\n",
        "    print(\"Getting stock close for stock $\"+symbol)\n",
        "    ticker = yf.Ticker(symbol)\n",
        "    data = ticker.history()\n",
        "    #print(data)\n",
        "    last_price = data['Close'].iloc[-1]\n",
        "    print(symbol, last_price)\n",
        "    return last_price\n",
        "\n",
        "getStockClose(\"AAPL\")"
      ]
    },
    {
      "cell_type": "code",
      "execution_count": 8,
      "metadata": {},
      "outputs": [
        {
          "name": "stdout",
          "output_type": "stream",
          "text": [
            "Getting stock open for stock $AAPL\n",
            "AAPL 134.3520050048828\n"
          ]
        },
        {
          "data": {
            "text/plain": [
              "134.3520050048828"
            ]
          },
          "execution_count": 8,
          "metadata": {},
          "output_type": "execute_result"
        }
      ],
      "source": [
        "def getStockOpen(symbol):\n",
        "    print(\"Getting stock open for stock $\"+symbol)\n",
        "    ticker = yf.Ticker(symbol)\n",
        "    data = ticker.history()\n",
        "    #print(data)\n",
        "    last_price = data['Open'].iloc[-1]\n",
        "    print(symbol, last_price)\n",
        "    return last_price\n",
        "\n",
        "getStockOpen(\"AAPL\")"
      ]
    },
    {
      "cell_type": "code",
      "execution_count": 9,
      "metadata": {},
      "outputs": [
        {
          "name": "stdout",
          "output_type": "stream",
          "text": [
            "Getting stock high for stock $AAPL\n",
            "AAPL 134.5500030517578\n"
          ]
        },
        {
          "data": {
            "text/plain": [
              "134.5500030517578"
            ]
          },
          "execution_count": 9,
          "metadata": {},
          "output_type": "execute_result"
        }
      ],
      "source": [
        "def getStockHigh(symbol):\n",
        "    print(\"Getting stock high for stock $\"+symbol)\n",
        "    ticker = yf.Ticker(symbol)\n",
        "    data = ticker.history()\n",
        "    #print(data)\n",
        "    last_price = data['High'].iloc[-1]\n",
        "    print(symbol, last_price)\n",
        "    return last_price\n",
        "\n",
        "getStockHigh(\"AAPL\")"
      ]
    },
    {
      "cell_type": "code",
      "execution_count": 10,
      "metadata": {},
      "outputs": [
        {
          "name": "stdout",
          "output_type": "stream",
          "text": [
            "Getting stock low for stock $AAPL\n",
            "AAPL 130.6999969482422\n"
          ]
        },
        {
          "data": {
            "text/plain": [
              "130.6999969482422"
            ]
          },
          "execution_count": 10,
          "metadata": {},
          "output_type": "execute_result"
        }
      ],
      "source": [
        "def getStockLow(symbol):\n",
        "    print(\"Getting stock low for stock $\"+symbol)\n",
        "    ticker = yf.Ticker(symbol)\n",
        "    data = ticker.history()\n",
        "    #print(data)\n",
        "    last_price = data['Low'].iloc[-1]\n",
        "    print(symbol, last_price)\n",
        "    return last_price\n",
        "\n",
        "getStockLow(\"AAPL\")"
      ]
    },
    {
      "cell_type": "markdown",
      "metadata": {},
      "source": [
        "# Gathering FinViz Data #"
      ]
    },
    {
      "cell_type": "code",
      "execution_count": 11,
      "metadata": {},
      "outputs": [],
      "source": [
        "# Parameters \n",
        "n = 3 #the # of article headlines displayed per ticker\n",
        "tickers = ['AAPL', 'TSLA', 'AMZN']"
      ]
    },
    {
      "cell_type": "code",
      "execution_count": 12,
      "metadata": {},
      "outputs": [
        {
          "name": "stdout",
          "output_type": "stream",
          "text": [
            "current url is: https://finviz.com/quote.ashx?t=AAPL\n",
            "current url is: https://finviz.com/quote.ashx?t=TSLA\n",
            "current url is: https://finviz.com/quote.ashx?t=AMZN\n",
            "\n",
            "\n",
            "Recent News Headlines for AAPL: \n",
            "Is The Trade Desk Stock a Buy Now? ( Dec-22-22 10:15AM )\n",
            "6 reasons why Apple stock will rebound in 2023: Analyst ( 10:12AM )\n",
            "Alphabet (GOOGL) Boosts YouTube Streaming Efforts With NFL Deal ( 09:36AM )\n",
            "\n",
            "\n",
            "Recent News Headlines for TSLA: \n",
            "U.S. Senate Finance Committee asks GM, Tesla, Toyota about Chinese supply chain ( Dec-22-22 12:01PM )\n",
            "UPDATE 1-U.S. Senate Finance Committee asks GM, Tesla, Toyota about Chinese supply chain ( 11:52AM )\n",
            "Why Tesla Investors Have New Concerns Today ( 11:51AM )\n",
            "\n",
            "\n",
            "Recent News Headlines for AMZN: \n",
            "Why Alphabet, Amazon, and Microsoft Stocks All Fell Thursday ( Dec-22-22 11:59AM )\n",
            "Will Shopify Stock Recover in 2023? ( 11:00AM )\n",
            "Alphabet (GOOGL) Boosts YouTube Streaming Efforts With NFL Deal ( 09:36AM )\n"
          ]
        }
      ],
      "source": [
        "# Get Data\n",
        "finwiz_url = 'https://finviz.com/quote.ashx?t='\n",
        "news_tables = {}\n",
        "\n",
        "for ticker in tickers:\n",
        "    url = finwiz_url + ticker\n",
        "    print(\"current url is: \" +url)\n",
        "    header = {\"User-Agent\": \"Mozilla/5.0 (Windows NT 10.0; Win64; x64) AppleWebKit/537.36 (KHTML, like Gecko) Chrome/92.0.4515.159 Safari/537.36.\"}\n",
        "    req = Request(url=url,headers=header) \n",
        "    resp = urlopen(req)    \n",
        "    html = BeautifulSoup(resp, features=\"lxml\")\n",
        "    news_table = html.find(id='news-table')\n",
        "    news_tables[ticker] = news_table\n",
        "\n",
        "try:\n",
        "    for ticker in tickers:\n",
        "        df = news_tables[ticker]\n",
        "        df_tr = df.findAll('tr')\n",
        "    \n",
        "        print ('\\n')\n",
        "        print ('Recent News Headlines for {}: '.format(ticker))\n",
        "        \n",
        "        for i, table_row in enumerate(df_tr):\n",
        "            a_text = table_row.a.text\n",
        "            td_text = table_row.td.text\n",
        "            td_text = td_text.strip()\n",
        "            print(a_text,'(',td_text,')')\n",
        "            if i == n-1:\n",
        "                break\n",
        "except KeyError:\n",
        "    pass"
      ]
    },
    {
      "cell_type": "code",
      "execution_count": 13,
      "metadata": {},
      "outputs": [
        {
          "name": "stdout",
          "output_type": "stream",
          "text": [
            "Dec-22-22 10:15AMIs The Trade Desk Stock a Buy Now? Motley Fool\n",
            "10:12AM6 reasons why Apple stock will rebound in 2023: Analyst Yahoo Finance Video\n",
            "09:36AMAlphabet (GOOGL) Boosts YouTube Streaming Efforts With NFL Deal Zacks\n",
            "09:25AMGoldman Is Banking on Apple Partnership in Consumer Push The Wall Street Journal\n",
            "09:21AMThe hottest tech trends to watch in 2023 Yahoo Finance\n",
            "\n",
            "09:15AM\n",
            "Loading…\n",
            "\n",
            "09:15AMCould Apple Still Be the World's Largest Company in 2023? Motley Fool\n",
            "08:00AMApple Stock In 2023: Will Goggles Finally Become A Reality? Investor's Business Daily\n",
            "06:21AMAs U.S. fails to crack down on Big Tech, Europe shows what progress looks like MarketWatch\n",
            "06:16AM6 big reasons Apple stock is a must buy for 2023: analyst Yahoo Finance\n",
            "06:02AM2 Magnificent Semiconductor Stocks Down 46% and 51% to Buy Before the Next Bull Market Motley Fool\n",
            "06:00AMApple's Steady Diet of Resistance and My Contrarian Conundrum TheStreet.com\n",
            "05:31AMBitcoin interest surged in 2022 as 'crypto winter' arrived: Morning Brief Yahoo Finance\n",
            "05:10AMThe Biggest Reason Apple Stock Is a Screaming Buy for 2023 Motley Fool\n",
            "01:45AMThese Are the Best Holiday Tech Gifts of 2022. I Own Them All. Barrons.com\n",
            "Dec-21-22 06:37PMWhy Amazon, Apple, and Chewy Stocks All Rallied on Wednesday Motley Fool\n",
            "\n",
            "04:56PM\n",
            "Loading…\n",
            "\n",
            "04:56PMApple to launch first AR headset in 2023 Yahoo Finance Video\n",
            "04:18PMTech stocks: The 'best' and worst performers of 2022 Yahoo Finance\n",
            "03:52PMHow the EU Took On Big Tech in 2022 WSJ\n",
            "03:39PMJustin Bieber the latest major act to sell music rights in reported $200 million deal Yahoo Finance\n",
            "03:16PMApple's Regulatory Risks Led Pullback Likely To Render A Buying Opportunity, Analyst Says Benzinga\n",
            "02:51PMTeslas stock drop has been bad. But this company has wiped out more investor wealth in 2022. MarketWatch\n",
            "02:25PM5 Things You Might Not Know About Apple CEO Tim Cook Benzinga\n",
            "12:47PMApple Stock Has Struggled This Year. The Case for a Better Next Year. Barrons.com\n",
            "12:00PM2 Growth Stocks to Buy in December Motley Fool\n",
            "11:07AMApple Stock Has Struggled in 2022. But Analyst Sees Resilient Demand for Tech Giants Products Next Year. Barrons.com\n",
            "10:44AMTech stocks had a rough year. Apple, Microsoft, and Qualcomm did slightly better. Yahoo Finance Video\n",
            "10:40AMBetter Buy for 2023: Apple vs. Nvidia Motley Fool\n",
            "10:30AMHere are the 3 big bets Warren Buffett is taking into 2023  if you're worried about the new year, it might be time to follow along MoneyWise\n",
            "10:19AMAlphabet (GOOGL) Updates Workspace Apps With Toggle Feature Zacks\n",
            "09:25AMApple (AAPL) Set to Shift Some MacBook Production to Vietnam Zacks\n",
            "\n",
            "08:33AM\n",
            "Loading…\n",
            "\n",
            "08:33AMIs Bed Bath & Beyond Stock Really a Cheap Buy? Here's What the Charts Say Motley Fool\n",
            "08:00AMAmid Weak Digital Ad Outlook, Apple, Walmart, Internet TV Are Still Bright Spots Investor's Business Daily\n",
            "07:00AMApple May Face Greatest Loyalty Test Yet The Wall Street Journal\n",
            "06:00AMA Look At The Fair Value Of Apple Inc. (NASDAQ:AAPL) Simply Wall St.\n",
            "05:15AMApple Stock: Bull vs. Bear Motley Fool\n",
            "Dec-20-22 11:21PMNo Sign of Smartphone Recovery Until Late 2023, TDK CEO Cautions Bloomberg\n",
            "08:06PMApple (AAPL) vs. Microsoft (MSFT): Which stock is the Better Buy for 2023? Zacks\n",
            "05:45PMApple (AAPL) Stock Sinks As Market Gains: What You Should Know Zacks\n",
            "04:33PMApple Partially Shifts Macbook Production to Vietnam Investopedia\n",
            "04:11PMHow big tech defeated the biggest antitrust push in decades on Capitol Hill LA Times\n",
            "12:03PMAmazon settles with the EU over antitrust charges Yahoo Finance Video\n",
            "09:49AM12 Best Stocks To Invest In Right Now Insider Monkey\n",
            "09:43AMNo love for meme stocks  stock-trading kids are loading up on Apple and index funds MarketWatch\n",
            "09:41AMStocks mixed at open, Apple and Tesla move lower Yahoo Finance Video\n",
            "09:31AMTarget, Amazon and 4 More Retailers That Will Reward You for Turning in Your Old Stuff GOBankingRates\n",
            "09:09AMApple files for more construction at NW Austin campus American City Business Journals\n",
            "09:08AMTwitter Rolls Out 'Blue For Business,' Visa Pitches Auto-Payments On Ethereum Blockchain, Justin Bieber Slams H&M: Today's Top Stories Benzinga\n",
            "09:01AM1 Top Stock to Buy for 2023 and Beyond Motley Fool\n",
            "08:15AMParis Court Slaps Apple With Fine Of 1M Over App Store Practices Benzinga\n",
            "07:53AMDow Jones Extends Losing Streak As Apple Sells Off; Tesla Hits New Low Amid Elon Musk Twitter Poll Investor's Business Daily\n",
            "07:30AMPurpose Investments Debuts Yield Shares, the Worlds First Yield-Focused Single-Stock ETFs GlobeNewswire\n",
            "07:00AMWill Nvidia Be a Trillion-Dollar Stock by 2030? Motley Fool\n",
            "06:59AMPayPal Stock: Buy, Sell, or Hold Before 2023? Motley Fool\n",
            "06:44AMApple Christmas iPhone Sales Will Take Supply Chain Hit, Says JPMorgan; Cuts Price Target TheStreet.com\n",
            "06:04AMAmazon stock is now down 50% this year and is at a 52-week low Yahoo Finance\n",
            "05:30AMStock Picking Makes a Comeback in Market Turbulence The Wall Street Journal\n",
            "05:20AMGot $1,000? 5 Buffett Stocks to Buy and Hold Forever Motley Fool\n",
            "Dec-19-22 06:10PMWhy Apple Stock Flopped on Monday Motley Fool\n",
            "03:48PMSports streaming: The math is difficult in negotiations and viewership count, analyst says Yahoo Finance Video\n",
            "12:47PMUpgrading Your Phone for the Holidays Could Save You $1,000 Right Now With This Provider GOBankingRates\n",
            "12:42PMUPDATE 1-Apple fined 1 mln euros by Paris court over App Store practices Reuters\n",
            "12:38PMNever Lose Your Things Again  The Startup Pouring Gasoline on the Apple AirTag Benzinga\n",
            "11:58AMApple fined 1 million euros by Paris court over App Store practices Reuters\n",
            "10:16AMAlphabet (GOOGL) Boosts Wear OS Platform With KoruLab Takeover Zacks\n",
            "10:06AMGoogle, Amazon, Microsoft's Growing Finance Business Is Getting Them Bank-Like Treatment. Are Beaten Down Tech Stocks A Buy Now? Investor's Business Daily\n",
            "09:26AMSee it from the air: Williamson County raking in some of America's biggest projects American City Business Journals\n",
            "09:00AMInvestors Heavily Search Apple Inc. (AAPL): Here is What You Need to Know Zacks\n",
            "09:00AMShould You Buy Spotify Stock Before the End of 2022? Motley Fool\n",
            "08:24AMWhy More EV Makers Arent Making Cars at All Barrons.com\n",
            "07:00AMIs Apple Stock A Buy Amid Holiday Season Shopping? Investor's Business Daily\n",
            "05:36AMTesla stock pops on Musk's Twitter 'step down' poll Yahoo Finance\n",
            "05:06AMWarren Buffett Has Spent $136 Billion Buying These 4 Stocks Since 2016 Motley Fool\n",
            "Dec-18-22 11:48PMApple Suppliers Accelerate Buildup Outside China, Analysts Say Bloomberg\n",
            "11:03PMBig Techs' Growing Finance Business Is Getting Them Bank-Like Treatment. Are Beaten Down Tech Stocks A Buy Now? Investor's Business Daily\n",
            "10:21AMNever Mind the FAANG Stocks, Buy the GHOST Stocks Before 2023 Motley Fool\n",
            "10:00AMIts Time to Boot the Moochers Off Your Spotify, Netflix and Other Accounts The Wall Street Journal\n",
            "08:30AMEXCLUSIVE: New American Accessories Brand Aims to Redefine Luxury NFT Experience WWD\n",
            "07:50AMA Bull Market Is Coming: 2 Trillion-Dollar Growth Stocks to Buy Before They Soar Motley Fool\n",
            "07:30AMSemiconductor Stocks Are On the Rise: 3 Companies to Watch Right Now Motley Fool\n",
            "07:20AM3 Metaverse Stocks to Buy Right Now Motley Fool\n",
            "Dec-17-22 09:51AM15 Most Boycotted Companies and Brands in History Insider Monkey\n",
            "08:15AMSteve Jobs 'wouldnt have succeeded' without Tim Cook, former Apple exec explains Yahoo Finance\n",
            "06:40AM3 Stocks to Invest in Virtual Reality Motley Fool\n",
            "06:32AMDoes ExxonMobil's Massive $50 Billion Stock Buyback Make It a Buy? Motley Fool\n",
            "06:00AMInsiders probably made the right decision selling US$3.0m worth of shares earlier this year as Apple Inc.'s (NASDAQ:AAPL)) stock dips by 5.4%. Simply Wall St.\n",
            "05:00AMBig Tech is Designing Chips Too, Should Semiconductor Investors Worry? Motley Fool\n",
            "Dec-16-22 06:13PMWeekly Round Up TheStreet.com\n",
            "04:54PMHow Apples privacy changes may impact Meta Yahoo Finance Video\n",
            "04:38PMThe No. 1 set and forget stock in tech hardware for next year? You guessed it. MarketWatch\n",
            "02:08PMApple Stock Breaks Below Key Support. TheStreet.com\n",
            "01:32PMStock market sell-off: Investors 'are changing their focus,' market strategist explains Yahoo Finance\n",
            "12:21PMHow Apple Makes Money Investopedia\n",
            "12:12PMMastercard (MA) Brings Secure Payments to Kuwait via Apple Pay Zacks\n",
            "12:12PMApple Explores Allowing iPhone, iPad Users to Download Apps Outside Its Store The Wall Street Journal\n",
            "10:41AMApple Stock Is a Top Pick for 2023, Analyst Says. Look Past Recent Struggles. Barrons.com\n",
            "09:45AMBetter Buy: Amazon vs. Apple Motley Fool\n",
            "09:38AMApp store avalanche forecast as Apple bows to EU demands Reuters\n",
            "09:35AMCORRECTED-App store avalanche forecast as Apple bows to EU demands Reuters\n",
            "09:00AMStar-Studded New Christmas Movies Still Cant Beat the Classics The Wall Street Journal\n",
            "08:21AMDow Jones Futures Fall After Nasdaq Breaks Key Level, Apple Dives; Here's The Silver Lining Investor's Business Daily\n",
            "Dec-22-22 12:01PMU.S. Senate Finance Committee asks GM, Tesla, Toyota about Chinese supply chain Reuters -8.16%\n",
            "11:52AMUPDATE 1-U.S. Senate Finance Committee asks GM, Tesla, Toyota about Chinese supply chain Reuters\n",
            "11:51AMWhy Tesla Investors Have New Concerns Today Motley Fool\n",
            "11:44AMTesla Doubles Discounts on Model 3, Model Y Vehicles The Wall Street Journal\n",
            "11:30AMTesla Stock Falls Sharply on Thursday The Wall Street Journal\n",
            "\n",
            "11:14AM\n",
            "Loading…\n",
            "\n",
            "11:14AMHacker Who Was in a Race Against Time to Fix Twitter Has Quit Instead TheStreet.com\n",
            "11:06AMFord and Tesla Investors Get Cold Water in the Face. Affordability Is a Problem. Barrons.com\n",
            "10:50AMAMD, Tesla, and Meta were the worst tech performers in 2023 Yahoo Finance Video\n",
            "10:26AMTesla to discount some EVs, Tyson workers plan exodus, Netflix unveils plans for New Jersey studio Yahoo Finance Video\n",
            "10:00AMTesla Offers $7,500 Discount in Rare Move to Lift Deliveries Bloomberg\n",
            "09:56AMTeslas forward P/E multiple is now below Hersheys multiple Yahoo Finance Video\n",
            "09:27AMTesla Boosts Discounts, SEC Tightens Check On Auditors' Report On Crypto, Netflix Plans New Jersey Production Hub: Today's Top Stories Benzinga\n",
            "09:21AM3 Cathie Wood Stocks to Buy and Hold for 10 Years Motley Fool\n",
            "09:00AMTesla to add more infrastructure at gigafactory near Austin, filings show American City Business Journals\n",
            "08:52AMTesla Offers Big Discount to Consumers TheStreet.com\n",
            "\n",
            "08:32AM\n",
            "Loading…\n",
            "\n",
            "08:32AMTesla stock in danger of extending losing streak after doubling discounts on some models MarketWatch\n",
            "08:17AMDow Jones Futures: S&P 500 Regains Key Level, But Stay Cautious; Tesla Doubles U.S. Discount To $7,500 Investor's Business Daily\n",
            "08:00AMColumn: Musk's genius, Putin's prowess and other victims of the Year of Fails LA Times\n",
            "08:00AMDrivers have been happily tossing their money at Tesla this year but the insurance may cause sticker shock  here's what you need to know MoneyWise\n",
            "08:00AM3 Things About Tesla Stock That Smart Investors Know Motley Fool\n",
            "07:47AMRevenge of reality: how technology was discounted in 2022 Financial Times\n",
            "07:45AMTeslas $7,500 Discount Is Great for Buyers. Less So for Investors. Barrons.com\n",
            "05:31AMBitcoin interest surged in 2022 as 'crypto winter' arrived: Morning Brief Yahoo Finance\n",
            "05:30AMInside Rivian and Fords Plants, as They Race to Build EVs Faster WSJ\n",
            "04:38AMFactbox-Tesla's key managers in China Reuters\n",
            "04:34AMRPT-FOCUS-Tesla sends Shanghai boss and aides to jumpstart U.S. output Reuters\n",
            "03:30AMTesla doubles rare discounts on mainstay vehicles amid demand concerns Reuters\n",
            "02:54AMShort sellers were winners gaining nearly $304B as stocks stumbled Fox Business\n",
            "02:00AMActively Managed Stock Funds Top List of Best ETF Launches of 2022, While Bitcoin Is Worst Barrons.com\n",
            "01:04AMAnalysis-Short sellers gain nearly $304 billion after tumble in U.S. stocks Reuters\n",
            "\n",
            "12:11AM\n",
            "Loading…\n",
            "\n",
            "12:11AMTesla offers discount on some car models in U.S., Canada Reuters\n",
            "12:07AMCORRECTED-Tesla offers discount on some car models in U.S., Canada Reuters\n",
            "Dec-21-22 10:01PMS&P 500 Index Regains Key Level, But Stay Cautious; Tesla Doubles U.S. Discount Investor's Business Daily\n",
            "08:21PMTesla Stock Vs. BYD Stock: TSLA Stock Keeps Plunging On China Demand Fears, Musk's Twitter Reign Investor's Business Daily\n",
            "07:45PMTesla driver in multi-car crash told police self-driving software malfunctioned Reuters\n",
            "06:19PMTesla stocks losing streak continues after report of hiring freeze, layoff plans MarketWatch\n",
            "05:45PMTesla (TSLA) Stock Sinks As Market Gains: What You Should Know Zacks\n",
            "05:03PMTesla sends Shanghai boss and aides to jumpstart US output Reuters\n",
            "05:00PMFOCUS-Tesla sends Shanghai boss and aides to jumpstart US output Reuters\n",
            "04:59PMTesla Bears Are Sitting on $15 Billion in Gains This Year The Wall Street Journal\n",
            "04:40PMTraders Rush into Tesla Put Options The Wall Street Journal\n",
            "04:34PMStock Market Today: Stocks End Higher on Nike, Consumer Sentiment Boost TheStreet.com\n",
            "04:31PMPressure Mounts for Musk as Tanking Tesla Shares Prompt Layoff Talk Investopedia\n",
            "04:28PMNo, Elon Musks Tweets Arent Hurting Tesla Sales Yet. The Stock Dropped Anyway. Barrons.com\n",
            "04:26PMThese Stocks Are Moving the Most Today: Nike, Six Flags, Adaptive Bio, and More Barrons.com\n",
            "04:18PMTech stocks: The 'best' and worst performers of 2022 Yahoo Finance\n",
            "03:44PMTesla investor on Elon Musk: Twitter isnt good for him Yahoo Finance Video\n",
            "03:17PMPossible Tesla bounce good for a trade, but not an investment, says technical analyst MarketWatch\n",
            "02:51PMTeslas stock drop has been bad. But this company has wiped out more investor wealth in 2022. MarketWatch\n",
            "01:52PMThree leadership qualities that Elon Musks replacement as Twitters CEO will need MarketWatch\n",
            "01:15PM12 Best Tech Stocks For Long Term Investment Insider Monkey\n",
            "01:00PMRetail Investors Bought More Tesla Than Ever This Year The Wall Street Journal\n",
            "12:52PMTeslas troubles are more proof Elon Musk needs to step down as Twitter CEO Fortune\n",
            "12:46PMTesla stock looks to break losing streak after report of hiring freeze, layoff plans MarketWatch\n",
            "12:37PMTesla stock has been close to getting a break  but after report of hiring freeze, more layoffs MarketWatch\n",
            "12:36PMAre Elon Musks Twitter Troubles Hurting Tesla Vehicle Sales? Early Data Say  No. Barrons.com\n",
            "12:27PMTesla Stock Is Having Its Worst Quarter Ever. Elon Musk Blames Financial Math. Barrons.com\n",
            "11:47AMDelta and Moderna Share Good News Motley Fool\n",
            "11:44AMTesla stock hits new 52-week low, continues month-long decline Yahoo Finance Video\n",
            "11:15AMCathie Wood Goes Bargain-Hunting: 3 Stocks She Just Bought Motley Fool\n",
            "10:57AMMusk Says Cost-Cutting Averted $3 Billion Twitter Shortfall Bloomberg\n",
            "10:24AMReport: Tesla freezes hiring again, plans layoffs early in 2023 American City Business Journals\n",
            "10:24AMTesla Stock Trims Gains On Musk Twitter Pledge, Tesla Hiring Freeze Investor's Business Daily\n",
            "10:24AMTesla Stock Rises As Musk Pledges Exit From Embattled Twitter Investor's Business Daily\n",
            "10:22AMTesla Shares Suffer Worst Year Ever. And 2023 Looks Bad, Too Bloomberg\n",
            "10:08AMDow Jones Rallies After Economic Data; Nike Surges 15% On Earnings; Tesla Hits New Low Investor's Business Daily\n",
            "10:06AMWhy the Smartest Investors Are Still Buying Tesla Stock Motley Fool\n",
            "09:54AMDow Jones Rallies Ahead Of Economic Data; Nike Surges 15% On Earnings; Tesla Hits New Low Investor's Business Daily\n",
            "09:50AMMusk Blames Financial Math  for Teslas Stock Fall. He Needs More Lessons. Barrons.com\n",
            "09:49AMStocks Higher Amid Nike, FedEx Earnings Beats TheStreet.com\n",
            "09:18AMDow Jones Futures Rally Ahead Of Consumer, Housing Data; Nike Surges On Earnings Investor's Business Daily\n",
            "09:05AMDown Almost 30% This Month, Is Tesla Stock a Buy? Motley Fool\n",
            "08:34AMTwitter Was Being Scammed $60M Every Year, Tesla Freezes Hiring, Netflix On Microsoft's Acquisition Radar: Today's Top Stories Benzinga\n",
            "08:27AMDow Jones Futures Climb Ahead Of Consumer, Housing Data; Nike Surges On Earnings Investor's Business Daily\n",
            "08:23AMDow Jones Futures Signal Market Rally As Nike Jumps; Tesla Stock Halts Meltdown Investor's Business Daily\n",
            "08:10AMIf You Invested $10,000 in Tesla Stock at Its IPO, Here's How Much You'd Have Today Motley Fool\n",
            "07:54AMWar of Words Between Elon Musk and a Tesla Investor TheStreet.com\n",
            "07:27AMElon Musks Tweets Arent Hurting Tesla Sales. Heres the Proof. Barrons.com\n",
            "07:00AMDoes Elon Musk Still Want to Be the CEO of Tesla? Bloomberg\n",
            "06:57AMBOJ, Yield Curve, Tuesday's Markets, Tesla Trade, Zelenskyy in DC, Nike Rocks It TheStreet.com\n",
            "06:44AMMusk to Abdicate at Twitter, but Tesla Still Has His Premium Priced in Barrons.com\n",
            "06:42AMUPDATE 1-Tesla to freeze hiring, lay off employees next quarter - Electrek Reuters\n",
            "06:33AMTesla to freeze hiring, lay off employees next quarter: report Reuters\n",
            "06:13AMMorning Bid: A year in reverse Reuters\n",
            "06:03AMTesla shares rise over 2% in premarket after Musk promises to step down as Twitter CEO MarketWatch\n",
            "06:00AMDow Jones Futures Rise As Nike Jumps; Market Rally Still Shaky As Tesla Meltdown Continues Investor's Business Daily\n",
            "06:00AMMORNING BID-A year in reverse Reuters\n",
            "05:35AMEver Wonder What Drives Tesla's Revenue? Motley Fool\n",
            "05:25AMTesla Stock Has Tanked. Elon Musk Blames Rising Rates, Not Twitter. Barrons.com\n",
            "05:04AMWhy Investors Should Avoid Tesla Stock In 2023 Motley Fool\n",
            "04:15AMCathie Wood Loads Up Tesla Amid Growing Criticism of Elon Musk Bloomberg\n",
            "03:55AMMusk Will Resign as Twitter CEO and Focus on Engineering Bloomberg\n",
            "Dec-20-22 10:23PMMusk to Resign When New Twitter CEO Found Bloomberg -8.05%\n",
            "10:07PMDow Jones Futures Rise On Nike As Market Rally Snaps Losing Streak; Tesla Meltdown Continues Investor's Business Daily\n",
            "09:15PMElon Musk says hell step down as Twitter CEO when he finds someone foolish enough to take the job MarketWatch\n",
            "08:45PMUPDATE 3-Musk to step down as Twitter CEO once he finds 'someone foolish' enough as successor Reuters\n",
            "06:30PMTeslas dropping share price takes valuation below ExxonMobils Financial Times\n",
            "06:30PMTesla share slide sends valuation below ExxonMobil Financial Times\n",
            "06:17PMA Big Tech Stock Just Set an Enormous Record (It Didn't Want To) TheStreet.com\n",
            "05:33PMElon Musks Twitter Problems Are Multiplying Bloomberg\n",
            "Dec-22-22 11:59AMWhy Alphabet, Amazon, and Microsoft Stocks All Fell Thursday Motley Fool\n",
            "11:00AMWill Shopify Stock Recover in 2023? Motley Fool\n",
            "09:36AMAlphabet (GOOGL) Boosts YouTube Streaming Efforts With NFL Deal Zacks\n",
            "09:17AMAmazon Stock Just Hit a 52-Week Low. Here's Why It Could Go Even Lower. Motley Fool\n",
            "09:15AMCould Apple Still Be the World's Largest Company in 2023? Motley Fool\n",
            "\n",
            "08:45AM\n",
            "Loading…\n",
            "\n",
            "08:45AMBetter Buy: Shopify vs. Etsy Stock Motley Fool\n",
            "08:23AMHere's Why You Should Buy Amazon Stock Before the End of 2022 Motley Fool\n",
            "08:02AMUPDATE 1-Amazon may be responsible for allowing Louboutin knock-off ads, EU court says Reuters\n",
            "05:31AMBitcoin interest surged in 2022 as 'crypto winter' arrived: Morning Brief Yahoo Finance\n",
            "05:30AMInside Rivian and Fords Plants, as They Race to Build EVs Faster WSJ\n",
            "05:28AMAmazon may be responsible for allowing Louboutin knock-off ads, EU court says Reuters\n",
            "05:25AMAmazon may be responsible for allowing Louboutin knock-off ads, EU court says Reuters\n",
            "05:16AMIndia panel recommends digital competition act to rein in Big Tech Reuters\n",
            "01:15AMBill Miller Is Still Bullish on Bitcoin, Amazon, and More Barrons.com\n",
            "Dec-21-22 06:37PMWhy Amazon, Apple, and Chewy Stocks All Rallied on Wednesday Motley Fool\n",
            "\n",
            "03:52PM\n",
            "Loading…\n",
            "\n",
            "03:52PMHow the EU Took On Big Tech in 2022 WSJ\n",
            "03:39PMJustin Bieber the latest major act to sell music rights in reported $200 million deal Yahoo Finance\n",
            "03:09PMGoogle Downplays Microsoft Cloud Potential Versus Wall Street; Analyst Disagrees Benzinga\n",
            "02:51PMTeslas stock drop has been bad. But this company has wiped out more investor wealth in 2022. MarketWatch\n",
            "12:56PM11 Best Penny Stocks to Buy Now Insider Monkey\n",
            "12:00PM3 Top E-Commerce Stocks to Buy Right Now Motley Fool\n",
            "11:49AMDisney and Amazon Are Close to Joining an Unenviable Club of 44 Stocks Barrons.com\n",
            "11:15AM3 Reasons to Buy Amazon Stock Before 2023 Motley Fool\n",
            "10:15AMIs Amazon Stock a Buy Going Into 2023 After Nike's Report? Motley Fool\n",
            "10:05AMAmazon: What to Expect in 2023 and Beyond Motley Fool\n",
            "09:54AMPrice Matching Can Save You Hundreds: Heres What Stores Offer It GOBankingRates\n",
            "09:24AM11 Best TaaS Stocks to Buy Now Insider Monkey\n",
            "09:23AMThe Smartest Investors Are Buying These 3 Stocks Hand Over Fist Motley Fool\n",
            "09:00AM3 Things About Amazon Stock That Smart Investors Know Motley Fool\n",
            "08:55AMInterest Rate Hikes Won't Stop These 2 Cash-Rich Growth Stocks Motley Fool\n",
            "\n",
            "08:17AM\n",
            "Loading…\n",
            "\n",
            "08:17AM2 Warren Buffett Stocks to Buy More Of in December Motley Fool\n",
            "07:00AMWhich Cloud Computing Stock Will Reign Supreme in 2023? Motley Fool\n",
            "06:50AM2 Top Warren Buffett Stocks to Buy Right Now Motley Fool\n",
            "06:18AM2 Big Stock Market Predictions for 2023 Motley Fool\n",
            "06:15AMA Once-in-a-Decade Investing Opportunity Is Here. Should You Buy Now? Motley Fool\n",
            "06:00AMHow Amazon's AWS hires for and develops hard-to-find cloud skills Quartz\n",
            "05:34AM2 High-Conviction Growth Stocks To Buy Aggressively Before the End of 2022 Motley Fool\n",
            "05:20AMGot $300? These 2 Stocks Could Supercharge Your Portfolio in 2023 Motley Fool\n",
            "05:12AMChewy Stock: Bull vs. Bear Motley Fool\n",
            "02:21AMThese are some of the Puget Sound region's most notable tech layoffs of 2022 (Photos) American City Business Journals\n",
            "Dec-20-22 07:04PMWells Fargo, Amazon Look to Move On Motley Fool\n",
            "04:21PMUSPS will electrify entire mail-delivery fleet within just a few years MarketWatch\n",
            "04:02PMPharmacies limit the purchase of kids' meds. How bad are the shortages? Yahoo Finance\n",
            "03:00PMA.I. is getting your holiday gifts to you more efficiently than ever Fortune\n",
            "02:49PM13 Best New Tech Stocks to Buy Now Insider Monkey\n",
            "02:03PMAmazon loans $54.8M to Nashville affordable housing projects American City Business Journals\n",
            "01:10PMDisney, Amazon May Join an Unenviable Club of 44 Stocks Barrons.com\n",
            "12:51PMImax (IMAX) Delivers a Massive Opening of Avatar: The Way Of Water Zacks\n",
            "12:06PMAmazon union push is not going to stop, Chris Smalls says Yahoo Finance Video\n",
            "12:03PMAmazon settles with the EU over antitrust charges Yahoo Finance Video\n",
            "11:58AMBig Tech faces unionization push as employee priorities shift Yahoo Finance Video\n",
            "11:15AMHave $2,000? 2 Market-Crash-Ready Stocks to Buy Motley Fool\n",
            "11:06AM2 Game-Changing Stocks That Could Help Set You Up for Life Motley Fool\n",
            "10:15AMGood News for Amazon Stock: E-Commerce Is Turning the Corner Motley Fool\n",
            "09:52AMWhy Amazon stock has tanked by 50% in 2022 Yahoo Finance Video\n",
            "09:46AMAmazon Seals EU Antitrust Truce to Dodge Fines, Boost Rivals Bloomberg\n",
            "09:31AMTarget, Amazon and 4 More Retailers That Will Reward You for Turning in Your Old Stuff GOBankingRates\n",
            "08:39AMAmazon Settles European Antitrust Cases With No Fines. Its a Rare Truce Between Big Tech and the EU. Barrons.com\n",
            "08:29AMUPDATE 1-Amazon reaches settlement in three EU antitrust cases, avoids fine Reuters\n",
            "08:28AMZscaler (ZS) Joins JCDC to Boost U.S. Cybersecurity Posture Zacks\n",
            "08:11AMAmazon Agrees to Settle EU Antitrust Cases, Avoiding Fines The Wall Street Journal\n",
            "08:08AMAmazon Web Services Secures Navy Contract For Over $700M Benzinga\n",
            "08:00AMThese Will Be The Best 10 Stocks In 2023, Analysts Say Investor's Business Daily\n",
            "07:56AMAmazon agrees deal with EU to end long-running data probes Financial Times\n",
            "07:45AMDown 33% in 2022, Can This Unstoppable Growth Stock Make a Comeback in 2023? Motley Fool\n",
            "07:30AMPurpose Investments Debuts Yield Shares, the Worlds First Yield-Focused Single-Stock ETFs GlobeNewswire\n",
            "07:30AMCould Amazon's New Chip Be the End of AMD and Other Chip Stocks? Motley Fool\n",
            "07:25AMAmazon to change marketplace policies in European Commission settlement MarketWatch\n",
            "07:15AMAmazon reaches settlement in three EU antitrust cases, avoids fine Reuters\n",
            "07:03AMAmazon reaches settlement with EU over use of data, avoids fine Reuters\n",
            "06:48AMAmazon gets approval for 10 more acres at Lakeland airport American City Business Journals\n",
            "06:45AM'Everything is on the table': Analysts eye next media mega-merger amid profit push Yahoo Finance\n",
            "06:30AM12 of the Best Men's Gifts for Under $50 on Amazon Motley Fool\n",
            "06:21AM3 Stocks That Can Double in 2023 After Being Cut in Half Last Year Motley Fool\n",
            "06:07AM2 Warren Buffett Stocks to Buy Hand Over Fist Motley Fool\n",
            "06:04AMAmazon stock is now down 50% this year and is at a 52-week low Yahoo Finance\n",
            "06:00AMThis New App Wants to Pay You to Share Your Data For Advertising The Wall Street Journal\n",
            "05:52AMLooking for a Surefire Winner in the Next Bull Market? Buy Amazon Stock. Motley Fool\n",
            "05:40AMDown 79%, Shopify Stock Is a Rare Buying Opportunity in a Bear Market Motley Fool\n",
            "05:30AMStock Picking Makes a Comeback in Market Turbulence The Wall Street Journal\n",
            "05:20AMGot $1,000? 5 Buffett Stocks to Buy and Hold Forever Motley Fool\n",
            "05:12AMGot $1,000? 2 Top Growth Stocks to Buy That Could Double Your Money Motley Fool\n",
            "05:05AM3 Tech Stocks With More Potential Than Any Cryptocurrency Motley Fool\n",
            "Dec-19-22 06:44PMAnalyst Report: Amazon.com, Inc. Morningstar Research\n",
            "06:27PMAmazons cloud-computing unit awarded 5-year, $723 million Navy contract MarketWatch\n",
            "03:45PMStreaming platforms, media companies weigh M&A opportunities heading into 2023 Yahoo Finance Video\n",
            "01:17PMWhy Amazon.com Stock Is Still Falling Motley Fool\n",
            "01:12PMAmazon loans $16M to Gilbane for Hyattsville apartments American City Business Journals\n",
            "11:45AMAmazon.com Stock Gives Up Post-Covid Gains The Wall Street Journal\n",
            "11:40AMSnap won't make money until 2027, analyst says Yahoo Finance\n",
            "11:01AMWill Workers Strike Affect Amazon's (AMZN) Holiday Prospects? Zacks\n",
            "09:30AMAmazon, Down Almost 50% This Year, Is the Top Big Tech Stock to Buy for 2023 Motley Fool\n",
            "08:58AMElon Musk's Latest 'Twitter Files' Show Internal Angst Over FBI Requests, L3Harris Scoops Up Aerojet, Mesa Air End Regional Flights For American Airlines: Today's Top Stories Benzinga\n",
            "08:36AMGermany Union Urge Amazon's Warehouse Employees To Stage Protest Against Pay Benzinga\n",
            "08:31AMHere Are Barrons 10 Top Stocks for the New Year Barrons.com\n",
            "07:54AMUS Watchdog Nudges Amazon Over Laxity In Recording Workhouse Injuries Benzinga\n",
            "07:43AMThe Zacks Analyst Blog Highlights Amazon.com, Novartis, Philip Morris International, Automatic Data Processing and Live Nation Entertainment Zacks\n",
            "06:22AMHere's My Favorite Stock I Bought in 2022 Motley Fool\n",
            "05:57AM3 Warren Buffett Stocks That Could Soar 39% to 83% in 2023, According to Wall Street Motley Fool\n",
            "Dec-18-22 06:11PMHeres everything coming to Amazons Prime Video in January 2023 MarketWatch\n"
          ]
        }
      ],
      "source": [
        "# Iterate through the news\n",
        "parsed_news = []\n",
        "for file_name, news_table in news_tables.items():\n",
        "    for x in news_table.findAll('tr'):\n",
        "        print(x.get_text())\n",
        "        text = x.get_text() \n",
        "        date_scrape = x.td.text.split()\n",
        "\n",
        "        if len(date_scrape) == 1:\n",
        "            time = date_scrape[0]\n",
        "            \n",
        "        else:\n",
        "            date = date_scrape[0]\n",
        "            time = date_scrape[1]\n",
        "\n",
        "        ticker = file_name.split('_')[0]\n",
        "        \n",
        "        parsed_news.append([ticker, date, time, text ])"
      ]
    },
    {
      "cell_type": "markdown",
      "metadata": {},
      "source": [
        "# Sentiment Analysis of FinViz data #"
      ]
    },
    {
      "cell_type": "code",
      "execution_count": 14,
      "metadata": {},
      "outputs": [
        {
          "name": "stderr",
          "output_type": "stream",
          "text": [
            "[nltk_data] Downloading package vader_lexicon to\n",
            "[nltk_data]     C:\\Users\\Ishaan\\AppData\\Roaming\\nltk_data...\n",
            "[nltk_data]   Package vader_lexicon is already up-to-date!\n"
          ]
        },
        {
          "data": {
            "text/plain": [
              "True"
            ]
          },
          "execution_count": 14,
          "metadata": {},
          "output_type": "execute_result"
        }
      ],
      "source": [
        "nltk.download('vader_lexicon')"
      ]
    },
    {
      "cell_type": "code",
      "execution_count": 15,
      "metadata": {},
      "outputs": [
        {
          "ename": "AttributeError",
          "evalue": "'DataFrame' object has no attribute 'Date'",
          "output_type": "error",
          "traceback": [
            "\u001b[1;31m---------------------------------------------------------------------------\u001b[0m",
            "\u001b[1;31mAttributeError\u001b[0m                            Traceback (most recent call last)",
            "Cell \u001b[1;32mIn [15], line 3\u001b[0m\n\u001b[0;32m      1\u001b[0m \u001b[39m# View Data \u001b[39;00m\n\u001b[0;32m      2\u001b[0m news \u001b[39m=\u001b[39m pd\u001b[39m.\u001b[39mDataFrame()\n\u001b[1;32m----> 3\u001b[0m news[\u001b[39m'\u001b[39m\u001b[39mDate\u001b[39m\u001b[39m'\u001b[39m] \u001b[39m=\u001b[39m pd\u001b[39m.\u001b[39mto_datetime(news\u001b[39m.\u001b[39;49mDate)\u001b[39m.\u001b[39mdt\u001b[39m.\u001b[39mdate\n\u001b[0;32m      5\u001b[0m unique_ticker \u001b[39m=\u001b[39m news[\u001b[39m'\u001b[39m\u001b[39mTicker\u001b[39m\u001b[39m'\u001b[39m]\u001b[39m.\u001b[39munique()\u001b[39m.\u001b[39mtolist()\n\u001b[0;32m      6\u001b[0m news_dict \u001b[39m=\u001b[39m {name: news\u001b[39m.\u001b[39mloc[news[\u001b[39m'\u001b[39m\u001b[39mTicker\u001b[39m\u001b[39m'\u001b[39m] \u001b[39m==\u001b[39m name] \u001b[39mfor\u001b[39;00m name \u001b[39min\u001b[39;00m unique_ticker}\n",
            "File \u001b[1;32mc:\\Python310\\lib\\site-packages\\pandas\\core\\generic.py:5902\u001b[0m, in \u001b[0;36mNDFrame.__getattr__\u001b[1;34m(self, name)\u001b[0m\n\u001b[0;32m   5895\u001b[0m \u001b[39mif\u001b[39;00m (\n\u001b[0;32m   5896\u001b[0m     name \u001b[39mnot\u001b[39;00m \u001b[39min\u001b[39;00m \u001b[39mself\u001b[39m\u001b[39m.\u001b[39m_internal_names_set\n\u001b[0;32m   5897\u001b[0m     \u001b[39mand\u001b[39;00m name \u001b[39mnot\u001b[39;00m \u001b[39min\u001b[39;00m \u001b[39mself\u001b[39m\u001b[39m.\u001b[39m_metadata\n\u001b[0;32m   5898\u001b[0m     \u001b[39mand\u001b[39;00m name \u001b[39mnot\u001b[39;00m \u001b[39min\u001b[39;00m \u001b[39mself\u001b[39m\u001b[39m.\u001b[39m_accessors\n\u001b[0;32m   5899\u001b[0m     \u001b[39mand\u001b[39;00m \u001b[39mself\u001b[39m\u001b[39m.\u001b[39m_info_axis\u001b[39m.\u001b[39m_can_hold_identifiers_and_holds_name(name)\n\u001b[0;32m   5900\u001b[0m ):\n\u001b[0;32m   5901\u001b[0m     \u001b[39mreturn\u001b[39;00m \u001b[39mself\u001b[39m[name]\n\u001b[1;32m-> 5902\u001b[0m \u001b[39mreturn\u001b[39;00m \u001b[39mobject\u001b[39;49m\u001b[39m.\u001b[39;49m\u001b[39m__getattribute__\u001b[39;49m(\u001b[39mself\u001b[39;49m, name)\n",
            "\u001b[1;31mAttributeError\u001b[0m: 'DataFrame' object has no attribute 'Date'"
          ]
        }
      ],
      "source": [
        "# View Data \n",
        "news = pd.DataFrame()\n",
        "news['Date'] = pd.to_datetime(news.Date).dt.date\n",
        "\n",
        "unique_ticker = news['Ticker'].unique().tolist()\n",
        "news_dict = {name: news.loc[news['Ticker'] == name] for name in unique_ticker}\n",
        "\n",
        "values = []\n",
        "for ticker in tickers: \n",
        "    dataframe = news_dict[ticker]\n",
        "    dataframe = dataframe.set_index('Ticker')\n",
        "    dataframe = dataframe.drop(columns = ['Headline'])\n",
        "    print ('\\n')\n",
        "    print (dataframe.head())\n",
        "    \n",
        "    mean = round(dataframe['compound'].mean(), 2)\n",
        "    values.append(mean)\n",
        "    \n",
        "df = pd.DataFrame(list(zip(tickers, values)), columns =['Ticker', 'Mean Sentiment']) \n",
        "df = df.set_index('Ticker')\n",
        "df = df.sort_values('Mean Sentiment', ascending=False)\n",
        "print ('\\n')\n",
        "print (df)"
      ]
    },
    {
      "cell_type": "code",
      "execution_count": null,
      "metadata": {},
      "outputs": [],
      "source": [
        "#Testing helper functions from stock_helper_functions.ipynb\n",
        "aapl_open = getStockOpen(\"AAPL\")"
      ]
    },
    {
      "cell_type": "markdown",
      "metadata": {},
      "source": [
        "# Creating Dataset #"
      ]
    },
    {
      "cell_type": "code",
      "execution_count": null,
      "metadata": {},
      "outputs": [],
      "source": [
        "#Defining a new dataframe called 'dataset'\n",
        "dataset = pd.DataFrame()"
      ]
    },
    {
      "cell_type": "code",
      "execution_count": null,
      "metadata": {},
      "outputs": [],
      "source": [
        "#Pulling stock data\n",
        "for i in tickers:\n",
        "    dataset = getStockDataDaily(i, day='2022-22-12')\n",
        "    print(dataset)\n",
        "    "
      ]
    },
    {
      "cell_type": "code",
      "execution_count": null,
      "metadata": {},
      "outputs": [],
      "source": []
    }
  ],
  "metadata": {
    "colab": {
      "authorship_tag": "ABX9TyO2ChGGwJkijmmb0vDcCR40",
      "include_colab_link": true,
      "name": "Sentiment Analysis.ipynb",
      "provenance": []
    },
    "kernelspec": {
      "display_name": "Python 3.10.0 64-bit",
      "language": "python",
      "name": "python3"
    },
    "language_info": {
      "codemirror_mode": {
        "name": "ipython",
        "version": 3
      },
      "file_extension": ".py",
      "mimetype": "text/x-python",
      "name": "python",
      "nbconvert_exporter": "python",
      "pygments_lexer": "ipython3",
      "version": "3.10.0"
    },
    "vscode": {
      "interpreter": {
        "hash": "369f2c481f4da34e4445cda3fffd2e751bd1c4d706f27375911949ba6bb62e1c"
      }
    }
  },
  "nbformat": 4,
  "nbformat_minor": 0
}
