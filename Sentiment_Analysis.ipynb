{
  "cells": [
    {
      "cell_type": "markdown",
      "metadata": {
        "colab_type": "text",
        "id": "view-in-github"
      },
      "source": [
        "<a href=\"https://colab.research.google.com/github/ishaanpaul98/Sentiment-Analysis/blob/main/Sentiment_Analysis.ipynb\" target=\"_parent\"><img src=\"https://colab.research.google.com/assets/colab-badge.svg\" alt=\"Open In Colab\"/></a>"
      ]
    },
    {
      "cell_type": "markdown",
      "metadata": {},
      "source": [
        "# Imports #"
      ]
    },
    {
      "cell_type": "code",
      "execution_count": 1,
      "metadata": {
        "id": "pGQVQfr0b3SS"
      },
      "outputs": [],
      "source": [
        "# Import libraries\n",
        "import pandas as pd\n",
        "import matplotlib.pyplot as plt\n",
        "import seaborn as sns\n",
        "import numpy as np\n",
        "from wordcloud import WordCloud\n",
        "import re\n",
        "\n",
        "from bs4 import BeautifulSoup\n",
        "from urllib.request import urlopen, Request\n",
        "from nltk.sentiment.vader import SentimentIntensityAnalyzer\n",
        "\n",
        "import datetime\n",
        "import yfinance as yf\n",
        "import time\n",
        "import requests\n",
        "import io"
      ]
    },
    {
      "cell_type": "code",
      "execution_count": 2,
      "metadata": {
        "id": "WSgZEvuikgTn"
      },
      "outputs": [],
      "source": [
        "import nltk\n",
        "from nltk.corpus import stopwords\n",
        "from nltk.stem import WordNetLemmatizer"
      ]
    },
    {
      "cell_type": "code",
      "execution_count": 3,
      "metadata": {
        "id": "9hbdUWDKkgv_"
      },
      "outputs": [],
      "source": [
        "from sklearn.feature_extraction.text import CountVectorizer\n",
        "from sklearn.model_selection import GridSearchCV\n",
        "from sklearn.ensemble import RandomForestClassifier"
      ]
    },
    {
      "cell_type": "code",
      "execution_count": 4,
      "metadata": {
        "id": "Eqvj106lkgyU"
      },
      "outputs": [],
      "source": [
        "from sklearn.metrics import accuracy_score,precision_score,recall_score,confusion_matrix,roc_curve,classification_report\n",
        "from sklearn.metrics import plot_confusion_matrix"
      ]
    },
    {
      "cell_type": "markdown",
      "metadata": {},
      "source": [
        "# Stock Data Helper Functions #"
      ]
    },
    {
      "cell_type": "code",
      "execution_count": 5,
      "metadata": {},
      "outputs": [
        {
          "name": "stdout",
          "output_type": "stream",
          "text": [
            "Getting stock data for stock $AAPL\n",
            "[*********************100%***********************]  1 of 1 completed\n"
          ]
        },
        {
          "data": {
            "text/html": [
              "<div>\n",
              "<style scoped>\n",
              "    .dataframe tbody tr th:only-of-type {\n",
              "        vertical-align: middle;\n",
              "    }\n",
              "\n",
              "    .dataframe tbody tr th {\n",
              "        vertical-align: top;\n",
              "    }\n",
              "\n",
              "    .dataframe thead th {\n",
              "        text-align: right;\n",
              "    }\n",
              "</style>\n",
              "<table border=\"1\" class=\"dataframe\">\n",
              "  <thead>\n",
              "    <tr style=\"text-align: right;\">\n",
              "      <th></th>\n",
              "      <th>Open</th>\n",
              "      <th>High</th>\n",
              "      <th>Low</th>\n",
              "      <th>Close</th>\n",
              "      <th>Adj Close</th>\n",
              "      <th>Volume</th>\n",
              "    </tr>\n",
              "    <tr>\n",
              "      <th>Date</th>\n",
              "      <th></th>\n",
              "      <th></th>\n",
              "      <th></th>\n",
              "      <th></th>\n",
              "      <th></th>\n",
              "      <th></th>\n",
              "    </tr>\n",
              "  </thead>\n",
              "  <tbody>\n",
              "    <tr>\n",
              "      <th>2022-12-21</th>\n",
              "      <td>132.979996</td>\n",
              "      <td>136.809998</td>\n",
              "      <td>132.750000</td>\n",
              "      <td>135.449997</td>\n",
              "      <td>135.449997</td>\n",
              "      <td>85928000</td>\n",
              "    </tr>\n",
              "    <tr>\n",
              "      <th>2022-12-22</th>\n",
              "      <td>134.350006</td>\n",
              "      <td>134.559998</td>\n",
              "      <td>130.300003</td>\n",
              "      <td>132.229996</td>\n",
              "      <td>132.229996</td>\n",
              "      <td>77852100</td>\n",
              "    </tr>\n",
              "    <tr>\n",
              "      <th>2022-12-23</th>\n",
              "      <td>130.919998</td>\n",
              "      <td>132.419998</td>\n",
              "      <td>129.639999</td>\n",
              "      <td>131.860001</td>\n",
              "      <td>131.860001</td>\n",
              "      <td>63814900</td>\n",
              "    </tr>\n",
              "    <tr>\n",
              "      <th>2022-12-27</th>\n",
              "      <td>131.380005</td>\n",
              "      <td>131.410004</td>\n",
              "      <td>128.720001</td>\n",
              "      <td>130.029999</td>\n",
              "      <td>130.029999</td>\n",
              "      <td>69007800</td>\n",
              "    </tr>\n",
              "    <tr>\n",
              "      <th>2022-12-28</th>\n",
              "      <td>129.669998</td>\n",
              "      <td>131.029999</td>\n",
              "      <td>125.870003</td>\n",
              "      <td>126.040001</td>\n",
              "      <td>126.040001</td>\n",
              "      <td>85438400</td>\n",
              "    </tr>\n",
              "    <tr>\n",
              "      <th>2022-12-29</th>\n",
              "      <td>127.989998</td>\n",
              "      <td>130.479996</td>\n",
              "      <td>127.730003</td>\n",
              "      <td>129.610001</td>\n",
              "      <td>129.610001</td>\n",
              "      <td>75703700</td>\n",
              "    </tr>\n",
              "    <tr>\n",
              "      <th>2022-12-30</th>\n",
              "      <td>128.410004</td>\n",
              "      <td>129.949997</td>\n",
              "      <td>127.430000</td>\n",
              "      <td>129.929993</td>\n",
              "      <td>129.929993</td>\n",
              "      <td>76960600</td>\n",
              "    </tr>\n",
              "    <tr>\n",
              "      <th>2023-01-03</th>\n",
              "      <td>130.279999</td>\n",
              "      <td>130.899994</td>\n",
              "      <td>124.169998</td>\n",
              "      <td>125.070000</td>\n",
              "      <td>125.070000</td>\n",
              "      <td>112117500</td>\n",
              "    </tr>\n",
              "    <tr>\n",
              "      <th>2023-01-04</th>\n",
              "      <td>126.889999</td>\n",
              "      <td>128.660004</td>\n",
              "      <td>125.080002</td>\n",
              "      <td>126.360001</td>\n",
              "      <td>126.360001</td>\n",
              "      <td>89113600</td>\n",
              "    </tr>\n",
              "    <tr>\n",
              "      <th>2023-01-05</th>\n",
              "      <td>127.129997</td>\n",
              "      <td>127.769997</td>\n",
              "      <td>124.760002</td>\n",
              "      <td>125.019997</td>\n",
              "      <td>125.019997</td>\n",
              "      <td>80962700</td>\n",
              "    </tr>\n",
              "    <tr>\n",
              "      <th>2023-01-06</th>\n",
              "      <td>126.010002</td>\n",
              "      <td>130.289993</td>\n",
              "      <td>124.889999</td>\n",
              "      <td>129.619995</td>\n",
              "      <td>129.619995</td>\n",
              "      <td>87686600</td>\n",
              "    </tr>\n",
              "  </tbody>\n",
              "</table>\n",
              "</div>"
            ],
            "text/plain": [
              "                  Open        High         Low       Close   Adj Close  \\\n",
              "Date                                                                     \n",
              "2022-12-21  132.979996  136.809998  132.750000  135.449997  135.449997   \n",
              "2022-12-22  134.350006  134.559998  130.300003  132.229996  132.229996   \n",
              "2022-12-23  130.919998  132.419998  129.639999  131.860001  131.860001   \n",
              "2022-12-27  131.380005  131.410004  128.720001  130.029999  130.029999   \n",
              "2022-12-28  129.669998  131.029999  125.870003  126.040001  126.040001   \n",
              "2022-12-29  127.989998  130.479996  127.730003  129.610001  129.610001   \n",
              "2022-12-30  128.410004  129.949997  127.430000  129.929993  129.929993   \n",
              "2023-01-03  130.279999  130.899994  124.169998  125.070000  125.070000   \n",
              "2023-01-04  126.889999  128.660004  125.080002  126.360001  126.360001   \n",
              "2023-01-05  127.129997  127.769997  124.760002  125.019997  125.019997   \n",
              "2023-01-06  126.010002  130.289993  124.889999  129.619995  129.619995   \n",
              "\n",
              "               Volume  \n",
              "Date                   \n",
              "2022-12-21   85928000  \n",
              "2022-12-22   77852100  \n",
              "2022-12-23   63814900  \n",
              "2022-12-27   69007800  \n",
              "2022-12-28   85438400  \n",
              "2022-12-29   75703700  \n",
              "2022-12-30   76960600  \n",
              "2023-01-03  112117500  \n",
              "2023-01-04   89113600  \n",
              "2023-01-05   80962700  \n",
              "2023-01-06   87686600  "
            ]
          },
          "execution_count": 5,
          "metadata": {},
          "output_type": "execute_result"
        }
      ],
      "source": [
        "def getStockDataDaily(symbol, day):\n",
        "    print(\"Getting stock data for stock $\"+symbol)\n",
        "    df = yf.download(symbol, start=day, period = \"1d\")\n",
        "    return df\n",
        "\n",
        "getStockDataDaily('AAPL', \"2022-12-21\")"
      ]
    },
    {
      "cell_type": "code",
      "execution_count": 6,
      "metadata": {},
      "outputs": [],
      "source": [
        "def arrayToString(arr):\n",
        "    print(\"Starting array to list\")\n",
        "    listToStr = ' '.join([str(elem) for elem in arr])\n",
        "    return listToStr\n"
      ]
    },
    {
      "cell_type": "code",
      "execution_count": 7,
      "metadata": {},
      "outputs": [
        {
          "name": "stdout",
          "output_type": "stream",
          "text": [
            "Length of symbols array is more than 1. STARTING ARRAYTOSTRING\n",
            "Starting array to list\n",
            "Getting stock data for stock $AAPL TSLA\n",
            "[*********************100%***********************]  2 of 2 completed\n"
          ]
        },
        {
          "data": {
            "text/html": [
              "<div>\n",
              "<style scoped>\n",
              "    .dataframe tbody tr th:only-of-type {\n",
              "        vertical-align: middle;\n",
              "    }\n",
              "\n",
              "    .dataframe tbody tr th {\n",
              "        vertical-align: top;\n",
              "    }\n",
              "\n",
              "    .dataframe thead tr th {\n",
              "        text-align: left;\n",
              "    }\n",
              "\n",
              "    .dataframe thead tr:last-of-type th {\n",
              "        text-align: right;\n",
              "    }\n",
              "</style>\n",
              "<table border=\"1\" class=\"dataframe\">\n",
              "  <thead>\n",
              "    <tr>\n",
              "      <th></th>\n",
              "      <th colspan=\"6\" halign=\"left\">TSLA</th>\n",
              "      <th colspan=\"6\" halign=\"left\">AAPL</th>\n",
              "    </tr>\n",
              "    <tr>\n",
              "      <th></th>\n",
              "      <th>Open</th>\n",
              "      <th>High</th>\n",
              "      <th>Low</th>\n",
              "      <th>Close</th>\n",
              "      <th>Adj Close</th>\n",
              "      <th>Volume</th>\n",
              "      <th>Open</th>\n",
              "      <th>High</th>\n",
              "      <th>Low</th>\n",
              "      <th>Close</th>\n",
              "      <th>Adj Close</th>\n",
              "      <th>Volume</th>\n",
              "    </tr>\n",
              "    <tr>\n",
              "      <th>Date</th>\n",
              "      <th></th>\n",
              "      <th></th>\n",
              "      <th></th>\n",
              "      <th></th>\n",
              "      <th></th>\n",
              "      <th></th>\n",
              "      <th></th>\n",
              "      <th></th>\n",
              "      <th></th>\n",
              "      <th></th>\n",
              "      <th></th>\n",
              "      <th></th>\n",
              "    </tr>\n",
              "  </thead>\n",
              "  <tbody>\n",
              "    <tr>\n",
              "      <th>2022-12-21</th>\n",
              "      <td>139.339996</td>\n",
              "      <td>141.259995</td>\n",
              "      <td>135.889999</td>\n",
              "      <td>137.570007</td>\n",
              "      <td>137.570007</td>\n",
              "      <td>145417400</td>\n",
              "      <td>132.979996</td>\n",
              "      <td>136.809998</td>\n",
              "      <td>132.750000</td>\n",
              "      <td>135.449997</td>\n",
              "      <td>135.449997</td>\n",
              "      <td>85928000</td>\n",
              "    </tr>\n",
              "    <tr>\n",
              "      <th>2022-12-22</th>\n",
              "      <td>136.000000</td>\n",
              "      <td>136.630005</td>\n",
              "      <td>122.260002</td>\n",
              "      <td>125.349998</td>\n",
              "      <td>125.349998</td>\n",
              "      <td>210090300</td>\n",
              "      <td>134.350006</td>\n",
              "      <td>134.559998</td>\n",
              "      <td>130.300003</td>\n",
              "      <td>132.229996</td>\n",
              "      <td>132.229996</td>\n",
              "      <td>77852100</td>\n",
              "    </tr>\n",
              "    <tr>\n",
              "      <th>2022-12-23</th>\n",
              "      <td>126.370003</td>\n",
              "      <td>128.619995</td>\n",
              "      <td>121.019997</td>\n",
              "      <td>123.150002</td>\n",
              "      <td>123.150002</td>\n",
              "      <td>166989700</td>\n",
              "      <td>130.919998</td>\n",
              "      <td>132.419998</td>\n",
              "      <td>129.639999</td>\n",
              "      <td>131.860001</td>\n",
              "      <td>131.860001</td>\n",
              "      <td>63814900</td>\n",
              "    </tr>\n",
              "    <tr>\n",
              "      <th>2022-12-27</th>\n",
              "      <td>117.500000</td>\n",
              "      <td>119.669998</td>\n",
              "      <td>108.760002</td>\n",
              "      <td>109.099998</td>\n",
              "      <td>109.099998</td>\n",
              "      <td>208643400</td>\n",
              "      <td>131.380005</td>\n",
              "      <td>131.410004</td>\n",
              "      <td>128.720001</td>\n",
              "      <td>130.029999</td>\n",
              "      <td>130.029999</td>\n",
              "      <td>69007800</td>\n",
              "    </tr>\n",
              "    <tr>\n",
              "      <th>2022-12-28</th>\n",
              "      <td>110.349998</td>\n",
              "      <td>116.269997</td>\n",
              "      <td>108.239998</td>\n",
              "      <td>112.709999</td>\n",
              "      <td>112.709999</td>\n",
              "      <td>221070500</td>\n",
              "      <td>129.669998</td>\n",
              "      <td>131.029999</td>\n",
              "      <td>125.870003</td>\n",
              "      <td>126.040001</td>\n",
              "      <td>126.040001</td>\n",
              "      <td>85438400</td>\n",
              "    </tr>\n",
              "    <tr>\n",
              "      <th>2022-12-29</th>\n",
              "      <td>120.389999</td>\n",
              "      <td>123.570000</td>\n",
              "      <td>117.500000</td>\n",
              "      <td>121.820000</td>\n",
              "      <td>121.820000</td>\n",
              "      <td>221923300</td>\n",
              "      <td>127.989998</td>\n",
              "      <td>130.479996</td>\n",
              "      <td>127.730003</td>\n",
              "      <td>129.610001</td>\n",
              "      <td>129.610001</td>\n",
              "      <td>75703700</td>\n",
              "    </tr>\n",
              "    <tr>\n",
              "      <th>2022-12-30</th>\n",
              "      <td>119.949997</td>\n",
              "      <td>124.480003</td>\n",
              "      <td>119.750000</td>\n",
              "      <td>123.180000</td>\n",
              "      <td>123.180000</td>\n",
              "      <td>157304500</td>\n",
              "      <td>128.410004</td>\n",
              "      <td>129.949997</td>\n",
              "      <td>127.430000</td>\n",
              "      <td>129.929993</td>\n",
              "      <td>129.929993</td>\n",
              "      <td>76960600</td>\n",
              "    </tr>\n",
              "    <tr>\n",
              "      <th>2023-01-03</th>\n",
              "      <td>118.470001</td>\n",
              "      <td>118.800003</td>\n",
              "      <td>104.639999</td>\n",
              "      <td>108.099998</td>\n",
              "      <td>108.099998</td>\n",
              "      <td>231402800</td>\n",
              "      <td>130.279999</td>\n",
              "      <td>130.899994</td>\n",
              "      <td>124.169998</td>\n",
              "      <td>125.070000</td>\n",
              "      <td>125.070000</td>\n",
              "      <td>112117500</td>\n",
              "    </tr>\n",
              "    <tr>\n",
              "      <th>2023-01-04</th>\n",
              "      <td>109.110001</td>\n",
              "      <td>114.589996</td>\n",
              "      <td>107.519997</td>\n",
              "      <td>113.639999</td>\n",
              "      <td>113.639999</td>\n",
              "      <td>180389000</td>\n",
              "      <td>126.889999</td>\n",
              "      <td>128.660004</td>\n",
              "      <td>125.080002</td>\n",
              "      <td>126.360001</td>\n",
              "      <td>126.360001</td>\n",
              "      <td>89113600</td>\n",
              "    </tr>\n",
              "    <tr>\n",
              "      <th>2023-01-05</th>\n",
              "      <td>110.510002</td>\n",
              "      <td>111.750000</td>\n",
              "      <td>107.160004</td>\n",
              "      <td>110.339996</td>\n",
              "      <td>110.339996</td>\n",
              "      <td>157986300</td>\n",
              "      <td>127.129997</td>\n",
              "      <td>127.769997</td>\n",
              "      <td>124.760002</td>\n",
              "      <td>125.019997</td>\n",
              "      <td>125.019997</td>\n",
              "      <td>80962700</td>\n",
              "    </tr>\n",
              "    <tr>\n",
              "      <th>2023-01-06</th>\n",
              "      <td>103.000000</td>\n",
              "      <td>114.389999</td>\n",
              "      <td>101.809998</td>\n",
              "      <td>113.059998</td>\n",
              "      <td>113.059998</td>\n",
              "      <td>220575900</td>\n",
              "      <td>126.010002</td>\n",
              "      <td>130.289993</td>\n",
              "      <td>124.889999</td>\n",
              "      <td>129.619995</td>\n",
              "      <td>129.619995</td>\n",
              "      <td>87686600</td>\n",
              "    </tr>\n",
              "  </tbody>\n",
              "</table>\n",
              "</div>"
            ],
            "text/plain": [
              "                  TSLA                                                  \\\n",
              "                  Open        High         Low       Close   Adj Close   \n",
              "Date                                                                     \n",
              "2022-12-21  139.339996  141.259995  135.889999  137.570007  137.570007   \n",
              "2022-12-22  136.000000  136.630005  122.260002  125.349998  125.349998   \n",
              "2022-12-23  126.370003  128.619995  121.019997  123.150002  123.150002   \n",
              "2022-12-27  117.500000  119.669998  108.760002  109.099998  109.099998   \n",
              "2022-12-28  110.349998  116.269997  108.239998  112.709999  112.709999   \n",
              "2022-12-29  120.389999  123.570000  117.500000  121.820000  121.820000   \n",
              "2022-12-30  119.949997  124.480003  119.750000  123.180000  123.180000   \n",
              "2023-01-03  118.470001  118.800003  104.639999  108.099998  108.099998   \n",
              "2023-01-04  109.110001  114.589996  107.519997  113.639999  113.639999   \n",
              "2023-01-05  110.510002  111.750000  107.160004  110.339996  110.339996   \n",
              "2023-01-06  103.000000  114.389999  101.809998  113.059998  113.059998   \n",
              "\n",
              "                             AAPL                                      \\\n",
              "               Volume        Open        High         Low       Close   \n",
              "Date                                                                    \n",
              "2022-12-21  145417400  132.979996  136.809998  132.750000  135.449997   \n",
              "2022-12-22  210090300  134.350006  134.559998  130.300003  132.229996   \n",
              "2022-12-23  166989700  130.919998  132.419998  129.639999  131.860001   \n",
              "2022-12-27  208643400  131.380005  131.410004  128.720001  130.029999   \n",
              "2022-12-28  221070500  129.669998  131.029999  125.870003  126.040001   \n",
              "2022-12-29  221923300  127.989998  130.479996  127.730003  129.610001   \n",
              "2022-12-30  157304500  128.410004  129.949997  127.430000  129.929993   \n",
              "2023-01-03  231402800  130.279999  130.899994  124.169998  125.070000   \n",
              "2023-01-04  180389000  126.889999  128.660004  125.080002  126.360001   \n",
              "2023-01-05  157986300  127.129997  127.769997  124.760002  125.019997   \n",
              "2023-01-06  220575900  126.010002  130.289993  124.889999  129.619995   \n",
              "\n",
              "                                   \n",
              "             Adj Close     Volume  \n",
              "Date                               \n",
              "2022-12-21  135.449997   85928000  \n",
              "2022-12-22  132.229996   77852100  \n",
              "2022-12-23  131.860001   63814900  \n",
              "2022-12-27  130.029999   69007800  \n",
              "2022-12-28  126.040001   85438400  \n",
              "2022-12-29  129.610001   75703700  \n",
              "2022-12-30  129.929993   76960600  \n",
              "2023-01-03  125.070000  112117500  \n",
              "2023-01-04  126.360001   89113600  \n",
              "2023-01-05  125.019997   80962700  \n",
              "2023-01-06  129.619995   87686600  "
            ]
          },
          "execution_count": 7,
          "metadata": {},
          "output_type": "execute_result"
        }
      ],
      "source": [
        "def getMultiStockDataDaily(symbols, day):\n",
        "    if len(symbols) > 1:\n",
        "        print(\"Length of symbols array is more than 1. STARTING ARRAYTOSTRING\")\n",
        "        symbols = arrayToString(symbols)\n",
        "    print(\"Getting stock data for stock $\"+symbols)\n",
        "    df = yf.download(symbols, start=day, period = \"1d\", group_by='ticker')\n",
        "    return df\n",
        "\n",
        "getMultiStockDataDaily(['AAPL', 'TSLA'], \"2022-12-21\")"
      ]
    },
    {
      "cell_type": "code",
      "execution_count": 8,
      "metadata": {},
      "outputs": [
        {
          "name": "stdout",
          "output_type": "stream",
          "text": [
            "Getting stock close for stock $AAPL\n",
            "AAPL 129.6199951171875\n"
          ]
        },
        {
          "data": {
            "text/plain": [
              "129.6199951171875"
            ]
          },
          "execution_count": 8,
          "metadata": {},
          "output_type": "execute_result"
        }
      ],
      "source": [
        "def getStockClose(symbol):\n",
        "    print(\"Getting stock close for stock $\"+symbol)\n",
        "    ticker = yf.Ticker(symbol)\n",
        "    data = ticker.history()\n",
        "    #print(data)\n",
        "    last_price = data['Close'].iloc[-1]\n",
        "    print(symbol, last_price)\n",
        "    return last_price\n",
        "\n",
        "getStockClose(\"AAPL\")"
      ]
    },
    {
      "cell_type": "code",
      "execution_count": 9,
      "metadata": {},
      "outputs": [
        {
          "name": "stdout",
          "output_type": "stream",
          "text": [
            "Getting stock open for stock $AAPL\n",
            "AAPL 126.01000213623047\n"
          ]
        },
        {
          "data": {
            "text/plain": [
              "126.01000213623047"
            ]
          },
          "execution_count": 9,
          "metadata": {},
          "output_type": "execute_result"
        }
      ],
      "source": [
        "def getStockOpen(symbol):\n",
        "    print(\"Getting stock open for stock $\"+symbol)\n",
        "    ticker = yf.Ticker(symbol)\n",
        "    data = ticker.history()\n",
        "    #print(data)\n",
        "    last_price = data['Open'].iloc[-1]\n",
        "    print(symbol, last_price)\n",
        "    return last_price\n",
        "\n",
        "getStockOpen(\"AAPL\")"
      ]
    },
    {
      "cell_type": "code",
      "execution_count": 10,
      "metadata": {},
      "outputs": [
        {
          "name": "stdout",
          "output_type": "stream",
          "text": [
            "Getting stock high for stock $AAPL\n",
            "AAPL 130.2899932861328\n"
          ]
        },
        {
          "data": {
            "text/plain": [
              "130.2899932861328"
            ]
          },
          "execution_count": 10,
          "metadata": {},
          "output_type": "execute_result"
        }
      ],
      "source": [
        "def getStockHigh(symbol):\n",
        "    print(\"Getting stock high for stock $\"+symbol)\n",
        "    ticker = yf.Ticker(symbol)\n",
        "    data = ticker.history()\n",
        "    #print(data)\n",
        "    last_price = data['High'].iloc[-1]\n",
        "    print(symbol, last_price)\n",
        "    return last_price\n",
        "\n",
        "getStockHigh(\"AAPL\")"
      ]
    },
    {
      "cell_type": "code",
      "execution_count": 11,
      "metadata": {},
      "outputs": [
        {
          "name": "stdout",
          "output_type": "stream",
          "text": [
            "Getting stock low for stock $AAPL\n",
            "AAPL 124.88999938964844\n"
          ]
        },
        {
          "data": {
            "text/plain": [
              "124.88999938964844"
            ]
          },
          "execution_count": 11,
          "metadata": {},
          "output_type": "execute_result"
        }
      ],
      "source": [
        "def getStockLow(symbol):\n",
        "    print(\"Getting stock low for stock $\"+symbol)\n",
        "    ticker = yf.Ticker(symbol)\n",
        "    data = ticker.history()\n",
        "    #print(data)\n",
        "    last_price = data['Low'].iloc[-1]\n",
        "    print(symbol, last_price)\n",
        "    return last_price\n",
        "\n",
        "getStockLow(\"AAPL\")"
      ]
    },
    {
      "attachments": {},
      "cell_type": "markdown",
      "metadata": {},
      "source": [
        "# Gathering FinViz Data (Today's Sentiment) #"
      ]
    },
    {
      "cell_type": "code",
      "execution_count": 12,
      "metadata": {},
      "outputs": [],
      "source": [
        "# Parameters \n",
        "n = 3 #the # of article headlines displayed per ticker\n",
        "tickers = ['AAPL', 'TSLA', 'AMZN']"
      ]
    },
    {
      "cell_type": "code",
      "execution_count": 13,
      "metadata": {},
      "outputs": [
        {
          "data": {
            "text/plain": [
              "{'news':       Date                                              Title  \\\n",
              " 0   Jan-06   Jack Ma Cedes Control of Fintech Giant Ant Group   \n",
              " 1   Jan-06  House to hold 15th ballot for speaker after Mc...   \n",
              " 2   Jan-06  Ant Group Says Its Founder, Jack Ma, Will Reli...   \n",
              " 3   Jan-06  Thai Exchanges Adjust Rules Before Launch of N...   \n",
              " 4   Jan-06  Japan flight makes emergency landing after app...   \n",
              " ..     ...                                                ...   \n",
              " 85  Jan-06  U.S. equity funds record seventh week of outflows   \n",
              " 86  Jan-06  Hedge fund fees fall to lowest level since 200...   \n",
              " 87  Jan-06  Chris Rokos’s Hedge Fund Soars a Record 51% in...   \n",
              " 88  Jan-06  Southwest Airlines forecasts loss after mass c...   \n",
              " 89  Jan-06  For Freelancers, New Federal Help in Saving fo...   \n",
              " \n",
              "                  Source                                               Link  \n",
              " 0           www.wsj.com  https://www.wsj.com/articles/jack-ma-cedes-con...  \n",
              " 1   www.marketwatch.com  http://www.marketwatch.com/news/story/house-ho...  \n",
              " 2       www.nytimes.com  https://www.nytimes.com/2023/01/06/business/ja...  \n",
              " 3     www.bloomberg.com  https://www.bloomberg.com/news/articles/2023-0...  \n",
              " 4           www.cnn.com  https://www.cnn.com/2023/01/06/asia/japan-jets...  \n",
              " ..                  ...                                                ...  \n",
              " 85      www.reuters.com  https://www.reuters.com/markets/us/us-equity-f...  \n",
              " 86      www.reuters.com  https://www.reuters.com/business/finance/hedge...  \n",
              " 87    www.bloomberg.com  https://www.bloomberg.com/news/articles/2023-0...  \n",
              " 88      www.reuters.com  https://www.reuters.com/business/aerospace-def...  \n",
              " 89      www.nytimes.com  https://www.nytimes.com/2023/01/06/your-money/...  \n",
              " \n",
              " [90 rows x 4 columns],\n",
              " 'blogs':       Date                                              Title  \\\n",
              " 0   Jan-06  Taliban & Chinese Firm Sign Historic Afghan Oi...   \n",
              " 1   Jan-06  Fireworks Ensue After Gaetz Tanks McCarthy's 1...   \n",
              " 2   Jan-06  For Teachers Unions, Parents & Children Come Last   \n",
              " 3   Jan-06  These Were The Most Important Science Headline...   \n",
              " 4   Jan-06  Israeli Army Says It Will Not Take Orders From...   \n",
              " ..     ...                                                ...   \n",
              " 85  Nov-24                                Trading Consciously   \n",
              " 86  Nov-18  Relapse Prevention:  A Neglected Topic In Trad...   \n",
              " 87  Nov-13            Strong Two Day Rally:  What Comes Next?   \n",
              " 88  Nov-06  Trading Psychology Advice - 3: Solution-Focuse...   \n",
              " 89  May-21  New Issue Now Available: What Hedge Funds Boug...   \n",
              " \n",
              "                      Source                                               Link  \n",
              " 0         www.zerohedge.com  https://www.zerohedge.com/energy/taliban-signs...  \n",
              " 1         www.zerohedge.com  https://www.zerohedge.com/political/were-going...  \n",
              " 2         www.zerohedge.com  https://www.zerohedge.com/political/teachers-u...  \n",
              " 3         www.zerohedge.com  https://www.zerohedge.com/technology/these-wer...  \n",
              " 4         www.zerohedge.com  https://www.zerohedge.com/geopolitical/israeli...  \n",
              " ..                      ...                                                ...  \n",
              " 85  traderfeed.blogspot.com  http://traderfeed.blogspot.com/2022/11/trading...  \n",
              " 86  traderfeed.blogspot.com  http://traderfeed.blogspot.com/2022/11/relapse...  \n",
              " 87  traderfeed.blogspot.com  http://traderfeed.blogspot.com/2022/11/strong-...  \n",
              " 88  traderfeed.blogspot.com  http://traderfeed.blogspot.com/2022/11/trading...  \n",
              " 89      www.marketfolly.com  http://www.marketfolly.com/2022/05/new-issue-n...  \n",
              " \n",
              " [90 rows x 4 columns]}"
            ]
          },
          "execution_count": 13,
          "metadata": {},
          "output_type": "execute_result"
        }
      ],
      "source": [
        "from finvizfinance.news import News\n",
        "fnews = News()\n",
        "all_news = fnews.get_news()\n",
        "all_news"
      ]
    },
    {
      "cell_type": "code",
      "execution_count": 14,
      "metadata": {},
      "outputs": [
        {
          "name": "stdout",
          "output_type": "stream",
          "text": [
            "current url is: https://finviz.com/quote.ashx?t=AAPL\n",
            "current url is: https://finviz.com/quote.ashx?t=TSLA\n",
            "current url is: https://finviz.com/quote.ashx?t=AMZN\n",
            "\n",
            "\n",
            "Recent News Headlines for AAPL: \n",
            "Weekly Roundup ( Jan-06-23 06:48PM )\n",
            "Why Apple Stock Was the Apple of Investors' Eyes Today ( 06:43PM )\n",
            "1 Warren Buffett Stock Down 27% to Buy in 2023 ( 05:15PM )\n",
            "\n",
            "\n",
            "Recent News Headlines for TSLA: \n",
            "UPDATE 1-GM wants U.S. Treasury to reconsider tax credits for Cadillac Lyriq EV ( Jan-06-23 10:26PM )\n",
            "Why Luminars CEO is running over fake kids in a Tesla at CES ( 09:01PM )\n",
            "Morningstar | A Weekly Summary of Stock Ideas and Developments in the Companies We Cover ( 07:45PM )\n",
            "\n",
            "\n",
            "Recent News Headlines for AMZN: \n",
            "Weekly Roundup ( Jan-06-23 06:48PM )\n",
            "Why Amazon Stock Topped the Market Today ( 06:10PM )\n",
            "Amazon, Bed Bath & Beyond, World Wrestling Entertainment: Stocks That Defined the Week ( 06:04PM )\n"
          ]
        }
      ],
      "source": [
        "# Get Data\n",
        "finwiz_url = 'https://finviz.com/quote.ashx?t='\n",
        "news_tables = {}\n",
        "\n",
        "for ticker in tickers:\n",
        "    url = finwiz_url + ticker\n",
        "    print(\"current url is: \" +url)\n",
        "    header = {\"User-Agent\": \"Mozilla/5.0 (Windows NT 10.0; Win64; x64) AppleWebKit/537.36 (KHTML, like Gecko) Chrome/92.0.4515.159 Safari/537.36.\"}\n",
        "    req = Request(url=url,headers=header) \n",
        "    resp = urlopen(req)    \n",
        "    html = BeautifulSoup(resp, features=\"lxml\")\n",
        "    news_table = html.find(id='news-table')\n",
        "    news_tables[ticker] = news_table\n",
        "\n",
        "try:\n",
        "    for ticker in tickers:\n",
        "        df = news_tables[ticker]\n",
        "        df_tr = df.findAll('tr')\n",
        "    \n",
        "        print ('\\n')\n",
        "        print ('Recent News Headlines for {}: '.format(ticker))\n",
        "        \n",
        "        for i, table_row in enumerate(df_tr):\n",
        "            a_text = table_row.a.text\n",
        "            td_text = table_row.td.text\n",
        "            td_text = td_text.strip()\n",
        "            print(a_text,'(',td_text,')')\n",
        "            if i == n-1:\n",
        "                break\n",
        "except KeyError:\n",
        "    pass"
      ]
    },
    {
      "cell_type": "code",
      "execution_count": 15,
      "metadata": {},
      "outputs": [
        {
          "name": "stdout",
          "output_type": "stream",
          "text": [
            "Jan-06-23 06:48PMWeekly Roundup TheStreet.com\n",
            "06:43PMWhy Apple Stock Was the Apple of Investors' Eyes Today Motley Fool\n",
            "05:15PM1 Warren Buffett Stock Down 27% to Buy in 2023 Motley Fool\n",
            "04:09PMNo ones having fun in the stock market these days, and that might be a sign that a bottom is near MarketWatch\n",
            "04:00PMTarget, Amazon and 4 More Retailers That Will Reward You for Turning in Your Old Stuff GOBankingRates\n",
            "\n",
            "10:51AM\n",
            "Loading…\n",
            "\n",
            "10:51AMApple to build even more at Austin campus American City Business Journals\n",
            "10:21AMMorgan Stanley defends Apple stock, citing overblown demand concerns Yahoo Finance Video\n",
            "09:30AMTech Sell-Off: 2 Growth Stocks to Buy in 2023 Motley Fool\n",
            "07:22AMAre Growth Stocks in for More Pain in 2023? Motley Fool\n",
            "06:13AMYou Could've Become a Millionaire With Just $1,000 Invested in This Warren Buffett Stock Motley Fool\n",
            "06:00AMHere's Why We Think Apple (NASDAQ:AAPL) Might Deserve Your Attention Today Simply Wall St.\n",
            "05:51AMSamsung Warns of Profit Drop Blaming Weak Demand. What This Means for Apple. Barrons.com\n",
            "05:06AM5 Stocks Warren Buffett Is Betting Big on for 2023 Motley Fool\n",
            "03:13AMApple plans to remodel its Tacoma Mall store American City Business Journals\n",
            "01:58AMCovid chaos in China and a new Swiss haven Financial Times\n",
            "\n",
            "05:59PM\n",
            "Loading…\n",
            "\n",
            "Jan-05-23 05:59PMLooking for clues about iPhone supply? Ask AT&T, Verizon and T-Mobile MarketWatch\n",
            "03:34PMSamsung flags 69% drop in Q4 profit as chip prices plummet Investing.com\n",
            "03:33PMQualcomm, Iridium partner to bring satellite-based messaging to Android phones Reuters\n",
            "03:27PMMcLean firm Iridium Communications partners with Qualcomm to get satellite technology in smartphones American City Business Journals\n",
            "02:41PMTech stocks: It's 'still too early' to get back in, says UBS strategist Yahoo Finance\n",
            "02:08PMNeed a New Battery for Your iPhone? Prepare to Pay More Motley Fool\n",
            "01:24PMIPhone Shipments Take a Hit  but Analysts Are Still Upbeat on Apple Barrons.com\n",
            "01:09PMApple stock: 'It's a Rock of Gibraltar,' says Wedbush's Dan Ives Yahoo Finance\n",
            "09:08AMShopify Just Threw a Big Lifeline to Meta Platforms and Alphabet Motley Fool\n",
            "08:39AMHoping for a Stock Market Rally? Big Tech May Get in the Way. Barrons.com\n",
            "08:11AMLuxshare/Apple: Chinese AirPods maker trades up to premium iPhones Financial Times\n",
            "07:55AMApple's Key Supplier Foxconn's December Revenue Falls Over 12% Benzinga\n",
            "05:52AM3 Dow Stocks Down 30% to 55% That Are Screaming Buys for 2023 Motley Fool\n",
            "05:30AMWhy Its Hard for Apple to Make iPhones Outside of China WSJ\n",
            "05:06AMWhy investors should stop fixating on Apple and Tesla stock in 2023: Morning Brief Yahoo Finance\n",
            "\n",
            "11:17PM\n",
            "Loading…\n",
            "\n",
            "Jan-04-23 11:17PMInvesting in Apple Stock (AAPL) Investopedia\n",
            "11:15PMBMW Takes Cues From Apple With Radical Interior Overhaul Bloomberg\n",
            "09:40PMCEO of Singapores Creative Sim Wong Hoo, Who Took on Apple, Dies at 67 Bloomberg\n",
            "09:05PMLuxshare says client cooperation normal after Apple production cut report Reuters\n",
            "09:00PMUPDATE 1-Luxshare says client cooperation normal after Apple production cut report Reuters\n",
            "08:05PMAsian stocks surge on China recovery bets, smaller Fed rate hikes Investing.com\n",
            "07:15PMShares of major Apple suppliers fall on report of production cut Investing.com\n",
            "05:49PMApple to sign Luxshare for iPhone production in China - FT Reuters\n",
            "05:46PMUPDATE 2-Apple to sign Luxshare for iPhone production in China - FT Reuters\n",
            "05:45PMApple (AAPL) Outpaces Stock Market Gains: What You Should Know Zacks\n",
            "05:30PMFoxconns biggest Chinese rival wins premium iPhone contract Financial Times\n",
            "05:00PMSamsungs Consumer-Products CEO  Expects Tech Slump to Persist Through 2023 The Wall Street Journal\n",
            "04:34PMCES 2023: Everything were expecting from the years biggest tech show Yahoo Finance\n",
            "01:47PMFrench privacy watchdog fines Apple over personalised ads Reuters\n",
            "01:30PMFrench privacy watchdog fines Apple over personalised ads Reuters\n",
            "12:47PMWorld's largest iPhone factory back to 90% capacity in China: Report Fox Business\n",
            "12:28PMApple is cutting back on ordering key products in the face of weakening demandheres why analysts are still bullish on the company Fortune\n",
            "11:50AMAlphabet (GOOGL) to Boost YouTube TV With Multi-Screen Viewing Zacks\n",
            "10:49AM39% of Warren Buffett's Portfolio Is Invested in These 3 Tech Giants Motley Fool\n",
            "10:28AMThese Stocks Are Moving the Most Today: Coinbase, Alibaba, Overstock.com, and More Barrons.com\n",
            "10:07AMInvestors Should Consider This Warren Buffett Advice in 2023 Motley Fool\n",
            "10:03AMShopify's (SHOP) Commerce Components to Attract Merchants Zacks\n",
            "10:00AMSamsung Upgrades Selfie Camera and Screen on $200 Phone Bloomberg\n",
            "09:35AMApples Stock Is Losing Its Shine After an Ugly Month of December Bloomberg\n",
            "09:31AMStock Market News for Jan 4, 2023 Zacks\n",
            "09:14AMApple slips below $2 trillion market cap Yahoo Finance Video\n",
            "08:48AMThousands of Travelers Are Missing Luggage, and Apple AirTags Are Helping Them Get It Back Benzinga\n",
            "08:44AMApple Stock Edges Up After Downgrade on iPhone Concerns Barrons.com\n",
            "08:39AMTesla Made Short Sellers a Lot of Money in 2022 Barrons.com\n",
            "08:09AMDow Jones Futures Rise With Key Data Due After Market Hit Resistance To Start 2023 Investor's Business Daily\n",
            "07:55AMApple Stock Active As Wedbush Sees Demand Headwinds, Lowers Price Target TheStreet.com\n",
            "07:31AM4 Beaten-Down Tech Stocks Poised to Rebound in 2023 Motley Fool\n",
            "07:30AMDown 30%, Apple Stock Is Still Risky Motley Fool\n",
            "06:38AMDow Jones Futures Rise After Market Hit Resistance To Start 2023 As Apple, Tesla Dived Investor's Business Daily\n",
            "05:31AMDown Over 20% In 2022, These 3 Warren Buffett Stocks Are Smart Buys in 2023 Motley Fool\n",
            "05:15AMApple is no longer the only company with a $2 trillion valuation Fortune\n",
            "05:12AMWhat the Smartest Investors Know About Apple Stock Motley Fool\n",
            "05:09AMApple Stock Poised to Rebound After Downgrade on iPhone Concerns Barrons.com\n",
            "03:30AMTesla Stock Made Short Sellers a Lot of Money in 2022. It Hasnt Stopped Dropping Yet. Barrons.com\n",
            "01:08AMWall Street Banks Like Goldman Turn Pessimistic on Worlds Biggest Chipmaker TSMC Bloomberg\n",
            "12:14AMApple and Tesla start 2023 on the wrong foot Financial Times\n",
            "Jan-03-23 10:06PMStock Market Hits Resistance To Start 2023 As Apple Tumbles, Tesla Dives Investor's Business Daily\n",
            "05:09PMApples Market Cap Slides Below $2 Trillion for the First Time Since 2021 Barrons.com\n",
            "04:57PMUS STOCKS-Wall St starts the year with a dip; Apple, Tesla shares drag Reuters\n",
            "04:10PMApples Slide Topples Last Stock in $2 Trillion Club Bloomberg\n",
            "04:04PMApple Stock Falls Amid Report Of Product Orders Being Cut In Asia Investor's Business Daily\n",
            "04:00PMUS STOCKS-Wall St starts the year with a dip; Apple, Tesla shares drag Reuters\n",
            "03:59PMMore than $1 trillion wiped off value of Apple in face of China chaos The Telegraph\n",
            "03:44PMApple Stock Just Keeps Falling. Its Worth Less Than $2 Trillion Now. Barrons.com\n",
            "03:22PMMcLean's Iridium inks agreement to put its satellite technology in smartphones American City Business Journals\n",
            "03:08PMApple, Tesla stocks start off new year at 52-week lows Yahoo Finance Video\n",
            "02:51PMUS STOCKS-Wall St falls in 2023 trading kick-off; Apple, Tesla shares drag Reuters\n",
            "02:50PMWhy Apple Stock Dropped on Jan. 3, 2023 Motley Fool\n",
            "02:15PMTSMC Had a Down Year in 2022. Why the Stock Is a Buy in 2023. Motley Fool\n",
            "02:00PMA Bull Market Is Coming: 3 Stocks Near Their 52-Week Lows to Buy Right Now Motley Fool\n",
            "01:33PMApple Stock Falls Lower. Its Market Cap Slides Below $2 Trillion. Barrons.com\n",
            "01:27PMPublic records show permit activity is picking up at Apple's RTP site American City Business Journals\n",
            "12:50PMUS STOCKS-Wall St falters at start of 2023 as Apple, Tesla shares fall Reuters\n",
            "12:40PMApple's stock market value falls below $2 trillion Reuters\n",
            "12:32PMApple valued below $2 trillion for the first time in more than 21 months as stock slides MarketWatch\n",
            "12:14PMApples market value falls below $2tn as tech rout hits iPhone maker Financial Times\n",
            "12:00PMApple Set to Close Below $2 Trillion Market Cap The Wall Street Journal\n",
            "11:21AMApple Stock Extends Slide, Falls Below $2 Trillion Level, As Investors Count iPhone Delay Hit To Earnings TheStreet.com\n",
            "10:56AMUS STOCKS-Wall Street drops as Apple, energy stocks weigh Reuters\n",
            "10:30AMTrading Apple Now Is Risky Business TheStreet.com\n",
            "09:28AMApple Hikes Battery Replacement Service Fee For Out-Of-Warranty iPhones, iPads, And MacBooks Benzinga\n",
            "09:25AM5G Stocks To Buy And Watch As Cloud Computing Plays Bigger Role Investor's Business Daily\n",
            "07:51AMShopify Could Emerge As Another Benefactor Of Apple's Privacy Concerns: FT Benzinga\n",
            "07:47AMFoxconn's Largest iPhone Plant In China Nears Resuming 100% Production Benzinga\n",
            "07:42AM2 Hot Stocks to Buy and Hold Until You Retire Motley Fool\n",
            "Jan-06-23 10:26PMUPDATE 1-GM wants U.S. Treasury to reconsider tax credits for Cadillac Lyriq EV Reuters\n",
            "09:01PMWhy Luminars CEO is running over fake kids in a Tesla at CES MarketWatch\n",
            "07:45PMMorningstar | A Weekly Summary of Stock Ideas and Developments in the Companies We Cover Morningstar Research\n",
            "07:30PMMarket Rally Takes Big Step, 9 Stocks Flash Buy Signals; Tesla's EV Price War Investor's Business Daily\n",
            "06:31PMTeslas Battered Stock Looks Like a Buy Again Barrons.com\n",
            "\n",
            "06:24PM\n",
            "Loading…\n",
            "\n",
            "06:24PMQualcomm Touts Phone Chips That Use Satellite Power: CES Update Bloomberg\n",
            "06:18PMTesla Stock Vs. BYD Stock: Tesla Slashes China Prices As BYD Unveils Two Super-Premium EVs Investor's Business Daily\n",
            "06:04PMAmazon, Bed Bath & Beyond, World Wrestling Entertainment: Stocks That Defined the Week The Wall Street Journal\n",
            "05:52PMGM wants U.S. Treasury to reconsider tax credits for Cadillac Lyriq EV Reuters\n",
            "05:48PMGM wants U.S. Treasury to reconsider tax credits for Cadillac Lyriq EV Reuters\n",
            "05:04PMIs Now the Time to Go All-In on Tesla Stock? Motley Fool\n",
            "05:01PMBiggest movers of the week: Bed, Bath & Beyond, Amazon, Salesforce, Tesla, Silvergate Yahoo Finance Video\n",
            "04:22PMDow Jones Rallies On This; Tesla Stock Fights Back, Elon Musk Jokes; WWE Stock Gorilla Presses Higher Investor's Business Daily\n",
            "04:21PMTeslas Demand Troubles Spell a Terrible Start to the Year Bloomberg\n",
            "04:16PMBed Bath & Beyond, Fate, WWE, Greenbrier, and More Stock Market Movers Today Barrons.com\n",
            "\n",
            "04:14PM\n",
            "Loading…\n",
            "\n",
            "04:14PMXPeng shares suffer near-record selloff, snap 5-day win streak MarketWatch\n",
            "03:59PMTesla stock rebounds after slashing Model 3, Model Y prices in China Yahoo Finance Video\n",
            "03:58PMWhy Luminar CEO is running over fake kids in a Tesla at CES MarketWatch\n",
            "03:39PMWhy the New EV Tax Credits Dont Make Sense Barrons.com\n",
            "01:45PMARKs Cathie Wood Isnt Backing Down. She Explains Exactly Why. Barrons.com\n",
            "01:38PMTesla short sellers pile on pressure after most profitable trade in 2022 Reuters\n",
            "01:16PMWhy Nio, XPeng, and Li Auto Crashed Friday Motley Fool\n",
            "01:14PMTesla is ringing in the new year with a 10% weekly loss MarketWatch\n",
            "12:50PMTrouble at Tesla: the end of a golden age of growth? Financial Times\n",
            "12:45PMTesla Stock Hits 2-Year Low As China Price Cuts Highlight Margin, Demand Concerns TheStreet.com\n",
            "12:22PMThese Stocks Are Moving the Most Friday: Bed Bath & Beyond, Fate, WWE, Greenbrier, and More Barrons.com\n",
            "12:18PMXPeng shares near record selloff to snap 5-day win streak MarketWatch\n",
            "12:07PMStock Market Mostly Higher Amid Jobs Report; Tesla Price Cuts, GE Spinoff In Focus: Weekly Review Investor's Business Daily\n",
            "12:02PMWhy Tesla Stock Dropped Again Motley Fool\n",
            "11:32AMTesla stock hits 52-week low, EV maker slashes prices on Model 3 and Y vehicles again Yahoo Finance Video\n",
            "\n",
            "11:18AM\n",
            "Loading…\n",
            "\n",
            "11:18AMTesla Stock Falls as Prices Again Cut in China. NIO and XPeng Also Tumble. Barrons.com\n",
            "10:54AMTesla Falls Again, but This Nasdaq Stock Is Truly Plunging Motley Fool\n",
            "10:53AMDown 74% in This Bear Market, Can Tesla Recover in 2023? Motley Fool\n",
            "10:51AMUS STOCKS-Wall St jumps as December jobs report eases rate worries Reuters\n",
            "10:36AMElon Musk Makes Major Decision About Politics TheStreet.com\n",
            "10:24AMRam reveals EV pickup concept that will compete against Ford, GM and Rivian Yahoo Finance\n",
            "10:22AMWhy a Long-Term Investor Is Sticking With Tesla and Cloud Stocks Barrons.com\n",
            "09:58AMDow Jones Rallies On December Jobs Report; Tesla Stock Dives To New Low On China Price Cuts Investor's Business Daily\n",
            "09:48AMBuffett-Backed BYD Trounces Tesla as China Economy Reopens Bloomberg\n",
            "09:45AMGermany tells Musk it expects Twitter to fight disinformation Reuters\n",
            "09:33AMTesla Stock: Bull vs. Bear Motley Fool\n",
            "09:24AMDow Jones Futures Rally On December Jobs Report; Tesla Stock Dives On China Price Cuts Investor's Business Daily\n",
            "09:22AMTesla stock falls after Model Y, Model 3 price cuts in China Yahoo Finance Video\n",
            "09:15AMUS STOCKS-Wall St set to rally as December jobs report eases rate worries Reuters\n",
            "09:07AMTesla Stock Dives As Tesla Carves Prices Lower In China, Japan, Australia Investor's Business Daily\n",
            "09:05AMTesla stock falls 6% after company cuts prices in China Yahoo Finance\n",
            "08:53AMNow That Tesla Is at a Two-Year Low, Is This a Once-in-a-Decade Opportunity to Buy? Motley Fool\n",
            "08:41AMDow Jones Futures Reverse On December Jobs Report; Tesla Stock Dives On China Price Cuts Investor's Business Daily\n",
            "08:23AMDow Jones Futures Fall Ahead Of December Jobs Report; Tesla Stock Dives On China Price Cuts Investor's Business Daily\n",
            "08:10AMDow Jones Futures: Jobs Report Is Big Market Test; Tesla Dives On China Price Cuts Investor's Business Daily\n",
            "08:08AMDow Jones Futures Rise Ahead Of December Jobs Report; Tesla Stock Dives On China Price Cuts Investor's Business Daily\n",
            "08:05AMFirst-Time Investor? 3 Great Technology Stocks to Get You Started Motley Fool\n",
            "07:47AMTesla Stock Slides After China Vehicle Deliveries Fell Sharply in December The Wall Street Journal\n",
            "07:47AMTesla Shares Slide After China Deliveries Fall Sharply in December The Wall Street Journal\n",
            "07:32AMTesla Is Cutting Prices (Again). Here's What It Means for Investors. Motley Fool\n",
            "07:00AMElectric Vehicle Industry Changes That Could Affect Your Wallet in 2023 GOBankingRates\n",
            "06:51AMTeslas Already Bringing Its Gloom Into 2023. Elon Musk Needs to Act Now. Barrons.com\n",
            "06:45AMThis 1 Major Risk Just Increased for Tesla Stock Investors Motley Fool\n",
            "06:43AMTesla Slashes Prices in China After Deliveries Slump The Wall Street Journal\n",
            "06:26AMTesla stock sinks toward 2 1/2-year low after China price cuts, dragging Nio, XPeng and Li down with it MarketWatch\n",
            "06:25AMTesla Stock Extends Slump As Price Cuts In Asia Highlight Margin, Demand Concerns TheStreet.com\n",
            "06:01AMStocks Mixed, Jobs Report, Tesla, Samsung And WWE In Focus - Five Things To Know TheStreet.com\n",
            "05:30AMWhats Behind Teslas Stock Slide? WSJ\n",
            "05:04AMTesla Cuts Prices in China Again. The Stock Is Tumbling. Barrons.com\n",
            "04:56AMStocks to Watch: Bed Bath & Beyond, Tesla, WWE, Silvergate The Wall Street Journal\n",
            "04:09AMFactbox-Details of Tesla price cuts in China, other Asian markets Reuters\n",
            "01:45AMNew EV Tax Credits Make No Sense Barrons.com\n",
            "Jan-05-23 10:42PMTesla slashes prices in China for second time in 3 months MarketWatch\n",
            "09:46PMTesla cuts prices in China amid slump in deliveries Fox Business\n",
            "09:08PMUPDATE 5-Tesla cuts prices in China, other Asian markets as sales falter Reuters\n",
            "07:00PMTeslas Sales in China Are Slipping, as Local Competition Catches Up Robb Report\n",
            "06:54PMElon Musk Takes Sides in the Speaker Race TheStreet.com\n",
            "05:38PMStellantis CEO delivers a technology statement with a Ram truck Reuters\n",
            "05:30PMStellantis CEO delivers a technology statement with a Ram truck Reuters\n",
            "05:10PMWhat Happened to Tesla Shares? Zacks\n",
            "04:23PMGeely's EV brand Zeekr aims to double sales in 2023, expand in Europe Reuters\n",
            "04:20PMGeely's EV brand Zeekr aims to double sales in 2023, expand in Europe Reuters\n",
            "04:17PMU.S. Auto Sales: GM Is No. 1 Carmaker In 2022; Ford Is No. 2 EV Maker Behind Tesla Investor's Business Daily\n",
            "04:09PMRising Gas Prices: The True Cost of Going Electric GOBankingRates\n",
            "03:59PMDespite Near-Term Issues, TSLA Stock Still Well Positioned for Long-Term Growth, Says Goldman Sachs TipRanks\n",
            "03:00PMChinas EV Boom Has Sent Its Car Exports Soaring Oilprice.com\n",
            "02:41PMTech stocks: It's 'still too early' to get back in, says UBS strategist Yahoo Finance\n",
            "02:40PMUS STOCKS-Wall St drops as tight labor market, Fed officials' view fan rate fears Reuters\n",
            "01:55PMTesla Analyst Slashes Price Target By Over 12% To Reflect Macro Headwinds Benzinga\n",
            "01:50PMWarren Buffett Backed BYD Showcases Premium Electric Car Brand Benzinga\n",
            "01:11PMGot game? Automakers show off in-car entertainment options at CES Reuters\n",
            "12:57PMGot game? Automakers show off in-car entertainment options at CES Reuters\n",
            "12:14PMElon Musk wants Kevin McCarthy to be speaker of the House and Ron DeSantis to be president Fortune\n",
            "11:56AMStuart Varney: The left can't undo what Elon Musk has done for free speech Fox Business\n",
            "11:53AMAmazon joins Netflix and Tesla in cutting jobs as it lays off 18,000 workers Yahoo Finance Video\n",
            "11:06AMTesla, Rivian stocks suffer losses of more than 5% MarketWatch\n",
            "11:01AMWhy Tesla Dropped Again Today Motley Fool\n",
            "11:00AMTesla fan files to extend EV maker's trademark to jets, boats Yahoo Finance Video\n",
            "10:58AM'Alexa, Find An EV Charging Station Near Me' - New EVgo, Amazon Partnership Simplifies Task Benzinga\n",
            "10:46AMUS STOCKS-Wall St drops as tight labor market, Fed officials' view fan rate fears Reuters\n",
            "10:31AMFord Says the F-150 Lightning Was No. 1 Electric Truck in December Barrons.com\n",
            "09:59AMElectric-Vehicle Tax Credit: Musk, Tesla Fans Pressure Government TheStreet.com\n",
            "09:50AMCrude oil turns negative, Dow and Nasdaq under pressure, Tesla stock falls Yahoo Finance Video\n",
            "09:30AMInvestors Have Flocked Back to Stock Funds. Here Are the Winners and Losers. Barrons.com\n",
            "09:28AMFord stock gains after December U.S. sales rise 3.2%, with EV sales more than tripling MarketWatch\n",
            "Jan-06-23 06:48PMWeekly Roundup TheStreet.com\n",
            "06:10PMWhy Amazon Stock Topped the Market Today Motley Fool\n",
            "06:04PMAmazon, Bed Bath & Beyond, World Wrestling Entertainment: Stocks That Defined the Week The Wall Street Journal\n",
            "05:01PMBiggest movers of the week: Bed, Bath & Beyond, Amazon, Salesforce, Tesla, Silvergate Yahoo Finance Video\n",
            "04:17PMThe outlook for theatrical box offices, streaming services heading into 2023 Yahoo Finance Video\n",
            "\n",
            "04:00PM\n",
            "Loading…\n",
            "\n",
            "04:00PMTarget, Amazon and 4 More Retailers That Will Reward You for Turning in Your Old Stuff GOBankingRates\n",
            "04:00PM3 Unstoppable Stocks to Buy for 2023 Motley Fool\n",
            "03:38PMDown 49% in This Bear Market, Can Amazon Stock Recover in 2023? Motley Fool\n",
            "02:37PMGE HealthCare hires former Amazon exec, CDC officer to lead tech strategy that includes AI efforts American City Business Journals\n",
            "11:55AMLongtime D.C.-area IT exec Teresa Carlson joins San Francisco's Flexport American City Business Journals\n",
            "11:30AM3 Market Themes Are Emerging in Early 2023 TheStreet.com\n",
            "11:30AM3 Early Market Themes Are Emerging in 2023 TheStreet.com\n",
            "11:12AMTechs Bill Is Coming Due. Investors Arent the Only Ones Who Will Pay. Barrons.com\n",
            "11:08AMWhy Costco Stock Jumped Today Motley Fool\n",
            "10:15AMIs Amazon Stock a Buy Now? Motley Fool\n",
            "\n",
            "09:31AM\n",
            "Loading…\n",
            "\n",
            "09:31AMCompany News for Jan 6, 2023 Zacks\n",
            "08:30AMConsumer E-Commerce Spending Could Be Weak in 2023; Time to Sell Amazon Stock? Motley Fool\n",
            "07:22AMAre Growth Stocks in for More Pain in 2023? Motley Fool\n",
            "07:10AMJeff Bezos could follow boomerang bosses Bob Iger and Howard Schultz and return to Amazon as CEO after 50% stock drop in 2022, analyst predicts Fortune\n",
            "07:00AMInvestors: Here's the Good and Bad News About the Stock Market Motley Fool\n",
            "06:10AM3 Stocks That Can Double Again in 2023 Motley Fool\n",
            "05:57AMFollowing in Amazon's Footsteps, MercadoLibre Just Made a Genius Move Motley Fool\n",
            "05:30AMMy Favorite Warren Buffett Stocks for 2023 Motley Fool\n",
            "05:25AMWhere Will Rivian Automotive Stock Be in 1 Year? Motley Fool\n",
            "05:05AMMy Top Stock to Buy for 2023 (and It's Not Even Close) Motley Fool\n",
            "Jan-05-23 06:02PMPrice Matching Can Save You Hundreds: Heres What Stores Offer It GOBankingRates\n",
            "04:11PMThese Stocks Are Moving the Most Today: Silvergate, Bed Bath & Beyond, Lamb Weston, and More Barrons.com\n",
            "04:05PMCisco layoffs begin with hundreds of job cuts in California and more expected MarketWatch\n",
            "03:24PMAmazon layoffs: We still like the stock, analyst says Yahoo Finance Video\n",
            "03:21PMAmazon cuts jobs to reset tech giant after monster growth in the pandemic, but investors still worried MarketWatch\n",
            "\n",
            "03:17PM\n",
            "Loading…\n",
            "\n",
            "03:17PMAmazon cuts to reset tech giant after monster growth in the pandemic, but investors still worried MarketWatch\n",
            "02:41PMTech stocks: It's 'still too early' to get back in, says UBS strategist Yahoo Finance\n",
            "02:40PMAmazon Will Lay Off More Than 18,000 Workers -- but That Doesn't Mean the Economy Is Doomed Motley Fool\n",
            "02:15PMAmazon Is Nearly Doubling Its Layoffs. Here's What It Means for Investors. Motley Fool\n",
            "01:31PMAmazon Cuts More Workers Than Expected Investopedia\n",
            "11:53AMAmazon joins Netflix and Tesla in cutting jobs as it lays off 18,000 workers Yahoo Finance Video\n",
            "10:58AM'Alexa, Find An EV Charging Station Near Me' - New EVgo, Amazon Partnership Simplifies Task Benzinga\n",
            "10:57AMTech analyst: The outlook is getting worse amid mass layoffs Yahoo Finance Video\n",
            "10:45AMMicrosoft and Amazon: Here's Why This Is No Contest TheStreet.com\n",
            "10:15AMIs Peloton Stock a Buy? Motley Fool\n",
            "10:13AMAmazon Stock Active As CEO Andy Jassy Confirms Plans To Cut 18,000 Jobs TheStreet.com\n",
            "10:09AMAmazon to Make Dramatic Lay Offs With Over 18,000 Job Cuts Motley Fool\n",
            "10:06AMIs Prologis a Buy? Motley Fool\n",
            "10:00AMSalesforce (CRM) to Slash Operating Costs, Reduce Staff by 10% Zacks\n",
            "10:00AMIMDb Helps Audiences Share and Discover Movie and TV Content With New TikTok Feature Business Wire\n",
            "09:41AMStocks open lower, materials and real estate lags, tech slips Yahoo Finance Video\n",
            "09:34AMAmazon to Slash More Than 18,000 Jobs in Escalation of Cuts Bloomberg\n",
            "09:24AMAmazon says it will eliminate more than 18,000 jobs Yahoo Finance Video\n",
            "09:20AMUPDATE 1-Heavy discounts drive record U.S. online holiday spending - report Reuters\n",
            "09:13AMVanguard says the outlook for the 60/40 model of stocks and bonds is looking rosier, but heres the allocation it prefers the most MarketWatch\n",
            "09:08AMShopify Just Threw a Big Lifeline to Meta Platforms and Alphabet Motley Fool\n",
            "09:00AMCES 2023: Amazon to boost Alexa's capabilities despite cuts to the business Yahoo Finance\n",
            "09:00AMCES 2023: Amazon is boosting Alexa's capabilities despite cuts to the business Yahoo Finance\n",
            "09:00AMAlexa, help! Amazon partners with EVgo to ease EV charging pain Reuters\n",
            "07:38AM3 Things You Shouldn't Do If the Stock Market Crashes Motley Fool\n",
            "07:30AMAmazon Needs to Become a Slower-Growth Wonder The Wall Street Journal\n",
            "07:15AMAmazon to Slash More Than 18,000 Jobs Bloomberg\n",
            "06:44AMTech Sector Layoffs Are Gathering Pace. Why the Fed Will Ignore Them. Barrons.com\n",
            "06:18AMAmazon, Salesforce: When one veteran portfolio manager will feel good about buying battered tech stocks Yahoo Finance\n",
            "06:14AMAmazon Stock Leaps As CEO Andy Jassy Confirms Plans To Cut 18,000 Jobs TheStreet.com\n",
            "06:00AMWill Amazon Recover in 2023? Motley Fool\n",
            "05:42AMStocks Edge Higher, Jobs Data, Amazon, Johnson & Johnson, Walgreen - Five Things To Know TheStreet.com\n",
            "05:04AMMy Top Beaten-Down Growth Stock to Buy in 2023 Motley Fool\n",
            "04:57AMAmazons 18,000 layoffs set the tone for what hiring and firing will look like in 2023 Quartz\n",
            "02:55AMAmazon expects to cut more than 18,000 jobs, CEO says American City Business Journals\n",
            "01:56AMAmazon to cut 18,000 jobs - live updates The Telegraph\n",
            "Jan-04-23 11:32PMAmazon job cuts increase to 18,000 Fox Business\n",
            "10:37PMAmazon Layoffs to Hit Over 18,000 Workers, the Most in Recent Tech Wave The Wall Street Journal\n",
            "09:52PMAmazon plans to cut 18,000 jobs to rein in costs Financial Times\n",
            "09:19PMAmazon Will Lay Off 18,000 Employees, CEO Andy Jassy Says Variety\n",
            "08:51PMHow Amazon Could 'Steal' Season 2 of Netflix's Hottest Show TheStreet.com\n",
            "07:06PMAmazon to Cut 70% More Jobs Than Previously Planned, WSJ Says Bloomberg\n",
            "06:58PMAnalyst Report: Amazon.com, Inc. Morningstar Research\n",
            "06:43PMAmazon to Lay Off Over 17,000 Workers, More Than First Planned The Wall Street Journal\n",
            "05:04PMShort sellers score $300 billion in 2022; bets against Tesla, Amazon, Meta bring in the most MarketWatch\n",
            "04:34PMCES 2023: Everything were expecting from the years biggest tech show Yahoo Finance\n",
            "04:19PMThese Stocks Are Moving the Most Today: Coinbase, Alibaba, Wynn, Microsoft, and More Barrons.com\n",
            "03:42PMJeff Bezos may return to helm Amazon, says forecaster of double-digit stock market losses last year MarketWatch\n",
            "03:21PMWhy Amazon Stock Had Trouble Gaining Ground on Wednesday Motley Fool\n",
            "01:44PMSalesforce layoffs suggest 'continued trimming' to come for Big Tech: analyst Yahoo Finance\n",
            "12:47PMGoogle and Facebooks dominance in digital ads challenged by rapid ascent of Amazon and TikTok MarketWatch\n",
            "12:21PMGoogle and Facebooks digital ad dominance challenged by rapid ascent of Amazon and TikTok MarketWatch\n",
            "12:13PM3 Amazon Stock Predictions for 2023 Motley Fool\n",
            "11:50AMAlphabet (GOOGL) to Boost YouTube TV With Multi-Screen Viewing Zacks\n",
            "11:30AMBetter Buy: Amazon Stock vs. Netflix Stock Motley Fool\n",
            "10:17AMWhy Tech Is a Wise Investment in an Economic Downturn Motley Fool\n",
            "10:00AMMy Favorite Tech Stocks for 2023 Motley Fool\n",
            "09:48AMStocks rise at open, Amazon and Microsoft stocks slip Yahoo Finance Video\n",
            "09:35AMRivian Misses Its 2022 Electric Vehicle Production Target Motley Fool\n",
            "09:16AMThe Best Warren Buffett Stocks to Buy With $300 Right Now Motley Fool\n",
            "09:15AM1 Smart Trick That'll Make You a Better Investor Instantly Motley Fool\n",
            "08:46AMCECO Environmental and Amazon have been highlighted as Zacks Bull and Bear of the Day Zacks\n",
            "08:20AMCould the Dow Jones Keep Outperforming the Nasdaq Composite in 2023? Motley Fool\n",
            "08:19AMAmazon secures $8B loan as it braces for more economic headwinds American City Business Journals\n",
            "08:03AMAmazon Bags $8B Loan To Beat Market Headwinds Benzinga\n",
            "07:31AM4 Beaten-Down Tech Stocks Poised to Rebound in 2023 Motley Fool\n",
            "07:13AMBear Of The Day: Amazon (AMZN) Zacks\n",
            "06:53AMWill Amazon.com (AMZN) Bounce Back? Insider Monkey\n",
            "06:45AMThis analyst who forecast a double-digit drop in stocks for 2022 now says Jeff Bezos may return to helm Amazon MarketWatch\n",
            "06:26AMI Asked an AI Chatbot About Investing -- and Was Surprised by Its Answers Motley Fool\n"
          ]
        }
      ],
      "source": [
        "# Iterate through the news\n",
        "parsed_news = []\n",
        "for file_name, news_table in news_tables.items():\n",
        "    for x in news_table.findAll('tr'):\n",
        "        print(x.get_text())\n",
        "        text = x.get_text() \n",
        "        date_scrape = x.td.text.split()\n",
        "\n",
        "        if len(date_scrape) == 1:\n",
        "            time = date_scrape[0]\n",
        "            \n",
        "        else:\n",
        "            date = date_scrape[0]\n",
        "            time = date_scrape[1]\n",
        "\n",
        "        ticker = file_name.split('_')[0]\n",
        "        \n",
        "        parsed_news.append([ticker, date, time, text ])"
      ]
    },
    {
      "cell_type": "code",
      "execution_count": 16,
      "metadata": {},
      "outputs": [],
      "source": [
        "from os import environ as env\n",
        "from dotenv import load_dotenv\n",
        "load_dotenv()\n",
        "key = env['key']"
      ]
    },
    {
      "cell_type": "code",
      "execution_count": 17,
      "metadata": {},
      "outputs": [],
      "source": [
        "class Init():\n",
        "    \"\"\"Class that initializes global value for the module. It also use general method to initialize value.\n",
        "     \"\"\"\n",
        "\n",
        "    def __init__(self):\n",
        "        \"\"\"Built-in method to inialize the global values for the module\n",
        "\n",
        "        Attributes\n",
        "        -------------------\n",
        "        `self.start.date` : str\n",
        "            start date of the training period. Must be within the last year for the free version of FinHub. Format\n",
        "            must be \"YYYY-mm-dd\"\n",
        "        `self.end_date` : str\n",
        "            end date of the training period. Format must be \"YYYY-mm-dd\"\n",
        "        `self.ticker` : list\n",
        "            tickers on which we want to perform the test. Can be one ticker in form of a list as well as a list\n",
        "            of tickers like the s&p 500.\n",
        "        `self.db_name` : str\n",
        "            name of the sqlite3 database\n",
        "        `self.dir_path` : str\n",
        "            directory where the data are saved. It takes into account the `self.start_date` and `self.end_date`\n",
        "        `self.start_date_` : datetime object\n",
        "            same thing as `start_date` but as a datetime object\n",
        "        `self.end_date_` : datetime object\n",
        "            same thing as `start_date` but as a datetime object\n",
        "        \"\"\"\n",
        "\n",
        "        #initialize value here\n",
        "        self.start_date = \"2020-02-10\"\n",
        "        self.end_date = \"2020-03-20\"\n",
        "        self.ticker = 'AAPL'\n",
        "\n",
        "        self.db_name = 'financial_data'\n",
        "        self.dir_path = os.path.dirname(os.path.realpath(__file__)) + '/output/' + self.start_date + '_' + \\\n",
        "                        self.end_date + '/'\n",
        "        Path(self.dir_path).mkdir(parents=True, exist_ok=True) #create new path if it doesn't exist\n",
        "        self.start_date_ = datetime.strptime(self.start_date, \"%Y-%m-%d\")  #datetime object\n",
        "        self.end_date_ = datetime.strptime(self.end_date, \"%Y-%m-%d\")    #datetime object\n",
        "        self.delta_date = abs((self.end_date_ - self.start_date_).days) #number of days between 2 dates\n",
        "\n",
        "        try:\n",
        "            self.start_date_ > self.end_date_\n",
        "        except:\n",
        "            print(\"'start_date' is after 'end_date'\")\n",
        "\n",
        "        try :\n",
        "            datetime.strptime(self.start_date, \"%Y-%m-%d\") <= (datetime.now()- relativedelta(years=1))\n",
        "        except:\n",
        "            print(\"'start_date' is older than 1 year. It doesn't work with the free version of FinHub\")"
      ]
    },
    {
      "cell_type": "code",
      "execution_count": 18,
      "metadata": {},
      "outputs": [],
      "source": [
        "class FinnHub():\n",
        "    \"\"\"Class to make API calls to FinnHub\"\"\"\n",
        "\n",
        "    def __init__(self,start_date,end_date,start_date_,end_date_,ticker,dir_path,db_name):\n",
        "        \"\"\" Class constructor\n",
        "\n",
        "        Parameters\n",
        "        ----------\n",
        "        `start_date` : str\n",
        "            Start date of the request. Must be within 1 year from now for must request\n",
        "            with the free version of FinHub\n",
        "        `end_date` : str\n",
        "            End date of the request.\n",
        "        `start_date_` : datetime object\n",
        "            Same thing as `start_date` but as a datetime object\n",
        "        `end_date_` : datetime object\n",
        "             Same thing as `start_date` but as a datetime object\n",
        "        `ticker` : str\n",
        "            Ticker symbol\n",
        "        `db_name` : str\n",
        "            Name of the sqlite database\n",
        "        `dir_path` : str\n",
        "            Directory  where our data will be stored\n",
        "\n",
        "        Attributes\n",
        "        ----------\n",
        "        `self.max_call` : int\n",
        "            maximum api calls per minute for the finhub API\n",
        "        `self.time_sleep` : int\n",
        "            seconds to sleep before making a new API call. Default is 60 seconds as the maximum number of API calls is\n",
        "            per minute\n",
        "        `self.nb_request` : int\n",
        "            nb of request made so far. Set to 0 in constructor `__init__` as we may loop through ticker\n",
        "            and want to avoid the variable to reset to 0 when exiting the wrapper `iterate_day()` (which could generate\n",
        "            an error)\n",
        "        `self.finhub_key` : str\n",
        "            finhub unique API key. Get yours here : https://finnhub.io/\n",
        "        `self.db_name : str\n",
        "            default file name for the sql database\n",
        "        \"\"\"\n",
        "\n",
        "        #Initialize attributes values here\n",
        "        self.max_call = 60\n",
        "        self.time_sleep = 60\n",
        "        self.nb_request = 0\n",
        "        self.finhub_key = config('FINHUB_KEY')\n",
        "        self.news_header = ['category', 'datetime','headline','id','image','related','source','summary','url']\n",
        "        self.start_date = start_date\n",
        "        self.end_date = end_date\n",
        "        self.ticker = ticker\n",
        "        self.ticker_request = ticker #different value because ticker like 'ALL' (All State) can generate error in SQLite\n",
        "                                    #database\n",
        "        self.dir_path = dir_path\n",
        "        self.db_name = db_name\n",
        "        self.js_data = []\n",
        "\n",
        "        self.start_date_ = start_date_ #datetime object\n",
        "        self.end_date_ = end_date_ #datetime object\n",
        "\n",
        "        #call the methods to access historical financial headlines\n",
        "        tickers = get_tickers()\n",
        "        for ticker_ in tickers:\n",
        "            self.ticker = ticker_ + '_'\n",
        "            self.ticker_request = ticker_\n",
        "            self.req_new()\n",
        "            self.create_table()\n",
        "            self.clean_table()\n",
        "            self.lang_review()"
      ]
    },
    {
      "cell_type": "code",
      "execution_count": 19,
      "metadata": {},
      "outputs": [],
      "source": [
        "def get_tickers():\n",
        "    \"\"\"Method that gets the stock symbols from companies listed in the S&P 500\n",
        "\n",
        "    Return\n",
        "    ------\n",
        "    `tickers` : list\n",
        "        S&P 500 company symbols\n",
        "    \"\"\"\n",
        "    resp = requests.get('http://en.wikipedia.org/wiki/List_of_S%26P_500_companies')\n",
        "    soup = bs.BeautifulSoup(resp.text, 'lxml')\n",
        "    table = soup.find_all('table')[0]  # Grab the first table\n",
        "\n",
        "    tickers = []\n",
        "    for row in table.findAll('tr')[1:]:\n",
        "        ticker = row.findAll('td')[0].text.strip('\\n')\n",
        "        tickers.append(ticker)\n",
        "\n",
        "    return tickers"
      ]
    },
    {
      "cell_type": "code",
      "execution_count": 20,
      "metadata": {},
      "outputs": [],
      "source": [
        "def iterate_day(func):\n",
        "    \"\"\" Decorator that makes the API call on FinHub each days between the `self.start_date`\n",
        "    and `self.end_date` \"\"\"\n",
        "\n",
        "    def wrapper_(self):\n",
        "        delta_date_ = delta_date(self.start_date,self.end_date)\n",
        "        date_ = self.start_date\n",
        "        date_obj = self.start_date_\n",
        "\n",
        "        for item in range(delta_date_ + 1):\n",
        "            self.nb_request +=1\n",
        "            func(self,date_)\n",
        "            date_obj = date_obj + relativedelta(days=1)\n",
        "            date_  = date_obj.strftime(\"%Y-%m-%d\")\n",
        "            if self.nb_request == (self.max_call-1):\n",
        "                time.sleep(self.time_sleep)\n",
        "                self.nb_request=0\n",
        "    return wrapper_\n",
        "\n",
        "@iterate_day\n",
        "def req_new(self,date_):\n",
        "    \"\"\" Method that makes news request(s) to the Finnhub API\"\"\"\n",
        "\n",
        "    request_ = requests.get('https://finnhub.io/api/v1/company-news?symbol=' + self.ticker_request + '&from=' +\n",
        "                            date_ + '&to=' + date_ + '&token=' + self.finhub_key)\n",
        "    self.js_data += request_.json()"
      ]
    },
    {
      "attachments": {},
      "cell_type": "markdown",
      "metadata": {},
      "source": [
        "# NewsAPI - Getting historic news data #"
      ]
    },
    {
      "cell_type": "code",
      "execution_count": 21,
      "metadata": {},
      "outputs": [],
      "source": [
        "from newsapi import NewsApiClient\n",
        "import sys\n",
        "from datetime import date, timedelta, datetime\n",
        "import os\n",
        "sia = SentimentIntensityAnalyzer()"
      ]
    },
    {
      "cell_type": "code",
      "execution_count": 22,
      "metadata": {},
      "outputs": [
        {
          "data": {
            "text/plain": [
              "'5026cc11681a4631852d15137e956c86'"
            ]
          },
          "execution_count": 22,
          "metadata": {},
          "output_type": "execute_result"
        }
      ],
      "source": [
        "#from os import environ as env\n",
        "#from dotenv import load_dotenv\n",
        "#load_dotenv()\n",
        "from decouple import config\n",
        "key = config('key')\n",
        "key"
      ]
    },
    {
      "cell_type": "code",
      "execution_count": 23,
      "metadata": {},
      "outputs": [
        {
          "name": "stderr",
          "output_type": "stream",
          "text": [
            "[nltk_data] Error loading vader-lexicon: Package 'vader-lexicon' not\n",
            "[nltk_data]     found in index\n"
          ]
        },
        {
          "data": {
            "text/plain": [
              "False"
            ]
          },
          "execution_count": 23,
          "metadata": {},
          "output_type": "execute_result"
        }
      ],
      "source": [
        "nltk.download('vader-lexicon')"
      ]
    },
    {
      "cell_type": "code",
      "execution_count": 24,
      "metadata": {},
      "outputs": [],
      "source": [
        "def get_sources(category = None):\n",
        "  newsapi = NewsApiClient(api_key=key)\n",
        "  sources = newsapi.get_sources()\n",
        "  if category is not None:\n",
        "    rez = [source['id'] for source in sources['sources'] if source['category'] == category and source['language'] == 'en']\n",
        "  else:\n",
        "    rez = [source['id'] for source in sources['sources'] if source['language'] == 'en']\n",
        "  \n",
        "  return rez"
      ]
    },
    {
      "cell_type": "code",
      "execution_count": 26,
      "metadata": {},
      "outputs": [
        {
          "data": {
            "text/plain": [
              "81"
            ]
          },
          "execution_count": 26,
          "metadata": {},
          "output_type": "execute_result"
        }
      ],
      "source": [
        "len(get_sources())"
      ]
    },
    {
      "cell_type": "code",
      "execution_count": 33,
      "metadata": {},
      "outputs": [
        {
          "data": {
            "text/plain": [
              "['australian-financial-review',\n",
              " 'bloomberg',\n",
              " 'business-insider',\n",
              " 'business-insider-uk',\n",
              " 'financial-post',\n",
              " 'fortune',\n",
              " 'the-wall-street-journal']"
            ]
          },
          "execution_count": 33,
          "metadata": {},
          "output_type": "execute_result"
        }
      ],
      "source": [
        "get_sources('business')"
      ]
    },
    {
      "cell_type": "code",
      "execution_count": 50,
      "metadata": {},
      "outputs": [
        {
          "name": "stdout",
          "output_type": "stream",
          "text": [
            "{'status': 'ok', 'totalResults': 0, 'articles': []}\n"
          ]
        }
      ],
      "source": [
        "def get_articles(keyword, startDate, sources_list = None):\n",
        "    newsapi = NewsApiClient(api_key=key)\n",
        "    if type(startDate) == str:\n",
        "        my_date = datetime.strptime(startDate, '%d-%b-%Y')\n",
        "    else:\n",
        "        my_date = startDate\n",
        "\n",
        "    if sources_list:\n",
        "        articles = newsapi.get_everything(q = keyword, from_param = my_date.isoformat(), to = (my_date + timedelta(days = 1)).isoformat(), language=\"en\", sources = \",\".join(sources_list), sort_by=\"relevancy\", page_size = 100)\n",
        "    else:\n",
        "        articles = newsapi.get_everything(q = keyword, from_param = my_date.isoformat(),to = (my_date + timedelta(days = 1)).isoformat(), language=\"en\", sort_by=\"relevancy\", page_size = 100)\n",
        "    print(articles)   \n",
        "\n",
        "get_articles('AMZN', '07-Dec-2022', sources_list=get_sources('business')) "
      ]
    },
    {
      "cell_type": "code",
      "execution_count": 51,
      "metadata": {},
      "outputs": [],
      "source": [
        "def get_articles_sentiments(keywrd, startd, sources_list = None, show_all_articles = False):\n",
        "  newsapi = NewsApiClient(api_key=key)\n",
        "  if type(startd)== str :\n",
        "    my_date = datetime.strptime(startd,'%d-%b-%Y')\n",
        "  else:\n",
        "    my_date = startd\n",
        "  #If the sources list is provided - use it\n",
        "  if sources_list:\n",
        "    articles = newsapi.get_everything(q = keywrd, from_param = my_date.isoformat(), to = (my_date + timedelta(days = 1)).isoformat(), language=\"en\", sources = \",\".join(sources_list), sort_by=\"relevancy\", page_size = 100)\n",
        "  else:\n",
        "    articles = newsapi.get_everything(q = keywrd, from_param = my_date.isoformat(),to = (my_date + timedelta(days = 1)).isoformat(), language=\"en\", sort_by=\"relevancy\", page_size = 100)\n",
        "  print(articles)\n",
        "  article_content = ''\n",
        "  date_sentiments = {}\n",
        "  date_sentiments_list = []\n",
        "  seen = set()\n",
        "  for article in articles['articles']:\n",
        "    if str(article['title']) in seen:\n",
        "      continue\n",
        "    else:\n",
        "      seen.add(str(article['title']))\n",
        "    article_content = str(article['title']) + '. ' + str(article['description'])\n",
        "    #Get the sentiment score\n",
        "    sentiment = sia.polarity_scores(article_content)['compound']\n",
        "  \n",
        "    date_sentiments.setdefault(my_date, []).append(sentiment)\n",
        "    date_sentiments_list.append((sentiment, article['url'], article['title'],article['description']))\n",
        "    date_sentiments_l = sorted(date_sentiments_list, key = lambda tup: tup[0],reverse = True)\n",
        "    sent_list = list(date_sentiments.values())[0]\n",
        "    #Return a dataframe with all sentiment scores and articles  \n",
        "    return pd.DataFrame(date_sentiments_list, columns=['Sentiment','URL','Title','Description'])"
      ]
    },
    {
      "cell_type": "code",
      "execution_count": 53,
      "metadata": {},
      "outputs": [
        {
          "name": "stdout",
          "output_type": "stream",
          "text": [
            "0.3818\n",
            "1\n",
            "0    Here are the top 10 searched stocks by subscri...\n",
            "Name: Description, dtype: object\n"
          ]
        },
        {
          "data": {
            "image/png": "[encoded data removed]",
            "text/plain": [
              "<Figure size 640x480 with 1 Axes>"
            ]
          },
          "metadata": {},
          "output_type": "display_data"
        }
      ],
      "source": [
        "return_articles = get_articles_sentiments(keywrd= 'AMZN', startd = '07-Dec-2022', sources_list = None, show_all_articles= True)\n",
        "return_articles.Sentiment.hist(bins=30,grid=False)\n",
        "\n",
        "print(return_articles.Sentiment.mean())\n",
        "print(return_articles.Sentiment.count())\n",
        "print(return_articles.Description)"
      ]
    },
    {
      "cell_type": "code",
      "execution_count": 47,
      "metadata": {},
      "outputs": [
        {
          "data": {
            "text/html": [
              "<div>\n",
              "<style scoped>\n",
              "    .dataframe tbody tr th:only-of-type {\n",
              "        vertical-align: middle;\n",
              "    }\n",
              "\n",
              "    .dataframe tbody tr th {\n",
              "        vertical-align: top;\n",
              "    }\n",
              "\n",
              "    .dataframe thead th {\n",
              "        text-align: right;\n",
              "    }\n",
              "</style>\n",
              "<table border=\"1\" class=\"dataframe\">\n",
              "  <thead>\n",
              "    <tr style=\"text-align: right;\">\n",
              "      <th></th>\n",
              "      <th>Sentiment</th>\n",
              "      <th>URL</th>\n",
              "    </tr>\n",
              "  </thead>\n",
              "  <tbody>\n",
              "    <tr>\n",
              "      <th>0</th>\n",
              "      <td>0.3818</td>\n",
              "      <td>https://www.marketbeat.com/originals/top-10-se...</td>\n",
              "    </tr>\n",
              "  </tbody>\n",
              "</table>\n",
              "</div>"
            ],
            "text/plain": [
              "   Sentiment                                                URL\n",
              "0     0.3818  https://www.marketbeat.com/originals/top-10-se..."
            ]
          },
          "execution_count": 47,
          "metadata": {},
          "output_type": "execute_result"
        }
      ],
      "source": [
        "return_articles.sort_values(by='Sentiment', ascending=True)[['Sentiment','URL']].head(2)"
      ]
    },
    {
      "attachments": {},
      "cell_type": "markdown",
      "metadata": {},
      "source": [
        "# Trying AlphaAdvantage #"
      ]
    },
    {
      "cell_type": "code",
      "execution_count": 55,
      "metadata": {},
      "outputs": [
        {
          "name": "stdout",
          "output_type": "stream",
          "text": [
            "{'items': '50', 'sentiment_score_definition': 'x <= -0.35: Bearish; -0.35 < x <= -0.15: Somewhat-Bearish; -0.15 < x < 0.15: Neutral; 0.15 <= x < 0.35: Somewhat_Bullish; x >= 0.35: Bullish', 'relevance_score_definition': '0 < x <= 1, with a higher score indicating higher relevance.', 'feed': [{'title': \"Why Apple Stock Was the Apple of Investors' Eyes Today\", 'url': 'https://www.fool.com/investing/2023/01/06/why-apple-stock-was-the-apple-of-investors-eyes-to/', 'time_published': '20230106T234311', 'authors': ['Eric Volkman'], 'summary': 'Bargain hunters and optimistic analysts brought the bulls back at the end of the week.', 'banner_image': 'https://g.foolcdn.com/image/?url=https%3A%2F%2Fg.foolcdn.com%2Feditorial%2Fimages%2F715511%2Frobot-with-laptop-counting-coins-by-a-window-with-skyscraper-view.jpg&op=resize&h=340', 'source': 'Motley Fool', 'category_within_source': 'n/a', 'source_domain': 'www.fool.com', 'topics': [{'topic': 'Technology', 'relevance_score': '0.333333'}, {'topic': 'Finance', 'relevance_score': '0.333333'}, {'topic': 'Manufacturing', 'relevance_score': '0.333333'}], 'overall_sentiment_score': 0.246836, 'overall_sentiment_label': 'Somewhat-Bullish', 'ticker_sentiment': [{'ticker': 'QCOM', 'relevance_score': '0.139265', 'ticker_sentiment_score': '-0.031458', 'ticker_sentiment_label': 'Neutral'}, {'ticker': 'AAPL', 'relevance_score': '0.619618', 'ticker_sentiment_score': '0.243335', 'ticker_sentiment_label': 'Somewhat-Bullish'}, {'ticker': 'MS', 'relevance_score': '0.139265', 'ticker_sentiment_score': '0.051592', 'ticker_sentiment_label': 'Neutral'}]}, {'title': \"FTC's proposed ban on noncompete agreements could have biggest impact on tech industry\", 'url': 'https://www.marketwatch.com/story/ftcs-proposed-ban-on-noncompete-agreements-could-have-biggest-impact-on-tech-industry-11673045975', 'time_published': '20230106T225900', 'authors': ['Levi Sumagaysay'], 'summary': 'A proposed FTC ban on noncompete agreements would apply across all industries and income levels, but could have the biggest impact on the tech industry.', 'banner_image': 'https://images.mktw.net/im-698795/social', 'source': 'MarketWatch', 'category_within_source': 'Top Stories', 'source_domain': 'www.marketwatch.com', 'topics': [{'topic': 'Technology', 'relevance_score': '0.5'}, {'topic': 'Manufacturing', 'relevance_score': '0.5'}], 'overall_sentiment_score': 0.036423, 'overall_sentiment_label': 'Neutral', 'ticker_sentiment': [{'ticker': 'GOOG', 'relevance_score': '0.125679', 'ticker_sentiment_score': '0.024105', 'ticker_sentiment_label': 'Neutral'}, {'ticker': 'META', 'relevance_score': '0.08398', 'ticker_sentiment_score': '0.027133', 'ticker_sentiment_label': 'Neutral'}, {'ticker': 'AAPL', 'relevance_score': '0.125679', 'ticker_sentiment_score': '0.024105', 'ticker_sentiment_label': 'Neutral'}, {'ticker': 'INTC', 'relevance_score': '0.167032', 'ticker_sentiment_score': '-0.035622', 'ticker_sentiment_label': 'Neutral'}]}, {'title': 'How to Invest in Tech ETFs', 'url': 'https://www.fool.com/investing/stock-market/market-sectors/information-technology/tech-etfs/', 'time_published': '20230106T225343', 'authors': ['Matthew Frankel', 'CFP'], 'summary': \"Here's how to get tech exposure without the single-stock risk.\", 'banner_image': 'https://m.foolcdn.com/media/dubs/images/Internet-of-things.width-880.jpg', 'source': 'Motley Fool', 'category_within_source': 'n/a', 'source_domain': 'www.fool.com', 'topics': [{'topic': 'Retail & Wholesale', 'relevance_score': '0.25'}, {'topic': 'Financial Markets', 'relevance_score': '1.0'}, {'topic': 'Manufacturing', 'relevance_score': '0.25'}, {'topic': 'Technology', 'relevance_score': '0.25'}, {'topic': 'Finance', 'relevance_score': '0.25'}], 'overall_sentiment_score': 0.132667, 'overall_sentiment_label': 'Neutral', 'ticker_sentiment': [{'ticker': 'AMAT', 'relevance_score': '0.068995', 'ticker_sentiment_score': '0.012141', 'ticker_sentiment_label': 'Neutral'}, {'ticker': 'NVDA', 'relevance_score': '0.137474', 'ticker_sentiment_score': '0.057202', 'ticker_sentiment_label': 'Neutral'}, {'ticker': 'ROKU', 'relevance_score': '0.068995', 'ticker_sentiment_score': '0.035401', 'ticker_sentiment_label': 'Neutral'}, {'ticker': 'AAPL', 'relevance_score': '0.204936', 'ticker_sentiment_score': '0.075036', 'ticker_sentiment_label': 'Neutral'}, {'ticker': 'AVGO', 'relevance_score': '0.03453', 'ticker_sentiment_score': '0.059577', 'ticker_sentiment_label': 'Neutral'}, {'ticker': 'JNPR', 'relevance_score': '0.03453', 'ticker_sentiment_score': '0.059577', 'ticker_sentiment_label': 'Neutral'}, {'ticker': 'EXAS', 'relevance_score': '0.068995', 'ticker_sentiment_score': '0.035401', 'ticker_sentiment_label': 'Neutral'}, {'ticker': 'HPQ', 'relevance_score': '0.03453', 'ticker_sentiment_score': '0.081855', 'ticker_sentiment_label': 'Neutral'}, {'ticker': 'BAH', 'relevance_score': '0.068995', 'ticker_sentiment_score': '0.012141', 'ticker_sentiment_label': 'Neutral'}, {'ticker': 'TXN', 'relevance_score': '0.03453', 'ticker_sentiment_score': '0.059577', 'ticker_sentiment_label': 'Neutral'}, {'ticker': 'IVZ', 'relevance_score': '0.103331', 'ticker_sentiment_score': '0.092389', 'ticker_sentiment_label': 'Neutral'}, {'ticker': 'TSM', 'relevance_score': '0.03453', 'ticker_sentiment_score': '-0.132381', 'ticker_sentiment_label': 'Neutral'}, {'ticker': 'MSFT', 'relevance_score': '0.103331', 'ticker_sentiment_score': '0.050357', 'ticker_sentiment_label': 'Neutral'}, {'ticker': 'TSLA', 'relevance_score': '0.103331', 'ticker_sentiment_score': '0.03852', 'ticker_sentiment_label': 'Neutral'}, {'ticker': 'ZM', 'relevance_score': '0.068995', 'ticker_sentiment_score': '0.035401', 'ticker_sentiment_label': 'Neutral'}, {'ticker': 'AMZN', 'relevance_score': '0.068995', 'ticker_sentiment_score': '0.035401', 'ticker_sentiment_label': 'Neutral'}, {'ticker': 'SQ', 'relevance_score': '0.137474', 'ticker_sentiment_score': '0.043842', 'ticker_sentiment_label': 'Neutral'}, {'ticker': 'PANW', 'relevance_score': '0.068995', 'ticker_sentiment_score': '0.012141', 'ticker_sentiment_label': 'Neutral'}]}, {'title': '3 Top Tech Stocks to Buy in January', 'url': 'https://www.fool.com/investing/2023/01/06/3-top-tech-stocks-to-buy-in-january/', 'time_published': '20230106T223300', 'authors': ['Keith Noonan'], 'summary': 'Down between 59% and 80%, these growth stocks are great buys this month.', 'banner_image': 'https://g.foolcdn.com/image/?url=https%3A%2F%2Fg.foolcdn.com%2Feditorial%2Fimages%2F714989%2Fholiday-carriage-with-bag-of-money.jpg&op=resize&w=700', 'source': 'Motley Fool', 'category_within_source': 'n/a', 'source_domain': 'www.fool.com', 'topics': [{'topic': 'Earnings', 'relevance_score': '0.538269'}, {'topic': 'Technology', 'relevance_score': '1.0'}, {'topic': 'Financial Markets', 'relevance_score': '0.316726'}], 'overall_sentiment_score': 0.364817, 'overall_sentiment_label': 'Bullish', 'ticker_sentiment': [{'ticker': 'MSFT', 'relevance_score': '0.047185', 'ticker_sentiment_score': '0.054897', 'ticker_sentiment_label': 'Neutral'}, {'ticker': 'META', 'relevance_score': '0.1871', 'ticker_sentiment_score': '0.168196', 'ticker_sentiment_label': 'Somewhat-Bullish'}, {'ticker': 'AAPL', 'relevance_score': '0.047185', 'ticker_sentiment_score': '0.004996', 'ticker_sentiment_label': 'Neutral'}, {'ticker': 'ABNB', 'relevance_score': '0.232661', 'ticker_sentiment_score': '0.495493', 'ticker_sentiment_label': 'Bullish'}, {'ticker': 'NET', 'relevance_score': '0.1871', 'ticker_sentiment_score': '0.156697', 'ticker_sentiment_label': 'Somewhat-Bullish'}]}, {'title': '1 Warren Buffett Stock Down 27% to Buy in 2023', 'url': 'https://www.fool.com/investing/2023/01/06/1-warren-buffett-stock-down-27-to-buy-in-2023/', 'time_published': '20230106T221500', 'authors': ['Dani Cook'], 'summary': 'Apple stock tumbled in 2022, but that has only made it more attractive.', 'banner_image': 'https://g.foolcdn.com/image/?url=https%3A%2F%2Fg.foolcdn.com%2Feditorial%2Fimages%2F715253%2F23_01_04-a-person-celebrating-in-front-of-a-computer-_mf-dload.jpg&op=resize&h=340', 'source': 'Motley Fool', 'category_within_source': 'n/a', 'source_domain': 'www.fool.com', 'topics': [{'topic': 'Economy - Monetary', 'relevance_score': '0.158519'}, {'topic': 'Financial Markets', 'relevance_score': '0.365926'}, {'topic': 'Earnings', 'relevance_score': '0.905476'}, {'topic': 'Technology', 'relevance_score': '0.5'}, {'topic': 'Finance', 'relevance_score': '0.5'}], 'overall_sentiment_score': 0.366179, 'overall_sentiment_label': 'Bullish', 'ticker_sentiment': [{'ticker': 'AAPL', 'relevance_score': '0.658507', 'ticker_sentiment_score': '0.576949', 'ticker_sentiment_label': 'Bullish'}, {'ticker': 'BRK-A', 'relevance_score': '0.05833', 'ticker_sentiment_score': '0.176113', 'ticker_sentiment_label': 'Somewhat-Bullish'}]}, {'title': 'Verizon shares log best six-day stretch since 2020', 'url': 'https://www.marketwatch.com/story/verizon-shares-log-best-six-day-stretch-since-2020-11673042388', 'time_published': '20230106T215900', 'authors': ['Emily Bary'], 'summary': \"The new year is bringing new momentum for Verizon Communications Inc.'s stock.\", 'banner_image': 'https://images.mktw.net/im-247964/social', 'source': 'MarketWatch', 'category_within_source': 'Top Stories', 'source_domain': 'www.marketwatch.com', 'topics': [{'topic': 'Financial Markets', 'relevance_score': '0.266143'}, {'topic': 'Earnings', 'relevance_score': '0.538269'}, {'topic': 'Technology', 'relevance_score': '0.5'}, {'topic': 'Finance', 'relevance_score': '0.5'}], 'overall_sentiment_score': 0.228846, 'overall_sentiment_label': 'Somewhat-Bullish', 'ticker_sentiment': [{'ticker': 'TMUS', 'relevance_score': '0.206685', 'ticker_sentiment_score': '-0.123614', 'ticker_sentiment_label': 'Neutral'}, {'ticker': 'AAPL', 'relevance_score': '0.206685', 'ticker_sentiment_score': '0.108199', 'ticker_sentiment_label': 'Neutral'}, {'ticker': 'C', 'relevance_score': '0.30569', 'ticker_sentiment_score': '0.217767', 'ticker_sentiment_label': 'Somewhat-Bullish'}, {'ticker': 'VZ', 'relevance_score': '0.487546', 'ticker_sentiment_score': '-0.015892', 'ticker_sentiment_label': 'Neutral'}]}, {'title': 'Top 6 Electric Vehicle  ( EV )  ETFs in 2023', 'url': 'https://www.fool.com/investing/stock-market/market-sectors/consumer-discretionary/automotive-stocks/electric-vehicle-etfs/', 'time_published': '20230106T215852', 'authors': ['Matthew DiLallo'], 'summary': 'These ETFs allow investors to bet on EVs without picking individual stocks.', 'banner_image': 'https://m.foolcdn.com/media/dubs/images/original_imageshttpsg.foolcdn.comeditorialimag.width-880_bmJ5stE.jpg', 'source': 'Motley Fool', 'category_within_source': 'n/a', 'source_domain': 'www.fool.com', 'topics': [{'topic': 'Life Sciences', 'relevance_score': '0.25'}, {'topic': 'Retail & Wholesale', 'relevance_score': '0.25'}, {'topic': 'Financial Markets', 'relevance_score': '0.999999'}, {'topic': 'Manufacturing', 'relevance_score': '0.25'}, {'topic': 'Technology', 'relevance_score': '0.25'}], 'overall_sentiment_score': 0.190829, 'overall_sentiment_label': 'Somewhat-Bullish', 'ticker_sentiment': [{'ticker': 'NVDA', 'relevance_score': '0.131463', 'ticker_sentiment_score': '0.079242', 'ticker_sentiment_label': 'Neutral'}, {'ticker': 'AAPL', 'relevance_score': '0.290415', 'ticker_sentiment_score': '0.140105', 'ticker_sentiment_label': 'Neutral'}, {'ticker': 'GNENY', 'relevance_score': '0.033006', 'ticker_sentiment_score': '0.101952', 'ticker_sentiment_label': 'Neutral'}, {'ticker': 'GM', 'relevance_score': '0.065957', 'ticker_sentiment_score': '0.09723', 'ticker_sentiment_label': 'Neutral'}, {'ticker': 'ASPN', 'relevance_score': '0.033006', 'ticker_sentiment_score': '0.07843', 'ticker_sentiment_label': 'Neutral'}, {'ticker': 'APTV', 'relevance_score': '0.033006', 'ticker_sentiment_score': '-0.149055', 'ticker_sentiment_label': 'Neutral'}, {'ticker': 'TSM', 'relevance_score': '0.065957', 'ticker_sentiment_score': '-0.154926', 'ticker_sentiment_label': 'Somewhat-Bearish'}, {'ticker': 'MSFT', 'relevance_score': '0.098794', 'ticker_sentiment_score': '0.070686', 'ticker_sentiment_label': 'Neutral'}, {'ticker': 'TSLA', 'relevance_score': '0.290415', 'ticker_sentiment_score': '0.140105', 'ticker_sentiment_label': 'Neutral'}, {'ticker': 'NIO', 'relevance_score': '0.065957', 'ticker_sentiment_score': '0.029151', 'ticker_sentiment_label': 'Neutral'}, {'ticker': 'VWAGY', 'relevance_score': '0.033006', 'ticker_sentiment_score': '-0.149055', 'ticker_sentiment_label': 'Neutral'}, {'ticker': 'ALB', 'relevance_score': '0.065957', 'ticker_sentiment_score': '0.107305', 'ticker_sentiment_label': 'Neutral'}, {'ticker': 'AMD', 'relevance_score': '0.065957', 'ticker_sentiment_score': '0.056324', 'ticker_sentiment_label': 'Neutral'}, {'ticker': 'LI', 'relevance_score': '0.033006', 'ticker_sentiment_score': '0.07843', 'ticker_sentiment_label': 'Neutral'}]}, {'title': 'CES 2023: AMD, Nvidia, auto applications get the hype, but analysts say this one chip maker ruled', 'url': 'https://www.marketwatch.com/story/ces-2023-amd-nvidia-auto-applications-get-the-hype-but-analysts-say-this-one-chip-maker-ruled-11673040821', 'time_published': '20230106T213300', 'authors': ['Wallace Witkowski'], 'summary': 'As CES 2023 draws to a close this weekend much of the attention in the chip world was lauded on companies like Advanced Micro Devices Inc. and Nvidia Corp. but a lower profile chip maker appears better positioned coming out of the convention.', 'banner_image': 'https://images.mktw.net/im-698987/social', 'source': 'MarketWatch', 'category_within_source': 'Top Stories', 'source_domain': 'www.marketwatch.com', 'topics': [{'topic': 'Manufacturing', 'relevance_score': '0.333333'}, {'topic': 'Earnings', 'relevance_score': '0.161647'}, {'topic': 'Technology', 'relevance_score': '0.333333'}, {'topic': 'Finance', 'relevance_score': '0.333333'}], 'overall_sentiment_score': 0.050211, 'overall_sentiment_label': 'Neutral', 'ticker_sentiment': [{'ticker': 'META', 'relevance_score': '0.136888', 'ticker_sentiment_score': '-0.039587', 'ticker_sentiment_label': 'Neutral'}, {'ticker': 'NVDA', 'relevance_score': '0.181819', 'ticker_sentiment_score': '-0.064162', 'ticker_sentiment_label': 'Neutral'}, {'ticker': 'AAPL', 'relevance_score': '0.091509', 'ticker_sentiment_score': '0.03006', 'ticker_sentiment_label': 'Neutral'}, {'ticker': 'C', 'relevance_score': '0.04583', 'ticker_sentiment_score': '0.210209', 'ticker_sentiment_label': 'Somewhat-Bullish'}, {'ticker': 'AMBA', 'relevance_score': '0.181819', 'ticker_sentiment_score': '0.079417', 'ticker_sentiment_label': 'Neutral'}, {'ticker': 'ADI', 'relevance_score': '0.091509', 'ticker_sentiment_score': '0.055601', 'ticker_sentiment_label': 'Neutral'}, {'ticker': 'HYMLF', 'relevance_score': '0.04583', 'ticker_sentiment_score': '0.028407', 'ticker_sentiment_label': 'Neutral'}, {'ticker': 'MS', 'relevance_score': '0.04583', 'ticker_sentiment_score': '0.082321', 'ticker_sentiment_label': 'Neutral'}, {'ticker': 'AMD', 'relevance_score': '0.181819', 'ticker_sentiment_score': '0.07157', 'ticker_sentiment_label': 'Neutral'}, {'ticker': 'CTTAF', 'relevance_score': '0.04583', 'ticker_sentiment_score': '0.044764', 'ticker_sentiment_label': 'Neutral'}, {'ticker': 'ON', 'relevance_score': '0.04583', 'ticker_sentiment_score': '0.1712', 'ticker_sentiment_label': 'Somewhat-Bullish'}]}, {'title': \"Dow Jones Rallies On This; Tesla Stock Fights Back, Elon Musk Jokes; WWE Stock 'Gorilla Presses' Higher\", 'url': 'https://www.investors.com/market-trend/stock-market-today/dow-jones-rallies-on-this-tesla-stock-fights-back-elon-musk-jokes-wwe-stock-vince-mcmahon-return-world-wrestling-entertainment/', 'time_published': '20230106T212200', 'authors': [\"Investor's Business Daily\", 'MICHAEL LARKIN'], 'summary': \"Dow Jones Rallies On This. Tesla Stock Fights Back, Elon Musk ... Investor's Business Daily ...\", 'banner_image': 'https://www.investors.com/wp-content/uploads/2020/06/Stock-musktesla-03-shutt.jpg', 'source': 'Investors Business Daily', 'category_within_source': 'n/a', 'source_domain': 'www.investors.com', 'topics': [{'topic': 'Life Sciences', 'relevance_score': '0.2'}, {'topic': 'Energy & Transportation', 'relevance_score': '0.2'}, {'topic': 'Technology', 'relevance_score': '0.2'}, {'topic': 'Economy - Monetary', 'relevance_score': '0.158519'}, {'topic': 'Retail & Wholesale', 'relevance_score': '0.2'}, {'topic': 'Financial Markets', 'relevance_score': '0.989041'}, {'topic': 'Manufacturing', 'relevance_score': '0.2'}, {'topic': 'Earnings', 'relevance_score': '0.495866'}], 'overall_sentiment_score': 0.265002, 'overall_sentiment_label': 'Somewhat-Bullish', 'ticker_sentiment': [{'ticker': 'AAPL', 'relevance_score': '0.164749', 'ticker_sentiment_score': '0.261128', 'ticker_sentiment_label': 'Somewhat-Bullish'}, {'ticker': 'COST', 'relevance_score': '0.08282', 'ticker_sentiment_score': '0.472221', 'ticker_sentiment_label': 'Bullish'}, {'ticker': 'TSLA', 'relevance_score': '0.164749', 'ticker_sentiment_score': '0.009782', 'ticker_sentiment_label': 'Neutral'}, {'ticker': 'WWE', 'relevance_score': '0.164749', 'ticker_sentiment_score': '0.068805', 'ticker_sentiment_label': 'Neutral'}, {'ticker': 'INTC', 'relevance_score': '0.123951', 'ticker_sentiment_score': '0.227218', 'ticker_sentiment_label': 'Somewhat-Bullish'}, {'ticker': 'CAT', 'relevance_score': '0.123951', 'ticker_sentiment_score': '0.431544', 'ticker_sentiment_label': 'Bullish'}, {'ticker': 'RIO', 'relevance_score': '0.164749', 'ticker_sentiment_score': '0.318179', 'ticker_sentiment_label': 'Somewhat-Bullish'}, {'ticker': 'BA', 'relevance_score': '0.08282', 'ticker_sentiment_score': '0.246376', 'ticker_sentiment_label': 'Somewhat-Bullish'}, {'ticker': 'BIIB', 'relevance_score': '0.08282', 'ticker_sentiment_score': '0.138102', 'ticker_sentiment_label': 'Neutral'}, {'ticker': 'ODFL', 'relevance_score': '0.08282', 'ticker_sentiment_score': '0.213312', 'ticker_sentiment_label': 'Somewhat-Bullish'}]}, {'title': \"No one's having fun in the stock market these days, and that might be a sign that a bottom is near\", 'url': 'https://www.marketwatch.com/story/no-ones-having-fun-in-the-stock-market-these-days-and-that-might-be-a-sign-that-a-bottom-is-near-11673039353', 'time_published': '20230106T210900', 'authors': ['Cody Willard'], 'summary': 'When apathy sets in, it will be time to begin buying tech stocks again.', 'banner_image': 'https://images.mktw.net/im-698796?width=700&height=535', 'source': 'MarketWatch', 'category_within_source': 'Top Stories', 'source_domain': 'www.marketwatch.com', 'topics': [{'topic': 'Economy - Monetary', 'relevance_score': '0.158519'}, {'topic': 'IPO', 'relevance_score': '0.158519'}, {'topic': 'Financial Markets', 'relevance_score': '0.891286'}, {'topic': 'Manufacturing', 'relevance_score': '0.5'}, {'topic': 'Technology', 'relevance_score': '0.5'}], 'overall_sentiment_score': 0.062816, 'overall_sentiment_label': 'Neutral', 'ticker_sentiment': [{'ticker': 'GOOG', 'relevance_score': '0.130926', 'ticker_sentiment_score': '-0.099458', 'ticker_sentiment_label': 'Neutral'}, {'ticker': 'META', 'relevance_score': '0.195287', 'ticker_sentiment_score': '-0.128642', 'ticker_sentiment_label': 'Neutral'}, {'ticker': 'NVDA', 'relevance_score': '0.130926', 'ticker_sentiment_score': '0.06292', 'ticker_sentiment_label': 'Neutral'}, {'ticker': 'AAPL', 'relevance_score': '0.319725', 'ticker_sentiment_score': '0.082253', 'ticker_sentiment_label': 'Neutral'}, {'ticker': 'CRYPTO:BTC', 'relevance_score': '0.130926', 'ticker_sentiment_score': '-0.099458', 'ticker_sentiment_label': 'Neutral'}]}, {'title': 'SQ: Does Block Stock Deserve a Spot in Your Portfolio in 2023?', 'url': 'https://stocknews.com/news/sq-mtg-forr-spfi-does-block-stock-deserve-a-spot-in-your-portfolio-in/', 'time_published': '20230106T202835', 'authors': [], 'summary': 'Block ( SQ ) is a technology company that creates tools to enable businesses, sellers, and individuals to participate in the digital economy. The company operates through two segments: Square and Cash App. Despite losing 54.9% over the past year, the stock is currently trading above its ...', 'banner_image': 'https://stocknews.com/wp-content/uploads/2022/06/shutterstock_174273320-scaled.jpg', 'source': 'Stocknews.com', 'category_within_source': 'n/a', 'source_domain': 'stocknews.com', 'topics': [{'topic': 'Financial Markets', 'relevance_score': '0.5855'}, {'topic': 'Earnings', 'relevance_score': '0.976913'}, {'topic': 'Technology', 'relevance_score': '0.5'}, {'topic': 'Finance', 'relevance_score': '0.5'}], 'overall_sentiment_score': 0.012065, 'overall_sentiment_label': 'Neutral', 'ticker_sentiment': [{'ticker': 'FORR', 'relevance_score': '0.12165', 'ticker_sentiment_score': '0.007011', 'ticker_sentiment_label': 'Neutral'}, {'ticker': 'MTG', 'relevance_score': '0.12165', 'ticker_sentiment_score': '0.007011', 'ticker_sentiment_label': 'Neutral'}, {'ticker': 'AAPL', 'relevance_score': '0.12165', 'ticker_sentiment_score': '-0.095585', 'ticker_sentiment_label': 'Neutral'}, {'ticker': 'AFRM', 'relevance_score': '0.12165', 'ticker_sentiment_score': '-0.095585', 'ticker_sentiment_label': 'Neutral'}, {'ticker': 'SPFI', 'relevance_score': '0.12165', 'ticker_sentiment_score': '0.007011', 'ticker_sentiment_label': 'Neutral'}, {'ticker': 'SQ', 'relevance_score': '0.555911', 'ticker_sentiment_score': '0.18137', 'ticker_sentiment_label': 'Somewhat-Bullish'}]}, {'title': 'Global Digital Gift Card Market Report 2022 to 2031 - Featuring Apple, Blackhawk Network Holdings, Fiserv and InComm Payments Among Others', 'url': 'https://www.prnewswire.com/news-releases/global-digital-gift-card-market-report-2022-to-2031---featuring-apple-blackhawk-network-holdings-fiserv-and-incomm-payments-among-others-301715328.html', 'time_published': '20230106T200000', 'authors': ['Research and Markets'], 'summary': 'Global Digital Gift Card Market Report 2022 to 2031 - Featuring ... PR ...', 'banner_image': 'https://mma.prnewswire.com/media/539438/Research_and_Markets_Logo.jpg?p=facebook', 'source': 'PR Newswire', 'category_within_source': 'n/a', 'source_domain': 'www.prnewswire.com', 'topics': [{'topic': 'Economy - Monetary', 'relevance_score': '0.158519'}, {'topic': 'Retail & Wholesale', 'relevance_score': '0.333333'}, {'topic': 'Technology', 'relevance_score': '0.333333'}, {'topic': 'Finance', 'relevance_score': '0.333333'}, {'topic': 'Blockchain', 'relevance_score': '0.158519'}], 'overall_sentiment_score': 0.357569, 'overall_sentiment_label': 'Bullish', 'ticker_sentiment': [{'ticker': 'PYPL', 'relevance_score': '0.036756', 'ticker_sentiment_score': '0.101767', 'ticker_sentiment_label': 'Neutral'}, {'ticker': 'GOOG', 'relevance_score': '0.036756', 'ticker_sentiment_score': '0.226142', 'ticker_sentiment_label': 'Somewhat-Bullish'}, {'ticker': 'AAPL', 'relevance_score': '0.036756', 'ticker_sentiment_score': '0.101767', 'ticker_sentiment_label': 'Neutral'}, {'ticker': 'FISV', 'relevance_score': '0.036756', 'ticker_sentiment_score': '0.101767', 'ticker_sentiment_label': 'Neutral'}, {'ticker': 'BBY', 'relevance_score': '0.036756', 'ticker_sentiment_score': '0.226142', 'ticker_sentiment_label': 'Somewhat-Bullish'}, {'ticker': 'AXP', 'relevance_score': '0.036756', 'ticker_sentiment_score': '0.101767', 'ticker_sentiment_label': 'Neutral'}, {'ticker': 'WMT', 'relevance_score': '0.036756', 'ticker_sentiment_score': '0.101767', 'ticker_sentiment_label': 'Neutral'}]}, {'title': \"Qualcomm Satellite Messaging Partnership Likely To Trigger Iridium's Revenue Stream, Analyst Says - Iridium Comms  ( NASDAQ:IRDM ) , Qualcomm  ( NASDAQ:QCOM ) \", 'url': 'https://www.benzinga.com/analyst-ratings/analyst-color/23/01/30313958/qualcomm-satellite-messaging-partnership-likely-to-trigger-iridiums-revenue-stream-', 'time_published': '20230106T184329', 'authors': ['Anusuya Lahiri'], 'summary': \"Qualcomm Inc QCOM has been the previously unnamed partner in Iridium Communications Inc's IRDM smartphone Technology Development Agreement and Service Provider Agreement. Snapdragon Satellite will be a satellite-based, two-way capable messaging solution for next-generation premium Android ...\", 'banner_image': 'https://cdn.benzinga.com/files/images/story/2023/01/06/irdm_logo_light__bdfaa8d8d3f4946cfe06b317a628198c.png?width=1200&height=800&fit=crop', 'source': 'Benzinga', 'category_within_source': 'News', 'source_domain': 'www.benzinga.com', 'topics': [{'topic': 'Real Estate & Construction', 'relevance_score': '0.333333'}, {'topic': 'Technology', 'relevance_score': '0.333333'}, {'topic': 'Manufacturing', 'relevance_score': '0.333333'}], 'overall_sentiment_score': 0.15856, 'overall_sentiment_label': 'Somewhat-Bullish', 'ticker_sentiment': [{'ticker': 'IRDM', 'relevance_score': '0.262994', 'ticker_sentiment_score': '0.395401', 'ticker_sentiment_label': 'Bullish'}, {'ticker': 'SSNLF', 'relevance_score': '0.17715', 'ticker_sentiment_score': '0.100317', 'ticker_sentiment_label': 'Neutral'}, {'ticker': 'TMUS', 'relevance_score': '0.17715', 'ticker_sentiment_score': '0.12301', 'ticker_sentiment_label': 'Neutral'}, {'ticker': 'AAPL', 'relevance_score': '0.17715', 'ticker_sentiment_score': '0.12301', 'ticker_sentiment_label': 'Neutral'}, {'ticker': 'T', 'relevance_score': '0.089129', 'ticker_sentiment_score': '0.089955', 'ticker_sentiment_label': 'Neutral'}, {'ticker': 'QCOM', 'relevance_score': '0.262994', 'ticker_sentiment_score': '0.246127', 'ticker_sentiment_label': 'Somewhat-Bullish'}, {'ticker': 'VOD', 'relevance_score': '0.17715', 'ticker_sentiment_score': '0.12301', 'ticker_sentiment_label': 'Neutral'}, {'ticker': 'GRMN', 'relevance_score': '0.17715', 'ticker_sentiment_score': '0.011183', 'ticker_sentiment_label': 'Neutral'}, {'ticker': 'ASTS', 'relevance_score': '0.17715', 'ticker_sentiment_score': '0.12301', 'ticker_sentiment_label': 'Neutral'}]}, {'title': 'Wall St jumps as December jobs report eases rate worries | The Financial Express', 'url': 'https://www.financialexpress.com/market/wall-st-jumps-as-december-jobs-report-eases-rate-worries/2939478/', 'time_published': '20230106T165123', 'authors': [], 'summary': 'Wall St jumps as December jobs report eases rate worries The Financial Express ...', 'banner_image': 'https://www.financialexpress.com/wp-content/uploads/2022/12/wall.jpg', 'source': 'The Financial Express', 'category_within_source': 'MoneyGoogleRSS', 'source_domain': 'www.financialexpress.com', 'topics': [{'topic': 'Economy - Monetary', 'relevance_score': '0.682689'}, {'topic': 'Financial Markets', 'relevance_score': '0.360215'}, {'topic': 'Earnings', 'relevance_score': '0.451494'}, {'topic': 'Technology', 'relevance_score': '1.0'}], 'overall_sentiment_score': -0.002421, 'overall_sentiment_label': 'Neutral', 'ticker_sentiment': [{'ticker': 'MSFT', 'relevance_score': '0.08687', 'ticker_sentiment_score': '0.138086', 'ticker_sentiment_label': 'Neutral'}, {'ticker': 'META', 'relevance_score': '0.08687', 'ticker_sentiment_score': '0.138086', 'ticker_sentiment_label': 'Neutral'}, {'ticker': 'AAPL', 'relevance_score': '0.08687', 'ticker_sentiment_score': '0.138086', 'ticker_sentiment_label': 'Neutral'}]}, {'title': 'Apple Unusual Options Activity For January 06 - Apple  ( NASDAQ:AAPL ) ', 'url': 'https://www.benzinga.com/markets/options/23/01/30312728/apple-unusual-options-activity-for-january-06', 'time_published': '20230106T161848', 'authors': ['Benzinga Insights'], 'summary': 'A whale with a lot of money to spend has taken a noticeably bearish stance on Apple. Looking at options history for Apple AAPL we detected 38 strange trades. If we consider the specifics of each trade, it is accurate to state that 47% of the investors opened trades with bullish expectations and ...', 'banner_image': 'https://cdn.benzinga.com/files/images/story/2023/movers_image_424.jpeg?width=1200&height=800&fit=crop', 'source': 'Benzinga', 'category_within_source': 'Markets', 'source_domain': 'www.benzinga.com', 'topics': [{'topic': 'Financial Markets', 'relevance_score': '0.214378'}, {'topic': 'Earnings', 'relevance_score': '0.158519'}, {'topic': 'Technology', 'relevance_score': '0.5'}, {'topic': 'Finance', 'relevance_score': '0.5'}], 'overall_sentiment_score': 0.092361, 'overall_sentiment_label': 'Neutral', 'ticker_sentiment': [{'ticker': 'AAPL', 'relevance_score': '0.853391', 'ticker_sentiment_score': '0.191128', 'ticker_sentiment_label': 'Somewhat-Bullish'}, {'ticker': 'JPM', 'relevance_score': '0.128135', 'ticker_sentiment_score': '-0.142455', 'ticker_sentiment_label': 'Neutral'}]}, {'title': 'Iridium, Qualcomm To Partner In Satellite-Based Smartphone Text Services', 'url': 'https://www.investors.com/news/technology/iridium-qualcomm-to-partner-in-satellite-based-smartphone-text-services/', 'time_published': '20230106T152400', 'authors': ['REINHARDT KRAUSE', \"Investor's Business Daily\"], 'summary': \"Iridium, Qualcomm To Partner In Satellite-Based Smartphone Text ... Investor's Business Daily ...\", 'banner_image': 'https://www.investors.com/wp-content/uploads/2020/07/Stock-Qualcomm-02-company.jpg', 'source': 'Investors Business Daily', 'category_within_source': 'n/a', 'source_domain': 'www.investors.com', 'topics': [{'topic': 'Financial Markets', 'relevance_score': '0.977154'}, {'topic': 'Manufacturing', 'relevance_score': '0.5'}, {'topic': 'Earnings', 'relevance_score': '0.158519'}, {'topic': 'Technology', 'relevance_score': '0.5'}], 'overall_sentiment_score': 0.146183, 'overall_sentiment_label': 'Neutral', 'ticker_sentiment': [{'ticker': 'SSNLF', 'relevance_score': '0.288893', 'ticker_sentiment_score': '0.095417', 'ticker_sentiment_label': 'Neutral'}, {'ticker': 'TMUS', 'relevance_score': '0.195025', 'ticker_sentiment_score': '-0.089388', 'ticker_sentiment_label': 'Neutral'}, {'ticker': 'AAPL', 'relevance_score': '0.288893', 'ticker_sentiment_score': '-0.122327', 'ticker_sentiment_label': 'Neutral'}, {'ticker': 'QCOM', 'relevance_score': '0.378572', 'ticker_sentiment_score': '0.102455', 'ticker_sentiment_label': 'Neutral'}]}, {'title': 'Tech Sell-Off: 2 Growth Stocks to Buy in 2023', 'url': 'https://www.fool.com/investing/2023/01/06/tech-sell-off-2-growth-stocks-to-buy-in-2023/', 'time_published': '20230106T143000', 'authors': ['Dani Cook'], 'summary': 'Apple and Nvidia suffered in 2022, but a new year brings new opportunities.', 'banner_image': 'https://media.ycharts.com/charts/fb7a6fbbe6d771dce96188d3ac5f8dbf.png', 'source': 'Motley Fool', 'category_within_source': 'n/a', 'source_domain': 'www.fool.com', 'topics': [{'topic': 'Financial Markets', 'relevance_score': '0.998356'}, {'topic': 'Manufacturing', 'relevance_score': '0.5'}, {'topic': 'Earnings', 'relevance_score': '0.989041'}, {'topic': 'Technology', 'relevance_score': '0.5'}], 'overall_sentiment_score': 0.187058, 'overall_sentiment_label': 'Somewhat-Bullish', 'ticker_sentiment': [{'ticker': 'MSFT', 'relevance_score': '0.053509', 'ticker_sentiment_score': '0.090969', 'ticker_sentiment_label': 'Neutral'}, {'ticker': 'NVDA', 'relevance_score': '0.454174', 'ticker_sentiment_score': '0.307903', 'ticker_sentiment_label': 'Somewhat-Bullish'}, {'ticker': 'AAPL', 'relevance_score': '0.361501', 'ticker_sentiment_score': '-0.067077', 'ticker_sentiment_label': 'Neutral'}]}, {'title': 'Futures Higher After Strong December Jobs Report', 'url': 'https://www.investors.com/market-trend/stock-market-today/dow-jones-futures-rise-ahead-of-december-jobs-report-tesla-stock-dives-on-china-price-cuts/', 'time_published': '20230106T135200', 'authors': ['SCOTT LEHTONEN', \"Investor's Business Daily\"], 'summary': \"Dow Jones Futures Rally On December Jobs Report. Tesla Stock ... Investor's Business Daily ...\", 'banner_image': 'https://www.investors.com/wp-content/uploads/2019/10/stock-wall-street-flags-adobe.jpg', 'source': 'Investors Business Daily', 'category_within_source': 'n/a', 'source_domain': 'www.investors.com', 'topics': [{'topic': 'Life Sciences', 'relevance_score': '0.166667'}, {'topic': 'Energy & Transportation', 'relevance_score': '0.166667'}, {'topic': 'Technology', 'relevance_score': '0.166667'}, {'topic': 'Finance', 'relevance_score': '0.166667'}, {'topic': 'Retail & Wholesale', 'relevance_score': '0.166667'}, {'topic': 'Financial Markets', 'relevance_score': '1.0'}, {'topic': 'Manufacturing', 'relevance_score': '0.166667'}, {'topic': 'Earnings', 'relevance_score': '0.158519'}], 'overall_sentiment_score': 0.098496, 'overall_sentiment_label': 'Neutral', 'ticker_sentiment': [{'ticker': 'MEDP', 'relevance_score': '0.153275', 'ticker_sentiment_score': '0.034572', 'ticker_sentiment_label': 'Neutral'}, {'ticker': 'DE', 'relevance_score': '0.122894', 'ticker_sentiment_score': '0.010629', 'ticker_sentiment_label': 'Neutral'}, {'ticker': 'AAPL', 'relevance_score': '0.092331', 'ticker_sentiment_score': '0.033019', 'ticker_sentiment_label': 'Neutral'}, {'ticker': 'ULTA', 'relevance_score': '0.061631', 'ticker_sentiment_score': '-0.165075', 'ticker_sentiment_label': 'Somewhat-Bearish'}, {'ticker': 'CVX', 'relevance_score': '0.122894', 'ticker_sentiment_score': '0.032622', 'ticker_sentiment_label': 'Neutral'}, {'ticker': 'NBIX', 'relevance_score': '0.122894', 'ticker_sentiment_score': '0.045147', 'ticker_sentiment_label': 'Neutral'}, {'ticker': 'CAH', 'relevance_score': '0.153275', 'ticker_sentiment_score': '0.015626', 'ticker_sentiment_label': 'Neutral'}, {'ticker': 'IVZ', 'relevance_score': '0.030838', 'ticker_sentiment_score': '0.109854', 'ticker_sentiment_label': 'Neutral'}, {'ticker': 'LUV', 'relevance_score': '0.061631', 'ticker_sentiment_score': '-0.165075', 'ticker_sentiment_label': 'Somewhat-Bearish'}, {'ticker': 'MSFT', 'relevance_score': '0.122894', 'ticker_sentiment_score': '-0.156357', 'ticker_sentiment_label': 'Somewhat-Bearish'}, {'ticker': 'TSLA', 'relevance_score': '0.213316', 'ticker_sentiment_score': '0.005162', 'ticker_sentiment_label': 'Neutral'}, {'ticker': 'WFC', 'relevance_score': '0.030838', 'ticker_sentiment_score': '-0.156304', 'ticker_sentiment_label': 'Somewhat-Bearish'}, {'ticker': 'CAT', 'relevance_score': '0.153275', 'ticker_sentiment_score': '0.185023', 'ticker_sentiment_label': 'Somewhat-Bullish'}, {'ticker': 'WMT', 'relevance_score': '0.122894', 'ticker_sentiment_score': '0.080561', 'ticker_sentiment_label': 'Neutral'}]}, {'title': 'Samsung Sees Q4 Profit Plunge 69% As Pandemic Correction And Macro Headwinds Weigh - Samsung Electronics Co  ( OTC:SSNLF ) ', 'url': 'https://www.benzinga.com/news/23/01/30307103/samsung-sees-q4-profit-plunge-69-as-pandemic-correction-and-macro-headwinds-weigh', 'time_published': '20230106T132749', 'authors': ['Anusuya Lahiri'], 'summary': 'Samsung Electronics Co, Ltd SSNLF shared the guidance for its fourth quarter. The ace chipmaker expects consolidated sales of approximately 70 trillion Korean won, down 8.6% year-on-year. Samsung saw a consolidated operating profit of approximately 4.3 trillion Korean won.', 'banner_image': 'https://cdn.benzinga.com/files/images/story/2023/01/06/samsung_galaxy_z_flip_fold_cr.jpg?optimize=medium&dpr=2&auto=webp&width=3840', 'source': 'Benzinga', 'category_within_source': 'News', 'source_domain': 'www.benzinga.com', 'topics': [{'topic': 'Technology', 'relevance_score': '0.5'}, {'topic': 'Finance', 'relevance_score': '0.5'}], 'overall_sentiment_score': 0.071526, 'overall_sentiment_label': 'Neutral', 'ticker_sentiment': [{'ticker': 'GS', 'relevance_score': '0.163909', 'ticker_sentiment_score': '-0.122049', 'ticker_sentiment_label': 'Neutral'}, {'ticker': 'SSNLF', 'relevance_score': '0.785534', 'ticker_sentiment_score': '0.474543', 'ticker_sentiment_label': 'Bullish'}, {'ticker': 'AAPL', 'relevance_score': '0.320974', 'ticker_sentiment_score': '0.26309', 'ticker_sentiment_label': 'Somewhat-Bullish'}, {'ticker': 'FOREX:AMD', 'relevance_score': '0.320974', 'ticker_sentiment_score': '-0.092534', 'ticker_sentiment_label': 'Neutral'}, {'ticker': 'FOREX:KRW', 'relevance_score': '0.320974', 'ticker_sentiment_score': '0.241438', 'ticker_sentiment_label': 'Somewhat-Bullish'}]}, {'title': 'Best Mutual Funds Report: Bulls In Hibernation In Bear Market', 'url': 'https://www.investors.com/etfs-and-funds/mutual-funds/best-mutual-funds-report-bulls-in-hibernation-in-bear-market/', 'time_published': '20230106T130200', 'authors': ['MATTHEW GALGANI', \"Investor's Business Daily\"], 'summary': \"The first list of new buys by the best mutual funds in the new year reflects the lack of a Santa Claus rally in 2022. At least for now, it's the bulls, rather than the bears, that have gone into hibernation. The dollar amounts invested by top funds into the individual stocks on this screen ...\", 'banner_image': 'https://www.investors.com/wp-content/uploads/2023/01/Stock-CowWinter-adobe.jpg', 'source': 'Investors Business Daily', 'category_within_source': 'n/a', 'source_domain': 'www.investors.com', 'topics': [{'topic': 'Life Sciences', 'relevance_score': '0.25'}, {'topic': 'Retail & Wholesale', 'relevance_score': '0.25'}, {'topic': 'Financial Markets', 'relevance_score': '0.538269'}, {'topic': 'Manufacturing', 'relevance_score': '0.25'}, {'topic': 'Technology', 'relevance_score': '0.25'}], 'overall_sentiment_score': 0.170039, 'overall_sentiment_label': 'Somewhat-Bullish', 'ticker_sentiment': [{'ticker': 'TT', 'relevance_score': '0.138464', 'ticker_sentiment_score': '-0.017597', 'ticker_sentiment_label': 'Neutral'}, {'ticker': 'DE', 'relevance_score': '0.138464', 'ticker_sentiment_score': '-0.017597', 'ticker_sentiment_label': 'Neutral'}, {'ticker': 'NVDA', 'relevance_score': '0.206392', 'ticker_sentiment_score': '0.117139', 'ticker_sentiment_label': 'Neutral'}, {'ticker': 'AAPL', 'relevance_score': '0.206392', 'ticker_sentiment_score': '0.117139', 'ticker_sentiment_label': 'Neutral'}, {'ticker': 'ULTA', 'relevance_score': '0.138464', 'ticker_sentiment_score': '0.194545', 'ticker_sentiment_label': 'Somewhat-Bullish'}, {'ticker': 'WING', 'relevance_score': '0.138464', 'ticker_sentiment_score': '0.194545', 'ticker_sentiment_label': 'Somewhat-Bullish'}, {'ticker': 'CPRX', 'relevance_score': '0.138464', 'ticker_sentiment_score': '0.089602', 'ticker_sentiment_label': 'Neutral'}, {'ticker': 'TSCO', 'relevance_score': '0.138464', 'ticker_sentiment_score': '0.194545', 'ticker_sentiment_label': 'Somewhat-Bullish'}, {'ticker': 'ITW', 'relevance_score': '0.138464', 'ticker_sentiment_score': '-0.017597', 'ticker_sentiment_label': 'Neutral'}, {'ticker': 'MA', 'relevance_score': '0.069495', 'ticker_sentiment_score': '0.110459', 'ticker_sentiment_label': 'Neutral'}, {'ticker': 'CAT', 'relevance_score': '0.138464', 'ticker_sentiment_score': '-0.017597', 'ticker_sentiment_label': 'Neutral'}, {'ticker': 'LLY', 'relevance_score': '0.138464', 'ticker_sentiment_score': '0.089602', 'ticker_sentiment_label': 'Neutral'}, {'ticker': 'MTD', 'relevance_score': '0.138464', 'ticker_sentiment_score': '-0.017597', 'ticker_sentiment_label': 'Neutral'}, {'ticker': 'DXCM', 'relevance_score': '0.138464', 'ticker_sentiment_score': '0.089602', 'ticker_sentiment_label': 'Neutral'}, {'ticker': 'FOREX:USD', 'relevance_score': '0.069495', 'ticker_sentiment_score': '0.01116', 'ticker_sentiment_label': 'Neutral'}]}, {'title': 'Wearable Pregnancy Devices Market will worth USD 10593.96 million by 2030 : GreyViews', 'url': 'https://www.benzinga.com/pressreleases/23/01/g30308967/wearable-pregnancy-devices-market-will-worth-usd-10593-96-million-by-2030-greyviews', 'time_published': '20230106T130000', 'authors': ['Globe Newswire'], 'summary': 'Pune India, Jan. 06, 2023 ( GLOBE NEWSWIRE ) -- The market has been studied for the below mentioned-segmentation and regional analysis for North America, Europe, Asia, South America, and the Middle East and Africa.', 'banner_image': '', 'source': 'Benzinga', 'category_within_source': 'News', 'source_domain': 'www.benzinga.com', 'topics': [{'topic': 'Life Sciences', 'relevance_score': '0.333333'}, {'topic': 'Technology', 'relevance_score': '0.333333'}, {'topic': 'Manufacturing', 'relevance_score': '0.333333'}], 'overall_sentiment_score': 0.179389, 'overall_sentiment_label': 'Somewhat-Bullish', 'ticker_sentiment': [{'ticker': 'OMRNF', 'relevance_score': '0.025985', 'ticker_sentiment_score': '0.127413', 'ticker_sentiment_label': 'Neutral'}, {'ticker': 'AAPL', 'relevance_score': '0.025985', 'ticker_sentiment_score': '0.127413', 'ticker_sentiment_label': 'Neutral'}, {'ticker': 'HTHIF', 'relevance_score': '0.025985', 'ticker_sentiment_score': '0.127413', 'ticker_sentiment_label': 'Neutral'}, {'ticker': 'RYLPF', 'relevance_score': '0.025985', 'ticker_sentiment_score': '0.127413', 'ticker_sentiment_label': 'Neutral'}, {'ticker': 'BTCY', 'relevance_score': '0.025985', 'ticker_sentiment_score': '0.127413', 'ticker_sentiment_label': 'Neutral'}, {'ticker': 'NIMU', 'relevance_score': '0.025985', 'ticker_sentiment_score': '-0.142439', 'ticker_sentiment_label': 'Neutral'}, {'ticker': 'MDT', 'relevance_score': '0.025985', 'ticker_sentiment_score': '0.127413', 'ticker_sentiment_label': 'Neutral'}, {'ticker': 'PHG', 'relevance_score': '0.025985', 'ticker_sentiment_score': '0.127413', 'ticker_sentiment_label': 'Neutral'}]}, {'title': '4 Artificial Intelligence Stocks to Buy in 2023', 'url': 'https://www.fool.com/investing/2023/01/06/4-artificial-intelligence-stocks-to-buy-in-2023/', 'time_published': '20230106T124500', 'authors': ['Travis Hoium'], 'summary': 'Artificial intelligence will be a big theme for the market this year and these companies are leading the way.', 'banner_image': 'https://g.foolcdn.com/image/?url=https%3A%2F%2Fg.foolcdn.com%2Feditorial%2Fimages%2F715125%2Fbear-market-4.jpg&op=resize&h=340', 'source': 'Motley Fool', 'category_within_source': 'n/a', 'source_domain': 'www.fool.com', 'topics': [{'topic': 'Technology', 'relevance_score': '0.5'}, {'topic': 'Manufacturing', 'relevance_score': '0.5'}], 'overall_sentiment_score': 0.272617, 'overall_sentiment_label': 'Somewhat-Bullish', 'ticker_sentiment': [{'ticker': 'NVDA', 'relevance_score': '0.535653', 'ticker_sentiment_score': '0.486171', 'ticker_sentiment_label': 'Bullish'}, {'ticker': 'AAPL', 'relevance_score': '0.535653', 'ticker_sentiment_score': '0.486171', 'ticker_sentiment_label': 'Bullish'}]}, {'title': 'Are Growth Stocks in for More Pain in 2023?', 'url': 'https://www.fool.com/investing/2023/01/06/are-growth-stocks-in-for-more-pain-in-2023/', 'time_published': '20230106T122200', 'authors': ['Daniel Foelber'], 'summary': 'Now is the time to consider buying Microsoft, Apple, Alphabet, or Amazon.', 'banner_image': 'https://g.foolcdn.com/image/?url=https%3A%2F%2Fg.foolcdn.com%2Feditorial%2Fimages%2F715402%2Fgettyimages-471202305.jpg&op=resize&w=700', 'source': 'Motley Fool', 'category_within_source': 'n/a', 'source_domain': 'www.fool.com', 'topics': [{'topic': 'Retail & Wholesale', 'relevance_score': '0.333333'}, {'topic': 'Financial Markets', 'relevance_score': '1.0'}, {'topic': 'Earnings', 'relevance_score': '0.538269'}, {'topic': 'Technology', 'relevance_score': '0.333333'}, {'topic': 'Finance', 'relevance_score': '0.333333'}], 'overall_sentiment_score': 0.273921, 'overall_sentiment_label': 'Somewhat-Bullish', 'ticker_sentiment': [{'ticker': 'MSFT', 'relevance_score': '0.221212', 'ticker_sentiment_score': '0.170038', 'ticker_sentiment_label': 'Somewhat-Bullish'}, {'ticker': 'AAPL', 'relevance_score': '0.221212', 'ticker_sentiment_score': '0.329736', 'ticker_sentiment_label': 'Somewhat-Bullish'}, {'ticker': 'AMZN', 'relevance_score': '0.133841', 'ticker_sentiment_score': '0.170814', 'ticker_sentiment_label': 'Somewhat-Bullish'}, {'ticker': 'BRK-A', 'relevance_score': '0.089462', 'ticker_sentiment_score': '0.216027', 'ticker_sentiment_label': 'Somewhat-Bullish'}]}, {'title': 'Insights on the SVOD  ( Subscription Video on Demand )  European Market to 2026 - Featuring Prime Video, Apple, Netflix and DAZN Among Others', 'url': 'https://www.benzinga.com/pressreleases/23/01/n30307802/insights-on-the-svod-subscription-video-on-demand-european-market-to-2026-featuring-prime-video-ap', 'time_published': '20230106T113000', 'authors': ['PRNewswire'], 'summary': 'DUBLIN, Jan. 6, 2023 /PRNewswire/ -- The \"Europe SVOD ( Subscription Video on Demand ) Market: Insights & Forecast with Potential Impact of COVID-19 ( 2022-2026 ) \" report has been added to ResearchAndMarkets.com\\'s offering.', 'banner_image': '', 'source': 'Benzinga', 'category_within_source': 'General', 'source_domain': 'www.benzinga.com', 'topics': [{'topic': 'Technology', 'relevance_score': '1.0'}], 'overall_sentiment_score': 0.324652, 'overall_sentiment_label': 'Somewhat-Bullish', 'ticker_sentiment': [{'ticker': 'NFLX', 'relevance_score': '0.105836', 'ticker_sentiment_score': '0.172047', 'ticker_sentiment_label': 'Somewhat-Bullish'}, {'ticker': 'WBD', 'relevance_score': '0.053035', 'ticker_sentiment_score': '0.161955', 'ticker_sentiment_label': 'Somewhat-Bullish'}, {'ticker': 'AAPL', 'relevance_score': '0.105836', 'ticker_sentiment_score': '0.172047', 'ticker_sentiment_label': 'Somewhat-Bullish'}, {'ticker': 'DIS', 'relevance_score': '0.105836', 'ticker_sentiment_score': '0.172047', 'ticker_sentiment_label': 'Somewhat-Bullish'}]}, {'title': 'Should BNY Mellon US Large Cap Core Equity ETF  ( BKLC )  Be on Your Investing Radar?', 'url': 'https://www.zacks.com/stock/news/2036055/should-bny-mellon-us-large-cap-core-equity-etf-bklc-be-on-your-investing-radar', 'time_published': '20230106T112006', 'authors': ['Zacks Investment Research'], 'summary': 'Style Box ETF report for ...', 'banner_image': 'https://staticx-tuner.zacks.com/images/default_article_images/default181.jpg', 'source': 'Zacks Commentary', 'category_within_source': 'n/a', 'source_domain': 'www.zacks.com', 'topics': [{'topic': 'Technology', 'relevance_score': '0.5'}, {'topic': 'Finance', 'relevance_score': '0.5'}, {'topic': 'Financial Markets', 'relevance_score': '1.0'}], 'overall_sentiment_score': 0.170581, 'overall_sentiment_label': 'Somewhat-Bullish', 'ticker_sentiment': [{'ticker': 'MSFT', 'relevance_score': '0.13347', 'ticker_sentiment_score': '0.06762', 'ticker_sentiment_label': 'Neutral'}, {'ticker': 'AAPL', 'relevance_score': '0.13347', 'ticker_sentiment_score': '0.06762', 'ticker_sentiment_label': 'Neutral'}, {'ticker': 'MORN', 'relevance_score': '0.06697', 'ticker_sentiment_score': '0.0', 'ticker_sentiment_label': 'Neutral'}]}, {'title': 'Is Schwab Fundamental U.S. Broad Market Index ETF  ( FNDB )  a Strong ETF Right Now?', 'url': 'https://www.zacks.com/stock/news/2036056/is-schwab-fundamental-us-broad-market-index-etf-fndb-a-strong-etf-right-now', 'time_published': '20230106T112006', 'authors': ['Zacks Investment Research'], 'summary': 'Smart Beta ETF report for ...', 'banner_image': 'https://staticx-tuner.zacks.com/images/default_article_images/default285.jpg', 'source': 'Zacks Commentary', 'category_within_source': 'n/a', 'source_domain': 'www.zacks.com', 'topics': [{'topic': 'Financial Markets', 'relevance_score': '0.999336'}, {'topic': 'Energy & Transportation', 'relevance_score': '0.333333'}, {'topic': 'Technology', 'relevance_score': '0.333333'}, {'topic': 'Finance', 'relevance_score': '0.333333'}], 'overall_sentiment_score': 0.274062, 'overall_sentiment_label': 'Somewhat-Bullish', 'ticker_sentiment': [{'ticker': 'MSFT', 'relevance_score': '0.115787', 'ticker_sentiment_score': '0.061204', 'ticker_sentiment_label': 'Neutral'}, {'ticker': 'SCHW', 'relevance_score': '0.058047', 'ticker_sentiment_score': '0.049968', 'ticker_sentiment_label': 'Neutral'}, {'ticker': 'AAPL', 'relevance_score': '0.115787', 'ticker_sentiment_score': '0.061204', 'ticker_sentiment_label': 'Neutral'}, {'ticker': 'XOM', 'relevance_score': '0.115787', 'ticker_sentiment_score': '0.061204', 'ticker_sentiment_label': 'Neutral'}]}, {'title': \"You Could've Become a Millionaire With Just $1,000 Invested in This Warren Buffett Stock\", 'url': 'https://www.fool.com/investing/2023/01/06/you-millionaire-1000-invested-warren-buffett-stock/', 'time_published': '20230106T111300', 'authors': ['Anthony Di Pizio'], 'summary': \"If you've ever wondered about the benefits of long-term investing, this story is for you.\", 'banner_image': 'https://g.foolcdn.com/image/?url=https%3A%2F%2Fg.foolcdn.com%2Feditorial%2Fimages%2F715355%2Fapplerevenue1990to2022.png&op=resize&w=700', 'source': 'Motley Fool', 'category_within_source': 'n/a', 'source_domain': 'www.fool.com', 'topics': [{'topic': 'IPO', 'relevance_score': '0.769861'}, {'topic': 'Financial Markets', 'relevance_score': '0.977154'}, {'topic': 'Earnings', 'relevance_score': '0.158519'}, {'topic': 'Technology', 'relevance_score': '0.5'}, {'topic': 'Finance', 'relevance_score': '0.5'}], 'overall_sentiment_score': 0.205361, 'overall_sentiment_label': 'Somewhat-Bullish', 'ticker_sentiment': [{'ticker': 'MSFT', 'relevance_score': '0.055881', 'ticker_sentiment_score': '0.0', 'ticker_sentiment_label': 'Neutral'}, {'ticker': 'AAPL', 'relevance_score': '0.839046', 'ticker_sentiment_score': '0.315707', 'ticker_sentiment_label': 'Somewhat-Bullish'}, {'ticker': 'BRK-A', 'relevance_score': '0.166551', 'ticker_sentiment_score': '0.238929', 'ticker_sentiment_label': 'Somewhat-Bullish'}]}, {'title': 'Iridium, Qualcomm Join Forces To Tap Satellite Messaging Beyond Smartphones - Iridium Comms  ( NASDAQ:IRDM ) , Qualcomm  ( NASDAQ:QCOM ) ', 'url': 'https://www.benzinga.com/news/23/01/30306678/iridium-qualcomm-join-forces-to-tap-satellite-messaging-beyond-smartphones', 'time_published': '20230106T110301', 'authors': ['Anusuya Lahiri'], 'summary': \"Iridium Communications Inc IRDM collaborated with Qualcomm Inc QCOM Qualcomm Technologies, Inc to enable satellite messaging and emergency services in smartphones powered by Snapdragon Mobile Platforms. Iridium satellite constellation supports Qualcomm Technologies' new Snapdragon Satellite ...\", 'banner_image': 'https://cdn.benzinga.com/files/images/story/2023/01/06/sd_badge_rgb-1x.png?optimize=medium&dpr=2&auto=webp&width=3840', 'source': 'Benzinga', 'category_within_source': 'News', 'source_domain': 'www.benzinga.com', 'topics': [{'topic': 'Technology', 'relevance_score': '0.5'}, {'topic': 'Manufacturing', 'relevance_score': '0.5'}], 'overall_sentiment_score': 0.191597, 'overall_sentiment_label': 'Somewhat-Bullish', 'ticker_sentiment': [{'ticker': 'IRDM', 'relevance_score': '0.359014', 'ticker_sentiment_score': '-0.027985', 'ticker_sentiment_label': 'Neutral'}, {'ticker': 'QCOM', 'relevance_score': '0.648995', 'ticker_sentiment_score': '0.340004', 'ticker_sentiment_label': 'Somewhat-Bullish'}, {'ticker': 'AAPL', 'relevance_score': '0.244109', 'ticker_sentiment_score': '0.078619', 'ticker_sentiment_label': 'Neutral'}]}, {'title': 'Samsung Blames Weak Demand for Profit Drop. What This Means for Apple.', 'url': 'https://www.barrons.com/articles/samsung-profit-drop-apple-consumer-demand-51673002219', 'time_published': '20230106T105100', 'authors': ['Brian Swint'], 'summary': 'Samsung Warns of Profit Drop Blaming Weak Demand. What This Means for Apple. ...', 'banner_image': 'https://images.barrons.com/im-565499/social', 'source': 'Barrons', 'category_within_source': 'n/a', 'source_domain': 'www.barrons.com', 'topics': [{'topic': 'Earnings', 'relevance_score': '0.360215'}, {'topic': 'Technology', 'relevance_score': '1.0'}], 'overall_sentiment_score': -0.152532, 'overall_sentiment_label': 'Somewhat-Bearish', 'ticker_sentiment': [{'ticker': 'SSNLF', 'relevance_score': '0.779232', 'ticker_sentiment_score': '-0.249928', 'ticker_sentiment_label': 'Somewhat-Bearish'}, {'ticker': 'AAPL', 'relevance_score': '0.779232', 'ticker_sentiment_score': '-0.032191', 'ticker_sentiment_label': 'Neutral'}]}, {'title': '5 Stocks Warren Buffett Is Betting Big on for 2023', 'url': 'https://www.fool.com/investing/2023/01/06/5-stocks-warren-buffett-is-betting-big-on-for-2023/', 'time_published': '20230106T100600', 'authors': ['Sean Williams'], 'summary': 'The Oracle of Omaha expects five companies to outperform in the new year.', 'banner_image': 'https://g.foolcdn.com/image/?url=https%3A%2F%2Fg.foolcdn.com%2Feditorial%2Fimages%2F715068%2Fwarren-buffett-brka-brkb-berkshire-hathaway-motley-fool5.jpg&op=resize&w=700', 'source': 'Motley Fool', 'category_within_source': 'n/a', 'source_domain': 'www.fool.com', 'topics': [{'topic': 'Financial Markets', 'relevance_score': '0.999999'}, {'topic': 'Manufacturing', 'relevance_score': '0.25'}, {'topic': 'Earnings', 'relevance_score': '0.839681'}, {'topic': 'Energy & Transportation', 'relevance_score': '0.25'}, {'topic': 'Technology', 'relevance_score': '0.25'}, {'topic': 'Finance', 'relevance_score': '0.25'}], 'overall_sentiment_score': 0.198412, 'overall_sentiment_label': 'Somewhat-Bullish', 'ticker_sentiment': [{'ticker': 'OXY', 'relevance_score': '0.12028', 'ticker_sentiment_score': '-0.004735', 'ticker_sentiment_label': 'Neutral'}, {'ticker': 'AAPL', 'relevance_score': '0.266504', 'ticker_sentiment_score': '0.203073', 'ticker_sentiment_label': 'Somewhat-Bullish'}, {'ticker': 'CVX', 'relevance_score': '0.237842', 'ticker_sentiment_score': '0.022328', 'ticker_sentiment_label': 'Neutral'}, {'ticker': 'BRK-A', 'relevance_score': '0.179565', 'ticker_sentiment_score': '0.143617', 'ticker_sentiment_label': 'Neutral'}, {'ticker': 'TSM', 'relevance_score': '0.060312', 'ticker_sentiment_score': '0.145014', 'ticker_sentiment_label': 'Neutral'}]}, {'title': \"My Top Stock to Buy for 2023  ( and It's Not Even Close ) \", 'url': 'https://www.fool.com/investing/2023/01/06/my-top-stock-to-buy-for-2023-not-even-close/', 'time_published': '20230106T100500', 'authors': ['Daniel Foelber'], 'summary': 'Amazon is the complete package at a good value.', 'banner_image': 'https://g.foolcdn.com/image/?url=https%3A%2F%2Fg.foolcdn.com%2Feditorial%2Fimages%2F715212%2Fgettyimages-1344732001.jpg&op=resize&w=700', 'source': 'Motley Fool', 'category_within_source': 'n/a', 'source_domain': 'www.fool.com', 'topics': [{'topic': 'Retail & Wholesale', 'relevance_score': '0.5'}, {'topic': 'Financial Markets', 'relevance_score': '0.999365'}, {'topic': 'Earnings', 'relevance_score': '0.961735'}, {'topic': 'Technology', 'relevance_score': '0.5'}], 'overall_sentiment_score': 0.130013, 'overall_sentiment_label': 'Neutral', 'ticker_sentiment': [{'ticker': 'MSFT', 'relevance_score': '0.034233', 'ticker_sentiment_score': '0.15968', 'ticker_sentiment_label': 'Somewhat-Bullish'}, {'ticker': 'GOOG', 'relevance_score': '0.136306', 'ticker_sentiment_score': '0.004836', 'ticker_sentiment_label': 'Neutral'}, {'ticker': 'AAPL', 'relevance_score': '0.034233', 'ticker_sentiment_score': '0.15968', 'ticker_sentiment_label': 'Somewhat-Bullish'}, {'ticker': 'AMZN', 'relevance_score': '0.735526', 'ticker_sentiment_score': '0.221003', 'ticker_sentiment_label': 'Somewhat-Bullish'}]}, {'title': \"Apple's Mixed Reality Headset 'Behind Schedule,' Says Analyst - January Launch 'Unlikely' - Apple  ( NASDAQ:AAPL ) \", 'url': 'https://www.benzinga.com/news/23/01/30306165/apples-mixed-reality-headset-behind-schedule-says-analyst-january-launch-unlikely', 'time_published': '20230106T060526', 'authors': ['Ananya Gairola'], 'summary': \"The delay in the development of Apple Inc.'s AAPL highly-anticipated mixed reality headset could hamper the company's plans to hold a media event for the device in January.\", 'banner_image': 'https://cdn.benzinga.com/files/images/story/2023/01/06/vr_headset_1_photo_by_fit_ztudio_on_shutterstock.jpg?width=1200&height=800&fit=crop', 'source': 'Benzinga', 'category_within_source': 'News', 'source_domain': 'www.benzinga.com', 'topics': [{'topic': 'Technology', 'relevance_score': '1.0'}, {'topic': 'Financial Markets', 'relevance_score': '0.360215'}], 'overall_sentiment_score': -0.049169, 'overall_sentiment_label': 'Neutral', 'ticker_sentiment': [{'ticker': 'AAPL', 'relevance_score': '0.883265', 'ticker_sentiment_score': '-0.066233', 'ticker_sentiment_label': 'Neutral'}]}, {'title': \"Apple's Iconic 1970s Trade Sign, Steve Wozniak's Tool Box Up For Auction - Here Are The Hefty Starting Bids - Apple  ( NASDAQ:AAPL ) \", 'url': 'https://www.benzinga.com/news/23/01/30305960/apples-iconic-1970s-trade-sign-steve-wozniaks-tool-box-up-for-auction-here-are-the-hefty-starting-bi', 'time_published': '20230106T044349', 'authors': ['Ananya Gairola'], 'summary': \"Apple Inc.'s AAPL first trade sign with a multi-colored logo and a battered toolbox used by co-founder Steve Wozniak is now up for auction - and you can get both items, but it's going to be an expensive affair.\", 'banner_image': 'https://cdn.benzinga.com/files/images/story/2023/01/05/shutterstock_2012782556.jpg?width=1200&height=800&fit=crop', 'source': 'Benzinga', 'category_within_source': 'News', 'source_domain': 'www.benzinga.com', 'topics': [{'topic': 'Technology', 'relevance_score': '1.0'}], 'overall_sentiment_score': -0.011742, 'overall_sentiment_label': 'Neutral', 'ticker_sentiment': [{'ticker': 'AAPL', 'relevance_score': '0.686739', 'ticker_sentiment_score': '-0.026373', 'ticker_sentiment_label': 'Neutral'}]}, {'title': 'Samsung estimates quarterly profit sank to 8-year low on demand slump | Business', 'url': 'https://www.cnn.com/2023/01/05/tech/samsung-profit-sinks-intl-hnk/index.html', 'time_published': '20230106T034900', 'authors': ['Reuters'], 'summary': 'Samsung estimates quarterly profit sank to 8-year low on demand slump ...', 'banner_image': 'https://media.cnn.com/api/v1/images/stellar/prod/230105220448-01-samsung-flag-012722-file.jpg?c=16x9&q=w_800,c_fill', 'source': 'CNN', 'category_within_source': 'Economy', 'source_domain': 'www.cnn.com', 'topics': [{'topic': 'Earnings', 'relevance_score': '0.972476'}, {'topic': 'Technology', 'relevance_score': '1.0'}, {'topic': 'Financial Markets', 'relevance_score': '0.87644'}], 'overall_sentiment_score': 0.056317, 'overall_sentiment_label': 'Neutral', 'ticker_sentiment': [{'ticker': 'SSNLF', 'relevance_score': '0.791876', 'ticker_sentiment_score': '0.177822', 'ticker_sentiment_label': 'Somewhat-Bullish'}, {'ticker': 'AAPL', 'relevance_score': '0.166169', 'ticker_sentiment_score': '0.062626', 'ticker_sentiment_label': 'Neutral'}]}, {'title': 'Samsung profit slumps by most in decade on weak demand for memory chips', 'url': 'https://www.scmp.com/abacus/tech/article/3205773/samsung-profit-tumbles-69-cent-historic-drop-memory-chip-price-slump', 'time_published': '20230106T020301', 'authors': ['Bloomberg'], 'summary': 'Profit slumped last quarter by the most in more than a decade as memory chip prices crashed. Samsung may have to rein in capital expenditure to conserve cash, Citigroup says.', 'banner_image': 'https://img.i-scmp.com/cdn-cgi/image/fit=contain,width=425,format=auto/sites/default/files/styles/768x768/public/d8/images/canvas/2023/01/06/1cfe3e68-f139-4b3a-b067-740c0ed93a1f_d37d3833.jpg?itok=hA7jsgKL&v=1672970579', 'source': 'South China Morning Post', 'category_within_source': 'Companies', 'source_domain': 'www.scmp.com', 'topics': [{'topic': 'Economy - Monetary', 'relevance_score': '0.158519'}, {'topic': 'Financial Markets', 'relevance_score': '0.538269'}, {'topic': 'Manufacturing', 'relevance_score': '0.333333'}, {'topic': 'Technology', 'relevance_score': '0.333333'}, {'topic': 'Finance', 'relevance_score': '0.333333'}], 'overall_sentiment_score': -0.244786, 'overall_sentiment_label': 'Somewhat-Bearish', 'ticker_sentiment': [{'ticker': 'MU', 'relevance_score': '0.072655', 'ticker_sentiment_score': '-0.166394', 'ticker_sentiment_label': 'Somewhat-Bearish'}, {'ticker': 'SSNLF', 'relevance_score': '0.415699', 'ticker_sentiment_score': '-0.358927', 'ticker_sentiment_label': 'Bearish'}, {'ticker': 'AAPL', 'relevance_score': '0.072655', 'ticker_sentiment_score': '-0.177859', 'ticker_sentiment_label': 'Somewhat-Bearish'}, {'ticker': 'C', 'relevance_score': '0.072655', 'ticker_sentiment_score': '0.0', 'ticker_sentiment_label': 'Neutral'}, {'ticker': 'SZIHF', 'relevance_score': '0.072655', 'ticker_sentiment_score': '-0.177859', 'ticker_sentiment_label': 'Somewhat-Bearish'}]}, {'title': 'Samsung forecasts big slump in fourth-quarter profit as tech demand wanes', 'url': 'https://www.marketwatch.com/story/samsung-forecasts-big-slump-in-fourth-quarter-profit-as-tech-demand-wanes-11672965850', 'time_published': '20230106T004400', 'authors': ['Jiyoung Sohn'], 'summary': 'The South Korean tech giant on Friday forecast its operating profit in the quarter ending Dec. 31 to drop by 69% from the prior year to 4.3 trillion won, the rough equivalent of $3.4 billion.', 'banner_image': 'https://images.mktw.net/im-698254/social', 'source': 'MarketWatch', 'category_within_source': 'Top Stories', 'source_domain': 'www.marketwatch.com', 'topics': [{'topic': 'Earnings', 'relevance_score': '0.538269'}, {'topic': 'Technology', 'relevance_score': '1.0'}], 'overall_sentiment_score': 0.201233, 'overall_sentiment_label': 'Somewhat-Bullish', 'ticker_sentiment': [{'ticker': 'SSNLF', 'relevance_score': '0.528475', 'ticker_sentiment_score': '0.291865', 'ticker_sentiment_label': 'Somewhat-Bullish'}, {'ticker': 'AAPL', 'relevance_score': '0.368773', 'ticker_sentiment_score': '0.271945', 'ticker_sentiment_label': 'Somewhat-Bullish'}]}, {'title': 'Looking for clues about iPhone supply? Ask AT&T, Verizon and T-Mobile', 'url': 'https://www.marketwatch.com/story/looking-for-clues-about-iphone-supply-ask-at-t-verizon-and-t-mobile-11672959595', 'time_published': '20230105T225900', 'authors': ['Emily Bary'], 'summary': 'How have iPhone sales have fared in the wake of production constraints on high-end models? Some public companies may have just offered a few clues.', 'banner_image': 'https://images.mktw.net/im-645194/social', 'source': 'MarketWatch', 'category_within_source': 'Top Stories', 'source_domain': 'www.marketwatch.com', 'topics': [{'topic': 'Earnings', 'relevance_score': '0.310843'}, {'topic': 'Technology', 'relevance_score': '0.5'}, {'topic': 'Finance', 'relevance_score': '0.5'}], 'overall_sentiment_score': 0.037606, 'overall_sentiment_label': 'Neutral', 'ticker_sentiment': [{'ticker': 'TMUS', 'relevance_score': '0.213048', 'ticker_sentiment_score': '0.051514', 'ticker_sentiment_label': 'Neutral'}, {'ticker': 'AAPL', 'relevance_score': '0.411176', 'ticker_sentiment_score': '0.044342', 'ticker_sentiment_label': 'Neutral'}, {'ticker': 'C', 'relevance_score': '0.107495', 'ticker_sentiment_score': '0.03411', 'ticker_sentiment_label': 'Neutral'}, {'ticker': 'T', 'relevance_score': '0.107495', 'ticker_sentiment_score': '0.03411', 'ticker_sentiment_label': 'Neutral'}, {'ticker': 'VZ', 'relevance_score': '0.31482', 'ticker_sentiment_score': '0.070458', 'ticker_sentiment_label': 'Neutral'}]}, {'title': 'Qualcomm Launching Snapdragon Satellite: What Investors Should Know About New Product - Qualcomm  ( NASDAQ:QCOM ) ', 'url': 'https://www.benzinga.com/news/23/01/30300937/qualcomm-launching-snapdragon-satellite-what-investors-should-know-about-new-product', 'time_published': '20230105T203642', 'authors': ['Chris Katje'], 'summary': 'Leading technology company Qualcomm Inc QCOM announced the launch of a new product at CES 2023 Thursday. Here are the details on Snapdragon Satellite. What Happened: Qualcomm has shown off several new products and partnerships at CES 2023, held this week in Las Vegas.', 'banner_image': 'https://cdn.benzinga.com/files/images/story/2023/01/05/iridium_constellation.png?width=1200&height=800&fit=crop', 'source': 'Benzinga', 'category_within_source': 'General', 'source_domain': 'www.benzinga.com', 'topics': [{'topic': 'Technology', 'relevance_score': '0.5'}, {'topic': 'Manufacturing', 'relevance_score': '0.5'}], 'overall_sentiment_score': 0.232864, 'overall_sentiment_label': 'Somewhat-Bullish', 'ticker_sentiment': [{'ticker': 'IRDM', 'relevance_score': '0.16171', 'ticker_sentiment_score': '0.234255', 'ticker_sentiment_label': 'Somewhat-Bullish'}, {'ticker': 'AAPL', 'relevance_score': '0.16171', 'ticker_sentiment_score': '-0.116971', 'ticker_sentiment_label': 'Neutral'}, {'ticker': 'GRMN', 'relevance_score': '0.316846', 'ticker_sentiment_score': '0.264768', 'ticker_sentiment_label': 'Somewhat-Bullish'}, {'ticker': 'QCOM', 'relevance_score': '0.779232', 'ticker_sentiment_score': '0.38996', 'ticker_sentiment_label': 'Bullish'}]}, {'title': 'Qualcomm jumps into emergency services with Snapdragon Satellite, in cooperation with Iridium', 'url': 'https://www.marketwatch.com/story/qualcomm-jumps-into-emergency-services-with-snapdragon-satellite-working-with-iridium-11672950590', 'time_published': '20230105T202900', 'authors': ['Wallace Witkowski'], 'summary': 'Qualcomm is looking to leapfrog Apple by offering emergency satellite service using Android smartphones.', 'banner_image': 'https://images.mktw.net/im-696626/social', 'source': 'MarketWatch', 'category_within_source': 'Top Stories', 'source_domain': 'www.marketwatch.com', 'topics': [{'topic': 'Technology', 'relevance_score': '0.5'}, {'topic': 'Manufacturing', 'relevance_score': '0.5'}], 'overall_sentiment_score': -0.021481, 'overall_sentiment_label': 'Neutral', 'ticker_sentiment': [{'ticker': 'IRDM', 'relevance_score': '0.220809', 'ticker_sentiment_score': '0.0', 'ticker_sentiment_label': 'Neutral'}, {'ticker': 'QCOM', 'relevance_score': '0.59972', 'ticker_sentiment_score': '0.091492', 'ticker_sentiment_label': 'Neutral'}, {'ticker': 'AAPL', 'relevance_score': '0.325924', 'ticker_sentiment_score': '-0.213767', 'ticker_sentiment_label': 'Somewhat-Bearish'}]}, {'title': 'Apple Earnings Could Come In Higher-Than-Expected But Stock Appears Weak Heading Into The Event - Apple  ( NASDAQ:AAPL ) ', 'url': 'https://www.benzinga.com/trading-ideas/long-ideas/23/01/30299119/apple-earnings-could-come-in-higher-than-expected-but-stock-appears-weak-heading-into-th', 'time_published': '20230105T191643', 'authors': ['Melanie Schaffer'], 'summary': 'Apple Inc AAPL was trading mostly flat on Thursday afternoon, holding more steady than the S&P 500, which was declining about 1.1%. Foxconn, or Hon Hai Precision Industry Co Ltd HNHPF, a key Apple supplier, announced production numbers for the month of December that came in above previously ...', 'banner_image': 'https://cdn.benzinga.com/files/images/story/2023/01/05/apple-inc-g56dec6799_1920.jpg?width=1200&height=800&fit=crop', 'source': 'Benzinga', 'category_within_source': 'Trading', 'source_domain': 'www.benzinga.com', 'topics': [{'topic': 'Earnings', 'relevance_score': '0.158519'}, {'topic': 'Technology', 'relevance_score': '1.0'}, {'topic': 'Financial Markets', 'relevance_score': '0.413559'}], 'overall_sentiment_score': 0.04157, 'overall_sentiment_label': 'Neutral', 'ticker_sentiment': [{'ticker': 'AAPL', 'relevance_score': '0.846873', 'ticker_sentiment_score': '-0.04199', 'ticker_sentiment_label': 'Neutral'}, {'ticker': 'HNHPF', 'relevance_score': '0.249106', 'ticker_sentiment_score': '0.14152', 'ticker_sentiment_label': 'Neutral'}]}, {'title': '3 Top Chip Stocks Paying Dividends', 'url': 'https://www.zacks.com/commentary/2035904/3-top-chip-stocks-paying-dividends', 'time_published': '20230105T191400', 'authors': ['Zacks Investment Research'], 'summary': \"While it's been a rough past year to own chip stocks, these three have seen their earnings outlook recently drift higher. Is the tide turning?\", 'banner_image': 'https://staticx-tuner.zacks.com/images/articles/main/2a/21412.jpg', 'source': 'Zacks Commentary', 'category_within_source': 'n/a', 'source_domain': 'www.zacks.com', 'topics': [{'topic': 'Earnings', 'relevance_score': '0.495866'}, {'topic': 'Technology', 'relevance_score': '0.5'}, {'topic': 'Manufacturing', 'relevance_score': '0.5'}], 'overall_sentiment_score': 0.254217, 'overall_sentiment_label': 'Somewhat-Bullish', 'ticker_sentiment': [{'ticker': 'NVDA', 'relevance_score': '0.1331', 'ticker_sentiment_score': '0.13077', 'ticker_sentiment_label': 'Neutral'}, {'ticker': 'AAPL', 'relevance_score': '0.1331', 'ticker_sentiment_score': '0.066336', 'ticker_sentiment_label': 'Neutral'}, {'ticker': 'POWI', 'relevance_score': '0.497391', 'ticker_sentiment_score': '0.392582', 'ticker_sentiment_label': 'Bullish'}, {'ticker': 'QCOM', 'relevance_score': '0.1331', 'ticker_sentiment_score': '0.066336', 'ticker_sentiment_label': 'Neutral'}, {'ticker': 'AMD', 'relevance_score': '0.1331', 'ticker_sentiment_score': '0.13077', 'ticker_sentiment_label': 'Neutral'}, {'ticker': 'STM', 'relevance_score': '0.497391', 'ticker_sentiment_score': '0.286128', 'ticker_sentiment_label': 'Somewhat-Bullish'}, {'ticker': 'TSM', 'relevance_score': '0.442522', 'ticker_sentiment_score': '0.228573', 'ticker_sentiment_label': 'Somewhat-Bullish'}]}, {'title': 'Why AppLovin  ( APP )  Shares Are Falling Today - AppLovin  ( NASDAQ:APP ) ', 'url': 'https://www.benzinga.com/analyst-ratings/analyst-color/23/01/30293893/applovin-likely-stock-for-additional-estimate-revisions-ahead-of-courtesy-secular-a', 'time_published': '20230105T190108', 'authors': ['Anusuya Lahiri'], 'summary': \"Benchmark analyst Mark Zgutowicz initiated coverage on AppLovin Corp APP with a Sell rating and a price target of $7. The analyst turned cautious about AppLovin's near-term business fundamentals and long-term competitive positioning and expected additional meaningful estimate revisions ahead.\", 'banner_image': 'https://cdn.benzinga.com/files/images/story/2023/01/05/app_logo_light__311c2d07a2b1948bb4d4f579a6d8b8b0.png?width=1200&height=800&fit=crop', 'source': 'Benzinga', 'category_within_source': 'Trading', 'source_domain': 'www.benzinga.com', 'topics': [{'topic': 'Technology', 'relevance_score': '1.0'}, {'topic': 'Financial Markets', 'relevance_score': '0.108179'}], 'overall_sentiment_score': -0.063084, 'overall_sentiment_label': 'Neutral', 'ticker_sentiment': [{'ticker': 'APP', 'relevance_score': '0.362065', 'ticker_sentiment_score': '-0.198386', 'ticker_sentiment_label': 'Somewhat-Bearish'}, {'ticker': 'GOOG', 'relevance_score': '0.093653', 'ticker_sentiment_score': '-0.082504', 'ticker_sentiment_label': 'Neutral'}, {'ticker': 'AAPL', 'relevance_score': '0.362065', 'ticker_sentiment_score': '-0.275696', 'ticker_sentiment_label': 'Somewhat-Bearish'}]}, {'title': \"Microsoft's AI Chatbot Could Bring 21% In Gains For Stockholders, But Analysts Are Torn Over Cloud Biz - Microsoft  ( NASDAQ:MSFT ) \", 'url': 'https://www.benzinga.com/analyst-ratings/analyst-color/23/01/30298963/microsofts-ai-chatbot-could-bring-21-in-gains-for-stockholders-but-analysts-are-tor', 'time_published': '20230105T190054', 'authors': ['Natan Ponieman'], 'summary': \"Equity research firm Davidson is optimistic about the future of Microsoft MSFT. Analysts Gil Luria and William Jellison initiated coverage and are expecting the company's stock to gain over 21% in the next year, projecting a price target of $270 against a current price of $223.\", 'banner_image': 'https://cdn.benzinga.com/files/images/story/2023/01/05/matthew-manuel-bhlsbx-0rnm-unsplash.jpg?width=1200&height=800&fit=crop', 'source': 'Benzinga', 'category_within_source': 'Markets', 'source_domain': 'www.benzinga.com', 'topics': [{'topic': 'Technology', 'relevance_score': '0.5'}, {'topic': 'Retail & Wholesale', 'relevance_score': '0.5'}, {'topic': 'Financial Markets', 'relevance_score': '0.316726'}], 'overall_sentiment_score': 0.043227, 'overall_sentiment_label': 'Neutral', 'ticker_sentiment': [{'ticker': 'MSFT', 'relevance_score': '0.790817', 'ticker_sentiment_score': '0.167152', 'ticker_sentiment_label': 'Somewhat-Bullish'}, {'ticker': 'GOOG', 'relevance_score': '0.110973', 'ticker_sentiment_score': '-0.15454', 'ticker_sentiment_label': 'Somewhat-Bearish'}, {'ticker': 'AAPL', 'relevance_score': '0.219809', 'ticker_sentiment_score': '0.124719', 'ticker_sentiment_label': 'Neutral'}, {'ticker': 'AMZN', 'relevance_score': '0.219809', 'ticker_sentiment_score': '0.124719', 'ticker_sentiment_label': 'Neutral'}]}, {'title': 'Big Tech Needs To Take Positive Action To Avoid Falling From Glory - Microsoft  ( NASDAQ:MSFT ) , Apple  ( NASDAQ:AAPL ) , Amazon.com  ( NASDAQ:AMZN ) ', 'url': 'https://www.benzinga.com/general/23/01/30299116/big-tech-needs-to-take-positive-action-to-avoid-falling-from-glory', 'time_published': '20230105T183727', 'authors': ['Upwallstreet'], 'summary': \"The music for Big Tech stopped last year after the Federal Reserve's aggressive interest rate increases crushed demand for growth stocks. On top of this, regulators are going after the digital giants in an effort to get them to behave more responsibly and the growth of the cloud market is slowing ...\", 'banner_image': 'https://cdn.benzinga.com/files/images/story/2023/01/05/screen_shot_2023-01-05_at_1.36.34_pm.png?width=1200&height=800&fit=crop', 'source': 'Benzinga', 'category_within_source': 'General', 'source_domain': 'www.benzinga.com', 'topics': [{'topic': 'Economy - Monetary', 'relevance_score': '0.451494'}, {'topic': 'Retail & Wholesale', 'relevance_score': '0.5'}, {'topic': 'Technology', 'relevance_score': '0.5'}], 'overall_sentiment_score': -0.041807, 'overall_sentiment_label': 'Neutral', 'ticker_sentiment': [{'ticker': 'MSFT', 'relevance_score': '0.151222', 'ticker_sentiment_score': '-0.016022', 'ticker_sentiment_label': 'Neutral'}, {'ticker': 'NFLX', 'relevance_score': '0.101154', 'ticker_sentiment_score': '-0.180064', 'ticker_sentiment_label': 'Somewhat-Bearish'}, {'ticker': 'GOOG', 'relevance_score': '0.151222', 'ticker_sentiment_score': '-0.074789', 'ticker_sentiment_label': 'Neutral'}, {'ticker': 'META', 'relevance_score': '0.249361', 'ticker_sentiment_score': '-0.168921', 'ticker_sentiment_label': 'Somewhat-Bearish'}, {'ticker': 'AAPL', 'relevance_score': '0.101154', 'ticker_sentiment_score': '-0.180064', 'ticker_sentiment_label': 'Somewhat-Bearish'}, {'ticker': 'AMZN', 'relevance_score': '0.101154', 'ticker_sentiment_score': '-0.120306', 'ticker_sentiment_label': 'Neutral'}]}, {'title': 'Tech Layoffs Will Drive a Rebound, Analyst Says', 'url': 'https://www.barrons.com/articles/tech-layoffs-rebound-wedbush-apple-stock-51672943369', 'time_published': '20230105T183000', 'authors': ['Karishma Vanjani'], 'summary': 'Salesforce, Microsoft Top Picks. Layoffs \"Positive\" for Markets, Analyst Says. ...', 'banner_image': 'https://images.barrons.com/im-697481/social', 'source': 'Barrons', 'category_within_source': 'n/a', 'source_domain': 'www.barrons.com', 'topics': [{'topic': 'Technology', 'relevance_score': '0.5'}, {'topic': 'Manufacturing', 'relevance_score': '0.5'}], 'overall_sentiment_score': -0.18664, 'overall_sentiment_label': 'Somewhat-Bearish', 'ticker_sentiment': [{'ticker': 'META', 'relevance_score': '0.807885', 'ticker_sentiment_score': '-0.097516', 'ticker_sentiment_label': 'Neutral'}, {'ticker': 'AAPL', 'relevance_score': '0.807885', 'ticker_sentiment_score': '-0.097516', 'ticker_sentiment_label': 'Neutral'}, {'ticker': 'TSLA', 'relevance_score': '0.807885', 'ticker_sentiment_score': '-0.097516', 'ticker_sentiment_label': 'Neutral'}]}, {'title': 'T-Mobile US Analysts Cheer Its Preliminary Q4 Subscriber Numbers - T-Mobile US  ( NASDAQ:TMUS ) ', 'url': 'https://www.benzinga.com/analyst-ratings/analyst-color/23/01/30297363/t-mobile-us-analysts-cheer-its-preliminary-q4-subscriber-numbers', 'time_published': '20230105T175734', 'authors': ['Anusuya Lahiri'], 'summary': 'RBC Capital analyst Kutgun Maral maintained Outperform on T-Mobile US, Inc TMUS with a $166 price target after it shared preliminary 4Q22 subscriber results and provided some color at an investor conference.', 'banner_image': 'https://cdn.benzinga.com/files/images/story/2023/01/05/nr-hero-elsight-blog-11-21-22-1-1250x615_0.png?optimize=medium&dpr=2&auto=webp&width=3840', 'source': 'Benzinga', 'category_within_source': 'News', 'source_domain': 'www.benzinga.com', 'topics': [{'topic': 'Technology', 'relevance_score': '1.0'}, {'topic': 'Financial Markets', 'relevance_score': '0.161647'}], 'overall_sentiment_score': 0.091263, 'overall_sentiment_label': 'Neutral', 'ticker_sentiment': [{'ticker': 'TMUS', 'relevance_score': '0.28387', 'ticker_sentiment_score': '0.243755', 'ticker_sentiment_label': 'Somewhat-Bullish'}, {'ticker': 'AAPL', 'relevance_score': '0.144275', 'ticker_sentiment_score': '-0.112869', 'ticker_sentiment_label': 'Neutral'}]}, {'title': 'The Most Anticipated Mobile Games Of 2023: 5 Titles To Keep An Eye On - Apple  ( NASDAQ:AAPL ) , Activision Blizzard  ( NASDAQ:ATVI ) ', 'url': 'https://www.benzinga.com/general/entertainment/23/01/30231588/the-most-anticipated-mobile-games-of-2023-5-titles-to-keep-an-eye-on', 'time_published': '20230105T151748', 'authors': ['Franca Quarneti'], 'summary': \"Despite being underestimated by some gamers, it's undeniable that the mobile gaming trend is growing by leaps and bounds year after year. Mobile games provide a form of light entertainment, allowing them to be played during the day and even in the middle of the daily routine.\", 'banner_image': 'https://cdn.benzinga.com/files/images/story/2022/12/29/afif-ramdhasuma-ct7iwrm7g5k-unsplash.jpg?width=1200&height=800&fit=crop', 'source': 'Benzinga', 'category_within_source': 'General', 'source_domain': 'www.benzinga.com', 'topics': [{'topic': 'Technology', 'relevance_score': '1.0'}], 'overall_sentiment_score': -0.021678, 'overall_sentiment_label': 'Neutral', 'ticker_sentiment': [{'ticker': 'MSFT', 'relevance_score': '0.067347', 'ticker_sentiment_score': '0.098236', 'ticker_sentiment_label': 'Neutral'}, {'ticker': 'NFLX', 'relevance_score': '0.067347', 'ticker_sentiment_score': '0.098236', 'ticker_sentiment_label': 'Neutral'}, {'ticker': 'GOOG', 'relevance_score': '0.067347', 'ticker_sentiment_score': '0.03442', 'ticker_sentiment_label': 'Neutral'}, {'ticker': 'AAPL', 'relevance_score': '0.067347', 'ticker_sentiment_score': '0.03442', 'ticker_sentiment_label': 'Neutral'}, {'ticker': 'ATVI', 'relevance_score': '0.067347', 'ticker_sentiment_score': '0.03442', 'ticker_sentiment_label': 'Neutral'}, {'ticker': 'TCTZF', 'relevance_score': '0.067347', 'ticker_sentiment_score': '-0.092214', 'ticker_sentiment_label': 'Neutral'}, {'ticker': 'CCOEF', 'relevance_score': '0.067347', 'ticker_sentiment_score': '-0.092214', 'ticker_sentiment_label': 'Neutral'}]}, {'title': \"What's Going On With Apple Stock Today? - Apple  ( NASDAQ:AAPL ) \", 'url': 'https://www.benzinga.com/trading-ideas/movers/23/01/30294914/whats-going-on-with-apple-stock-today', 'time_published': '20230105T145833', 'authors': ['Adam Eckert'], 'summary': 'Apple Inc AAPL shares are volatile on Thursday. Key supplier Foxconn, or Hon Hai Precision Industry Co Ltd HNHPF, turned in preliminary numbers for December showing production returned to normal last month.', 'banner_image': 'https://cdn.benzinga.com/files/images/story/2023/01/05/apple-iphone-14-pro-iphone-14-pro-max-hero-220907.jpg?width=1200&height=800&fit=crop', 'source': 'Benzinga', 'category_within_source': 'Trading', 'source_domain': 'www.benzinga.com', 'topics': [{'topic': 'Technology', 'relevance_score': '1.0'}, {'topic': 'Financial Markets', 'relevance_score': '0.108179'}], 'overall_sentiment_score': -0.004847, 'overall_sentiment_label': 'Neutral', 'ticker_sentiment': [{'ticker': 'AAPL', 'relevance_score': '0.928139', 'ticker_sentiment_score': '-0.24151', 'ticker_sentiment_label': 'Somewhat-Bearish'}, {'ticker': 'HNHPF', 'relevance_score': '0.310843', 'ticker_sentiment_score': '0.01602', 'ticker_sentiment_label': 'Neutral'}]}, {'title': 'Shopify Just Threw a Big Lifeline to Meta Platforms and Alphabet', 'url': 'https://www.fool.com/investing/2023/01/05/shopify-a-big-lifeline-to-meta-platforms-alphabet/', 'time_published': '20230105T140800', 'authors': ['Danny Vena'], 'summary': \"The company's digital advertising tools bypass Apple's privacy measures.\", 'banner_image': 'https://g.foolcdn.com/image/?url=https%3A%2F%2Fg.foolcdn.com%2Feditorial%2Fimages%2F715144%2Fa-person-entering-a-credit-card-number-into-a-smartphone.jpg&op=resize&w=700', 'source': 'Motley Fool', 'category_within_source': 'n/a', 'source_domain': 'www.fool.com', 'topics': [{'topic': 'Earnings', 'relevance_score': '0.214378'}, {'topic': 'Technology', 'relevance_score': '0.5'}, {'topic': 'Retail & Wholesale', 'relevance_score': '0.5'}], 'overall_sentiment_score': 0.161453, 'overall_sentiment_label': 'Somewhat-Bullish', 'ticker_sentiment': [{'ticker': 'SHOP', 'relevance_score': '0.536744', 'ticker_sentiment_score': '0.290063', 'ticker_sentiment_label': 'Somewhat-Bullish'}, {'ticker': 'GOOG', 'relevance_score': '0.44266', 'ticker_sentiment_score': '0.14438', 'ticker_sentiment_label': 'Neutral'}, {'ticker': 'META', 'relevance_score': '0.340134', 'ticker_sentiment_score': '0.124402', 'ticker_sentiment_label': 'Neutral'}, {'ticker': 'AAPL', 'relevance_score': '0.058472', 'ticker_sentiment_score': '0.026', 'ticker_sentiment_label': 'Neutral'}, {'ticker': 'AMZN', 'relevance_score': '0.230782', 'ticker_sentiment_score': '-0.035409', 'ticker_sentiment_label': 'Neutral'}]}, {'title': 'Apple Kicks off 2023 With new Features for Fitness+', 'url': 'https://www.thestreet.com/deals/apple-fitness-plus-new-kickboxing-workout-time-to-walk-2023', 'time_published': '20230105T140200', 'authors': ['Jacob Krol'], 'summary': \"The digital fitness service is getting kickboxing workouts, sleep meditation, a new season of 'Time to Walk,' and a Beyoncè artist spotlight series.\", 'banner_image': 'https://www.thestreet.com/.image/t_share/MTk0OTQ5MTE2MTI2NTcwMDA4/apple-fitness-trainer-nez-dally-.jpg', 'source': 'The Street', 'category_within_source': 'n/a', 'source_domain': 'www.thestreet.com', 'topics': [{'topic': 'Technology', 'relevance_score': '1.0'}], 'overall_sentiment_score': 0.290172, 'overall_sentiment_label': 'Somewhat-Bullish', 'ticker_sentiment': [{'ticker': 'AAPL', 'relevance_score': '0.566986', 'ticker_sentiment_score': '0.508461', 'ticker_sentiment_label': 'Bullish'}]}]}\n"
          ]
        }
      ],
      "source": [
        "import requests\n",
        "\n",
        "# replace the \"demo\" apikey below with your own key from https://www.alphavantage.co/support/#api-key\n",
        "url = 'https://www.alphavantage.co/query?function=NEWS_SENTIMENT&tickers=AAPL&apikey=demo'\n",
        "r = requests.get(url)\n",
        "data = r.json()\n",
        "\n",
        "print(data)"
      ]
    },
    {
      "cell_type": "markdown",
      "metadata": {},
      "source": [
        "# Sentiment Analysis of FinViz data #"
      ]
    },
    {
      "cell_type": "code",
      "execution_count": 27,
      "metadata": {},
      "outputs": [
        {
          "name": "stderr",
          "output_type": "stream",
          "text": [
            "[nltk_data] Downloading package vader_lexicon to\n",
            "[nltk_data]     C:\\Users\\Ishaan\\AppData\\Roaming\\nltk_data...\n",
            "[nltk_data]   Package vader_lexicon is already up-to-date!\n"
          ]
        },
        {
          "data": {
            "text/plain": [
              "True"
            ]
          },
          "execution_count": 27,
          "metadata": {},
          "output_type": "execute_result"
        }
      ],
      "source": [
        "nltk.download('vader_lexicon')"
      ]
    },
    {
      "cell_type": "code",
      "execution_count": 28,
      "metadata": {},
      "outputs": [],
      "source": [
        "# Sentiment Analysis\n",
        "analyzer = SentimentIntensityAnalyzer()\n",
        "\n",
        "columns = ['Ticker', 'Date', 'Time', 'Headline']\n",
        "news = pd.DataFrame(parsed_news, columns=columns)\n",
        "scores = news['Headline'].apply(analyzer.polarity_scores).tolist()\n",
        "\n",
        "df_scores = pd.DataFrame(scores)\n",
        "news = news.join(df_scores, rsuffix='_right')"
      ]
    },
    {
      "cell_type": "code",
      "execution_count": 29,
      "metadata": {},
      "outputs": [
        {
          "name": "stdout",
          "output_type": "stream",
          "text": [
            "\n",
            "\n",
            "              Date     Time    neg    neu    pos  compound\n",
            "Ticker                                                    \n",
            "AAPL    2023-01-06  06:48PM  0.000  1.000  0.000    0.0000\n",
            "AAPL    2023-01-06  06:43PM  0.209  0.791  0.000   -0.4404\n",
            "AAPL    2023-01-06  05:15PM  0.209  0.791  0.000   -0.4404\n",
            "AAPL    2023-01-06  04:09PM  0.000  0.852  0.148    0.5106\n",
            "AAPL    2023-01-06  04:00PM  0.000  0.722  0.278    0.6597\n",
            "\n",
            "\n",
            "              Date     Time    neg    neu    pos  compound\n",
            "Ticker                                                    \n",
            "TSLA    2023-01-06  10:26PM  0.000  0.751  0.249    0.5106\n",
            "TSLA    2023-01-06  09:01PM  0.205  0.795  0.000   -0.4767\n",
            "TSLA    2023-01-06  07:45PM  0.000  1.000  0.000    0.0000\n",
            "TSLA    2023-01-06  07:30PM  0.206  0.794  0.000   -0.5994\n",
            "TSLA    2023-01-06  06:31PM  0.000  0.737  0.263    0.3612\n",
            "\n",
            "\n",
            "              Date     Time   neg    neu    pos  compound\n",
            "Ticker                                                   \n",
            "AMZN    2023-01-06  06:48PM  0.00  1.000  0.000    0.0000\n",
            "AMZN    2023-01-06  06:10PM  0.25  0.603  0.147   -0.2960\n",
            "AMZN    2023-01-06  06:04PM  0.00  0.843  0.157    0.4215\n",
            "AMZN    2023-01-06  05:01PM  0.00  0.892  0.108    0.1779\n",
            "AMZN    2023-01-06  04:17PM  0.00  1.000  0.000    0.0000\n",
            "\n",
            "\n",
            "        Mean Sentiment\n",
            "Ticker                \n",
            "AAPL             -0.06\n",
            "TSLA             -0.08\n",
            "AMZN             -0.08\n"
          ]
        }
      ],
      "source": [
        "# View Data \n",
        "#news = pd.DataFrame()\n",
        "news['Date'] = pd.to_datetime(news.Date).dt.date\n",
        "\n",
        "unique_ticker = news['Ticker'].unique().tolist()\n",
        "news_dict = {name: news.loc[news['Ticker'] == name] for name in unique_ticker}\n",
        "\n",
        "values = []\n",
        "for ticker in tickers: \n",
        "    dataframe = news_dict[ticker]\n",
        "    dataframe = dataframe.set_index('Ticker')\n",
        "    dataframe = dataframe.drop(columns = ['Headline'])\n",
        "    print ('\\n')\n",
        "    print (dataframe.head())\n",
        "    \n",
        "    mean = round(dataframe['compound'].mean(), 2)\n",
        "    values.append(mean)\n",
        "    \n",
        "df = pd.DataFrame(list(zip(tickers, values)), columns =['Ticker', 'Mean Sentiment']) \n",
        "df = df.set_index('Ticker')\n",
        "df = df.sort_values('Mean Sentiment', ascending=False)\n",
        "print ('\\n')\n",
        "print (df)"
      ]
    },
    {
      "cell_type": "code",
      "execution_count": 30,
      "metadata": {},
      "outputs": [
        {
          "name": "stdout",
          "output_type": "stream",
          "text": [
            "Getting stock open for stock $AAPL\n",
            "AAPL 126.01000213623047\n"
          ]
        }
      ],
      "source": [
        "#Testing helper functions from stock_helper_functions.ipynb\n",
        "aapl_open = getStockOpen(\"AAPL\")"
      ]
    },
    {
      "cell_type": "markdown",
      "metadata": {},
      "source": [
        "# Creating Dataset #"
      ]
    },
    {
      "cell_type": "code",
      "execution_count": 31,
      "metadata": {},
      "outputs": [
        {
          "data": {
            "text/plain": [
              "Mean Sentiment   -0.08\n",
              "Name: AMZN, dtype: float64"
            ]
          },
          "execution_count": 31,
          "metadata": {},
          "output_type": "execute_result"
        }
      ],
      "source": [
        "num = df.loc['AMZN']\n",
        "num"
      ]
    },
    {
      "cell_type": "code",
      "execution_count": 32,
      "metadata": {},
      "outputs": [
        {
          "name": "stdout",
          "output_type": "stream",
          "text": [
            "Getting stock data for stock $AAPL\n",
            "[*********************100%***********************]  1 of 1 completed\n",
            "Getting stock data for stock $TSLA\n",
            "[*********************100%***********************]  1 of 1 completed\n",
            "Getting stock data for stock $AMZN\n",
            "[*********************100%***********************]  1 of 1 completed\n"
          ]
        }
      ],
      "source": [
        "#Pulling stock data\n",
        "for i in tickers:\n",
        "    dataset = getStockDataDaily(i, day='2022-12-27')\n",
        "    dataset['Sentiment'] = float(df.loc[i])\n",
        "    #print(dataset)\n",
        "    "
      ]
    },
    {
      "cell_type": "code",
      "execution_count": null,
      "metadata": {},
      "outputs": [],
      "source": []
    }
  ],
  "metadata": {
    "colab": {
      "authorship_tag": "ABX9TyO2ChGGwJkijmmb0vDcCR40",
      "include_colab_link": true,
      "name": "Sentiment Analysis.ipynb",
      "provenance": []
    },
    "kernelspec": {
      "display_name": "Python 3.10.0 64-bit",
      "language": "python",
      "name": "python3"
    },
    "language_info": {
      "codemirror_mode": {
        "name": "ipython",
        "version": 3
      },
      "file_extension": ".py",
      "mimetype": "text/x-python",
      "name": "python",
      "nbconvert_exporter": "python",
      "pygments_lexer": "ipython3",
      "version": "3.10.0"
    },
    "vscode": {
      "interpreter": {
        "hash": "369f2c481f4da34e4445cda3fffd2e751bd1c4d706f27375911949ba6bb62e1c"
      }
    }
  },
  "nbformat": 4,
  "nbformat_minor": 0
}
