{
  "cells": [
    {
      "cell_type": "markdown",
      "metadata": {
        "colab_type": "text",
        "id": "view-in-github"
      },
      "source": [
        "<a href=\"https://colab.research.google.com/github/ishaanpaul98/Sentiment-Analysis/blob/main/Sentiment_Analysis.ipynb\" target=\"_parent\"><img src=\"https://colab.research.google.com/assets/colab-badge.svg\" alt=\"Open In Colab\"/></a>"
      ]
    },
    {
      "cell_type": "markdown",
      "metadata": {},
      "source": [
        "# Imports #"
      ]
    },
    {
      "cell_type": "code",
      "execution_count": 188,
      "metadata": {
        "id": "pGQVQfr0b3SS"
      },
      "outputs": [],
      "source": [
        "# Import libraries\n",
        "import pandas as pd\n",
        "import matplotlib.pyplot as plt\n",
        "import seaborn as sns\n",
        "from wordcloud import WordCloud\n",
        "import re\n",
        "\n",
        "from bs4 import BeautifulSoup\n",
        "from urllib.request import urlopen, Request\n",
        "from nltk.sentiment.vader import SentimentIntensityAnalyzer\n",
        "\n",
        "import datetime\n",
        "import yfinance as yf\n",
        "import time\n",
        "import requests\n",
        "import io"
      ]
    },
    {
      "cell_type": "code",
      "execution_count": 189,
      "metadata": {
        "id": "WSgZEvuikgTn"
      },
      "outputs": [],
      "source": [
        "import nltk\n",
        "from nltk.corpus import stopwords\n",
        "from nltk.stem import WordNetLemmatizer"
      ]
    },
    {
      "cell_type": "code",
      "execution_count": 190,
      "metadata": {
        "id": "9hbdUWDKkgv_"
      },
      "outputs": [],
      "source": [
        "from sklearn.feature_extraction.text import CountVectorizer\n",
        "from sklearn.model_selection import GridSearchCV\n",
        "from sklearn.ensemble import RandomForestClassifier"
      ]
    },
    {
      "cell_type": "code",
      "execution_count": 191,
      "metadata": {
        "id": "Eqvj106lkgyU"
      },
      "outputs": [],
      "source": [
        "from sklearn.metrics import accuracy_score,precision_score,recall_score,confusion_matrix,roc_curve,classification_report\n",
        "from sklearn.metrics import plot_confusion_matrix"
      ]
    },
    {
      "cell_type": "markdown",
      "metadata": {},
      "source": [
        "# Stock Data Helper Functions #"
      ]
    },
    {
      "cell_type": "code",
      "execution_count": 192,
      "metadata": {},
      "outputs": [],
      "source": [
        "def arrayToString(arr):\n",
        "    print(\"Starting array to list\")\n",
        "    listToStr = ' '.join([str(elem) for elem in arr])\n",
        "    return listToStr\n"
      ]
    },
    {
      "cell_type": "code",
      "execution_count": 193,
      "metadata": {},
      "outputs": [
        {
          "name": "stdout",
          "output_type": "stream",
          "text": [
            "Starting array to list\n",
            "Getting stock data for stock $AAPL TSLA\n",
            "[*********************100%***********************]  2 of 2 completed\n"
          ]
        },
        {
          "data": {
            "text/html": [
              "<div>\n",
              "<style scoped>\n",
              "    .dataframe tbody tr th:only-of-type {\n",
              "        vertical-align: middle;\n",
              "    }\n",
              "\n",
              "    .dataframe tbody tr th {\n",
              "        vertical-align: top;\n",
              "    }\n",
              "\n",
              "    .dataframe thead tr th {\n",
              "        text-align: left;\n",
              "    }\n",
              "\n",
              "    .dataframe thead tr:last-of-type th {\n",
              "        text-align: right;\n",
              "    }\n",
              "</style>\n",
              "<table border=\"1\" class=\"dataframe\">\n",
              "  <thead>\n",
              "    <tr>\n",
              "      <th></th>\n",
              "      <th colspan=\"2\" halign=\"left\">Adj Close</th>\n",
              "      <th colspan=\"2\" halign=\"left\">Close</th>\n",
              "      <th colspan=\"2\" halign=\"left\">High</th>\n",
              "      <th colspan=\"2\" halign=\"left\">Low</th>\n",
              "      <th colspan=\"2\" halign=\"left\">Open</th>\n",
              "      <th colspan=\"2\" halign=\"left\">Volume</th>\n",
              "    </tr>\n",
              "    <tr>\n",
              "      <th></th>\n",
              "      <th>AAPL</th>\n",
              "      <th>TSLA</th>\n",
              "      <th>AAPL</th>\n",
              "      <th>TSLA</th>\n",
              "      <th>AAPL</th>\n",
              "      <th>TSLA</th>\n",
              "      <th>AAPL</th>\n",
              "      <th>TSLA</th>\n",
              "      <th>AAPL</th>\n",
              "      <th>TSLA</th>\n",
              "      <th>AAPL</th>\n",
              "      <th>TSLA</th>\n",
              "    </tr>\n",
              "    <tr>\n",
              "      <th>Date</th>\n",
              "      <th></th>\n",
              "      <th></th>\n",
              "      <th></th>\n",
              "      <th></th>\n",
              "      <th></th>\n",
              "      <th></th>\n",
              "      <th></th>\n",
              "      <th></th>\n",
              "      <th></th>\n",
              "      <th></th>\n",
              "      <th></th>\n",
              "      <th></th>\n",
              "    </tr>\n",
              "  </thead>\n",
              "  <tbody>\n",
              "    <tr>\n",
              "      <th>2022-12-20</th>\n",
              "      <td>132.300003</td>\n",
              "      <td>137.800003</td>\n",
              "      <td>132.300003</td>\n",
              "      <td>137.800003</td>\n",
              "      <td>133.25</td>\n",
              "      <td>148.470001</td>\n",
              "      <td>129.889999</td>\n",
              "      <td>137.660004</td>\n",
              "      <td>131.389999</td>\n",
              "      <td>146.050003</td>\n",
              "      <td>77256200</td>\n",
              "      <td>158881700</td>\n",
              "    </tr>\n",
              "  </tbody>\n",
              "</table>\n",
              "</div>"
            ],
            "text/plain": [
              "             Adj Close                   Close                High  \\\n",
              "                  AAPL        TSLA        AAPL        TSLA    AAPL   \n",
              "Date                                                                 \n",
              "2022-12-20  132.300003  137.800003  132.300003  137.800003  133.25   \n",
              "\n",
              "                               Low                    Open              \\\n",
              "                  TSLA        AAPL        TSLA        AAPL        TSLA   \n",
              "Date                                                                     \n",
              "2022-12-20  148.470001  129.889999  137.660004  131.389999  146.050003   \n",
              "\n",
              "              Volume             \n",
              "                AAPL       TSLA  \n",
              "Date                             \n",
              "2022-12-20  77256200  158881700  "
            ]
          },
          "execution_count": 193,
          "metadata": {},
          "output_type": "execute_result"
        }
      ],
      "source": [
        "def getStockDataDaily(symbols, day):\n",
        "    symbols = arrayToString(symbols)\n",
        "    print(\"Getting stock data for stock $\"+symbols)\n",
        "    df = yf.download(symbols, start=day, period = \"1d\")\n",
        "    return df\n",
        "\n",
        "getStockDataDaily(['AAPL', 'TSLA'], \"2022-12-20\")"
      ]
    },
    {
      "cell_type": "code",
      "execution_count": 194,
      "metadata": {},
      "outputs": [
        {
          "name": "stdout",
          "output_type": "stream",
          "text": [
            "Getting stock close for stock $AAPL\n",
            "AAPL 132.3000030517578\n"
          ]
        },
        {
          "data": {
            "text/plain": [
              "132.3000030517578"
            ]
          },
          "execution_count": 194,
          "metadata": {},
          "output_type": "execute_result"
        }
      ],
      "source": [
        "def getStockClose(symbol):\n",
        "    print(\"Getting stock close for stock $\"+symbol)\n",
        "    ticker = yf.Ticker(symbol)\n",
        "    data = ticker.history()\n",
        "    #print(data)\n",
        "    last_price = data['Close'].iloc[-1]\n",
        "    print(symbol, last_price)\n",
        "    return last_price\n",
        "\n",
        "getStockClose(\"AAPL\")"
      ]
    },
    {
      "cell_type": "code",
      "execution_count": 195,
      "metadata": {},
      "outputs": [
        {
          "name": "stdout",
          "output_type": "stream",
          "text": [
            "Getting stock open for stock $AAPL\n",
            "AAPL 131.38999938964844\n"
          ]
        },
        {
          "data": {
            "text/plain": [
              "131.38999938964844"
            ]
          },
          "execution_count": 195,
          "metadata": {},
          "output_type": "execute_result"
        }
      ],
      "source": [
        "def getStockOpen(symbol):\n",
        "    print(\"Getting stock open for stock $\"+symbol)\n",
        "    ticker = yf.Ticker(symbol)\n",
        "    data = ticker.history()\n",
        "    #print(data)\n",
        "    last_price = data['Open'].iloc[-1]\n",
        "    print(symbol, last_price)\n",
        "    return last_price\n",
        "\n",
        "getStockOpen(\"AAPL\")"
      ]
    },
    {
      "cell_type": "code",
      "execution_count": 196,
      "metadata": {},
      "outputs": [
        {
          "name": "stdout",
          "output_type": "stream",
          "text": [
            "Getting stock high for stock $AAPL\n",
            "AAPL 133.25\n"
          ]
        },
        {
          "data": {
            "text/plain": [
              "133.25"
            ]
          },
          "execution_count": 196,
          "metadata": {},
          "output_type": "execute_result"
        }
      ],
      "source": [
        "def getStockHigh(symbol):\n",
        "    print(\"Getting stock high for stock $\"+symbol)\n",
        "    ticker = yf.Ticker(symbol)\n",
        "    data = ticker.history()\n",
        "    #print(data)\n",
        "    last_price = data['High'].iloc[-1]\n",
        "    print(symbol, last_price)\n",
        "    return last_price\n",
        "\n",
        "getStockHigh(\"AAPL\")"
      ]
    },
    {
      "cell_type": "code",
      "execution_count": 197,
      "metadata": {},
      "outputs": [
        {
          "name": "stdout",
          "output_type": "stream",
          "text": [
            "Getting stock low for stock $AAPL\n",
            "AAPL 129.88999938964844\n"
          ]
        },
        {
          "data": {
            "text/plain": [
              "129.88999938964844"
            ]
          },
          "execution_count": 197,
          "metadata": {},
          "output_type": "execute_result"
        }
      ],
      "source": [
        "def getStockLow(symbol):\n",
        "    print(\"Getting stock low for stock $\"+symbol)\n",
        "    ticker = yf.Ticker(symbol)\n",
        "    data = ticker.history()\n",
        "    #print(data)\n",
        "    last_price = data['Low'].iloc[-1]\n",
        "    print(symbol, last_price)\n",
        "    return last_price\n",
        "\n",
        "getStockLow(\"AAPL\")"
      ]
    },
    {
      "cell_type": "markdown",
      "metadata": {},
      "source": [
        "# Gathering FinViz Data #"
      ]
    },
    {
      "cell_type": "code",
      "execution_count": 198,
      "metadata": {},
      "outputs": [],
      "source": [
        "# Parameters \n",
        "n = 3 #the # of article headlines displayed per ticker\n",
        "tickers = ['AAPL', 'TSLA', 'AMZN']"
      ]
    },
    {
      "cell_type": "code",
      "execution_count": 199,
      "metadata": {},
      "outputs": [
        {
          "name": "stdout",
          "output_type": "stream",
          "text": [
            "current url is: https://finviz.com/quote.ashx?t=AAPL\n",
            "current url is: https://finviz.com/quote.ashx?t=TSLA\n",
            "current url is: https://finviz.com/quote.ashx?t=AMZN\n",
            "\n",
            "\n",
            "Recent News Headlines for AAPL: \n",
            "Apple (AAPL) Stock Sinks As Market Gains: What You Should Know ( Dec-20-22 05:45PM )\n",
            "Apple Partially Shifts Macbook Production to Vietnam ( 04:33PM )\n",
            "How big tech defeated the biggest antitrust push in decades on Capitol Hill ( 04:11PM )\n",
            "\n",
            "\n",
            "Recent News Headlines for TSLA: \n",
            "Dow Jones Futures Rise On Nike As Market Rally Snaps Losing Streak; Tesla Meltdown Continues ( Dec-20-22 09:52PM )\n",
            "Musk Will Resign as Twitter CEO and Focus on Engineering Teams ( 09:24PM )\n",
            "Elon Musk says hell step down as Twitter CEO when he finds someone foolish enough to take the job ( 09:15PM )\n",
            "\n",
            "\n",
            "Recent News Headlines for AMZN: \n",
            "Wells Fargo, Amazon Look to Move On ( Dec-20-22 07:04PM )\n",
            "USPS will electrify entire mail-delivery fleet within just a few years ( 04:21PM )\n",
            "Pharmacies limit the purchase of kids' meds. How bad are the shortages? ( 04:02PM )\n"
          ]
        }
      ],
      "source": [
        "# Get Data\n",
        "finwiz_url = 'https://finviz.com/quote.ashx?t='\n",
        "news_tables = {}\n",
        "\n",
        "for ticker in tickers:\n",
        "    url = finwiz_url + ticker\n",
        "    print(\"current url is: \" +url)\n",
        "    header = {\"User-Agent\": \"Mozilla/5.0 (Windows NT 10.0; Win64; x64) AppleWebKit/537.36 (KHTML, like Gecko) Chrome/92.0.4515.159 Safari/537.36.\"}\n",
        "    req = Request(url=url,headers=header) \n",
        "    resp = urlopen(req)    \n",
        "    html = BeautifulSoup(resp, features=\"lxml\")\n",
        "    news_table = html.find(id='news-table')\n",
        "    news_tables[ticker] = news_table\n",
        "\n",
        "try:\n",
        "    for ticker in tickers:\n",
        "        df = news_tables[ticker]\n",
        "        df_tr = df.findAll('tr')\n",
        "    \n",
        "        print ('\\n')\n",
        "        print ('Recent News Headlines for {}: '.format(ticker))\n",
        "        \n",
        "        for i, table_row in enumerate(df_tr):\n",
        "            a_text = table_row.a.text\n",
        "            td_text = table_row.td.text\n",
        "            td_text = td_text.strip()\n",
        "            print(a_text,'(',td_text,')')\n",
        "            if i == n-1:\n",
        "                break\n",
        "except KeyError:\n",
        "    pass"
      ]
    },
    {
      "cell_type": "code",
      "execution_count": 200,
      "metadata": {},
      "outputs": [
        {
          "name": "stdout",
          "output_type": "stream",
          "text": [
            "Dec-20-22 05:45PMApple (AAPL) Stock Sinks As Market Gains: What You Should Know Zacks\n",
            "04:33PMApple Partially Shifts Macbook Production to Vietnam Investopedia\n",
            "04:11PMHow big tech defeated the biggest antitrust push in decades on Capitol Hill LA Times\n",
            "12:03PMAmazon settles with the EU over antitrust charges Yahoo Finance Video\n",
            "09:49AM12 Best Stocks To Invest In Right Now Insider Monkey\n",
            "\n",
            "09:43AM\n",
            "Loading…\n",
            "\n",
            "09:43AMNo love for meme stocks  stock-trading kids are loading up on Apple and index funds MarketWatch\n",
            "09:41AMStocks mixed at open, Apple and Tesla move lower Yahoo Finance Video\n",
            "09:31AMTarget, Amazon and 4 More Retailers That Will Reward You for Turning in Your Old Stuff GOBankingRates\n",
            "09:09AMApple files for more construction at NW Austin campus American City Business Journals\n",
            "09:08AMTwitter Rolls Out 'Blue For Business,' Visa Pitches Auto-Payments On Ethereum Blockchain, Justin Bieber Slams H&M: Today's Top Stories Benzinga\n",
            "09:01AM1 Top Stock to Buy for 2023 and Beyond Motley Fool\n",
            "08:15AMParis Court Slaps Apple With Fine Of 1M Over App Store Practices Benzinga\n",
            "07:53AMDow Jones Extends Losing Streak As Apple Sells Off; Tesla Hits New Low Amid Elon Musk Twitter Poll Investor's Business Daily\n",
            "07:30AMPurpose Investments Debuts Yield Shares, the Worlds First Yield-Focused Single-Stock ETFs GlobeNewswire\n",
            "07:00AMWill Nvidia Be a Trillion-Dollar Stock by 2030? Motley Fool\n",
            "\n",
            "06:59AM\n",
            "Loading…\n",
            "\n",
            "06:59AMPayPal Stock: Buy, Sell, or Hold Before 2023? Motley Fool\n",
            "06:44AMApple Christmas iPhone Sales Will Take Supply Chain Hit, Says JPMorgan; Cuts Price Target TheStreet.com\n",
            "06:04AMAmazon stock is now down 50% this year and is at a 52-week low Yahoo Finance\n",
            "05:30AMStock Picking Makes a Comeback in Market Turbulence The Wall Street Journal\n",
            "05:20AMGot $1,000? 5 Buffett Stocks to Buy and Hold Forever Motley Fool\n",
            "Dec-19-22 06:10PMWhy Apple Stock Flopped on Monday Motley Fool\n",
            "03:48PMSports streaming: The math is difficult in negotiations and viewership count, analyst says Yahoo Finance Video\n",
            "12:47PMUpgrading Your Phone for the Holidays Could Save You $1,000 Right Now With This Provider GOBankingRates\n",
            "12:42PMUPDATE 1-Apple fined 1 mln euros by Paris court over App Store practices Reuters\n",
            "12:38PMNever Lose Your Things Again  The Startup Pouring Gasoline on the Apple AirTag Benzinga\n",
            "11:58AMApple fined 1 million euros by Paris court over App Store practices Reuters\n",
            "10:16AMAlphabet (GOOGL) Boosts Wear OS Platform With KoruLab Takeover Zacks\n",
            "10:06AMGoogle, Amazon, Microsoft's Growing Finance Business Is Getting Them Bank-Like Treatment. Are Beaten Down Tech Stocks A Buy Now? Investor's Business Daily\n",
            "09:26AMSee it from the air: Williamson County raking in some of America's biggest projects American City Business Journals\n",
            "09:00AMInvestors Heavily Search Apple Inc. (AAPL): Here is What You Need to Know Zacks\n",
            "\n",
            "09:00AM\n",
            "Loading…\n",
            "\n",
            "09:00AMShould You Buy Spotify Stock Before the End of 2022? Motley Fool\n",
            "08:24AMWhy More EV Makers Arent Making Cars at All Barrons.com\n",
            "07:00AMIs Apple Stock A Buy Amid Holiday Season Shopping? Investor's Business Daily\n",
            "05:36AMTesla stock pops on Musk's Twitter 'step down' poll Yahoo Finance\n",
            "05:06AMWarren Buffett Has Spent $136 Billion Buying These 4 Stocks Since 2016 Motley Fool\n",
            "Dec-18-22 11:48PMApple Suppliers Accelerate Buildup Outside China, Analysts Say Bloomberg\n",
            "11:03PMBig Techs' Growing Finance Business Is Getting Them Bank-Like Treatment. Are Beaten Down Tech Stocks A Buy Now? Investor's Business Daily\n",
            "10:21AMNever Mind the FAANG Stocks, Buy the GHOST Stocks Before 2023 Motley Fool\n",
            "10:00AMIts Time to Boot the Moochers Off Your Spotify, Netflix and Other Accounts The Wall Street Journal\n",
            "08:30AMEXCLUSIVE: New American Accessories Brand Aims to Redefine Luxury NFT Experience WWD\n",
            "07:50AMA Bull Market Is Coming: 2 Trillion-Dollar Growth Stocks to Buy Before They Soar Motley Fool\n",
            "07:30AMSemiconductor Stocks Are On the Rise: 3 Companies to Watch Right Now Motley Fool\n",
            "07:20AM3 Metaverse Stocks to Buy Right Now Motley Fool\n",
            "Dec-17-22 09:51AM15 Most Boycotted Companies and Brands in History Insider Monkey\n",
            "08:15AMSteve Jobs 'wouldnt have succeeded' without Tim Cook, former Apple exec explains Yahoo Finance\n",
            "06:40AM3 Stocks to Invest in Virtual Reality Motley Fool\n",
            "06:32AMDoes ExxonMobil's Massive $50 Billion Stock Buyback Make It a Buy? Motley Fool\n",
            "06:00AMInsiders probably made the right decision selling US$3.0m worth of shares earlier this year as Apple Inc.'s (NASDAQ:AAPL)) stock dips by 5.4%. Simply Wall St.\n",
            "05:00AMBig Tech is Designing Chips Too, Should Semiconductor Investors Worry? Motley Fool\n",
            "Dec-16-22 06:13PMWeekly Round Up TheStreet.com\n",
            "04:54PMHow Apples privacy changes may impact Meta Yahoo Finance Video\n",
            "04:38PMThe No. 1 set and forget stock in tech hardware for next year? You guessed it. MarketWatch\n",
            "02:08PMApple Stock Breaks Below Key Support. TheStreet.com\n",
            "01:32PMStock market sell-off: Investors 'are changing their focus,' market strategist explains Yahoo Finance\n",
            "12:21PMHow Apple Makes Money Investopedia\n",
            "12:12PMMastercard (MA) Brings Secure Payments to Kuwait via Apple Pay Zacks\n",
            "12:12PMApple Explores Allowing iPhone, iPad Users to Download Apps Outside Its Store The Wall Street Journal\n",
            "10:41AMApple Stock Is a Top Pick for 2023, Analyst Says. Look Past Recent Struggles. Barrons.com\n",
            "09:45AMBetter Buy: Amazon vs. Apple Motley Fool\n",
            "09:38AMApp store avalanche forecast as Apple bows to EU demands Reuters\n",
            "09:35AMCORRECTED-App store avalanche forecast as Apple bows to EU demands Reuters\n",
            "09:00AMStar-Studded New Christmas Movies Still Cant Beat the Classics The Wall Street Journal\n",
            "08:21AMDow Jones Futures Fall After Nasdaq Breaks Key Level, Apple Dives; Here's The Silver Lining Investor's Business Daily\n",
            "06:20AMIs Warren Buffett's Berkshire Hathaway Stock a Buy Before the End of 2022? Motley Fool\n",
            "05:15AM40 Billion Reasons Why These Semiconductor Stocks Could Keep Beating the Market in 2023 Motley Fool\n",
            "02:00AMTesla and GM Are Betting Their Future on Electric Vehicles. Foxconn and Magna Want a Piece of the Action. Barrons.com\n",
            "Dec-15-22 05:07PMApple users unlikely to ditch App Store for cheaper alternatives, analyst says Yahoo Finance\n",
            "04:09PMWhy Taiwan Semiconductor Manufacturing, Applied Materials, and Skyworks Solutions Fell Hard Today Motley Fool\n",
            "12:35PMWhy Apple, Amazon, and Microsoft Are All Falling Today Motley Fool\n",
            "09:17AM10 Best-Performing Technology ETFs in 2022 Insider Monkey\n",
            "09:11AM2 Top Stocks Poised for Bull Runs in 2023 Motley Fool\n",
            "09:00AM3 Things About Apple That Smart Investors Know Motley Fool\n",
            "08:54AMApple (AAPL) Launches App Freeform for iPhone & iPad Users Zacks\n",
            "08:00AMJobs couldnt have succeeded without Tim Cook: Chahil Yahoo Finance Video\n",
            "08:00AMInfluencers with Andy Serwer: Satjiv Chahil Yahoo Finance Video\n",
            "08:00AMApple Supplier Foxconn Cuts Covid Rules at China iPhone Factory. The Damage Might Have Been Done. Barrons.com\n",
            "07:04AMCrucial Apple iPhone Supplier Relaxes Covid Restrictions In China Factory Benzinga\n",
            "04:03AMFoxconn Ends Most Closed-Loop Restrictions in iPhone City Bloomberg\n",
            "Dec-14-22 09:48PMAustralia takes aim at Apple, Microsoft over child protection online Reuters\n",
            "09:46PMAustralia takes aim at Apple, Microsoft over child protection online Reuters\n",
            "05:46PMThe tug of war between Tim Cook and Elon Musk just took a twist as Apple folds in the face of European Union laws Fortune\n",
            "05:45PMApple (AAPL) Dips More Than Broader Markets: What You Should Know Zacks\n",
            "05:16PMApple is seeing better iPhone wait times, but thats still not enough, says analyst MarketWatch\n",
            "05:06PMThe tech industrys poor performance will bleed into 2023 Yahoo Finance\n",
            "05:00PMStreaming wars: Die has been cast as winners are Disneys streaming bundle, analyst says Yahoo Finance Video\n",
            "01:14PMiPhone update: Apple releases iOS 16.2 with major new security changes The Independent\n",
            "01:11PMApple Finally Discloses Resolving iPhone's Zero Day Vulnerability Benzinga\n",
            "12:55PMApple to allow outside app stores and other changes in major transformation of how iPhone works, report claims The Independent\n",
            "12:05PMApple to support third-party app stores on iOS devices Yahoo Finance Video\n",
            "10:57AMApple stock: The highs, lows, and milestones for the tech giant's shares in 2022 Yahoo Finance Video\n",
            "09:55AMForget the iPhone. Apple Stock Doesn't Need It. Motley Fool\n",
            "08:59AMEurope May Force Apple to Allow Other App Stores Barrons.com\n",
            "08:29AMFed Rate Hike Looms After Market Rally Fizzles; Tesla Stock Hits New Lows As Elon Musk Admits This Investor's Business Daily\n",
            "07:11AMEurope May Force Apple to Allow Other App Stores. Investors Arent Too Worried. Barrons.com\n",
            "07:00AMApple Stock: Buy, Sell, or Hold in 2023? Motley Fool\n",
            "02:59AMDelta, Lennar, Darden Restaurants rise premarket; Tesla, Best Buy fall Investing.com\n",
            "01:57AMFed decision, China stops counting, U.S. oil inventories - what's moving markets Investing.com\n",
            "Dec-13-22 07:11PMStates Demand That Google, Apple Raise Content Ratings for TikTok The Wall Street Journal\n",
            "06:16PMWhy Investors Cranked Spotify Stock Higher Today Motley Fool\n",
            "03:52PMApple plans to allow third-party app stores on its devices Yahoo Finance Video\n",
            "Dec-20-22 09:52PMDow Jones Futures Rise On Nike As Market Rally Snaps Losing Streak; Tesla Meltdown Continues Investor's Business Daily -8.05%\n",
            "09:24PMMusk Will Resign as Twitter CEO and Focus on Engineering Teams Bloomberg\n",
            "09:15PMElon Musk says hell step down as Twitter CEO when he finds someone foolish enough to take the job MarketWatch\n",
            "08:45PMREFILE-UPDATE 1-Musk says he'll step down as Twitter CEO after finding a replacement Reuters\n",
            "06:30PMTeslas dropping share price takes valuation below ExxonMobils Financial Times\n",
            "\n",
            "06:17PM\n",
            "Loading…\n",
            "\n",
            "06:17PMA Big Tech Stock Just Set an Enormous Record (It Didn't Want To) TheStreet.com\n",
            "05:33PMElon Musks Twitter Problems Are Multiplying Bloomberg\n",
            "05:12PMDow Jones Futures: Market Rally Snaps Losing Streak; Tesla Meltdown Continues Investor's Business Daily\n",
            "05:09PMTesla is now worth less than Exxon as stock plunges toward worst month, quarter and year in history MarketWatch\n",
            "05:08PMElon Musk considering possible new Twitter CEO including pals from PayPal Fox Business\n",
            "05:05PMMusk Lashes Out at Unhappy Investor as Tesla Shares Retreat Bloomberg\n",
            "04:49PMTesla Stock Vs. BYD Stock: TSLA Stock Keeps Plunging On China Demand Fears, Musk's Twitter Reign Investor's Business Daily\n",
            "04:44PMTesla Stock Just Keeps Falling. The Chart Is in Control. Barrons.com\n",
            "04:40PMUS STOCKS-Wall St closes slightly higher after four-day sell off Reuters\n",
            "04:28PMBig Oil Stages a Big Comeback as Exxons Valuation Passes Tesla Bloomberg\n",
            "\n",
            "04:04PM\n",
            "Loading…\n",
            "\n",
            "04:04PMU.S. EV adoption outlook fell by 30% in 2022 Yahoo Finance Video\n",
            "03:52PMEvercore ISI cuts Tesla price target Yahoo Finance Video\n",
            "03:51PMOSHA proposes nearly $300K in fines for Tesla supplier in Central Texas American City Business Journals\n",
            "03:50PMWhy Tesla Hit Another 2-Year Low Today Motley Fool\n",
            "02:42PMUS STOCKS-Wall Street up, regains ground after four-day sell off Reuters\n",
            "02:07PMTesla Stock Will Go Lower Until This Stops the Fall Barrons.com\n",
            "01:46PMAfter Tesla stock lost critical battle line, shares plunge toward worst month, quarter and year in history MarketWatch\n",
            "01:33PMElon Musk Picks High-Stakes Fight With Sen. Elizabeth Warren TheStreet.com\n",
            "01:31PMTesla stock concerns go beyond Elon Musk multitasking at Twitter: Analyst Yahoo Finance\n",
            "01:08PMTesla falls on growing angst over Musk's focus on Twitter Reuters\n",
            "01:08PMUS STOCKS-Wall St edges higher as energy, financial stocks rise Reuters\n",
            "12:45PMTesla Now Less Valuable than Johnson & Johnson The Wall Street Journal\n",
            "12:35PMTesla Shares Are Weak. The Reason Why Is in the Stock Chart. Barrons.com\n",
            "12:28PMWhy Tesla, GM stand to benefit from Treasury's EV tax credit rule delay Yahoo Finance\n",
            "12:10PMDow Jones Rises; A Perfect Set Up For Santa Claus Rally? Tesla's Musk Restricts Twitter Polling; Micron, Fedex, Nike On Tap Investor's Business Daily\n",
            "\n",
            "12:10PM\n",
            "Loading…\n",
            "\n",
            "12:10PMDow Jones Rises: A Perfect Setup For Santa Claus Rally? Tesla's Musk Restricts Twitter Polling; Micron, FedEx, Nike On Tap Investor's Business Daily\n",
            "11:33AMElon Musk Picks High Stake Fight With Senator Elizabeth Warren TheStreet.com\n",
            "10:51AMUS STOCKS-Energy, financial stocks lift Wall St after BOJ policy surprise Reuters\n",
            "10:46AMElon Musk is actively looking for Twitter's next CEO: Report Yahoo Finance\n",
            "10:15AMHow Much Lower Will Tesla Stock Go? Motley Fool\n",
            "10:08AMDow Jones Reverses Higher; Tesla Stock Hits New Low On Price Target Cuts Investor's Business Daily\n",
            "10:08AMTesla EV Buyers Are Waiting for Discounts. The Purchase Subsidies List Is Delayed. Barrons.com\n",
            "10:00AMTesla Stock Falls Despite Elon Musk's Search for New Twitter CEO The Wall Street Journal\n",
            "09:53AMTesla stock gets more cautious comments from Wall Street Yahoo Finance\n",
            "09:51AMDow Jones Falls Ahead Of Economic Data; Tesla Stock Hits New Low On Price Target Cuts Investor's Business Daily\n",
            "09:41AMStocks mixed at open, Apple and Tesla move lower Yahoo Finance Video\n",
            "09:30AMAs Musk Tweets, Tesla Spins its Wheels, Economy Slides TheStreet.com\n",
            "09:00AMDow Jones Futures Fall Ahead Of Economic Data; Tesla Stock Drops On Price Target Cuts Investor's Business Daily\n",
            "08:43AMDow Jones Futures Rise Ahead Of Economic Data; Tesla Stock Falls On Price Target Cuts Investor's Business Daily\n",
            "08:18AMTesla gets slapped with more cautious comments from Wall Street Yahoo Finance\n",
            "08:00AMThese Will Be The Best 10 Stocks In 2023, Analysts Say Investor's Business Daily\n",
            "07:53AMDow Jones Extends Losing Streak As Apple Sells Off; Tesla Hits New Low Amid Elon Musk Twitter Poll Investor's Business Daily\n",
            "07:41AMTeslas Stock Price Target Is Cut Again. Its Not Twitter This Time, Its the Industry. Barrons.com\n",
            "07:30AMPurpose Investments Debuts Yield Shares, the Worlds First Yield-Focused Single-Stock ETFs GlobeNewswire\n",
            "05:01AMNew electric car buying incentives kick in Jan. 1, and a lot has changed. Heres an explainer. MarketWatch\n",
            "02:15AMTesla Investors Want the Twitter Overhang Gone. Heres When It Might End. Barrons.com\n",
            "Dec-19-22 05:53PMSen. Elizabeth Warren sent a letter to Teslas board accusing Elon Musk of unavoidable conflicts at Twitter and possible misappropriation of corporate assets Fortune\n",
            "04:30PMUS STOCKS-Wall Street falls fourth straight day as recession worries nag Reuters\n",
            "04:28PMTesla stock closes lower than $150 for first time in more than two years as analysts say they cant ignore Elon Musks Twitter nightmare anymore MarketWatch\n",
            "04:05PMTesla Stock Marches Higher Then Reverses As Musk Says 'No One Wants The Job' Investor's Business Daily\n",
            "04:00PMUS STOCKS-Wall Street falls fourth straight day as recession worries nag Reuters\n",
            "03:34PMTesla stock downgraded over Musk-Twitter risk Yahoo Finance Video\n",
            "03:27PMElon Musk flags change in Twitter voting policy after ouster vote Investing.com\n",
            "03:21PMColumn: Is this my last post about Elon Musk, Twitter boss? LA Times\n",
            "03:14PMTesla: 5 Reasons the EV Maker can Recharge its Batteries and Win Again Zacks\n",
            "02:44PMUS STOCKS-Wall Street falls as recession worries persist Reuters\n",
            "02:00PMTesla analysts say they cant ignore Twitter nightmare anymore MarketWatch\n",
            "01:43PMThese Stocks Are Moving the Most Today: Madrigal, Warner Bros. Discovery, AT&T, and More Barrons.com\n",
            "01:18PMTesla is not Musks private plaything: Sen. Elizabeth Warren asks Tesla chair to address CEOs conflict with Twitter MarketWatch\n",
            "01:10PMTime to end this nightmare: Analyst Dan Ives says Elon Musk will likely step down from Twitter as company is on track to lose roughly $4 billion Fortune\n",
            "12:44PMUS STOCKS-Wall Street falls as recession worries persist Reuters\n",
            "12:29PMMusk to Twitter: \"Do You Like Me? Y/N?\" Investopedia\n",
            "12:15PMIs Tesla's 55% Stock Price Crash in 2022 Justified? Motley Fool\n",
            "12:11PMElon Musk: Its time for Teslas board to wake up and do their job, investor says Yahoo Finance Video\n",
            "11:39AMOppenheimer downgrades Tesla stock, calls sentiment 'severely damaged' on Musk drama Yahoo Finance\n",
            "11:39AMTwitter Users Say Musk Should Step Down as CEO. Tesla Investors Watching Closely. Barrons.com\n",
            "11:27AMTesla Stock Is Slipping. Elon Musk Could Refocus After a Twitter Poll. Barrons.com\n",
            "11:24AMTesla hits 3,000 cars a week in Berlin, Austin later than planned Reuters\n",
            "11:21AMTesla Rally Fizzles on Fear of Lasting Twitter-Related Risk Bloomberg\n",
            "10:59AMUS STOCKS-S&P 500, Nasdaq fall on rate worries, Tesla struggles after early gains Reuters\n",
            "10:53AMTesla Stock Turns Lower As Poll Results Say Elon Musk Should Step Down As Twitter CEO TheStreet.com\n",
            "10:48AMTesla Stock Marches Higher As Musk Says 'No One Wants The Job' Investor's Business Daily\n",
            "10:32AMTesla's Bouncing, but This Nasdaq Stock Tripled Monday Morning Motley Fool\n",
            "10:18AMTesla Stock Higher As Poll Results Say Elon Musk Should Step Down As Twitter CEO TheStreet.com\n",
            "10:13AMCommunication services, tech sectors drag on Nasdaq Yahoo Finance Video\n",
            "10:05AMUPDATE 1-U.S. senator Warren questions Musk purchase of Twitter Reuters\n",
            "10:04AMElon Musk Defines 2 Criteria For the New CEO of Twitter TheStreet.com\n",
            "09:57AMDow Jones Falls As Stock Market Continues To Drop; Tesla Jumps On Elon Musk Twitter Poll Investor's Business Daily\n",
            "09:51AMUPDATE 1-Tesla may announce $800 mln to $1 bln in Mexico plant in coming days - report Reuters\n",
            "09:46AMDow Jones Rises As Stock Market Looks To Bounce; Tesla Jumps On Elon Musk Twitter Poll Investor's Business Daily\n",
            "09:45AMTweet This! There's a Trade to Be Made on Tesla TheStreet.com\n",
            "09:27AMTesla Stock Downgraded. Its Still All About Twitter. Barrons.com\n",
            "09:26AMSee it from the air: Williamson County raking in some of America's biggest projects American City Business Journals\n",
            "09:25AMU.S. senator Warren questions Musk purchase of Twitter Reuters\n",
            "09:19AMTesla may announce Mexico plant in coming days - report Reuters\n",
            "09:00AMDow Jones Futures Fall As Stock Market Looks To Bounce; Tesla Jumps On Elon Musk Twitter Poll Investor's Business Daily\n",
            "08:51AMesla Stock Downgraded. Its Still All About Twitter. Barrons.com\n",
            "08:32AMDow Jones Futures Rise As Stock Market Looks To Bounce; Tesla Jumps On Elon Musk Twitter Poll Investor's Business Daily\n",
            "08:29AMFactbox-Elon Musk's Twitter polls - from stake sales to CEO decisions Reuters\n",
            "08:24AMWhy More EV Makers Arent Making Cars at All Barrons.com\n",
            "08:22AMDow Jones Futures Rise After Stock Market Rally's Ugly Week; Tesla Bounces On Musk Twitter Poll Investor's Business Daily\n",
            "07:49AMOppenheimer cuts Tesla rating to perform on Twitter-related risks MarketWatch\n",
            "06:52AMTwitter Users Vote for Musk to Step Down. He Says There Is No Successor. Barrons.com\n",
            "06:47AMTwitter voters favor Elon Musk stepping down, as Tesla shares rise MarketWatch\n",
            "06:46AMTesla Investors Cheer Musks Twitter Poll. Its Good News for the Stock. Barrons.com\n",
            "Dec-20-22 07:04PMWells Fargo, Amazon Look to Move On Motley Fool\n",
            "04:21PMUSPS will electrify entire mail-delivery fleet within just a few years MarketWatch\n",
            "04:02PMPharmacies limit the purchase of kids' meds. How bad are the shortages? Yahoo Finance\n",
            "03:00PMA.I. is getting your holiday gifts to you more efficiently than ever Fortune\n",
            "02:49PM13 Best New Tech Stocks to Buy Now Insider Monkey\n",
            "\n",
            "02:03PM\n",
            "Loading…\n",
            "\n",
            "02:03PMAmazon loans $54.8M to Nashville affordable housing projects American City Business Journals\n",
            "01:10PMDisney, Amazon May Join an Unenviable Club of 44 Stocks Barrons.com\n",
            "12:51PMImax (IMAX) Delivers a Massive Opening of Avatar: The Way Of Water Zacks\n",
            "12:06PMAmazon union push is not going to stop, Chris Smalls says Yahoo Finance Video\n",
            "12:03PMAmazon settles with the EU over antitrust charges Yahoo Finance Video\n",
            "11:58AMBig Tech faces unionization push as employee priorities shift Yahoo Finance Video\n",
            "11:15AMHave $2,000? 2 Market-Crash-Ready Stocks to Buy Motley Fool\n",
            "11:06AM2 Game-Changing Stocks That Could Help Set You Up for Life Motley Fool\n",
            "10:15AMGood News for Amazon Stock: E-Commerce Is Turning the Corner Motley Fool\n",
            "09:52AMWhy Amazon stock has tanked by 50% in 2022 Yahoo Finance Video\n",
            "\n",
            "09:46AM\n",
            "Loading…\n",
            "\n",
            "09:46AMAmazon Seals EU Antitrust Truce to Dodge Fines, Boost Rivals Bloomberg\n",
            "09:31AMTarget, Amazon and 4 More Retailers That Will Reward You for Turning in Your Old Stuff GOBankingRates\n",
            "08:39AMAmazon Settles European Antitrust Cases With No Fines. Its a Rare Truce Between Big Tech and the EU. Barrons.com\n",
            "08:29AMUPDATE 1-Amazon reaches settlement in three EU antitrust cases, avoids fine Reuters\n",
            "08:28AMZscaler (ZS) Joins JCDC to Boost U.S. Cybersecurity Posture Zacks\n",
            "08:11AMAmazon Agrees to Settle EU Antitrust Cases, Avoiding Fines The Wall Street Journal\n",
            "08:08AMAmazon Web Services Secures Navy Contract For Over $700M Benzinga\n",
            "08:00AMThese Will Be The Best 10 Stocks In 2023, Analysts Say Investor's Business Daily\n",
            "07:56AMAmazon agrees deal with EU to end long-running data probes Financial Times\n",
            "07:45AMDown 33% in 2022, Can This Unstoppable Growth Stock Make a Comeback in 2023? Motley Fool\n",
            "07:30AMPurpose Investments Debuts Yield Shares, the Worlds First Yield-Focused Single-Stock ETFs GlobeNewswire\n",
            "07:30AMCould Amazon's New Chip Be the End of AMD and Other Chip Stocks? Motley Fool\n",
            "07:25AMAmazon to change marketplace policies in European Commission settlement MarketWatch\n",
            "07:15AMAmazon reaches settlement in three EU antitrust cases, avoids fine Reuters\n",
            "07:03AMAmazon reaches settlement with EU over use of data, avoids fine Reuters\n",
            "\n",
            "06:48AM\n",
            "Loading…\n",
            "\n",
            "06:48AMAmazon gets approval for 10 more acres at Lakeland airport American City Business Journals\n",
            "06:45AM'Everything is on the table': Analysts eye next media mega-merger amid profit push Yahoo Finance\n",
            "06:30AM12 of the Best Men's Gifts for Under $50 on Amazon Motley Fool\n",
            "06:21AM3 Stocks That Can Double in 2023 After Being Cut in Half Last Year Motley Fool\n",
            "06:07AM2 Warren Buffett Stocks to Buy Hand Over Fist Motley Fool\n",
            "06:04AMAmazon stock is now down 50% this year and is at a 52-week low Yahoo Finance\n",
            "06:00AMThis New App Wants to Pay You to Share Your Data For Advertising The Wall Street Journal\n",
            "05:52AMLooking for a Surefire Winner in the Next Bull Market? Buy Amazon Stock. Motley Fool\n",
            "05:40AMDown 79%, Shopify Stock Is a Rare Buying Opportunity in a Bear Market Motley Fool\n",
            "05:30AMStock Picking Makes a Comeback in Market Turbulence The Wall Street Journal\n",
            "05:20AMGot $1,000? 5 Buffett Stocks to Buy and Hold Forever Motley Fool\n",
            "05:12AMGot $1,000? 2 Top Growth Stocks to Buy That Could Double Your Money Motley Fool\n",
            "05:05AM3 Tech Stocks With More Potential Than Any Cryptocurrency Motley Fool\n",
            "Dec-19-22 06:44PMAnalyst Report: Amazon.com, Inc. Morningstar Research\n",
            "06:27PMAmazons cloud-computing unit awarded 5-year, $723 million Navy contract MarketWatch\n",
            "03:45PMStreaming platforms, media companies weigh M&A opportunities heading into 2023 Yahoo Finance Video\n",
            "01:17PMWhy Amazon.com Stock Is Still Falling Motley Fool\n",
            "01:12PMAmazon loans $16M to Gilbane for Hyattsville apartments American City Business Journals\n",
            "11:45AMAmazon.com Stock Gives Up Post-Covid Gains The Wall Street Journal\n",
            "11:40AMSnap won't make money until 2027, analyst says Yahoo Finance\n",
            "11:01AMWill Workers Strike Affect Amazon's (AMZN) Holiday Prospects? Zacks\n",
            "09:30AMAmazon, Down Almost 50% This Year, Is the Top Big Tech Stock to Buy for 2023 Motley Fool\n",
            "08:58AMElon Musk's Latest 'Twitter Files' Show Internal Angst Over FBI Requests, L3Harris Scoops Up Aerojet, Mesa Air End Regional Flights For American Airlines: Today's Top Stories Benzinga\n",
            "08:36AMGermany Union Urge Amazon's Warehouse Employees To Stage Protest Against Pay Benzinga\n",
            "08:31AMHere Are Barrons 10 Top Stocks for the New Year Barrons.com\n",
            "07:54AMUS Watchdog Nudges Amazon Over Laxity In Recording Workhouse Injuries Benzinga\n",
            "07:43AMThe Zacks Analyst Blog Highlights Amazon.com, Novartis, Philip Morris International, Automatic Data Processing and Live Nation Entertainment Zacks\n",
            "06:22AMHere's My Favorite Stock I Bought in 2022 Motley Fool\n",
            "05:57AM3 Warren Buffett Stocks That Could Soar 39% to 83% in 2023, According to Wall Street Motley Fool\n",
            "Dec-18-22 06:11PMHeres everything coming to Amazons Prime Video in January 2023 MarketWatch\n",
            "05:35PMIs Amazon.com (AMZN) a Worthy Investment Choice? Insider Monkey\n",
            "12:00PM4 Reasons You Should Cancel Amazon Prime GOBankingRates\n",
            "10:21AMNever Mind the FAANG Stocks, Buy the GHOST Stocks Before 2023 Motley Fool\n",
            "10:00AMIts Time to Boot the Moochers Off Your Spotify, Netflix and Other Accounts The Wall Street Journal\n",
            "09:06AMGerman union warns Amazon of rolling pre-Christmas strikes Reuters\n",
            "08:47AMHere's Why Shopify Could Be a Breakout Stock in 2023 Motley Fool\n",
            "07:50AMA Bull Market Is Coming: 2 Trillion-Dollar Growth Stocks to Buy Before They Soar Motley Fool\n",
            "06:18AM5 Top Warren Buffett Stocks to Buy for 2023 Motley Fool\n",
            "05:15AM5 No-Brainer Stocks to Buy Before 2023 Motley Fool\n",
            "05:05AM2 Stocks to Buy at a Massive Discount Right Now Motley Fool\n",
            "Dec-17-22 03:00PMWant to Support Your Favorite Charity? Amazon Makes It Easy Motley Fool\n",
            "09:51AM15 Most Boycotted Companies and Brands in History Insider Monkey\n",
            "09:00AMWant to Save More Money on Food? Try This Motley Fool\n",
            "06:20AMIs It Safe to Buy Growth Stocks Again? Motley Fool\n",
            "06:15AMGet Ready for the Next Bull Market: 3 Smart Buys Before 2023 Motley Fool\n",
            "05:00AMBig Tech is Designing Chips Too, Should Semiconductor Investors Worry? Motley Fool\n",
            "Dec-16-22 06:55PMBarrons 10 Favorite Stocks for 2023 Barrons.com\n",
            "06:08PMLabor Department Issues Citations Against Amazon Over Warehouse Injuries The Wall Street Journal\n",
            "06:00PMHow the Dollar Tree Helped Me Entertain My Toddler for Hours -- Without Screen Time Motley Fool\n",
            "05:45PMAmazon (AMZN) Stock Moves -0.67%: What You Should Know Zacks\n",
            "05:09PMPublic weighs in against Amazon-One Medical merger deal as Oregon review begins American City Business Journals\n",
            "05:00PM3 Unstoppable Growth Stocks to Buy If There's a Stock Market Sell-Off Motley Fool\n",
            "04:20PMAmazon stock still a compelling opportunity despite cloud concerns, says JPMorgan MarketWatch\n",
            "04:01PMUPDATE 1-Amazon failed to record warehouse injuries, U.S. agency says Reuters\n",
            "02:30PMCostco Exec Warns That Members Should Expect a Fee Hike Motley Fool\n",
            "01:33PMAmazon failed to record warehouse injuries, U.S. agency says Reuters\n",
            "01:24PMAmazon failed to record warehouse injuries, U.S. agency says Reuters\n",
            "01:08PMWhy Games Workshop Stock Charged 20% Higher on Friday Motley Fool\n",
            "11:46AMTop Analyst Reports for Amazon.com, Novartis & Philip Morris Zacks\n",
            "11:02AMAmazon, Ancient Tribe Face Off Over Cape Town Office (Correct) Bloomberg\n",
            "10:45AMWhy Rivian Stock Is Dropping This Week Motley Fool\n",
            "10:07AM1 Bargain-Basement Warren Buffett Stock Down 50% to Buy Before 2023 Motley Fool\n",
            "10:01AMEXCLUSIVE: Ex-Amazon VP Dishes on New Beauty Video Shopping App WWD\n",
            "09:45AMBetter Buy: Amazon vs. Apple Motley Fool\n",
            "09:00AMAmazon.com, Inc. (AMZN) is Attracting Investor Attention: Here is What You Should Know Zacks\n",
            "09:00AM37 Mistakes We Make When Shopping at Costco, Amazon, Target and Walmart GOBankingRates\n",
            "08:46AMUS Audit Agency Can Now Inspect & Investigate Chinese Firms, US Senate Passes $858B In Annual Defense Spending: Today's Top Stories Benzinga\n",
            "08:15AMIs Amazon a No-Brainer Stock to Own in 2023? Motley Fool\n",
            "08:10AMHenry Cavill attached to executive produce and star in Amazons new Warhammer 40k franchise just days after being fired as Superman Fortune\n",
            "08:00AM17 Last-Minute Gifts You Can Buy Online GOBankingRates\n"
          ]
        }
      ],
      "source": [
        "# Iterate through the news\n",
        "parsed_news = []\n",
        "for file_name, news_table in news_tables.items():\n",
        "    for x in news_table.findAll('tr'):\n",
        "        print(x.get_text())\n",
        "        text = x.get_text() \n",
        "        date_scrape = x.td.text.split()\n",
        "\n",
        "        if len(date_scrape) == 1:\n",
        "            time = date_scrape[0]\n",
        "            \n",
        "        else:\n",
        "            date = date_scrape[0]\n",
        "            time = date_scrape[1]\n",
        "\n",
        "        ticker = file_name.split('_')[0]\n",
        "        \n",
        "        parsed_news.append([ticker, date, time, text ])"
      ]
    },
    {
      "cell_type": "markdown",
      "metadata": {},
      "source": [
        "# Sentiment Analysis of FinViz data #"
      ]
    },
    {
      "cell_type": "code",
      "execution_count": 201,
      "metadata": {},
      "outputs": [
        {
          "name": "stderr",
          "output_type": "stream",
          "text": [
            "[nltk_data] Downloading package vader_lexicon to\n",
            "[nltk_data]     C:\\Users\\Ishaan\\AppData\\Roaming\\nltk_data...\n",
            "[nltk_data]   Package vader_lexicon is already up-to-date!\n"
          ]
        },
        {
          "data": {
            "text/plain": [
              "True"
            ]
          },
          "execution_count": 201,
          "metadata": {},
          "output_type": "execute_result"
        }
      ],
      "source": [
        "nltk.download('vader_lexicon')"
      ]
    },
    {
      "cell_type": "code",
      "execution_count": 202,
      "metadata": {},
      "outputs": [
        {
          "name": "stdout",
          "output_type": "stream",
          "text": [
            "\n",
            "\n",
            "              Date     Time    neg    neu    pos  compound\n",
            "Ticker                                                    \n",
            "AAPL    2022-12-18  10:21AM  0.331  0.669  0.000   -0.7125\n",
            "AAPL    2022-12-18  10:00AM  0.153  0.847  0.000   -0.4404\n",
            "AAPL    2022-12-18  08:30AM  0.000  1.000  0.000    0.0000\n",
            "AAPL    2022-12-18  07:50AM  0.157  0.703  0.141   -0.0772\n",
            "AAPL    2022-12-18  07:30AM  0.195  0.805  0.000   -0.4404\n",
            "\n",
            "\n",
            "              Date     Time    neg    neu    pos  compound\n",
            "Ticker                                                    \n",
            "TSLA    2022-12-18  06:15PM  0.163  0.837  0.000   -0.5106\n",
            "TSLA    2022-12-18  05:01PM  0.000  0.737  0.263    0.3612\n",
            "TSLA    2022-12-18  02:09PM  0.299  0.701  0.000   -0.7506\n",
            "TSLA    2022-12-18  02:05PM  0.369  0.631  0.000   -0.8779\n",
            "TSLA    2022-12-18  12:21PM  0.206  0.794  0.000   -0.3818\n",
            "\n",
            "\n",
            "              Date     Time    neg    neu    pos  compound\n",
            "Ticker                                                    \n",
            "AMZN    2022-12-18  06:11PM  0.091  0.909  0.000   -0.0258\n",
            "AMZN    2022-12-18  05:35PM  0.000  0.707  0.293    0.4404\n",
            "AMZN    2022-12-18  12:00PM  0.206  0.619  0.175   -0.0772\n",
            "AMZN    2022-12-18  10:21AM  0.350  0.650  0.000   -0.7125\n",
            "AMZN    2022-12-18  10:00AM  0.153  0.847  0.000   -0.4404\n",
            "\n",
            "\n",
            "        Mean Sentiment\n",
            "Ticker                \n",
            "AAPL             -0.05\n",
            "TSLA             -0.10\n",
            "AMZN             -0.11\n"
          ]
        }
      ],
      "source": [
        "# View Data \n",
        "news['Date'] = pd.to_datetime(news.Date).dt.date\n",
        "\n",
        "unique_ticker = news['Ticker'].unique().tolist()\n",
        "news_dict = {name: news.loc[news['Ticker'] == name] for name in unique_ticker}\n",
        "\n",
        "values = []\n",
        "for ticker in tickers: \n",
        "    dataframe = news_dict[ticker]\n",
        "    dataframe = dataframe.set_index('Ticker')\n",
        "    dataframe = dataframe.drop(columns = ['Headline'])\n",
        "    print ('\\n')\n",
        "    print (dataframe.head())\n",
        "    \n",
        "    mean = round(dataframe['compound'].mean(), 2)\n",
        "    values.append(mean)\n",
        "    \n",
        "df = pd.DataFrame(list(zip(tickers, values)), columns =['Ticker', 'Mean Sentiment']) \n",
        "df = df.set_index('Ticker')\n",
        "df = df.sort_values('Mean Sentiment', ascending=False)\n",
        "print ('\\n')\n",
        "print (df)"
      ]
    },
    {
      "cell_type": "code",
      "execution_count": 203,
      "metadata": {},
      "outputs": [
        {
          "name": "stdout",
          "output_type": "stream",
          "text": [
            "Getting stock open for stock $AAPL\n",
            "AAPL 131.38999938964844\n"
          ]
        }
      ],
      "source": [
        "#Testing helper functions from stock_helper_functions.ipynb\n",
        "aapl_open = getStockOpen(\"AAPL\")"
      ]
    },
    {
      "cell_type": "markdown",
      "metadata": {},
      "source": [
        "# Creating Dataset #"
      ]
    },
    {
      "cell_type": "code",
      "execution_count": 204,
      "metadata": {},
      "outputs": [],
      "source": [
        "#Defining a new dataframe called 'dataset'\n",
        "dataset = pd.DataFrame()"
      ]
    },
    {
      "cell_type": "code",
      "execution_count": 216,
      "metadata": {},
      "outputs": [
        {
          "name": "stdout",
          "output_type": "stream",
          "text": [
            "Starting array to list\n",
            "Getting stock data for stock $AAPL TSLA AMZN\n",
            "[*********************100%***********************]  3 of 3 completed\n",
            "                  AAPL       AMZN        TSLA\n",
            "Date                                         \n",
            "2022-12-20  132.300003  85.190002  137.800003\n"
          ]
        }
      ],
      "source": [
        "#Pulling stock data and adding stock data to dataframe\n",
        "daily_stock = getStockDataDaily(tickers, '2022-12-20')\n",
        "#dataset = pd.concat([dataset, daily_stock])\n",
        "print(daily_stock.Close)"
      ]
    },
    {
      "cell_type": "code",
      "execution_count": 206,
      "metadata": {},
      "outputs": [
        {
          "name": "stdout",
          "output_type": "stream",
          "text": [
            "        sentiment\n",
            "Ticker           \n",
            "AAPL        -0.05\n",
            "TSLA        -0.10\n",
            "AMZN        -0.11\n"
          ]
        }
      ],
      "source": [
        "#Get sentimenent from previous analysis and adding to dataset\n",
        "dataset['sentiment'] = df\n",
        "print(dataset)"
      ]
    }
  ],
  "metadata": {
    "colab": {
      "authorship_tag": "ABX9TyO2ChGGwJkijmmb0vDcCR40",
      "include_colab_link": true,
      "name": "Sentiment Analysis.ipynb",
      "provenance": []
    },
    "kernelspec": {
      "display_name": "Python 3.10.0 64-bit",
      "language": "python",
      "name": "python3"
    },
    "language_info": {
      "codemirror_mode": {
        "name": "ipython",
        "version": 3
      },
      "file_extension": ".py",
      "mimetype": "text/x-python",
      "name": "python",
      "nbconvert_exporter": "python",
      "pygments_lexer": "ipython3",
      "version": "3.10.0"
    },
    "vscode": {
      "interpreter": {
        "hash": "369f2c481f4da34e4445cda3fffd2e751bd1c4d706f27375911949ba6bb62e1c"
      }
    }
  },
  "nbformat": 4,
  "nbformat_minor": 0
}
