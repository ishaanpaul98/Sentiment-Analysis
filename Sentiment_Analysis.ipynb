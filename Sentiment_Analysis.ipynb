{
  "cells": [
    {
      "cell_type": "markdown",
      "metadata": {
        "colab_type": "text",
        "id": "view-in-github"
      },
      "source": [
        "<a href=\"https://colab.research.google.com/github/ishaanpaul98/Sentiment-Analysis/blob/main/Sentiment_Analysis.ipynb\" target=\"_parent\"><img src=\"https://colab.research.google.com/assets/colab-badge.svg\" alt=\"Open In Colab\"/></a>"
      ]
    },
    {
      "cell_type": "markdown",
      "metadata": {},
      "source": [
        "# Imports #"
      ]
    },
    {
      "cell_type": "code",
      "execution_count": 57,
      "metadata": {
        "id": "pGQVQfr0b3SS"
      },
      "outputs": [],
      "source": [
        "# Import libraries\n",
        "import pandas as pd\n",
        "import matplotlib.pyplot as plt\n",
        "import seaborn as sns\n",
        "import numpy as np\n",
        "from wordcloud import WordCloud\n",
        "import re\n",
        "\n",
        "from bs4 import BeautifulSoup\n",
        "from urllib.request import urlopen, Request\n",
        "from nltk.sentiment.vader import SentimentIntensityAnalyzer\n",
        "\n",
        "import datetime\n",
        "import yfinance as yf\n",
        "import time\n",
        "import requests\n",
        "import io"
      ]
    },
    {
      "cell_type": "code",
      "execution_count": 58,
      "metadata": {
        "id": "WSgZEvuikgTn"
      },
      "outputs": [],
      "source": [
        "import nltk\n",
        "from nltk.corpus import stopwords\n",
        "from nltk.stem import WordNetLemmatizer"
      ]
    },
    {
      "cell_type": "code",
      "execution_count": 59,
      "metadata": {
        "id": "9hbdUWDKkgv_"
      },
      "outputs": [],
      "source": [
        "from sklearn.feature_extraction.text import CountVectorizer\n",
        "from sklearn.model_selection import GridSearchCV\n",
        "from sklearn.ensemble import RandomForestClassifier"
      ]
    },
    {
      "cell_type": "code",
      "execution_count": 60,
      "metadata": {
        "id": "Eqvj106lkgyU"
      },
      "outputs": [],
      "source": [
        "from sklearn.metrics import accuracy_score,precision_score,recall_score,confusion_matrix,roc_curve,classification_report\n",
        "from sklearn.metrics import plot_confusion_matrix"
      ]
    },
    {
      "cell_type": "markdown",
      "metadata": {},
      "source": [
        "# Stock Data Helper Functions #"
      ]
    },
    {
      "cell_type": "code",
      "execution_count": 61,
      "metadata": {},
      "outputs": [
        {
          "name": "stdout",
          "output_type": "stream",
          "text": [
            "Getting stock data for stock $AAPL\n",
            "[*********************100%***********************]  1 of 1 completed\n"
          ]
        },
        {
          "data": {
            "text/html": [
              "<div>\n",
              "<style scoped>\n",
              "    .dataframe tbody tr th:only-of-type {\n",
              "        vertical-align: middle;\n",
              "    }\n",
              "\n",
              "    .dataframe tbody tr th {\n",
              "        vertical-align: top;\n",
              "    }\n",
              "\n",
              "    .dataframe thead th {\n",
              "        text-align: right;\n",
              "    }\n",
              "</style>\n",
              "<table border=\"1\" class=\"dataframe\">\n",
              "  <thead>\n",
              "    <tr style=\"text-align: right;\">\n",
              "      <th></th>\n",
              "      <th>Open</th>\n",
              "      <th>High</th>\n",
              "      <th>Low</th>\n",
              "      <th>Close</th>\n",
              "      <th>Adj Close</th>\n",
              "      <th>Volume</th>\n",
              "    </tr>\n",
              "    <tr>\n",
              "      <th>Date</th>\n",
              "      <th></th>\n",
              "      <th></th>\n",
              "      <th></th>\n",
              "      <th></th>\n",
              "      <th></th>\n",
              "      <th></th>\n",
              "    </tr>\n",
              "  </thead>\n",
              "  <tbody>\n",
              "    <tr>\n",
              "      <th>2022-12-21</th>\n",
              "      <td>132.979996</td>\n",
              "      <td>136.809998</td>\n",
              "      <td>132.750000</td>\n",
              "      <td>135.449997</td>\n",
              "      <td>135.449997</td>\n",
              "      <td>85928000</td>\n",
              "    </tr>\n",
              "    <tr>\n",
              "      <th>2022-12-22</th>\n",
              "      <td>134.350006</td>\n",
              "      <td>134.559998</td>\n",
              "      <td>130.300003</td>\n",
              "      <td>132.229996</td>\n",
              "      <td>132.229996</td>\n",
              "      <td>77852100</td>\n",
              "    </tr>\n",
              "    <tr>\n",
              "      <th>2022-12-23</th>\n",
              "      <td>130.919998</td>\n",
              "      <td>132.419998</td>\n",
              "      <td>129.639999</td>\n",
              "      <td>131.860001</td>\n",
              "      <td>131.860001</td>\n",
              "      <td>63814900</td>\n",
              "    </tr>\n",
              "    <tr>\n",
              "      <th>2022-12-27</th>\n",
              "      <td>131.380005</td>\n",
              "      <td>131.410004</td>\n",
              "      <td>128.720001</td>\n",
              "      <td>130.029999</td>\n",
              "      <td>130.029999</td>\n",
              "      <td>69007800</td>\n",
              "    </tr>\n",
              "    <tr>\n",
              "      <th>2022-12-28</th>\n",
              "      <td>129.669998</td>\n",
              "      <td>131.029999</td>\n",
              "      <td>125.870003</td>\n",
              "      <td>126.040001</td>\n",
              "      <td>126.040001</td>\n",
              "      <td>85438400</td>\n",
              "    </tr>\n",
              "    <tr>\n",
              "      <th>2022-12-29</th>\n",
              "      <td>127.989998</td>\n",
              "      <td>130.479996</td>\n",
              "      <td>127.730003</td>\n",
              "      <td>129.610001</td>\n",
              "      <td>129.610001</td>\n",
              "      <td>75703700</td>\n",
              "    </tr>\n",
              "    <tr>\n",
              "      <th>2022-12-30</th>\n",
              "      <td>128.410004</td>\n",
              "      <td>129.949997</td>\n",
              "      <td>127.430000</td>\n",
              "      <td>129.929993</td>\n",
              "      <td>129.929993</td>\n",
              "      <td>76960600</td>\n",
              "    </tr>\n",
              "    <tr>\n",
              "      <th>2023-01-03</th>\n",
              "      <td>130.279999</td>\n",
              "      <td>130.899994</td>\n",
              "      <td>124.169998</td>\n",
              "      <td>125.070000</td>\n",
              "      <td>125.070000</td>\n",
              "      <td>112117500</td>\n",
              "    </tr>\n",
              "    <tr>\n",
              "      <th>2023-01-04</th>\n",
              "      <td>126.889999</td>\n",
              "      <td>128.660004</td>\n",
              "      <td>125.080002</td>\n",
              "      <td>126.360001</td>\n",
              "      <td>126.360001</td>\n",
              "      <td>89113600</td>\n",
              "    </tr>\n",
              "    <tr>\n",
              "      <th>2023-01-05</th>\n",
              "      <td>127.129997</td>\n",
              "      <td>127.769997</td>\n",
              "      <td>124.760002</td>\n",
              "      <td>125.019997</td>\n",
              "      <td>125.019997</td>\n",
              "      <td>80962700</td>\n",
              "    </tr>\n",
              "    <tr>\n",
              "      <th>2023-01-06</th>\n",
              "      <td>126.010002</td>\n",
              "      <td>130.289993</td>\n",
              "      <td>124.889999</td>\n",
              "      <td>129.619995</td>\n",
              "      <td>129.619995</td>\n",
              "      <td>87686600</td>\n",
              "    </tr>\n",
              "  </tbody>\n",
              "</table>\n",
              "</div>"
            ],
            "text/plain": [
              "                  Open        High         Low       Close   Adj Close  \\\n",
              "Date                                                                     \n",
              "2022-12-21  132.979996  136.809998  132.750000  135.449997  135.449997   \n",
              "2022-12-22  134.350006  134.559998  130.300003  132.229996  132.229996   \n",
              "2022-12-23  130.919998  132.419998  129.639999  131.860001  131.860001   \n",
              "2022-12-27  131.380005  131.410004  128.720001  130.029999  130.029999   \n",
              "2022-12-28  129.669998  131.029999  125.870003  126.040001  126.040001   \n",
              "2022-12-29  127.989998  130.479996  127.730003  129.610001  129.610001   \n",
              "2022-12-30  128.410004  129.949997  127.430000  129.929993  129.929993   \n",
              "2023-01-03  130.279999  130.899994  124.169998  125.070000  125.070000   \n",
              "2023-01-04  126.889999  128.660004  125.080002  126.360001  126.360001   \n",
              "2023-01-05  127.129997  127.769997  124.760002  125.019997  125.019997   \n",
              "2023-01-06  126.010002  130.289993  124.889999  129.619995  129.619995   \n",
              "\n",
              "               Volume  \n",
              "Date                   \n",
              "2022-12-21   85928000  \n",
              "2022-12-22   77852100  \n",
              "2022-12-23   63814900  \n",
              "2022-12-27   69007800  \n",
              "2022-12-28   85438400  \n",
              "2022-12-29   75703700  \n",
              "2022-12-30   76960600  \n",
              "2023-01-03  112117500  \n",
              "2023-01-04   89113600  \n",
              "2023-01-05   80962700  \n",
              "2023-01-06   87686600  "
            ]
          },
          "execution_count": 61,
          "metadata": {},
          "output_type": "execute_result"
        }
      ],
      "source": [
        "def getStockDataDaily(symbol, day):\n",
        "    print(\"Getting stock data for stock $\"+symbol)\n",
        "    df = yf.download(symbol, start=day, period = \"1d\")\n",
        "    return df\n",
        "\n",
        "getStockDataDaily('AAPL', \"2022-12-21\")"
      ]
    },
    {
      "cell_type": "code",
      "execution_count": 62,
      "metadata": {},
      "outputs": [],
      "source": [
        "def arrayToString(arr):\n",
        "    print(\"Starting array to list\")\n",
        "    listToStr = ' '.join([str(elem) for elem in arr])\n",
        "    return listToStr\n"
      ]
    },
    {
      "cell_type": "code",
      "execution_count": 63,
      "metadata": {},
      "outputs": [
        {
          "name": "stdout",
          "output_type": "stream",
          "text": [
            "Length of symbols array is more than 1. STARTING ARRAYTOSTRING\n",
            "Starting array to list\n",
            "Getting stock data for stock $AAPL TSLA\n",
            "[*********************100%***********************]  2 of 2 completed\n"
          ]
        },
        {
          "data": {
            "text/html": [
              "<div>\n",
              "<style scoped>\n",
              "    .dataframe tbody tr th:only-of-type {\n",
              "        vertical-align: middle;\n",
              "    }\n",
              "\n",
              "    .dataframe tbody tr th {\n",
              "        vertical-align: top;\n",
              "    }\n",
              "\n",
              "    .dataframe thead tr th {\n",
              "        text-align: left;\n",
              "    }\n",
              "\n",
              "    .dataframe thead tr:last-of-type th {\n",
              "        text-align: right;\n",
              "    }\n",
              "</style>\n",
              "<table border=\"1\" class=\"dataframe\">\n",
              "  <thead>\n",
              "    <tr>\n",
              "      <th></th>\n",
              "      <th colspan=\"6\" halign=\"left\">TSLA</th>\n",
              "      <th colspan=\"6\" halign=\"left\">AAPL</th>\n",
              "    </tr>\n",
              "    <tr>\n",
              "      <th></th>\n",
              "      <th>Open</th>\n",
              "      <th>High</th>\n",
              "      <th>Low</th>\n",
              "      <th>Close</th>\n",
              "      <th>Adj Close</th>\n",
              "      <th>Volume</th>\n",
              "      <th>Open</th>\n",
              "      <th>High</th>\n",
              "      <th>Low</th>\n",
              "      <th>Close</th>\n",
              "      <th>Adj Close</th>\n",
              "      <th>Volume</th>\n",
              "    </tr>\n",
              "    <tr>\n",
              "      <th>Date</th>\n",
              "      <th></th>\n",
              "      <th></th>\n",
              "      <th></th>\n",
              "      <th></th>\n",
              "      <th></th>\n",
              "      <th></th>\n",
              "      <th></th>\n",
              "      <th></th>\n",
              "      <th></th>\n",
              "      <th></th>\n",
              "      <th></th>\n",
              "      <th></th>\n",
              "    </tr>\n",
              "  </thead>\n",
              "  <tbody>\n",
              "    <tr>\n",
              "      <th>2022-12-21</th>\n",
              "      <td>139.339996</td>\n",
              "      <td>141.259995</td>\n",
              "      <td>135.889999</td>\n",
              "      <td>137.570007</td>\n",
              "      <td>137.570007</td>\n",
              "      <td>145417400</td>\n",
              "      <td>132.979996</td>\n",
              "      <td>136.809998</td>\n",
              "      <td>132.750000</td>\n",
              "      <td>135.449997</td>\n",
              "      <td>135.449997</td>\n",
              "      <td>85928000</td>\n",
              "    </tr>\n",
              "    <tr>\n",
              "      <th>2022-12-22</th>\n",
              "      <td>136.000000</td>\n",
              "      <td>136.630005</td>\n",
              "      <td>122.260002</td>\n",
              "      <td>125.349998</td>\n",
              "      <td>125.349998</td>\n",
              "      <td>210090300</td>\n",
              "      <td>134.350006</td>\n",
              "      <td>134.559998</td>\n",
              "      <td>130.300003</td>\n",
              "      <td>132.229996</td>\n",
              "      <td>132.229996</td>\n",
              "      <td>77852100</td>\n",
              "    </tr>\n",
              "    <tr>\n",
              "      <th>2022-12-23</th>\n",
              "      <td>126.370003</td>\n",
              "      <td>128.619995</td>\n",
              "      <td>121.019997</td>\n",
              "      <td>123.150002</td>\n",
              "      <td>123.150002</td>\n",
              "      <td>166989700</td>\n",
              "      <td>130.919998</td>\n",
              "      <td>132.419998</td>\n",
              "      <td>129.639999</td>\n",
              "      <td>131.860001</td>\n",
              "      <td>131.860001</td>\n",
              "      <td>63814900</td>\n",
              "    </tr>\n",
              "    <tr>\n",
              "      <th>2022-12-27</th>\n",
              "      <td>117.500000</td>\n",
              "      <td>119.669998</td>\n",
              "      <td>108.760002</td>\n",
              "      <td>109.099998</td>\n",
              "      <td>109.099998</td>\n",
              "      <td>208643400</td>\n",
              "      <td>131.380005</td>\n",
              "      <td>131.410004</td>\n",
              "      <td>128.720001</td>\n",
              "      <td>130.029999</td>\n",
              "      <td>130.029999</td>\n",
              "      <td>69007800</td>\n",
              "    </tr>\n",
              "    <tr>\n",
              "      <th>2022-12-28</th>\n",
              "      <td>110.349998</td>\n",
              "      <td>116.269997</td>\n",
              "      <td>108.239998</td>\n",
              "      <td>112.709999</td>\n",
              "      <td>112.709999</td>\n",
              "      <td>221070500</td>\n",
              "      <td>129.669998</td>\n",
              "      <td>131.029999</td>\n",
              "      <td>125.870003</td>\n",
              "      <td>126.040001</td>\n",
              "      <td>126.040001</td>\n",
              "      <td>85438400</td>\n",
              "    </tr>\n",
              "    <tr>\n",
              "      <th>2022-12-29</th>\n",
              "      <td>120.389999</td>\n",
              "      <td>123.570000</td>\n",
              "      <td>117.500000</td>\n",
              "      <td>121.820000</td>\n",
              "      <td>121.820000</td>\n",
              "      <td>221923300</td>\n",
              "      <td>127.989998</td>\n",
              "      <td>130.479996</td>\n",
              "      <td>127.730003</td>\n",
              "      <td>129.610001</td>\n",
              "      <td>129.610001</td>\n",
              "      <td>75703700</td>\n",
              "    </tr>\n",
              "    <tr>\n",
              "      <th>2022-12-30</th>\n",
              "      <td>119.949997</td>\n",
              "      <td>124.480003</td>\n",
              "      <td>119.750000</td>\n",
              "      <td>123.180000</td>\n",
              "      <td>123.180000</td>\n",
              "      <td>157304500</td>\n",
              "      <td>128.410004</td>\n",
              "      <td>129.949997</td>\n",
              "      <td>127.430000</td>\n",
              "      <td>129.929993</td>\n",
              "      <td>129.929993</td>\n",
              "      <td>76960600</td>\n",
              "    </tr>\n",
              "    <tr>\n",
              "      <th>2023-01-03</th>\n",
              "      <td>118.470001</td>\n",
              "      <td>118.800003</td>\n",
              "      <td>104.639999</td>\n",
              "      <td>108.099998</td>\n",
              "      <td>108.099998</td>\n",
              "      <td>231402800</td>\n",
              "      <td>130.279999</td>\n",
              "      <td>130.899994</td>\n",
              "      <td>124.169998</td>\n",
              "      <td>125.070000</td>\n",
              "      <td>125.070000</td>\n",
              "      <td>112117500</td>\n",
              "    </tr>\n",
              "    <tr>\n",
              "      <th>2023-01-04</th>\n",
              "      <td>109.110001</td>\n",
              "      <td>114.589996</td>\n",
              "      <td>107.519997</td>\n",
              "      <td>113.639999</td>\n",
              "      <td>113.639999</td>\n",
              "      <td>180389000</td>\n",
              "      <td>126.889999</td>\n",
              "      <td>128.660004</td>\n",
              "      <td>125.080002</td>\n",
              "      <td>126.360001</td>\n",
              "      <td>126.360001</td>\n",
              "      <td>89113600</td>\n",
              "    </tr>\n",
              "    <tr>\n",
              "      <th>2023-01-05</th>\n",
              "      <td>110.510002</td>\n",
              "      <td>111.750000</td>\n",
              "      <td>107.160004</td>\n",
              "      <td>110.339996</td>\n",
              "      <td>110.339996</td>\n",
              "      <td>157986300</td>\n",
              "      <td>127.129997</td>\n",
              "      <td>127.769997</td>\n",
              "      <td>124.760002</td>\n",
              "      <td>125.019997</td>\n",
              "      <td>125.019997</td>\n",
              "      <td>80962700</td>\n",
              "    </tr>\n",
              "    <tr>\n",
              "      <th>2023-01-06</th>\n",
              "      <td>103.000000</td>\n",
              "      <td>114.389999</td>\n",
              "      <td>101.809998</td>\n",
              "      <td>113.059998</td>\n",
              "      <td>113.059998</td>\n",
              "      <td>220575900</td>\n",
              "      <td>126.010002</td>\n",
              "      <td>130.289993</td>\n",
              "      <td>124.889999</td>\n",
              "      <td>129.619995</td>\n",
              "      <td>129.619995</td>\n",
              "      <td>87686600</td>\n",
              "    </tr>\n",
              "  </tbody>\n",
              "</table>\n",
              "</div>"
            ],
            "text/plain": [
              "                  TSLA                                                  \\\n",
              "                  Open        High         Low       Close   Adj Close   \n",
              "Date                                                                     \n",
              "2022-12-21  139.339996  141.259995  135.889999  137.570007  137.570007   \n",
              "2022-12-22  136.000000  136.630005  122.260002  125.349998  125.349998   \n",
              "2022-12-23  126.370003  128.619995  121.019997  123.150002  123.150002   \n",
              "2022-12-27  117.500000  119.669998  108.760002  109.099998  109.099998   \n",
              "2022-12-28  110.349998  116.269997  108.239998  112.709999  112.709999   \n",
              "2022-12-29  120.389999  123.570000  117.500000  121.820000  121.820000   \n",
              "2022-12-30  119.949997  124.480003  119.750000  123.180000  123.180000   \n",
              "2023-01-03  118.470001  118.800003  104.639999  108.099998  108.099998   \n",
              "2023-01-04  109.110001  114.589996  107.519997  113.639999  113.639999   \n",
              "2023-01-05  110.510002  111.750000  107.160004  110.339996  110.339996   \n",
              "2023-01-06  103.000000  114.389999  101.809998  113.059998  113.059998   \n",
              "\n",
              "                             AAPL                                      \\\n",
              "               Volume        Open        High         Low       Close   \n",
              "Date                                                                    \n",
              "2022-12-21  145417400  132.979996  136.809998  132.750000  135.449997   \n",
              "2022-12-22  210090300  134.350006  134.559998  130.300003  132.229996   \n",
              "2022-12-23  166989700  130.919998  132.419998  129.639999  131.860001   \n",
              "2022-12-27  208643400  131.380005  131.410004  128.720001  130.029999   \n",
              "2022-12-28  221070500  129.669998  131.029999  125.870003  126.040001   \n",
              "2022-12-29  221923300  127.989998  130.479996  127.730003  129.610001   \n",
              "2022-12-30  157304500  128.410004  129.949997  127.430000  129.929993   \n",
              "2023-01-03  231402800  130.279999  130.899994  124.169998  125.070000   \n",
              "2023-01-04  180389000  126.889999  128.660004  125.080002  126.360001   \n",
              "2023-01-05  157986300  127.129997  127.769997  124.760002  125.019997   \n",
              "2023-01-06  220575900  126.010002  130.289993  124.889999  129.619995   \n",
              "\n",
              "                                   \n",
              "             Adj Close     Volume  \n",
              "Date                               \n",
              "2022-12-21  135.449997   85928000  \n",
              "2022-12-22  132.229996   77852100  \n",
              "2022-12-23  131.860001   63814900  \n",
              "2022-12-27  130.029999   69007800  \n",
              "2022-12-28  126.040001   85438400  \n",
              "2022-12-29  129.610001   75703700  \n",
              "2022-12-30  129.929993   76960600  \n",
              "2023-01-03  125.070000  112117500  \n",
              "2023-01-04  126.360001   89113600  \n",
              "2023-01-05  125.019997   80962700  \n",
              "2023-01-06  129.619995   87686600  "
            ]
          },
          "execution_count": 63,
          "metadata": {},
          "output_type": "execute_result"
        }
      ],
      "source": [
        "def getMultiStockDataDaily(symbols, day):\n",
        "    if len(symbols) > 1:\n",
        "        print(\"Length of symbols array is more than 1. STARTING ARRAYTOSTRING\")\n",
        "        symbols = arrayToString(symbols)\n",
        "    print(\"Getting stock data for stock $\"+symbols)\n",
        "    df = yf.download(symbols, start=day, period = \"1d\", group_by='ticker')\n",
        "    return df\n",
        "\n",
        "getMultiStockDataDaily(['AAPL', 'TSLA'], \"2022-12-21\")"
      ]
    },
    {
      "cell_type": "code",
      "execution_count": 64,
      "metadata": {},
      "outputs": [
        {
          "name": "stdout",
          "output_type": "stream",
          "text": [
            "Getting stock close for stock $AAPL\n",
            "AAPL 129.6199951171875\n"
          ]
        },
        {
          "data": {
            "text/plain": [
              "129.6199951171875"
            ]
          },
          "execution_count": 64,
          "metadata": {},
          "output_type": "execute_result"
        }
      ],
      "source": [
        "def getStockClose(symbol):\n",
        "    print(\"Getting stock close for stock $\"+symbol)\n",
        "    ticker = yf.Ticker(symbol)\n",
        "    data = ticker.history()\n",
        "    #print(data)\n",
        "    last_price = data['Close'].iloc[-1]\n",
        "    print(symbol, last_price)\n",
        "    return last_price\n",
        "\n",
        "getStockClose(\"AAPL\")"
      ]
    },
    {
      "cell_type": "code",
      "execution_count": 65,
      "metadata": {},
      "outputs": [
        {
          "name": "stdout",
          "output_type": "stream",
          "text": [
            "Getting stock open for stock $AAPL\n",
            "AAPL 126.01000213623047\n"
          ]
        },
        {
          "data": {
            "text/plain": [
              "126.01000213623047"
            ]
          },
          "execution_count": 65,
          "metadata": {},
          "output_type": "execute_result"
        }
      ],
      "source": [
        "def getStockOpen(symbol):\n",
        "    print(\"Getting stock open for stock $\"+symbol)\n",
        "    ticker = yf.Ticker(symbol)\n",
        "    data = ticker.history()\n",
        "    #print(data)\n",
        "    last_price = data['Open'].iloc[-1]\n",
        "    print(symbol, last_price)\n",
        "    return last_price\n",
        "\n",
        "getStockOpen(\"AAPL\")"
      ]
    },
    {
      "cell_type": "code",
      "execution_count": 66,
      "metadata": {},
      "outputs": [
        {
          "name": "stdout",
          "output_type": "stream",
          "text": [
            "Getting stock high for stock $AAPL\n",
            "AAPL 130.2899932861328\n"
          ]
        },
        {
          "data": {
            "text/plain": [
              "130.2899932861328"
            ]
          },
          "execution_count": 66,
          "metadata": {},
          "output_type": "execute_result"
        }
      ],
      "source": [
        "def getStockHigh(symbol):\n",
        "    print(\"Getting stock high for stock $\"+symbol)\n",
        "    ticker = yf.Ticker(symbol)\n",
        "    data = ticker.history()\n",
        "    #print(data)\n",
        "    last_price = data['High'].iloc[-1]\n",
        "    print(symbol, last_price)\n",
        "    return last_price\n",
        "\n",
        "getStockHigh(\"AAPL\")"
      ]
    },
    {
      "cell_type": "code",
      "execution_count": 67,
      "metadata": {},
      "outputs": [
        {
          "name": "stdout",
          "output_type": "stream",
          "text": [
            "Getting stock low for stock $AAPL\n",
            "AAPL 124.88999938964844\n"
          ]
        },
        {
          "data": {
            "text/plain": [
              "124.88999938964844"
            ]
          },
          "execution_count": 67,
          "metadata": {},
          "output_type": "execute_result"
        }
      ],
      "source": [
        "def getStockLow(symbol):\n",
        "    print(\"Getting stock low for stock $\"+symbol)\n",
        "    ticker = yf.Ticker(symbol)\n",
        "    data = ticker.history()\n",
        "    #print(data)\n",
        "    last_price = data['Low'].iloc[-1]\n",
        "    print(symbol, last_price)\n",
        "    return last_price\n",
        "\n",
        "getStockLow(\"AAPL\")"
      ]
    },
    {
      "attachments": {},
      "cell_type": "markdown",
      "metadata": {},
      "source": [
        "# Gathering FinViz Data (Today's Sentiment) #"
      ]
    },
    {
      "cell_type": "code",
      "execution_count": 53,
      "metadata": {},
      "outputs": [],
      "source": [
        "# Parameters \n",
        "n = 3 #the # of article headlines displayed per ticker\n",
        "tickers = ['AAPL', 'TSLA', 'AMZN']"
      ]
    },
    {
      "cell_type": "code",
      "execution_count": 55,
      "metadata": {},
      "outputs": [
        {
          "data": {
            "text/plain": [
              "{'news':       Date                                              Title  \\\n",
              " 0   Jan-10  Cost of living: Retailer Uniqlo to raise pay i...   \n",
              " 1   Jan-10  U.S. dollar on the verge of first ‘death cross...   \n",
              " 2   Jan-10  Stocks Rally Amid Optimism Over Inflation, Chi...   \n",
              " 3   Jan-10  Philippine Supreme Court Revokes China Pact, T...   \n",
              " 4   Jan-10  China defends its retaliation against South Ko...   \n",
              " ..     ...                                                ...   \n",
              " 85  Jan-10  Boeing’s Flurry of Deliveries Spurs Best Month...   \n",
              " 86  Jan-10  FTC Is Investigating Coke, Pepsi Price Discoun...   \n",
              " 87  Jan-10  Fractional Shares, Fixed-Income Pricing to Get...   \n",
              " 88  Jan-10  Jamie Dimon sounds alarm on rising US debt hav...   \n",
              " 89  Jan-10  Bayer flags new blood thinner as $5 bln-plus o...   \n",
              " \n",
              "                  Source                                               Link  \n",
              " 0         www.bbc.co.uk  https://www.bbc.co.uk/news/business-64232184?a...  \n",
              " 1   www.marketwatch.com  https://www.marketwatch.com/story/u-s-dollar-o...  \n",
              " 2     www.bloomberg.com  https://www.bloomberg.com/news/articles/2023-0...  \n",
              " 3     www.bloomberg.com  https://www.bloomberg.com/news/articles/2023-0...  \n",
              " 4       www.reuters.com  https://www.reuters.com/world/china/china-defe...  \n",
              " ..                  ...                                                ...  \n",
              " 85    www.bloomberg.com  https://www.bloomberg.com/news/articles/2023-0...  \n",
              " 86    www.bloomberg.com  https://www.bloomberg.com/news/articles/2023-0...  \n",
              " 87    www.bloomberg.com  https://www.bloomberg.com/news/articles/2023-0...  \n",
              " 88      foxbusiness.com  https://foxbusiness.com/economy/jamie-dimon-so...  \n",
              " 89      www.reuters.com  https://www.reuters.com/business/healthcare-ph...  \n",
              " \n",
              " [90 rows x 4 columns],\n",
              " 'blogs':       Date                                              Title  \\\n",
              " 0   Jan-10  Amazon: A Transparently Bullish Valuation So I...   \n",
              " 1   Jan-10                Jordan Peterson: Enemy Of The State   \n",
              " 2   Jan-10  The (Surprisingly High) Cost Of Mobile Interne...   \n",
              " 3   Jan-10  A Day In The Life: Southern California's Fenta...   \n",
              " 4   Jan-10  China's Credit Flood Is Coming, But December W...   \n",
              " ..     ...                                                ...   \n",
              " 85  Nov-24                                Trading Consciously   \n",
              " 86  Nov-18  Relapse Prevention:  A Neglected Topic In Trad...   \n",
              " 87  Nov-13            Strong Two Day Rally:  What Comes Next?   \n",
              " 88  Nov-06  Trading Psychology Advice - 3: Solution-Focuse...   \n",
              " 89  May-21  New Issue Now Available: What Hedge Funds Boug...   \n",
              " \n",
              "                      Source                                               Link  \n",
              " 0          seekingalpha.com  https://seekingalpha.com/article/4569140-amazo...  \n",
              " 1         www.zerohedge.com  https://www.zerohedge.com/political/jordan-pet...  \n",
              " 2         www.zerohedge.com  https://www.zerohedge.com/technology/surprisin...  \n",
              " 3         www.zerohedge.com  https://www.zerohedge.com/medical/day-life-sou...  \n",
              " 4         www.zerohedge.com  https://www.zerohedge.com/markets/chinas-credi...  \n",
              " ..                      ...                                                ...  \n",
              " 85  traderfeed.blogspot.com  http://traderfeed.blogspot.com/2022/11/trading...  \n",
              " 86  traderfeed.blogspot.com  http://traderfeed.blogspot.com/2022/11/relapse...  \n",
              " 87  traderfeed.blogspot.com  http://traderfeed.blogspot.com/2022/11/strong-...  \n",
              " 88  traderfeed.blogspot.com  http://traderfeed.blogspot.com/2022/11/trading...  \n",
              " 89      www.marketfolly.com  http://www.marketfolly.com/2022/05/new-issue-n...  \n",
              " \n",
              " [90 rows x 4 columns]}"
            ]
          },
          "execution_count": 55,
          "metadata": {},
          "output_type": "execute_result"
        }
      ],
      "source": [
        "from finvizfinance.news import News\n",
        "fnews = News()\n",
        "all_news = fnews.get_news()\n",
        "all_news"
      ]
    },
    {
      "cell_type": "code",
      "execution_count": 56,
      "metadata": {},
      "outputs": [
        {
          "name": "stdout",
          "output_type": "stream",
          "text": [
            "current url is: https://finviz.com/quote.ashx?t=AAPL\n"
          ]
        },
        {
          "ename": "NameError",
          "evalue": "name 'Request' is not defined",
          "output_type": "error",
          "traceback": [
            "\u001b[1;31m---------------------------------------------------------------------------\u001b[0m",
            "\u001b[1;31mNameError\u001b[0m                                 Traceback (most recent call last)",
            "Cell \u001b[1;32mIn [56], line 9\u001b[0m\n\u001b[0;32m      7\u001b[0m \u001b[39mprint\u001b[39m(\u001b[39m\"\u001b[39m\u001b[39mcurrent url is: \u001b[39m\u001b[39m\"\u001b[39m \u001b[39m+\u001b[39murl)\n\u001b[0;32m      8\u001b[0m header \u001b[39m=\u001b[39m {\u001b[39m\"\u001b[39m\u001b[39mUser-Agent\u001b[39m\u001b[39m\"\u001b[39m: \u001b[39m\"\u001b[39m\u001b[39mMozilla/5.0 (Windows NT 10.0; Win64; x64) AppleWebKit/537.36 (KHTML, like Gecko) Chrome/92.0.4515.159 Safari/537.36.\u001b[39m\u001b[39m\"\u001b[39m}\n\u001b[1;32m----> 9\u001b[0m req \u001b[39m=\u001b[39m Request(url\u001b[39m=\u001b[39murl,headers\u001b[39m=\u001b[39mheader) \n\u001b[0;32m     10\u001b[0m resp \u001b[39m=\u001b[39m urlopen(req)    \n\u001b[0;32m     11\u001b[0m html \u001b[39m=\u001b[39m BeautifulSoup(resp, features\u001b[39m=\u001b[39m\u001b[39m\"\u001b[39m\u001b[39mlxml\u001b[39m\u001b[39m\"\u001b[39m)\n",
            "\u001b[1;31mNameError\u001b[0m: name 'Request' is not defined"
          ]
        }
      ],
      "source": [
        "# Get Data\n",
        "finwiz_url = 'https://finviz.com/quote.ashx?t='\n",
        "news_tables = {}\n",
        "\n",
        "for ticker in tickers:\n",
        "    url = finwiz_url + ticker\n",
        "    print(\"current url is: \" +url)\n",
        "    header = {\"User-Agent\": \"Mozilla/5.0 (Windows NT 10.0; Win64; x64) AppleWebKit/537.36 (KHTML, like Gecko) Chrome/92.0.4515.159 Safari/537.36.\"}\n",
        "    req = Request(url=url,headers=header) \n",
        "    resp = urlopen(req)    \n",
        "    html = BeautifulSoup(resp, features=\"lxml\")\n",
        "    news_table = html.find(id='news-table')\n",
        "    news_tables[ticker] = news_table\n",
        "\n",
        "try:\n",
        "    for ticker in tickers:\n",
        "        df = news_tables[ticker]\n",
        "        df_tr = df.findAll('tr')\n",
        "    \n",
        "        print ('\\n')\n",
        "        print ('Recent News Headlines for {}: '.format(ticker))\n",
        "        \n",
        "        for i, table_row in enumerate(df_tr):\n",
        "            a_text = table_row.a.text\n",
        "            td_text = table_row.td.text\n",
        "            td_text = td_text.strip()\n",
        "            print(a_text,'(',td_text,')')\n",
        "            if i == n-1:\n",
        "                break\n",
        "except KeyError:\n",
        "    pass"
      ]
    },
    {
      "cell_type": "code",
      "execution_count": 71,
      "metadata": {},
      "outputs": [
        {
          "name": "stdout",
          "output_type": "stream",
          "text": [
            "Jan-08-23 01:00PMWall Street Still Counting on Big Tech Rip Once Fed Eases Hikes Bloomberg\n",
            "11:00AMU.S.-Stock Funds Fell 18.4% for 2022 The Wall Street Journal\n",
            "08:08AMWhy 2023 could be another 'milestone year' for sports franchise sales Yahoo Finance\n",
            "05:06AM12 Stock Market Predictions for 2023 Motley Fool\n",
            "Jan-07-23 05:00PMApple hires workers in India as it looks to open first flagship stores Financial Times\n",
            "\n",
            "01:49PM\n",
            "Loading…\n",
            "\n",
            "01:49PMJim Cramers Recession-Proof Stock Picks Insider Monkey\n",
            "10:31AMTarget, Amazon and 4 More Retailers That Will Reward You for Turning in Your Old Stuff GOBankingRates\n",
            "09:00AM3 Apple Stock Predictions for 2023 Motley Fool\n",
            "08:51AMWhat did Tesla's stock plunge cost S&P 500 investors last year? Billions and billions Yahoo Finance\n",
            "08:51AMWhat did Tesla's plunge cost S&P 500 investors last year? Billions and billions Yahoo Finance\n",
            "08:00AMQualcomm Stock: Bear vs. Bull Motley Fool\n",
            "05:50AM3 Compelling Reasons Why Amazon Stock Is a Smarter Pick Than Apple in 2023 Motley Fool\n",
            "05:05AMBetter Buy: Tesla vs. Apple Motley Fool\n",
            "Jan-06-23 06:48PMWeekly Roundup TheStreet.com\n",
            "06:43PMWhy Apple Stock Was the Apple of Investors' Eyes Today Motley Fool\n",
            "\n",
            "05:15PM\n",
            "Loading…\n",
            "\n",
            "05:15PM1 Warren Buffett Stock Down 27% to Buy in 2023 Motley Fool\n",
            "04:09PMNo ones having fun in the stock market these days, and that might be a sign that a bottom is near MarketWatch\n",
            "10:51AMApple to build even more at Austin campus American City Business Journals\n",
            "10:21AMMorgan Stanley defends Apple stock, citing overblown demand concerns Yahoo Finance Video\n",
            "09:30AMTech Sell-Off: 2 Growth Stocks to Buy in 2023 Motley Fool\n",
            "07:22AMAre Growth Stocks in for More Pain in 2023? Motley Fool\n",
            "06:13AMYou Could've Become a Millionaire With Just $1,000 Invested in This Warren Buffett Stock Motley Fool\n",
            "06:00AMHere's Why We Think Apple (NASDAQ:AAPL) Might Deserve Your Attention Today Simply Wall St.\n",
            "05:51AMSamsung Warns of Profit Drop Blaming Weak Demand. What This Means for Apple. Barrons.com\n",
            "05:06AM5 Stocks Warren Buffett Is Betting Big on for 2023 Motley Fool\n",
            "03:13AMApple plans to remodel its Tacoma Mall store American City Business Journals\n",
            "01:58AMCovid chaos in China and a new Swiss haven Financial Times\n",
            "Jan-05-23 05:59PMLooking for clues about iPhone supply? Ask AT&T, Verizon and T-Mobile MarketWatch\n",
            "03:34PMSamsung flags 69% drop in Q4 profit as chip prices plummet Investing.com\n",
            "03:33PMQualcomm, Iridium partner to bring satellite-based messaging to Android phones Reuters\n",
            "\n",
            "03:27PM\n",
            "Loading…\n",
            "\n",
            "03:27PMMcLean firm Iridium Communications partners with Qualcomm to get satellite technology in smartphones American City Business Journals\n",
            "02:41PMTech stocks: It's 'still too early' to get back in, says UBS strategist Yahoo Finance\n",
            "02:08PMNeed a New Battery for Your iPhone? Prepare to Pay More Motley Fool\n",
            "01:24PMIPhone Shipments Take a Hit  but Analysts Are Still Upbeat on Apple Barrons.com\n",
            "01:09PMApple stock: 'It's a Rock of Gibraltar,' says Wedbush's Dan Ives Yahoo Finance\n",
            "09:08AMShopify Just Threw a Big Lifeline to Meta Platforms and Alphabet Motley Fool\n",
            "08:39AMHoping for a Stock Market Rally? Big Tech May Get in the Way. Barrons.com\n",
            "08:11AMLuxshare/Apple: Chinese AirPods maker trades up to premium iPhones Financial Times\n",
            "07:55AMApple's Key Supplier Foxconn's December Revenue Falls Over 12% Benzinga\n",
            "05:52AM3 Dow Stocks Down 30% to 55% That Are Screaming Buys for 2023 Motley Fool\n",
            "05:30AMWhy Its Hard for Apple to Make iPhones Outside of China WSJ\n",
            "05:06AMWhy investors should stop fixating on Apple and Tesla stock in 2023: Morning Brief Yahoo Finance\n",
            "Jan-04-23 11:17PMInvesting in Apple Stock (AAPL) Investopedia\n",
            "11:15PMBMW Takes Cues From Apple With Radical Interior Overhaul Bloomberg\n",
            "09:40PMCEO of Singapores Creative Sim Wong Hoo, Who Took on Apple, Dies at 67 Bloomberg\n",
            "09:05PMLuxshare says client cooperation normal after Apple production cut report Reuters\n",
            "09:00PMUPDATE 1-Luxshare says client cooperation normal after Apple production cut report Reuters\n",
            "08:05PMAsian stocks surge on China recovery bets, smaller Fed rate hikes Investing.com\n",
            "07:15PMShares of major Apple suppliers fall on report of production cut Investing.com\n",
            "05:49PMApple to sign Luxshare for iPhone production in China - FT Reuters\n",
            "05:46PMUPDATE 2-Apple to sign Luxshare for iPhone production in China - FT Reuters\n",
            "05:45PMApple (AAPL) Outpaces Stock Market Gains: What You Should Know Zacks\n",
            "05:30PMFoxconns biggest Chinese rival wins premium iPhone contract Financial Times\n",
            "05:00PMSamsungs Consumer-Products CEO  Expects Tech Slump to Persist Through 2023 The Wall Street Journal\n",
            "04:34PMCES 2023: Everything were expecting from the years biggest tech show Yahoo Finance\n",
            "01:47PMFrench privacy watchdog fines Apple over personalised ads Reuters\n",
            "01:30PMFrench privacy watchdog fines Apple over personalised ads Reuters\n",
            "12:47PMWorld's largest iPhone factory back to 90% capacity in China: Report Fox Business\n",
            "12:28PMApple is cutting back on ordering key products in the face of weakening demandheres why analysts are still bullish on the company Fortune\n",
            "11:50AMAlphabet (GOOGL) to Boost YouTube TV With Multi-Screen Viewing Zacks\n",
            "10:49AM39% of Warren Buffett's Portfolio Is Invested in These 3 Tech Giants Motley Fool\n",
            "10:28AMThese Stocks Are Moving the Most Today: Coinbase, Alibaba, Overstock.com, and More Barrons.com\n",
            "10:07AMInvestors Should Consider This Warren Buffett Advice in 2023 Motley Fool\n",
            "10:03AMShopify's (SHOP) Commerce Components to Attract Merchants Zacks\n",
            "10:00AMSamsung Upgrades Selfie Camera and Screen on $200 Phone Bloomberg\n",
            "09:35AMApples Stock Is Losing Its Shine After an Ugly Month of December Bloomberg\n",
            "09:31AMStock Market News for Jan 4, 2023 Zacks\n",
            "09:14AMApple slips below $2 trillion market cap Yahoo Finance Video\n",
            "08:48AMThousands of Travelers Are Missing Luggage, and Apple AirTags Are Helping Them Get It Back Benzinga\n",
            "08:44AMApple Stock Edges Up After Downgrade on iPhone Concerns Barrons.com\n",
            "08:39AMTesla Made Short Sellers a Lot of Money in 2022 Barrons.com\n",
            "08:09AMDow Jones Futures Rise With Key Data Due After Market Hit Resistance To Start 2023 Investor's Business Daily\n",
            "07:55AMApple Stock Active As Wedbush Sees Demand Headwinds, Lowers Price Target TheStreet.com\n",
            "07:31AM4 Beaten-Down Tech Stocks Poised to Rebound in 2023 Motley Fool\n",
            "07:30AMDown 30%, Apple Stock Is Still Risky Motley Fool\n",
            "06:38AMDow Jones Futures Rise After Market Hit Resistance To Start 2023 As Apple, Tesla Dived Investor's Business Daily\n",
            "05:31AMDown Over 20% In 2022, These 3 Warren Buffett Stocks Are Smart Buys in 2023 Motley Fool\n",
            "05:15AMApple is no longer the only company with a $2 trillion valuation Fortune\n",
            "05:12AMWhat the Smartest Investors Know About Apple Stock Motley Fool\n",
            "05:09AMApple Stock Poised to Rebound After Downgrade on iPhone Concerns Barrons.com\n",
            "03:30AMTesla Stock Made Short Sellers a Lot of Money in 2022. It Hasnt Stopped Dropping Yet. Barrons.com\n",
            "01:08AMWall Street Banks Like Goldman Turn Pessimistic on Worlds Biggest Chipmaker TSMC Bloomberg\n",
            "12:14AMApple and Tesla start 2023 on the wrong foot Financial Times\n",
            "Jan-03-23 10:06PMStock Market Hits Resistance To Start 2023 As Apple Tumbles, Tesla Dives Investor's Business Daily\n",
            "05:09PMApples Market Cap Slides Below $2 Trillion for the First Time Since 2021 Barrons.com\n",
            "04:57PMUS STOCKS-Wall St starts the year with a dip; Apple, Tesla shares drag Reuters\n",
            "04:10PMApples Slide Topples Last Stock in $2 Trillion Club Bloomberg\n",
            "04:04PMApple Stock Falls Amid Report Of Product Orders Being Cut In Asia Investor's Business Daily\n",
            "04:00PMUS STOCKS-Wall St starts the year with a dip; Apple, Tesla shares drag Reuters\n",
            "03:59PMMore than $1 trillion wiped off value of Apple in face of China chaos The Telegraph\n",
            "03:44PMApple Stock Just Keeps Falling. Its Worth Less Than $2 Trillion Now. Barrons.com\n",
            "03:22PMMcLean's Iridium inks agreement to put its satellite technology in smartphones American City Business Journals\n",
            "03:08PMApple, Tesla stocks start off new year at 52-week lows Yahoo Finance Video\n",
            "02:51PMUS STOCKS-Wall St falls in 2023 trading kick-off; Apple, Tesla shares drag Reuters\n",
            "02:50PMWhy Apple Stock Dropped on Jan. 3, 2023 Motley Fool\n",
            "02:15PMTSMC Had a Down Year in 2022. Why the Stock Is a Buy in 2023. Motley Fool\n",
            "02:00PMA Bull Market Is Coming: 3 Stocks Near Their 52-Week Lows to Buy Right Now Motley Fool\n",
            "01:33PMApple Stock Falls Lower. Its Market Cap Slides Below $2 Trillion. Barrons.com\n",
            "01:27PMPublic records show permit activity is picking up at Apple's RTP site American City Business Journals\n",
            "12:50PMUS STOCKS-Wall St falters at start of 2023 as Apple, Tesla shares fall Reuters\n",
            "Jan-08-23 09:19PMDow Jones Futures Rise: Will Market Rally Follow Up? Nine Stocks Flash Buy Signals Investor's Business Daily\n",
            "07:44PMElon Musk Sends Subtle Message to Disenchanted Tesla Shareholders TheStreet.com\n",
            "06:59PMDow Jones Futures: Will Market Rally Follow Up Gains? Nine Stocks Flash Buy Signals Investor's Business Daily\n",
            "06:31PMDow Jones Futures Rise After Market Rally Takes Big Step; 9 Stocks Flash Buy Signals Investor's Business Daily\n",
            "06:29PMTesla Has Issues. Buy the Stock Anyway. Barrons.com\n",
            "\n",
            "06:19PM\n",
            "Loading…\n",
            "\n",
            "06:19PMThis Long-Term Investor Is Sticking With Tesla and Cloud Stocks. Heres Why. Barrons.com\n",
            "05:33PMChina Tesla buyers protest price cuts: video Fox Business\n",
            "03:54PMElon Musk says he cant get fair trial in California in Tesla shareholder suit, wants Texas MarketWatch\n",
            "03:40PMDow Jones Futures Loom After Market Rally Takes Big Step; 9 Stocks Flash Buy Signals Investor's Business Daily\n",
            "01:00PMWall Street Still Counting on Big Tech Rip Once Fed Eases Hikes Bloomberg\n",
            "11:12AMXPeng stock just misses a record selloff, snaps 5-day win streak MarketWatch\n",
            "08:30AMBig Tesla Shareholder Mounts a Rebellion Against Elon Musk TheStreet.com\n",
            "08:12AMElectric Vehicle Stocks Plunged in 2022. Here's Why It Could Worsen in 2023 Motley Fool\n",
            "06:38AMIs Now the Time to Buy Electric Vehicle Stocks? Motley Fool\n",
            "05:06AM12 Stock Market Predictions for 2023 Motley Fool\n",
            "\n",
            "02:02AM\n",
            "Loading…\n",
            "\n",
            "02:02AMMusk wants change of venue for shareholder trial Fox Business\n",
            "02:00AMMusk/multitasking: the cost of being thinly stretched Financial Times\n",
            "Jan-07-23 05:59PMElon Musk says he cant get a fair trial in San Francisco, requests Tesla shareholder fraud trial be moved to Texas Fortune\n",
            "05:43PMThese Are The 5 Best EV Stocks To Buy And Watch Now Investor's Business Daily\n",
            "05:35PMElon Musk Seeks to Move Trial Over Tesla Tweets, Saying San Francisco Jurors Are Biased The Wall Street Journal\n",
            "02:43PMMarket Rally Takes Big Step, 9 Stocks Flash Buy Signals; Tesla's EV Price War Investor's Business Daily\n",
            "12:04PMMusk Says He Cant Get Fair Trial in San Francisco, Favors Texas Bloomberg\n",
            "08:51AMWhat did Tesla's stock plunge cost S&P 500 investors last year? Billions and billions Yahoo Finance\n",
            "08:51AMWhat did Tesla's plunge cost S&P 500 investors last year? Billions and billions Yahoo Finance\n",
            "07:58AMUPDATE 1-Tesla owners in China protest against surprise price cuts they missed Reuters\n",
            "07:34AMTesla owners in China protest against surprise price cuts they missed Reuters\n",
            "07:30AMTesla owners in China protest against surprise price cuts they missed Reuters\n",
            "05:05AMBetter Buy: Tesla vs. Apple Motley Fool\n",
            "12:00AMWall Street behemoths dominance poses risks to markets Financial Times\n",
            "Jan-06-23 10:26PMUPDATE 1-GM wants U.S. Treasury to reconsider tax credits for Cadillac Lyriq EV Reuters\n",
            "\n",
            "09:01PM\n",
            "Loading…\n",
            "\n",
            "09:01PMWhy Luminars CEO is running over fake kids in a Tesla at CES MarketWatch\n",
            "07:45PMMorningstar | A Weekly Summary of Stock Ideas and Developments in the Companies We Cover Morningstar Research\n",
            "06:31PMTeslas Battered Stock Looks Like a Buy Again Barrons.com\n",
            "06:24PMQualcomm Touts Phone Chips That Use Satellite Power: CES Update Bloomberg\n",
            "06:18PMTesla Stock Vs. BYD Stock: Tesla Slashes China Prices As BYD Unveils Two Super-Premium EVs Investor's Business Daily\n",
            "06:04PMAmazon, Bed Bath & Beyond, World Wrestling Entertainment: Stocks That Defined the Week The Wall Street Journal\n",
            "05:52PMGM wants U.S. Treasury to reconsider tax credits for Cadillac Lyriq EV Reuters\n",
            "05:48PMGM wants U.S. Treasury to reconsider tax credits for Cadillac Lyriq EV Reuters\n",
            "05:04PMIs Now the Time to Go All-In on Tesla Stock? Motley Fool\n",
            "05:01PMBiggest movers of the week: Bed, Bath & Beyond, Amazon, Salesforce, Tesla, Silvergate Yahoo Finance Video\n",
            "04:22PMDow Jones Rallies On This; Tesla Stock Fights Back, Elon Musk Jokes; WWE Stock Gorilla Presses Higher Investor's Business Daily\n",
            "04:21PMTeslas Demand Troubles Spell a Terrible Start to the Year Bloomberg\n",
            "04:16PMBed Bath & Beyond, Fate, WWE, Greenbrier, and More Stock Market Movers Today Barrons.com\n",
            "04:14PMXPeng shares suffer near-record selloff, snap 5-day win streak MarketWatch\n",
            "03:59PMTesla stock rebounds after slashing Model 3, Model Y prices in China Yahoo Finance Video\n",
            "03:58PMWhy Luminar CEO is running over fake kids in a Tesla at CES MarketWatch\n",
            "03:39PMWhy the New EV Tax Credits Dont Make Sense Barrons.com\n",
            "01:45PMARKs Cathie Wood Isnt Backing Down. She Explains Exactly Why. Barrons.com\n",
            "01:38PMTesla short sellers pile on pressure after most profitable trade in 2022 Reuters\n",
            "01:16PMWhy Nio, XPeng, and Li Auto Crashed Friday Motley Fool\n",
            "01:14PMTesla is ringing in the new year with a 10% weekly loss MarketWatch\n",
            "12:50PMTrouble at Tesla: the end of a golden age of growth? Financial Times\n",
            "12:45PMTesla Stock Hits 2-Year Low As China Price Cuts Highlight Margin, Demand Concerns TheStreet.com\n",
            "12:22PMThese Stocks Are Moving the Most Friday: Bed Bath & Beyond, Fate, WWE, Greenbrier, and More Barrons.com\n",
            "12:18PMXPeng shares near record selloff to snap 5-day win streak MarketWatch\n",
            "12:07PMStock Market Mostly Higher Amid Jobs Report; Tesla Price Cuts, GE Spinoff In Focus: Weekly Review Investor's Business Daily\n",
            "12:02PMWhy Tesla Stock Dropped Again Motley Fool\n",
            "11:32AMTesla stock hits 52-week low, EV maker slashes prices on Model 3 and Y vehicles again Yahoo Finance Video\n",
            "11:18AMTesla Stock Falls as Prices Again Cut in China. NIO and XPeng Also Tumble. Barrons.com\n",
            "10:54AMTesla Falls Again, but This Nasdaq Stock Is Truly Plunging Motley Fool\n",
            "10:53AMDown 74% in This Bear Market, Can Tesla Recover in 2023? Motley Fool\n",
            "10:51AMUS STOCKS-Wall St jumps as December jobs report eases rate worries Reuters\n",
            "10:36AMElon Musk Makes Major Decision About Politics TheStreet.com\n",
            "10:24AMRam reveals EV pickup concept that will compete against Ford, GM and Rivian Yahoo Finance\n",
            "10:22AMWhy a Long-Term Investor Is Sticking With Tesla and Cloud Stocks Barrons.com\n",
            "09:58AMDow Jones Rallies On December Jobs Report; Tesla Stock Dives To New Low On China Price Cuts Investor's Business Daily\n",
            "09:48AMBuffett-Backed BYD Trounces Tesla as China Economy Reopens Bloomberg\n",
            "09:45AMGermany tells Musk it expects Twitter to fight disinformation Reuters\n",
            "09:33AMTesla Stock: Bull vs. Bear Motley Fool\n",
            "09:24AMDow Jones Futures Rally On December Jobs Report; Tesla Stock Dives On China Price Cuts Investor's Business Daily\n",
            "09:22AMTesla stock falls after Model Y, Model 3 price cuts in China Yahoo Finance Video\n",
            "09:15AMUS STOCKS-Wall St set to rally as December jobs report eases rate worries Reuters\n",
            "09:07AMTesla Stock Dives As Tesla Carves Prices Lower In China, Japan, Australia Investor's Business Daily\n",
            "09:05AMTesla stock falls 6% after company cuts prices in China Yahoo Finance\n",
            "08:53AMNow That Tesla Is at a Two-Year Low, Is This a Once-in-a-Decade Opportunity to Buy? Motley Fool\n",
            "08:41AMDow Jones Futures Reverse On December Jobs Report; Tesla Stock Dives On China Price Cuts Investor's Business Daily\n",
            "08:23AMDow Jones Futures Fall Ahead Of December Jobs Report; Tesla Stock Dives On China Price Cuts Investor's Business Daily\n",
            "08:10AMDow Jones Futures: Jobs Report Is Big Market Test; Tesla Dives On China Price Cuts Investor's Business Daily\n",
            "08:08AMDow Jones Futures Rise Ahead Of December Jobs Report; Tesla Stock Dives On China Price Cuts Investor's Business Daily\n",
            "08:05AMFirst-Time Investor? 3 Great Technology Stocks to Get You Started Motley Fool\n",
            "07:47AMTesla Stock Slides After China Vehicle Deliveries Fell Sharply in December The Wall Street Journal\n",
            "07:47AMTesla Shares Slide After China Deliveries Fall Sharply in December The Wall Street Journal\n",
            "07:32AMTesla Is Cutting Prices (Again). Here's What It Means for Investors. Motley Fool\n",
            "07:00AMElectric Vehicle Industry Changes That Could Affect Your Wallet in 2023 GOBankingRates\n",
            "06:51AMTeslas Already Bringing Its Gloom Into 2023. Elon Musk Needs to Act Now. Barrons.com\n",
            "06:45AMThis 1 Major Risk Just Increased for Tesla Stock Investors Motley Fool\n",
            "06:43AMTesla Slashes Prices in China After Deliveries Slump The Wall Street Journal\n",
            "06:26AMTesla stock sinks toward 2 1/2-year low after China price cuts, dragging Nio, XPeng and Li down with it MarketWatch\n",
            "06:25AMTesla Stock Extends Slump As Price Cuts In Asia Highlight Margin, Demand Concerns TheStreet.com\n",
            "06:01AMStocks Mixed, Jobs Report, Tesla, Samsung And WWE In Focus - Five Things To Know TheStreet.com\n",
            "05:30AMWhats Behind Teslas Stock Slide? WSJ\n",
            "05:04AMTesla Cuts Prices in China Again. The Stock Is Tumbling. Barrons.com\n",
            "04:56AMStocks to Watch: Bed Bath & Beyond, Tesla, WWE, Silvergate The Wall Street Journal\n",
            "04:09AMFactbox-Details of Tesla price cuts in China, other Asian markets Reuters\n",
            "01:45AMNew EV Tax Credits Make No Sense Barrons.com\n",
            "Jan-05-23 10:42PMTesla slashes prices in China for second time in 3 months MarketWatch\n",
            "09:46PMTesla cuts prices in China amid slump in deliveries Fox Business\n",
            "09:08PMUPDATE 5-Tesla cuts prices in China, other Asian markets as sales falter Reuters\n",
            "07:00PMTeslas Sales in China Are Slipping, as Local Competition Catches Up Robb Report\n",
            "06:54PMElon Musk Takes Sides in the Speaker Race TheStreet.com\n",
            "Jan-08-23 09:12PMTech Industry Reversal Intensifies With New Rounds of Layoffs The Wall Street Journal\n",
            "12:30PMHave Holiday Gifts to Return? Here's Why You Shouldn't Delay Motley Fool\n",
            "11:00AMU.S.-Stock Funds Fell 18.4% for 2022 The Wall Street Journal\n",
            "10:44AMTechs Bill Is Coming Due. Investors Arent the Only Ones Who Will Pay. Barrons.com\n",
            "08:08AMWhy 2023 could be another 'milestone year' for sports franchise sales Yahoo Finance\n",
            "\n",
            "08:00AM\n",
            "Loading…\n",
            "\n",
            "08:00AMHow to Invest $15,000 Today If You Had to Start From Scratch Motley Fool\n",
            "07:05AMShould You Be Worried About Amazon's Recent $8 Billion Loan? Motley Fool\n",
            "06:42AMAmazon Announces Biggest Layoffs Ever! More Likely to Follow Motley Fool\n",
            "06:30AMWhy Amazon, Alphabet, and Microsoft Could Rebound More Than Other Tech Stocks in 2023 Motley Fool\n",
            "06:30AM3 Tech Titans Worth Owning in 2023 (and Beyond) Motley Fool\n",
            "05:30AM3 Oversold Stocks to Top Your Watch List for 2023 Motley Fool\n",
            "05:02AMIs Amazon Stock a Buy? Here's What the Charts Say Motley Fool\n",
            "Jan-07-23 05:25PM25 Most Politically Influential Countries in the World Insider Monkey\n",
            "12:00PMRussian cyberattacks on Ukraine halved with help from Amazon and Microsoft The Telegraph\n",
            "10:31AMTarget, Amazon and 4 More Retailers That Will Reward You for Turning in Your Old Stuff GOBankingRates\n",
            "\n",
            "10:00AM\n",
            "Loading…\n",
            "\n",
            "10:00AMGot $1000? 2 No Brainer Stocks to Buy in 2023. Motley Fool\n",
            "08:51AMWhat did Tesla's stock plunge cost S&P 500 investors last year? Billions and billions Yahoo Finance\n",
            "08:51AMWhat did Tesla's plunge cost S&P 500 investors last year? Billions and billions Yahoo Finance\n",
            "08:38AMThe Nasdaq Composite Just Did Something It's Only Done 3 Times in History Motley Fool\n",
            "08:03AMIf Bed Bath & Beyond goes out of business, here's what may happen to its rivals Yahoo Finance\n",
            "08:00AMYou're Thinking About Going to the Gym, but Are You Thinking About Investing in It? Motley Fool\n",
            "05:50AM3 Compelling Reasons Why Amazon Stock Is a Smarter Pick Than Apple in 2023 Motley Fool\n",
            "Jan-06-23 06:48PMWeekly Roundup TheStreet.com\n",
            "06:10PMWhy Amazon Stock Topped the Market Today Motley Fool\n",
            "06:04PMAmazon, Bed Bath & Beyond, World Wrestling Entertainment: Stocks That Defined the Week The Wall Street Journal\n",
            "05:01PMBiggest movers of the week: Bed, Bath & Beyond, Amazon, Salesforce, Tesla, Silvergate Yahoo Finance Video\n",
            "04:17PMThe outlook for theatrical box offices, streaming services heading into 2023 Yahoo Finance Video\n",
            "04:00PM3 Unstoppable Stocks to Buy for 2023 Motley Fool\n",
            "03:38PMDown 49% in This Bear Market, Can Amazon Stock Recover in 2023? Motley Fool\n",
            "02:37PMGE HealthCare hires former Amazon exec, CDC officer to lead tech strategy that includes AI efforts American City Business Journals\n",
            "\n",
            "11:55AM\n",
            "Loading…\n",
            "\n",
            "11:55AMLongtime D.C.-area IT exec Teresa Carlson joins San Francisco's Flexport American City Business Journals\n",
            "11:30AM3 Market Themes Are Emerging in Early 2023 TheStreet.com\n",
            "11:30AM3 Early Market Themes Are Emerging in 2023 TheStreet.com\n",
            "11:08AMWhy Costco Stock Jumped Today Motley Fool\n",
            "10:15AMIs Amazon Stock a Buy Now? Motley Fool\n",
            "09:31AMCompany News for Jan 6, 2023 Zacks\n",
            "08:30AMConsumer E-Commerce Spending Could Be Weak in 2023; Time to Sell Amazon Stock? Motley Fool\n",
            "07:22AMAre Growth Stocks in for More Pain in 2023? Motley Fool\n",
            "07:10AMJeff Bezos could follow boomerang bosses Bob Iger and Howard Schultz and return to Amazon as CEO after 50% stock drop in 2022, analyst predicts Fortune\n",
            "07:00AMInvestors: Here's the Good and Bad News About the Stock Market Motley Fool\n",
            "06:10AM3 Stocks That Can Double Again in 2023 Motley Fool\n",
            "05:57AMFollowing in Amazon's Footsteps, MercadoLibre Just Made a Genius Move Motley Fool\n",
            "05:30AMMy Favorite Warren Buffett Stocks for 2023 Motley Fool\n",
            "05:25AMWhere Will Rivian Automotive Stock Be in 1 Year? Motley Fool\n",
            "05:05AMMy Top Stock to Buy for 2023 (and It's Not Even Close) Motley Fool\n",
            "Jan-05-23 06:02PMPrice Matching Can Save You Hundreds: Heres What Stores Offer It GOBankingRates\n",
            "04:11PMThese Stocks Are Moving the Most Today: Silvergate, Bed Bath & Beyond, Lamb Weston, and More Barrons.com\n",
            "04:05PMCisco layoffs begin with hundreds of job cuts in California and more expected MarketWatch\n",
            "03:24PMAmazon layoffs: We still like the stock, analyst says Yahoo Finance Video\n",
            "03:21PMAmazon cuts jobs to reset tech giant after monster growth in the pandemic, but investors still worried MarketWatch\n",
            "03:17PMAmazon cuts to reset tech giant after monster growth in the pandemic, but investors still worried MarketWatch\n",
            "02:41PMTech stocks: It's 'still too early' to get back in, says UBS strategist Yahoo Finance\n",
            "02:40PMAmazon Will Lay Off More Than 18,000 Workers -- but That Doesn't Mean the Economy Is Doomed Motley Fool\n",
            "02:15PMAmazon Is Nearly Doubling Its Layoffs. Here's What It Means for Investors. Motley Fool\n",
            "01:31PMAmazon Cuts More Workers Than Expected Investopedia\n",
            "11:53AMAmazon joins Netflix and Tesla in cutting jobs as it lays off 18,000 workers Yahoo Finance Video\n",
            "10:58AM'Alexa, Find An EV Charging Station Near Me' - New EVgo, Amazon Partnership Simplifies Task Benzinga\n",
            "10:57AMTech analyst: The outlook is getting worse amid mass layoffs Yahoo Finance Video\n",
            "10:45AMMicrosoft and Amazon: Here's Why This Is No Contest TheStreet.com\n",
            "10:15AMIs Peloton Stock a Buy? Motley Fool\n",
            "10:13AMAmazon Stock Active As CEO Andy Jassy Confirms Plans To Cut 18,000 Jobs TheStreet.com\n",
            "10:09AMAmazon to Make Dramatic Lay Offs With Over 18,000 Job Cuts Motley Fool\n",
            "10:06AMIs Prologis a Buy? Motley Fool\n",
            "10:00AMSalesforce (CRM) to Slash Operating Costs, Reduce Staff by 10% Zacks\n",
            "10:00AMIMDb Helps Audiences Share and Discover Movie and TV Content With New TikTok Feature Business Wire\n",
            "09:41AMStocks open lower, materials and real estate lags, tech slips Yahoo Finance Video\n",
            "09:34AMAmazon to Slash More Than 18,000 Jobs in Escalation of Cuts Bloomberg\n",
            "09:24AMAmazon says it will eliminate more than 18,000 jobs Yahoo Finance Video\n",
            "09:20AMUPDATE 1-Heavy discounts drive record U.S. online holiday spending - report Reuters\n",
            "09:13AMVanguard says the outlook for the 60/40 model of stocks and bonds is looking rosier, but heres the allocation it prefers the most MarketWatch\n",
            "09:08AMShopify Just Threw a Big Lifeline to Meta Platforms and Alphabet Motley Fool\n",
            "09:00AMCES 2023: Amazon to boost Alexa's capabilities despite cuts to the business Yahoo Finance\n",
            "09:00AMCES 2023: Amazon is boosting Alexa's capabilities despite cuts to the business Yahoo Finance\n",
            "09:00AMAlexa, help! Amazon partners with EVgo to ease EV charging pain Reuters\n",
            "07:38AM3 Things You Shouldn't Do If the Stock Market Crashes Motley Fool\n",
            "07:30AMAmazon Needs to Become a Slower-Growth Wonder The Wall Street Journal\n",
            "07:15AMAmazon to Slash More Than 18,000 Jobs Bloomberg\n",
            "06:44AMTech Sector Layoffs Are Gathering Pace. Why the Fed Will Ignore Them. Barrons.com\n",
            "06:18AMAmazon, Salesforce: When one veteran portfolio manager will feel good about buying battered tech stocks Yahoo Finance\n",
            "06:14AMAmazon Stock Leaps As CEO Andy Jassy Confirms Plans To Cut 18,000 Jobs TheStreet.com\n",
            "06:00AMWill Amazon Recover in 2023? Motley Fool\n",
            "05:42AMStocks Edge Higher, Jobs Data, Amazon, Johnson & Johnson, Walgreen - Five Things To Know TheStreet.com\n",
            "05:04AMMy Top Beaten-Down Growth Stock to Buy in 2023 Motley Fool\n",
            "04:57AMAmazons 18,000 layoffs set the tone for what hiring and firing will look like in 2023 Quartz\n",
            "02:55AMAmazon expects to cut more than 18,000 jobs, CEO says American City Business Journals\n",
            "01:56AMAmazon to cut 18,000 jobs - live updates The Telegraph\n",
            "Jan-04-23 11:32PMAmazon job cuts increase to 18,000 Fox Business\n",
            "10:37PMAmazon Layoffs to Hit Over 18,000 Workers, the Most in Recent Tech Wave The Wall Street Journal\n",
            "09:52PMAmazon plans to cut 18,000 jobs to rein in costs Financial Times\n",
            "09:19PMAmazon Will Lay Off 18,000 Employees, CEO Andy Jassy Says Variety\n",
            "08:51PMHow Amazon Could 'Steal' Season 2 of Netflix's Hottest Show TheStreet.com\n",
            "07:06PMAmazon to Cut 70% More Jobs Than Previously Planned, WSJ Says Bloomberg\n",
            "06:58PMAnalyst Report: Amazon.com, Inc. Morningstar Research\n",
            "06:43PMAmazon to Lay Off Over 17,000 Workers, More Than First Planned The Wall Street Journal\n",
            "05:04PMShort sellers score $300 billion in 2022; bets against Tesla, Amazon, Meta bring in the most MarketWatch\n",
            "04:34PMCES 2023: Everything were expecting from the years biggest tech show Yahoo Finance\n",
            "04:19PMThese Stocks Are Moving the Most Today: Coinbase, Alibaba, Wynn, Microsoft, and More Barrons.com\n",
            "03:42PMJeff Bezos may return to helm Amazon, says forecaster of double-digit stock market losses last year MarketWatch\n",
            "03:21PMWhy Amazon Stock Had Trouble Gaining Ground on Wednesday Motley Fool\n",
            "01:44PMSalesforce layoffs suggest 'continued trimming' to come for Big Tech: analyst Yahoo Finance\n"
          ]
        }
      ],
      "source": [
        "# Iterate through the news\n",
        "parsed_news = []\n",
        "for file_name, news_table in news_tables.items():\n",
        "    for x in news_table.findAll('tr'):\n",
        "        print(x.get_text())\n",
        "        text = x.get_text() \n",
        "        date_scrape = x.td.text.split()\n",
        "\n",
        "        if len(date_scrape) == 1:\n",
        "            time = date_scrape[0]\n",
        "            \n",
        "        else:\n",
        "            date = date_scrape[0]\n",
        "            time = date_scrape[1]\n",
        "\n",
        "        ticker = file_name.split('_')[0]\n",
        "        \n",
        "        parsed_news.append([ticker, date, time, text ])"
      ]
    },
    {
      "cell_type": "code",
      "execution_count": 72,
      "metadata": {},
      "outputs": [],
      "source": [
        "from os import environ as env\n",
        "from dotenv import load_dotenv\n",
        "load_dotenv()\n",
        "key = env['key']"
      ]
    },
    {
      "cell_type": "code",
      "execution_count": 73,
      "metadata": {},
      "outputs": [],
      "source": [
        "class Init():\n",
        "    \"\"\"Class that initializes global value for the module. It also use general method to initialize value.\n",
        "     \"\"\"\n",
        "\n",
        "    def __init__(self):\n",
        "        \"\"\"Built-in method to inialize the global values for the module\n",
        "\n",
        "        Attributes\n",
        "        -------------------\n",
        "        `self.start.date` : str\n",
        "            start date of the training period. Must be within the last year for the free version of FinHub. Format\n",
        "            must be \"YYYY-mm-dd\"\n",
        "        `self.end_date` : str\n",
        "            end date of the training period. Format must be \"YYYY-mm-dd\"\n",
        "        `self.ticker` : list\n",
        "            tickers on which we want to perform the test. Can be one ticker in form of a list as well as a list\n",
        "            of tickers like the s&p 500.\n",
        "        `self.db_name` : str\n",
        "            name of the sqlite3 database\n",
        "        `self.dir_path` : str\n",
        "            directory where the data are saved. It takes into account the `self.start_date` and `self.end_date`\n",
        "        `self.start_date_` : datetime object\n",
        "            same thing as `start_date` but as a datetime object\n",
        "        `self.end_date_` : datetime object\n",
        "            same thing as `start_date` but as a datetime object\n",
        "        \"\"\"\n",
        "\n",
        "        #initialize value here\n",
        "        self.start_date = \"2020-02-10\"\n",
        "        self.end_date = \"2020-03-20\"\n",
        "        self.ticker = 'AAPL'\n",
        "\n",
        "        self.db_name = 'financial_data'\n",
        "        self.dir_path = os.path.dirname(os.path.realpath(__file__)) + '/output/' + self.start_date + '_' + \\\n",
        "                        self.end_date + '/'\n",
        "        Path(self.dir_path).mkdir(parents=True, exist_ok=True) #create new path if it doesn't exist\n",
        "        self.start_date_ = datetime.strptime(self.start_date, \"%Y-%m-%d\")  #datetime object\n",
        "        self.end_date_ = datetime.strptime(self.end_date, \"%Y-%m-%d\")    #datetime object\n",
        "        self.delta_date = abs((self.end_date_ - self.start_date_).days) #number of days between 2 dates\n",
        "\n",
        "        try:\n",
        "            self.start_date_ > self.end_date_\n",
        "        except:\n",
        "            print(\"'start_date' is after 'end_date'\")\n",
        "\n",
        "        try :\n",
        "            datetime.strptime(self.start_date, \"%Y-%m-%d\") <= (datetime.now()- relativedelta(years=1))\n",
        "        except:\n",
        "            print(\"'start_date' is older than 1 year. It doesn't work with the free version of FinHub\")"
      ]
    },
    {
      "cell_type": "code",
      "execution_count": 74,
      "metadata": {},
      "outputs": [],
      "source": [
        "class FinnHub():\n",
        "    \"\"\"Class to make API calls to FinnHub\"\"\"\n",
        "\n",
        "    def __init__(self,start_date,end_date,start_date_,end_date_,ticker,dir_path,db_name):\n",
        "        \"\"\" Class constructor\n",
        "\n",
        "        Parameters\n",
        "        ----------\n",
        "        `start_date` : str\n",
        "            Start date of the request. Must be within 1 year from now for must request\n",
        "            with the free version of FinHub\n",
        "        `end_date` : str\n",
        "            End date of the request.\n",
        "        `start_date_` : datetime object\n",
        "            Same thing as `start_date` but as a datetime object\n",
        "        `end_date_` : datetime object\n",
        "             Same thing as `start_date` but as a datetime object\n",
        "        `ticker` : str\n",
        "            Ticker symbol\n",
        "        `db_name` : str\n",
        "            Name of the sqlite database\n",
        "        `dir_path` : str\n",
        "            Directory  where our data will be stored\n",
        "\n",
        "        Attributes\n",
        "        ----------\n",
        "        `self.max_call` : int\n",
        "            maximum api calls per minute for the finhub API\n",
        "        `self.time_sleep` : int\n",
        "            seconds to sleep before making a new API call. Default is 60 seconds as the maximum number of API calls is\n",
        "            per minute\n",
        "        `self.nb_request` : int\n",
        "            nb of request made so far. Set to 0 in constructor `__init__` as we may loop through ticker\n",
        "            and want to avoid the variable to reset to 0 when exiting the wrapper `iterate_day()` (which could generate\n",
        "            an error)\n",
        "        `self.finhub_key` : str\n",
        "            finhub unique API key. Get yours here : https://finnhub.io/\n",
        "        `self.db_name : str\n",
        "            default file name for the sql database\n",
        "        \"\"\"\n",
        "\n",
        "        #Initialize attributes values here\n",
        "        self.max_call = 60\n",
        "        self.time_sleep = 60\n",
        "        self.nb_request = 0\n",
        "        self.finhub_key = config('FINHUB_KEY')\n",
        "        self.news_header = ['category', 'datetime','headline','id','image','related','source','summary','url']\n",
        "        self.start_date = start_date\n",
        "        self.end_date = end_date\n",
        "        self.ticker = ticker\n",
        "        self.ticker_request = ticker #different value because ticker like 'ALL' (All State) can generate error in SQLite\n",
        "                                    #database\n",
        "        self.dir_path = dir_path\n",
        "        self.db_name = db_name\n",
        "        self.js_data = []\n",
        "\n",
        "        self.start_date_ = start_date_ #datetime object\n",
        "        self.end_date_ = end_date_ #datetime object\n",
        "\n",
        "        #call the methods to access historical financial headlines\n",
        "        tickers = get_tickers()\n",
        "        for ticker_ in tickers:\n",
        "            self.ticker = ticker_ + '_'\n",
        "            self.ticker_request = ticker_\n",
        "            self.req_new()\n",
        "            self.create_table()\n",
        "            self.clean_table()\n",
        "            self.lang_review()"
      ]
    },
    {
      "cell_type": "code",
      "execution_count": 75,
      "metadata": {},
      "outputs": [],
      "source": [
        "def get_tickers():\n",
        "    \"\"\"Method that gets the stock symbols from companies listed in the S&P 500\n",
        "\n",
        "    Return\n",
        "    ------\n",
        "    `tickers` : list\n",
        "        S&P 500 company symbols\n",
        "    \"\"\"\n",
        "    resp = requests.get('http://en.wikipedia.org/wiki/List_of_S%26P_500_companies')\n",
        "    soup = bs.BeautifulSoup(resp.text, 'lxml')\n",
        "    table = soup.find_all('table')[0]  # Grab the first table\n",
        "\n",
        "    tickers = []\n",
        "    for row in table.findAll('tr')[1:]:\n",
        "        ticker = row.findAll('td')[0].text.strip('\\n')\n",
        "        tickers.append(ticker)\n",
        "\n",
        "    return tickers"
      ]
    },
    {
      "cell_type": "code",
      "execution_count": 76,
      "metadata": {},
      "outputs": [],
      "source": [
        "def iterate_day(func):\n",
        "    \"\"\" Decorator that makes the API call on FinHub each days between the `self.start_date`\n",
        "    and `self.end_date` \"\"\"\n",
        "\n",
        "    def wrapper_(self):\n",
        "        delta_date_ = delta_date(self.start_date,self.end_date)\n",
        "        date_ = self.start_date\n",
        "        date_obj = self.start_date_\n",
        "\n",
        "        for item in range(delta_date_ + 1):\n",
        "            self.nb_request +=1\n",
        "            func(self,date_)\n",
        "            date_obj = date_obj + relativedelta(days=1)\n",
        "            date_  = date_obj.strftime(\"%Y-%m-%d\")\n",
        "            if self.nb_request == (self.max_call-1):\n",
        "                time.sleep(self.time_sleep)\n",
        "                self.nb_request=0\n",
        "    return wrapper_\n",
        "\n",
        "@iterate_day\n",
        "def req_new(self,date_):\n",
        "    \"\"\" Method that makes news request(s) to the Finnhub API\"\"\"\n",
        "\n",
        "    request_ = requests.get('https://finnhub.io/api/v1/company-news?symbol=' + self.ticker_request + '&from=' +\n",
        "                            date_ + '&to=' + date_ + '&token=' + self.finhub_key)\n",
        "    self.js_data += request_.json()"
      ]
    },
    {
      "cell_type": "code",
      "execution_count": 77,
      "metadata": {},
      "outputs": [],
      "source": [
        "from newsapi import NewsApiClient\n",
        "import sys\n",
        "from datetime import date, timedelta, datetime\n",
        "import os\n",
        "sia = SentimentIntensityAnalyzer()"
      ]
    },
    {
      "cell_type": "code",
      "execution_count": 78,
      "metadata": {},
      "outputs": [
        {
          "data": {
            "text/plain": [
              "'5026cc11681a4631852d15137e956c86'"
            ]
          },
          "execution_count": 78,
          "metadata": {},
          "output_type": "execute_result"
        }
      ],
      "source": [
        "#from os import environ as env\n",
        "#from dotenv import load_dotenv\n",
        "#load_dotenv()\n",
        "from decouple import config\n",
        "key = config('key')\n",
        "key"
      ]
    },
    {
      "cell_type": "code",
      "execution_count": 79,
      "metadata": {},
      "outputs": [
        {
          "name": "stderr",
          "output_type": "stream",
          "text": [
            "[nltk_data] Error loading vader-lexicon: Package 'vader-lexicon' not\n",
            "[nltk_data]     found in index\n"
          ]
        },
        {
          "data": {
            "text/plain": [
              "False"
            ]
          },
          "execution_count": 79,
          "metadata": {},
          "output_type": "execute_result"
        }
      ],
      "source": [
        "nltk.download('vader-lexicon')"
      ]
    },
    {
      "cell_type": "code",
      "execution_count": 80,
      "metadata": {},
      "outputs": [],
      "source": [
        "def get_sources(category = None):\n",
        "  newsapi = NewsApiClient(api_key=key)\n",
        "  sources = newsapi.get_sources()\n",
        "  if category is not None:\n",
        "    rez = [source['id'] for source in sources['sources'] if source['category'] == category and source['language'] == 'en']\n",
        "  else:\n",
        "    rez = [source['id'] for source in sources['sources'] if source['language'] == 'en']\n",
        "  \n",
        "  return rez"
      ]
    },
    {
      "cell_type": "code",
      "execution_count": 81,
      "metadata": {},
      "outputs": [
        {
          "data": {
            "text/plain": [
              "81"
            ]
          },
          "execution_count": 81,
          "metadata": {},
          "output_type": "execute_result"
        }
      ],
      "source": [
        "len(get_sources())"
      ]
    },
    {
      "cell_type": "code",
      "execution_count": 82,
      "metadata": {},
      "outputs": [
        {
          "data": {
            "text/plain": [
              "['australian-financial-review',\n",
              " 'bloomberg',\n",
              " 'business-insider',\n",
              " 'business-insider-uk',\n",
              " 'financial-post',\n",
              " 'fortune',\n",
              " 'the-wall-street-journal']"
            ]
          },
          "execution_count": 82,
          "metadata": {},
          "output_type": "execute_result"
        }
      ],
      "source": [
        "get_sources('business')"
      ]
    },
    {
      "cell_type": "code",
      "execution_count": 83,
      "metadata": {},
      "outputs": [
        {
          "ename": "NewsAPIException",
          "evalue": "{'status': 'error', 'code': 'parameterInvalid', 'message': 'You are trying to request results too far in the past. Your plan permits you to request articles as far back as 2022-12-08, but you have requested 2022-12-07. You may need to upgrade to a paid plan.'}",
          "output_type": "error",
          "traceback": [
            "\u001b[1;31m---------------------------------------------------------------------------\u001b[0m",
            "\u001b[1;31mNewsAPIException\u001b[0m                          Traceback (most recent call last)",
            "Cell \u001b[1;32mIn [83], line 14\u001b[0m\n\u001b[0;32m     11\u001b[0m         articles \u001b[39m=\u001b[39m newsapi\u001b[39m.\u001b[39mget_everything(q \u001b[39m=\u001b[39m keyword, from_param \u001b[39m=\u001b[39m my_date\u001b[39m.\u001b[39misoformat(),to \u001b[39m=\u001b[39m (my_date \u001b[39m+\u001b[39m timedelta(days \u001b[39m=\u001b[39m \u001b[39m1\u001b[39m))\u001b[39m.\u001b[39misoformat(), language\u001b[39m=\u001b[39m\u001b[39m\"\u001b[39m\u001b[39men\u001b[39m\u001b[39m\"\u001b[39m, sort_by\u001b[39m=\u001b[39m\u001b[39m\"\u001b[39m\u001b[39mrelevancy\u001b[39m\u001b[39m\"\u001b[39m, page_size \u001b[39m=\u001b[39m \u001b[39m100\u001b[39m)\n\u001b[0;32m     12\u001b[0m     \u001b[39mprint\u001b[39m(articles)   \n\u001b[1;32m---> 14\u001b[0m get_articles(\u001b[39m'\u001b[39;49m\u001b[39mAMZN\u001b[39;49m\u001b[39m'\u001b[39;49m, \u001b[39m'\u001b[39;49m\u001b[39m07-Dec-2022\u001b[39;49m\u001b[39m'\u001b[39;49m, sources_list\u001b[39m=\u001b[39;49mget_sources(\u001b[39m'\u001b[39;49m\u001b[39mbusiness\u001b[39;49m\u001b[39m'\u001b[39;49m)) \n",
            "Cell \u001b[1;32mIn [83], line 9\u001b[0m, in \u001b[0;36mget_articles\u001b[1;34m(keyword, startDate, sources_list)\u001b[0m\n\u001b[0;32m      6\u001b[0m     my_date \u001b[39m=\u001b[39m startDate\n\u001b[0;32m      8\u001b[0m \u001b[39mif\u001b[39;00m sources_list:\n\u001b[1;32m----> 9\u001b[0m     articles \u001b[39m=\u001b[39m newsapi\u001b[39m.\u001b[39;49mget_everything(q \u001b[39m=\u001b[39;49m keyword, from_param \u001b[39m=\u001b[39;49m my_date\u001b[39m.\u001b[39;49misoformat(), to \u001b[39m=\u001b[39;49m (my_date \u001b[39m+\u001b[39;49m timedelta(days \u001b[39m=\u001b[39;49m \u001b[39m1\u001b[39;49m))\u001b[39m.\u001b[39;49misoformat(), language\u001b[39m=\u001b[39;49m\u001b[39m\"\u001b[39;49m\u001b[39men\u001b[39;49m\u001b[39m\"\u001b[39;49m, sources \u001b[39m=\u001b[39;49m \u001b[39m\"\u001b[39;49m\u001b[39m,\u001b[39;49m\u001b[39m\"\u001b[39;49m\u001b[39m.\u001b[39;49mjoin(sources_list), sort_by\u001b[39m=\u001b[39;49m\u001b[39m\"\u001b[39;49m\u001b[39mrelevancy\u001b[39;49m\u001b[39m\"\u001b[39;49m, page_size \u001b[39m=\u001b[39;49m \u001b[39m100\u001b[39;49m)\n\u001b[0;32m     10\u001b[0m \u001b[39melse\u001b[39;00m:\n\u001b[0;32m     11\u001b[0m     articles \u001b[39m=\u001b[39m newsapi\u001b[39m.\u001b[39mget_everything(q \u001b[39m=\u001b[39m keyword, from_param \u001b[39m=\u001b[39m my_date\u001b[39m.\u001b[39misoformat(),to \u001b[39m=\u001b[39m (my_date \u001b[39m+\u001b[39m timedelta(days \u001b[39m=\u001b[39m \u001b[39m1\u001b[39m))\u001b[39m.\u001b[39misoformat(), language\u001b[39m=\u001b[39m\u001b[39m\"\u001b[39m\u001b[39men\u001b[39m\u001b[39m\"\u001b[39m, sort_by\u001b[39m=\u001b[39m\u001b[39m\"\u001b[39m\u001b[39mrelevancy\u001b[39m\u001b[39m\"\u001b[39m, page_size \u001b[39m=\u001b[39m \u001b[39m100\u001b[39m)\n",
            "File \u001b[1;32mc:\\Python310\\lib\\site-packages\\newsapi\\newsapi_client.py:326\u001b[0m, in \u001b[0;36mNewsApiClient.get_everything\u001b[1;34m(self, q, qintitle, sources, domains, exclude_domains, from_param, to, language, sort_by, page, page_size)\u001b[0m\n\u001b[0;32m    324\u001b[0m \u001b[39m# Check Status of Request\u001b[39;00m\n\u001b[0;32m    325\u001b[0m \u001b[39mif\u001b[39;00m r\u001b[39m.\u001b[39mstatus_code \u001b[39m!=\u001b[39m requests\u001b[39m.\u001b[39mcodes\u001b[39m.\u001b[39mok:\n\u001b[1;32m--> 326\u001b[0m     \u001b[39mraise\u001b[39;00m NewsAPIException(r\u001b[39m.\u001b[39mjson())\n\u001b[0;32m    328\u001b[0m \u001b[39mreturn\u001b[39;00m r\u001b[39m.\u001b[39mjson()\n",
            "\u001b[1;31mNewsAPIException\u001b[0m: {'status': 'error', 'code': 'parameterInvalid', 'message': 'You are trying to request results too far in the past. Your plan permits you to request articles as far back as 2022-12-08, but you have requested 2022-12-07. You may need to upgrade to a paid plan.'}"
          ]
        }
      ],
      "source": [
        "def get_articles(keyword, startDate, sources_list = None):\n",
        "    newsapi = NewsApiClient(api_key=key)\n",
        "    if type(startDate) == str:\n",
        "        my_date = datetime.strptime(startDate, '%d-%b-%Y')\n",
        "    else:\n",
        "        my_date = startDate\n",
        "\n",
        "    if sources_list:\n",
        "        articles = newsapi.get_everything(q = keyword, from_param = my_date.isoformat(), to = (my_date + timedelta(days = 1)).isoformat(), language=\"en\", sources = \",\".join(sources_list), sort_by=\"relevancy\", page_size = 100)\n",
        "    else:\n",
        "        articles = newsapi.get_everything(q = keyword, from_param = my_date.isoformat(),to = (my_date + timedelta(days = 1)).isoformat(), language=\"en\", sort_by=\"relevancy\", page_size = 100)\n",
        "    print(articles)   \n",
        "\n",
        "get_articles('AMZN', '07-Dec-2022', sources_list=get_sources('business')) "
      ]
    },
    {
      "cell_type": "code",
      "execution_count": null,
      "metadata": {},
      "outputs": [],
      "source": [
        "def get_articles_sentiments(keywrd, startd, sources_list = None, show_all_articles = False):\n",
        "  newsapi = NewsApiClient(api_key=key)\n",
        "  if type(startd)== str :\n",
        "    my_date = datetime.strptime(startd,'%d-%b-%Y')\n",
        "  else:\n",
        "    my_date = startd\n",
        "  #If the sources list is provided - use it\n",
        "  if sources_list:\n",
        "    articles = newsapi.get_everything(q = keywrd, from_param = my_date.isoformat(), to = (my_date + timedelta(days = 1)).isoformat(), language=\"en\", sources = \",\".join(sources_list), sort_by=\"relevancy\", page_size = 100)\n",
        "  else:\n",
        "    articles = newsapi.get_everything(q = keywrd, from_param = my_date.isoformat(),to = (my_date + timedelta(days = 1)).isoformat(), language=\"en\", sort_by=\"relevancy\", page_size = 100)\n",
        "  print(articles)\n",
        "  article_content = ''\n",
        "  date_sentiments = {}\n",
        "  date_sentiments_list = []\n",
        "  seen = set()\n",
        "  for article in articles['articles']:\n",
        "    if str(article['title']) in seen:\n",
        "      continue\n",
        "    else:\n",
        "      seen.add(str(article['title']))\n",
        "    article_content = str(article['title']) + '. ' + str(article['description'])\n",
        "    #Get the sentiment score\n",
        "    sentiment = sia.polarity_scores(article_content)['compound']\n",
        "  \n",
        "    date_sentiments.setdefault(my_date, []).append(sentiment)\n",
        "    date_sentiments_list.append((sentiment, article['url'], article['title'],article['description']))\n",
        "    date_sentiments_l = sorted(date_sentiments_list, key = lambda tup: tup[0],reverse = True)\n",
        "    sent_list = list(date_sentiments.values())[0]\n",
        "    #Return a dataframe with all sentiment scores and articles  \n",
        "    return pd.DataFrame(date_sentiments_list, columns=['Sentiment','URL','Title','Description'])"
      ]
    },
    {
      "cell_type": "code",
      "execution_count": null,
      "metadata": {},
      "outputs": [
        {
          "name": "stdout",
          "output_type": "stream",
          "text": [
            "0.3818\n",
            "1\n",
            "0    Here are the top 10 searched stocks by subscri...\n",
            "Name: Description, dtype: object\n"
          ]
        },
        {
          "data": {
            "image/png": "[encoded data removed]",
            "text/plain": [
              "<Figure size 640x480 with 1 Axes>"
            ]
          },
          "metadata": {},
          "output_type": "display_data"
        }
      ],
      "source": [
        "return_articles = get_articles_sentiments(keywrd= 'AMZN', startd = '07-Dec-2022', sources_list = None, show_all_articles= True)\n",
        "return_articles.Sentiment.hist(bins=30,grid=False)\n",
        "\n",
        "print(return_articles.Sentiment.mean())\n",
        "print(return_articles.Sentiment.count())\n",
        "print(return_articles.Description)"
      ]
    },
    {
      "cell_type": "code",
      "execution_count": null,
      "metadata": {},
      "outputs": [
        {
          "data": {
            "text/html": [
              "<div>\n",
              "<style scoped>\n",
              "    .dataframe tbody tr th:only-of-type {\n",
              "        vertical-align: middle;\n",
              "    }\n",
              "\n",
              "    .dataframe tbody tr th {\n",
              "        vertical-align: top;\n",
              "    }\n",
              "\n",
              "    .dataframe thead th {\n",
              "        text-align: right;\n",
              "    }\n",
              "</style>\n",
              "<table border=\"1\" class=\"dataframe\">\n",
              "  <thead>\n",
              "    <tr style=\"text-align: right;\">\n",
              "      <th></th>\n",
              "      <th>Sentiment</th>\n",
              "      <th>URL</th>\n",
              "    </tr>\n",
              "  </thead>\n",
              "  <tbody>\n",
              "    <tr>\n",
              "      <th>0</th>\n",
              "      <td>0.3818</td>\n",
              "      <td>https://www.marketbeat.com/originals/top-10-se...</td>\n",
              "    </tr>\n",
              "  </tbody>\n",
              "</table>\n",
              "</div>"
            ],
            "text/plain": [
              "   Sentiment                                                URL\n",
              "0     0.3818  https://www.marketbeat.com/originals/top-10-se..."
            ]
          },
          "execution_count": 47,
          "metadata": {},
          "output_type": "execute_result"
        }
      ],
      "source": [
        "return_articles.sort_values(by='Sentiment', ascending=True)[['Sentiment','URL']].head(2)"
      ]
    },
    {
      "attachments": {},
      "cell_type": "markdown",
      "metadata": {},
      "source": [
        "# Gathering Data From AlphaAdvantage for Historical News #"
      ]
    },
    {
      "cell_type": "code",
      "execution_count": 2,
      "metadata": {},
      "outputs": [],
      "source": [
        "from decouple import config\n",
        "import requests\n",
        "import urllib.parse\n",
        "AAapikey = config('AAKey')"
      ]
    },
    {
      "cell_type": "code",
      "execution_count": 3,
      "metadata": {},
      "outputs": [
        {
          "name": "stdout",
          "output_type": "stream",
          "text": [
            "{'items': '50', 'sentiment_score_definition': 'x <= -0.35: Bearish; -0.35 < x <= -0.15: Somewhat-Bearish; -0.15 < x < 0.15: Neutral; 0.15 <= x < 0.35: Somewhat_Bullish; x >= 0.35: Bullish', 'relevance_score_definition': '0 < x <= 1, with a higher score indicating higher relevance.', 'feed': [{'title': 'Shopify Is Innovating Across All Stripes In an Effort To Slash Costs - Shopify  ( NYSE:SHOP ) , Apple  ( NASDAQ:AAPL ) , Amazon.com  ( NASDAQ:AMZN ) ', 'url': 'https://www.benzinga.com/general/23/01/30334417/shopify-is-innovating-across-all-stripes-in-an-effort-to-slash-costs', 'time_published': '20230109T182523', 'authors': ['Upwallstreet'], 'summary': \"Rising inflation and higher interest rates are weakening consumers' buying power and consequently, e-commerce purchases are dropping.\", 'banner_image': 'https://cdn.benzinga.com/files/images/story/2023/01/09/screen_shot_2023-01-05_at_1.36.34_pm.png?width=1200&height=800&fit=crop', 'source': 'Benzinga', 'category_within_source': 'General', 'source_domain': 'www.benzinga.com', 'topics': [{'topic': 'Economy - Monetary', 'relevance_score': '0.158519'}, {'topic': 'Retail & Wholesale', 'relevance_score': '0.5'}, {'topic': 'Financial Markets', 'relevance_score': '0.266143'}, {'topic': 'Technology', 'relevance_score': '0.5'}], 'overall_sentiment_score': 0.10611, 'overall_sentiment_label': 'Neutral', 'ticker_sentiment': [{'ticker': 'MSFT', 'relevance_score': '0.085476', 'ticker_sentiment_score': '-0.007293', 'ticker_sentiment_label': 'Neutral'}, {'ticker': 'SHOP', 'relevance_score': '0.408506', 'ticker_sentiment_score': '0.092878', 'ticker_sentiment_label': 'Neutral'}, {'ticker': 'GOOG', 'relevance_score': '0.169975', 'ticker_sentiment_score': '0.005931', 'ticker_sentiment_label': 'Neutral'}, {'ticker': 'META', 'relevance_score': '0.127908', 'ticker_sentiment_score': '0.077253', 'ticker_sentiment_label': 'Neutral'}, {'ticker': 'AAPL', 'relevance_score': '0.127908', 'ticker_sentiment_score': '0.012277', 'ticker_sentiment_label': 'Neutral'}, {'ticker': 'GLYYY', 'relevance_score': '0.0428', 'ticker_sentiment_score': '0.160022', 'ticker_sentiment_label': 'Somewhat-Bullish'}, {'ticker': 'AMZN', 'relevance_score': '0.169975', 'ticker_sentiment_score': '0.06492', 'ticker_sentiment_label': 'Neutral'}, {'ticker': 'CGCO', 'relevance_score': '0.0428', 'ticker_sentiment_score': '0.160022', 'ticker_sentiment_label': 'Somewhat-Bullish'}]}, {'title': \"Look for a big cut to TSMC's 2023 outlook as a bullish sign for chips, one analyst says ahead of earnings\", 'url': 'https://www.marketwatch.com/story/look-for-a-big-cut-to-tsmcs-2023-outlook-as-a-bullish-sign-for-chips-one-analyst-says-ahead-of-earnings-11673285288', 'time_published': '20230109T172800', 'authors': ['Wallace Witkowski'], 'summary': 'The best thing TSMC can do in its earnings report Thursday is to cut its outlook for 2023 big ...', 'banner_image': 'https://images.mktw.net/im-680350/social', 'source': 'MarketWatch', 'category_within_source': 'Top Stories', 'source_domain': 'www.marketwatch.com', 'topics': [{'topic': 'Earnings', 'relevance_score': '0.905476'}, {'topic': 'Technology', 'relevance_score': '0.5'}, {'topic': 'Manufacturing', 'relevance_score': '0.5'}], 'overall_sentiment_score': 0.094352, 'overall_sentiment_label': 'Neutral', 'ticker_sentiment': [{'ticker': 'AMD', 'relevance_score': '0.232069', 'ticker_sentiment_score': '-0.065937', 'ticker_sentiment_label': 'Neutral'}, {'ticker': 'NVDA', 'relevance_score': '0.155954', 'ticker_sentiment_score': '0.0', 'ticker_sentiment_label': 'Neutral'}, {'ticker': 'AAPL', 'relevance_score': '0.232069', 'ticker_sentiment_score': '-0.065937', 'ticker_sentiment_label': 'Neutral'}, {'ticker': 'TSM', 'relevance_score': '0.232069', 'ticker_sentiment_score': '0.093493', 'ticker_sentiment_label': 'Neutral'}]}, {'title': 'Short Sellers Profited By 31% in 2022 on Stock Picks', 'url': 'https://www.thestreet.com/stocks/short-sellers-profited-by-31-in-2022-on-stock-picks', 'time_published': '20230109T172500', 'authors': ['Ellen Chang'], 'summary': 'Tesla was the number one stock that short sellers made money from in 2022.', 'banner_image': 'https://www.thestreet.com/.image/ar_16:9%2Cc_fill%2Ccs_srgb%2Cfl_progressive%2Cg_faces:center%2Cq_auto:good%2Cw_620/MTkzNzQ3OTE4NDYzNzA2NjA4/thumb-stocks-to-buy-js-111422.jpg', 'source': 'The Street', 'category_within_source': 'n/a', 'source_domain': 'www.thestreet.com', 'topics': [{'topic': 'Economy - Monetary', 'relevance_score': '0.158519'}, {'topic': 'Retail & Wholesale', 'relevance_score': '0.25'}, {'topic': 'Financial Markets', 'relevance_score': '0.214378'}, {'topic': 'Manufacturing', 'relevance_score': '0.25'}, {'topic': 'Energy & Transportation', 'relevance_score': '0.25'}, {'topic': 'Technology', 'relevance_score': '0.25'}], 'overall_sentiment_score': 0.271605, 'overall_sentiment_label': 'Somewhat-Bullish', 'ticker_sentiment': [{'ticker': 'META', 'relevance_score': '0.124593', 'ticker_sentiment_score': '0.393864', 'ticker_sentiment_label': 'Bullish'}, {'ticker': 'NVDA', 'relevance_score': '0.083251', 'ticker_sentiment_score': '0.451894', 'ticker_sentiment_label': 'Bullish'}, {'ticker': 'AAPL', 'relevance_score': '0.083251', 'ticker_sentiment_score': '0.451894', 'ticker_sentiment_label': 'Bullish'}, {'ticker': 'CVX', 'relevance_score': '0.083251', 'ticker_sentiment_score': '0.304396', 'ticker_sentiment_label': 'Somewhat-Bullish'}, {'ticker': 'KO', 'relevance_score': '0.083251', 'ticker_sentiment_score': '0.331775', 'ticker_sentiment_label': 'Somewhat-Bullish'}, {'ticker': 'K', 'relevance_score': '0.083251', 'ticker_sentiment_score': '0.331775', 'ticker_sentiment_label': 'Somewhat-Bullish'}, {'ticker': 'HSY', 'relevance_score': '0.083251', 'ticker_sentiment_score': '0.331775', 'ticker_sentiment_label': 'Somewhat-Bullish'}, {'ticker': 'GIS', 'relevance_score': '0.083251', 'ticker_sentiment_score': '0.331775', 'ticker_sentiment_label': 'Somewhat-Bullish'}, {'ticker': 'MSFT', 'relevance_score': '0.083251', 'ticker_sentiment_score': '0.451894', 'ticker_sentiment_label': 'Bullish'}, {'ticker': 'OXY', 'relevance_score': '0.083251', 'ticker_sentiment_score': '0.304396', 'ticker_sentiment_label': 'Somewhat-Bullish'}, {'ticker': 'BYND', 'relevance_score': '0.083251', 'ticker_sentiment_score': '0.331775', 'ticker_sentiment_label': 'Somewhat-Bullish'}, {'ticker': 'SE', 'relevance_score': '0.083251', 'ticker_sentiment_score': '0.451894', 'ticker_sentiment_label': 'Bullish'}, {'ticker': 'TSLA', 'relevance_score': '0.206157', 'ticker_sentiment_score': '0.424409', 'ticker_sentiment_label': 'Bullish'}, {'ticker': 'CPB', 'relevance_score': '0.083251', 'ticker_sentiment_score': '0.331775', 'ticker_sentiment_label': 'Somewhat-Bullish'}, {'ticker': 'DWAC', 'relevance_score': '0.083251', 'ticker_sentiment_score': '-0.040443', 'ticker_sentiment_label': 'Neutral'}, {'ticker': 'XOM', 'relevance_score': '0.083251', 'ticker_sentiment_score': '0.304396', 'ticker_sentiment_label': 'Somewhat-Bullish'}, {'ticker': 'AMD', 'relevance_score': '0.083251', 'ticker_sentiment_score': '0.451894', 'ticker_sentiment_label': 'Bullish'}, {'ticker': 'CVNA', 'relevance_score': '0.083251', 'ticker_sentiment_score': '0.451894', 'ticker_sentiment_label': 'Bullish'}, {'ticker': 'AMZN', 'relevance_score': '0.124593', 'ticker_sentiment_score': '0.393864', 'ticker_sentiment_label': 'Bullish'}, {'ticker': 'SQ', 'relevance_score': '0.083251', 'ticker_sentiment_score': '0.451894', 'ticker_sentiment_label': 'Bullish'}]}, {'title': \"The iPhone Was Unveiled 16 Years Ago, Here's How Much $1,000 Invested In Apple Stock After The Debut Is Worth Today - Apple  ( NASDAQ:AAPL ) \", 'url': 'https://www.benzinga.com/news/23/01/30336631/the-iphone-was-unveiled-16-years-ago-heres-how-much-1-000-invested-in-apple-stock-after-the-debut-is', 'time_published': '20230109T172424', 'authors': ['Chris Katje'], 'summary': \"Many people around the world recognize the iPhone from Apple Inc AAPL as one of the leading smartphones today. The revolutionary phone was unveiled 16 years ago by Apple co-founder and former CEO Steve Jobs. Here's a look at the announcement and how the stock performed since its debut.\", 'banner_image': 'https://cdn.benzinga.com/files/images/story/2023/01/09/shutterstock_1644720079.jpg?width=1200&height=800&fit=crop', 'source': 'Benzinga', 'category_within_source': 'General', 'source_domain': 'www.benzinga.com', 'topics': [{'topic': 'Technology', 'relevance_score': '1.0'}, {'topic': 'Financial Markets', 'relevance_score': '0.87644'}], 'overall_sentiment_score': 0.23066, 'overall_sentiment_label': 'Somewhat-Bullish', 'ticker_sentiment': [{'ticker': 'SSTK', 'relevance_score': '0.129516', 'ticker_sentiment_score': '0.0', 'ticker_sentiment_label': 'Neutral'}, {'ticker': 'AAPL', 'relevance_score': '0.977547', 'ticker_sentiment_score': '0.509444', 'ticker_sentiment_label': 'Bullish'}]}, {'title': \"Warren Buffett's Berkshire Hathaway Stock Is Breaking Out\", 'url': 'https://www.thestreet.com/investing/stocks/warren-buffetts-berkshire-hathaway-stock-is-breaking-out-brkb-brka-trading', 'time_published': '20230109T165400', 'authors': ['Bret Kenwell'], 'summary': \"Berkshire Hathaway stock is trying for a big-time breakout. Here's the setup.\", 'banner_image': 'https://www.thestreet.com/.image/t_share/MTk1MDQ0MzAwMTE4MDQxNzk5/brk.png', 'source': 'The Street', 'category_within_source': 'n/a', 'source_domain': 'www.thestreet.com', 'topics': [{'topic': 'Technology', 'relevance_score': '0.5'}, {'topic': 'Finance', 'relevance_score': '0.5'}, {'topic': 'Financial Markets', 'relevance_score': '0.266143'}], 'overall_sentiment_score': 0.267281, 'overall_sentiment_label': 'Somewhat-Bullish', 'ticker_sentiment': [{'ticker': 'AAPL', 'relevance_score': '0.228073', 'ticker_sentiment_score': '0.227557', 'ticker_sentiment_label': 'Somewhat-Bullish'}, {'ticker': 'BRK-A', 'relevance_score': '0.531326', 'ticker_sentiment_score': '0.37817', 'ticker_sentiment_label': 'Bullish'}]}, {'title': 'Why Apple Was Rising Today', 'url': 'https://www.fool.com/investing/2023/01/09/why-apple-was-rising-today/', 'time_published': '20230109T165009', 'authors': ['Billy Duberstein'], 'summary': \"On a good day for tech stocks, Bloomberg hinted that Apple's new AR/VR headset will be released in the next couple of months.\", 'banner_image': 'https://g.foolcdn.com/image/?url=https%3A%2F%2Fg.foolcdn.com%2Feditorial%2Fimages%2F714902%2Fwarren-buffett-frowning-tmf-photo.jpg&op=resize&h=340', 'source': 'Motley Fool', 'category_within_source': 'n/a', 'source_domain': 'www.fool.com', 'topics': [{'topic': 'Economy - Monetary', 'relevance_score': '0.310843'}, {'topic': 'Technology', 'relevance_score': '1.0'}, {'topic': 'Financial Markets', 'relevance_score': '0.161647'}], 'overall_sentiment_score': 0.098048, 'overall_sentiment_label': 'Neutral', 'ticker_sentiment': [{'ticker': 'AAPL', 'relevance_score': '0.612033', 'ticker_sentiment_score': '0.068728', 'ticker_sentiment_label': 'Neutral'}]}, {'title': '2 Stocks to Watch From the Challenging Computer Industry', 'url': 'https://www.zacks.com/commentary/2036855/2-stocks-to-watch-from-the-challenging-computer-industry', 'time_published': '20230109T164700', 'authors': ['Zacks Investment Research'], 'summary': 'The Computer - Mini Computers industry is suffering from massive supply-chain and logistical issues, as well as geopolitical challenges. However, the strong demand for laptops and tablets bodes well for Apple (AAPL) and Lenovo (LNVGY).', 'banner_image': 'https://staticx-tuner.zacks.com/images/zadmin_tuner_image/cm_io_perf_20230109.jpg', 'source': 'Zacks Commentary', 'category_within_source': 'n/a', 'source_domain': 'www.zacks.com', 'topics': [{'topic': 'Financial Markets', 'relevance_score': '0.796627'}, {'topic': 'Manufacturing', 'relevance_score': '0.5'}, {'topic': 'Earnings', 'relevance_score': '0.838487'}, {'topic': 'Technology', 'relevance_score': '0.5'}], 'overall_sentiment_score': 0.212626, 'overall_sentiment_label': 'Somewhat-Bullish', 'ticker_sentiment': [{'ticker': 'LNVGF', 'relevance_score': '0.113418', 'ticker_sentiment_score': '0.052718', 'ticker_sentiment_label': 'Neutral'}, {'ticker': 'MSFT', 'relevance_score': '0.03792', 'ticker_sentiment_score': '0.143099', 'ticker_sentiment_label': 'Neutral'}, {'ticker': 'SSNLF', 'relevance_score': '0.075754', 'ticker_sentiment_score': '0.205246', 'ticker_sentiment_label': 'Somewhat-Bullish'}, {'ticker': 'GOOG', 'relevance_score': '0.03792', 'ticker_sentiment_score': '0.143099', 'ticker_sentiment_label': 'Neutral'}, {'ticker': 'NVDA', 'relevance_score': '0.075754', 'ticker_sentiment_score': '0.205246', 'ticker_sentiment_label': 'Somewhat-Bullish'}, {'ticker': 'AAPL', 'relevance_score': '0.260719', 'ticker_sentiment_score': '0.276725', 'ticker_sentiment_label': 'Somewhat-Bullish'}, {'ticker': 'QCOM', 'relevance_score': '0.075754', 'ticker_sentiment_score': '0.205246', 'ticker_sentiment_label': 'Somewhat-Bullish'}]}, {'title': \"Stock Market Gains As Earnings Season Begins; Retail Stocks Sag On Weak Lululemon, Macy's Forecasts\", 'url': 'https://www.investors.com/market-trend/stock-market-today/stock-market-gains-as-earnings-season-begins-retail-stocks-sag-on-weak-lululemon-macys-forecasts/', 'time_published': '20230109T155900', 'authors': [\"Investor's Business Daily\", 'MICHAEL MOLINSKI'], 'summary': \"Stock Market Gains As Earnings Season Begins. Retail Stocks Sag ... Investor's Business Daily ...\", 'banner_image': 'https://www.investors.com/wp-content/uploads/2019/03/Stock-Lululemon-34-shutt.jpg', 'source': 'Investors Business Daily', 'category_within_source': 'n/a', 'source_domain': 'www.investors.com', 'topics': [{'topic': 'Life Sciences', 'relevance_score': '0.166667'}, {'topic': 'Technology', 'relevance_score': '0.166667'}, {'topic': 'Finance', 'relevance_score': '0.166667'}, {'topic': 'Retail & Wholesale', 'relevance_score': '0.166667'}, {'topic': 'Financial Markets', 'relevance_score': '0.999355'}, {'topic': 'Manufacturing', 'relevance_score': '0.166667'}, {'topic': 'Earnings', 'relevance_score': '0.972476'}, {'topic': 'Mergers & Acquisitions', 'relevance_score': '0.158519'}, {'topic': 'Real Estate & Construction', 'relevance_score': '0.166667'}], 'overall_sentiment_score': 0.138051, 'overall_sentiment_label': 'Neutral', 'ticker_sentiment': [{'ticker': 'JWN', 'relevance_score': '0.108712', 'ticker_sentiment_score': '-0.032744', 'ticker_sentiment_label': 'Neutral'}, {'ticker': 'NVDA', 'relevance_score': '0.108712', 'ticker_sentiment_score': '0.103578', 'ticker_sentiment_label': 'Neutral'}, {'ticker': 'AAPL', 'relevance_score': '0.108712', 'ticker_sentiment_score': '0.17174', 'ticker_sentiment_label': 'Somewhat-Bullish'}, {'ticker': 'C', 'relevance_score': '0.108712', 'ticker_sentiment_score': '0.136517', 'ticker_sentiment_label': 'Neutral'}, {'ticker': 'BAC', 'relevance_score': '0.108712', 'ticker_sentiment_score': '0.136517', 'ticker_sentiment_label': 'Neutral'}, {'ticker': 'ALBO', 'relevance_score': '0.108712', 'ticker_sentiment_score': '0.17174', 'ticker_sentiment_label': 'Somewhat-Bullish'}, {'ticker': 'JPM', 'relevance_score': '0.108712', 'ticker_sentiment_score': '0.136517', 'ticker_sentiment_label': 'Neutral'}, {'ticker': 'KSS', 'relevance_score': '0.108712', 'ticker_sentiment_score': '-0.032744', 'ticker_sentiment_label': 'Neutral'}, {'ticker': 'M', 'relevance_score': '0.318211', 'ticker_sentiment_score': '0.119351', 'ticker_sentiment_label': 'Neutral'}, {'ticker': 'UNH', 'relevance_score': '0.108712', 'ticker_sentiment_score': '0.136517', 'ticker_sentiment_label': 'Neutral'}, {'ticker': 'KBH', 'relevance_score': '0.108712', 'ticker_sentiment_score': '0.136517', 'ticker_sentiment_label': 'Neutral'}, {'ticker': 'MSFT', 'relevance_score': '0.108712', 'ticker_sentiment_score': '0.17174', 'ticker_sentiment_label': 'Somewhat-Bullish'}, {'ticker': 'LULU', 'relevance_score': '0.162437', 'ticker_sentiment_score': '0.051351', 'ticker_sentiment_label': 'Neutral'}, {'ticker': 'TSLA', 'relevance_score': '0.108712', 'ticker_sentiment_score': '0.103578', 'ticker_sentiment_label': 'Neutral'}, {'ticker': 'CMA', 'relevance_score': '0.054483', 'ticker_sentiment_score': '-0.043005', 'ticker_sentiment_label': 'Neutral'}, {'ticker': 'CMC', 'relevance_score': '0.162437', 'ticker_sentiment_score': '0.0', 'ticker_sentiment_label': 'Neutral'}, {'ticker': 'AMZN', 'relevance_score': '0.108712', 'ticker_sentiment_score': '0.0', 'ticker_sentiment_label': 'Neutral'}]}, {'title': 'This Day In Market History, Jan. 9: Apple Introduces The iPhone  ( NASDAQ:AAPL )  - Apple  ( NASDAQ:AAPL ) ', 'url': 'https://www.benzinga.com/general/education/20/01/11007650/this-day-in-market-history-apple-introduces-the-iphone-1', 'time_published': '20230109T154600', 'authors': ['Elizabeth Balboa'], 'summary': 'Each day, Benzinga takes a look back at a notable market-related moment that happened on this date. On this day in 2007, Apple Inc. AAPL unveiled the first iPhone after two and a half years of hushed development. The S&P 500 closed at 1,412.11, while the Dow Jones Industrial Average closed at ...', 'banner_image': 'https://cdn.benzinga.com/files/images/story/2012/iphone2007.png?width=1200&height=800&fit=crop', 'source': 'Benzinga', 'category_within_source': 'General', 'source_domain': 'www.benzinga.com', 'topics': [{'topic': 'Technology', 'relevance_score': '0.5'}, {'topic': 'Retail & Wholesale', 'relevance_score': '0.5'}, {'topic': 'Financial Markets', 'relevance_score': '0.214378'}], 'overall_sentiment_score': 0.165969, 'overall_sentiment_label': 'Somewhat-Bullish', 'ticker_sentiment': [{'ticker': 'BB', 'relevance_score': '0.535653', 'ticker_sentiment_score': '0.096311', 'ticker_sentiment_label': 'Neutral'}, {'ticker': 'HPQ', 'relevance_score': '0.192694', 'ticker_sentiment_score': '-0.048765', 'ticker_sentiment_label': 'Neutral'}, {'ticker': 'AAPL', 'relevance_score': '0.535653', 'ticker_sentiment_score': '0.0', 'ticker_sentiment_label': 'Neutral'}, {'ticker': 'HPE', 'relevance_score': '0.374312', 'ticker_sentiment_score': '-0.081802', 'ticker_sentiment_label': 'Neutral'}]}, {'title': 'Apple  ( AAPL )  Expands Fitness+ With New Kickboxing Workout', 'url': 'https://www.zacks.com/stock/news/2036812/apple-aapl-expands-fitness-with-new-kickboxing-workout', 'time_published': '20230109T151400', 'authors': ['Zacks Investment Research'], 'summary': 'Apple (AAPL) is expanding its Fitness+ content with the introduction of Kickboxing, a new meditation theme, Sleep and Beyonce to Artist Spotlight.', 'banner_image': 'https://staticx-tuner.zacks.com/images/articles/main/b2/56.jpg', 'source': 'Zacks Commentary', 'category_within_source': 'n/a', 'source_domain': 'www.zacks.com', 'topics': [{'topic': 'Earnings', 'relevance_score': '0.650727'}, {'topic': 'Technology', 'relevance_score': '1.0'}], 'overall_sentiment_score': 0.148564, 'overall_sentiment_label': 'Neutral', 'ticker_sentiment': [{'ticker': 'LNVGF', 'relevance_score': '0.241684', 'ticker_sentiment_score': '0.051179', 'ticker_sentiment_label': 'Neutral'}, {'ticker': 'AAPL', 'relevance_score': '0.602533', 'ticker_sentiment_score': '0.218365', 'ticker_sentiment_label': 'Somewhat-Bullish'}]}, {'title': 'Top Stories Monday, Jan. 09 - Apple  ( NASDAQ:AAPL ) , AstraZeneca  ( NASDAQ:AZN ) ', 'url': 'https://www.benzinga.com/general/biotech/23/01/30332093/teslas-delivery-wait-times-go-up-china-wants-to-secure-license-for-generic-version-of-pfizers-pax', 'time_published': '20230109T134427', 'authors': ['Vandana Singh'], 'summary': 'Apple Inc AAPL exported more than $2.5 billion worth of iPhones from India between April and December as the company diversified production amid supply disruptions in China. The total export of the Cupertino-based tech giant in the first nine months of the fiscal year ending March 2023 was almost ...', 'banner_image': 'https://cdn.benzinga.com/files/images/story/2023/01/09/tesla_model_y_front_view_7-19-2020_0.jpg?optimize=medium&dpr=2&auto=webp&width=3840', 'source': 'Benzinga', 'category_within_source': 'General', 'source_domain': 'www.benzinga.com', 'topics': [{'topic': 'Life Sciences', 'relevance_score': '0.25'}, {'topic': 'Financial Markets', 'relevance_score': '0.214378'}, {'topic': 'Manufacturing', 'relevance_score': '0.25'}, {'topic': 'Technology', 'relevance_score': '0.25'}, {'topic': 'Finance', 'relevance_score': '0.25'}], 'overall_sentiment_score': 0.115554, 'overall_sentiment_label': 'Neutral', 'ticker_sentiment': [{'ticker': 'PYPL', 'relevance_score': '0.033562', 'ticker_sentiment_score': '0.0', 'ticker_sentiment_label': 'Neutral'}, {'ticker': 'DE', 'relevance_score': '0.067064', 'ticker_sentiment_score': '0.072137', 'ticker_sentiment_label': 'Neutral'}, {'ticker': 'GOOG', 'relevance_score': '0.100448', 'ticker_sentiment_score': '0.171854', 'ticker_sentiment_label': 'Somewhat-Bullish'}, {'ticker': 'AAPL', 'relevance_score': '0.19931', 'ticker_sentiment_score': '0.146461', 'ticker_sentiment_label': 'Neutral'}, {'ticker': 'CIH', 'relevance_score': '0.033562', 'ticker_sentiment_score': '-0.059274', 'ticker_sentiment_label': 'Neutral'}, {'ticker': 'HNHPF', 'relevance_score': '0.067064', 'ticker_sentiment_score': '0.182626', 'ticker_sentiment_label': 'Somewhat-Bullish'}, {'ticker': 'CINC', 'relevance_score': '0.067064', 'ticker_sentiment_score': '0.261217', 'ticker_sentiment_label': 'Somewhat-Bullish'}, {'ticker': 'ELMTF', 'relevance_score': '0.067064', 'ticker_sentiment_score': '0.091195', 'ticker_sentiment_label': 'Neutral'}, {'ticker': 'TPG', 'relevance_score': '0.067064', 'ticker_sentiment_score': '0.182626', 'ticker_sentiment_label': 'Somewhat-Bullish'}, {'ticker': 'VOD', 'relevance_score': '0.133655', 'ticker_sentiment_score': '0.04948', 'ticker_sentiment_label': 'Neutral'}, {'ticker': 'GS', 'relevance_score': '0.133655', 'ticker_sentiment_score': '-0.073632', 'ticker_sentiment_label': 'Neutral'}, {'ticker': 'PFE', 'relevance_score': '0.067064', 'ticker_sentiment_score': '0.085176', 'ticker_sentiment_label': 'Neutral'}, {'ticker': 'MSFT', 'relevance_score': '0.067064', 'ticker_sentiment_score': '0.0', 'ticker_sentiment_label': 'Neutral'}, {'ticker': 'TSLA', 'relevance_score': '0.100448', 'ticker_sentiment_score': '-0.160032', 'ticker_sentiment_label': 'Somewhat-Bearish'}, {'ticker': 'AZN', 'relevance_score': '0.067064', 'ticker_sentiment_score': '0.261217', 'ticker_sentiment_label': 'Somewhat-Bullish'}, {'ticker': 'QGEN', 'relevance_score': '0.133655', 'ticker_sentiment_score': '0.078406', 'ticker_sentiment_label': 'Neutral'}, {'ticker': 'OCGN', 'relevance_score': '0.067064', 'ticker_sentiment_score': '0.0', 'ticker_sentiment_label': 'Neutral'}, {'ticker': 'FOREX:CNY', 'relevance_score': '0.067064', 'ticker_sentiment_score': '0.059366', 'ticker_sentiment_label': 'Neutral'}]}, {'title': 'Top 5 Momentum Stocks for January After a Disappointing 2022', 'url': 'https://www.zacks.com/stock/news/2036650/top-5-momentum-stocks-for-january-after-a-disappointing-2022', 'time_published': '20230109T132700', 'authors': ['Zacks Investment Research'], 'summary': 'We have narrowed our search on five momentum stocks with strong potential in 2023. These are: DOCU, ANET, CAG, PCTY and SCCO.', 'banner_image': 'https://staticx-tuner.zacks.com/images/articles/main/ae/14424.jpg', 'source': 'Zacks Commentary', 'category_within_source': 'n/a', 'source_domain': 'www.zacks.com', 'topics': [{'topic': 'Economy - Monetary', 'relevance_score': '0.451494'}, {'topic': 'Financial Markets', 'relevance_score': '0.992549'}, {'topic': 'Manufacturing', 'relevance_score': '0.333333'}, {'topic': 'Earnings', 'relevance_score': '0.999973'}, {'topic': 'Energy & Transportation', 'relevance_score': '0.333333'}, {'topic': 'Technology', 'relevance_score': '0.333333'}], 'overall_sentiment_score': 0.252018, 'overall_sentiment_label': 'Somewhat-Bullish', 'ticker_sentiment': [{'ticker': 'MSFT', 'relevance_score': '0.03448', 'ticker_sentiment_score': '0.095903', 'ticker_sentiment_label': 'Neutral'}, {'ticker': 'AAPL', 'relevance_score': '0.068896', 'ticker_sentiment_score': '-0.112072', 'ticker_sentiment_label': 'Neutral'}, {'ticker': 'ANET', 'relevance_score': '0.2378', 'ticker_sentiment_score': '0.234044', 'ticker_sentiment_label': 'Somewhat-Bullish'}, {'ticker': 'TSLA', 'relevance_score': '0.068896', 'ticker_sentiment_score': '-0.112072', 'ticker_sentiment_label': 'Neutral'}, {'ticker': 'CAG', 'relevance_score': '0.204647', 'ticker_sentiment_score': '0.158953', 'ticker_sentiment_label': 'Somewhat-Bullish'}, {'ticker': 'SCCO', 'relevance_score': '0.204647', 'ticker_sentiment_score': '0.228689', 'ticker_sentiment_label': 'Somewhat-Bullish'}, {'ticker': 'DOCU', 'relevance_score': '0.2378', 'ticker_sentiment_score': '0.217092', 'ticker_sentiment_label': 'Somewhat-Bullish'}, {'ticker': 'PCTY', 'relevance_score': '0.17112', 'ticker_sentiment_score': '0.245642', 'ticker_sentiment_label': 'Somewhat-Bullish'}]}, {'title': 'Futures Rise Ahead Of Q4 Earnings Season', 'url': 'https://www.investors.com/market-trend/stock-market-today/dow-jones-futures-rise-ahead-of-earnings-season-tesla-stock-continues-to-rebound/', 'time_published': '20230109T132300', 'authors': ['SCOTT LEHTONEN', \"Investor's Business Daily\"], 'summary': \"Dow Jones futures came off early highs Monday, wrestling to add to Friday's powerful stock market gains. Fourth-quarter earnings season kicks off this week, with highly anticipated results from Dow Jones members JPMorgan Chase ( JPM ) and UnitedHealth Group ( UNH ) .\", 'banner_image': 'https://www.investors.com/wp-content/uploads/2021/09/Stock-wallstreetflag-01-adobe.jpg', 'source': 'Investors Business Daily', 'category_within_source': 'n/a', 'source_domain': 'www.investors.com', 'topics': [{'topic': 'Life Sciences', 'relevance_score': '0.142857'}, {'topic': 'Energy & Transportation', 'relevance_score': '0.142857'}, {'topic': 'Technology', 'relevance_score': '0.142857'}, {'topic': 'Finance', 'relevance_score': '0.142857'}, {'topic': 'Retail & Wholesale', 'relevance_score': '0.142857'}, {'topic': 'Financial Markets', 'relevance_score': '1.0'}, {'topic': 'Manufacturing', 'relevance_score': '0.142857'}, {'topic': 'Earnings', 'relevance_score': '0.451494'}, {'topic': 'Real Estate & Construction', 'relevance_score': '0.142857'}], 'overall_sentiment_score': 0.224053, 'overall_sentiment_label': 'Somewhat-Bullish', 'ticker_sentiment': [{'ticker': 'MEDP', 'relevance_score': '0.166169', 'ticker_sentiment_score': '0.08766', 'ticker_sentiment_label': 'Neutral'}, {'ticker': 'DE', 'relevance_score': '0.133285', 'ticker_sentiment_score': '0.091416', 'ticker_sentiment_label': 'Neutral'}, {'ticker': 'AAPL', 'relevance_score': '0.100168', 'ticker_sentiment_score': '0.110614', 'ticker_sentiment_label': 'Neutral'}, {'ticker': 'C', 'relevance_score': '0.066877', 'ticker_sentiment_score': '0.0', 'ticker_sentiment_label': 'Neutral'}, {'ticker': 'CVX', 'relevance_score': '0.133285', 'ticker_sentiment_score': '0.135649', 'ticker_sentiment_label': 'Neutral'}, {'ticker': 'JPM', 'relevance_score': '0.066877', 'ticker_sentiment_score': '0.061362', 'ticker_sentiment_label': 'Neutral'}, {'ticker': 'NBIX', 'relevance_score': '0.133285', 'ticker_sentiment_score': '0.112918', 'ticker_sentiment_label': 'Neutral'}, {'ticker': 'IVZ', 'relevance_score': '0.033468', 'ticker_sentiment_score': '0.111102', 'ticker_sentiment_label': 'Neutral'}, {'ticker': 'UNH', 'relevance_score': '0.066877', 'ticker_sentiment_score': '0.061362', 'ticker_sentiment_label': 'Neutral'}, {'ticker': 'ASML', 'relevance_score': '0.066877', 'ticker_sentiment_score': '0.275301', 'ticker_sentiment_label': 'Somewhat-Bullish'}, {'ticker': 'KBH', 'relevance_score': '0.066877', 'ticker_sentiment_score': '0.0', 'ticker_sentiment_label': 'Neutral'}, {'ticker': 'MSFT', 'relevance_score': '0.133285', 'ticker_sentiment_score': '-0.057574', 'ticker_sentiment_label': 'Neutral'}, {'ticker': 'AYI', 'relevance_score': '0.100168', 'ticker_sentiment_score': '-0.070185', 'ticker_sentiment_label': 'Neutral'}, {'ticker': 'TSLA', 'relevance_score': '0.166169', 'ticker_sentiment_score': '0.137942', 'ticker_sentiment_label': 'Neutral'}, {'ticker': 'MA', 'relevance_score': '0.033468', 'ticker_sentiment_score': '0.092229', 'ticker_sentiment_label': 'Neutral'}, {'ticker': 'WFC', 'relevance_score': '0.066877', 'ticker_sentiment_score': '0.0', 'ticker_sentiment_label': 'Neutral'}, {'ticker': 'V', 'relevance_score': '0.100168', 'ticker_sentiment_score': '0.103877', 'ticker_sentiment_label': 'Neutral'}, {'ticker': 'CMC', 'relevance_score': '0.100168', 'ticker_sentiment_score': '-0.070185', 'ticker_sentiment_label': 'Neutral'}, {'ticker': 'NVDA', 'relevance_score': '0.066877', 'ticker_sentiment_score': '0.275301', 'ticker_sentiment_label': 'Somewhat-Bullish'}, {'ticker': 'BAC', 'relevance_score': '0.066877', 'ticker_sentiment_score': '0.0', 'ticker_sentiment_label': 'Neutral'}, {'ticker': 'CAH', 'relevance_score': '0.166169', 'ticker_sentiment_score': '0.060731', 'ticker_sentiment_label': 'Neutral'}, {'ticker': 'TSM', 'relevance_score': '0.066877', 'ticker_sentiment_score': '0.0', 'ticker_sentiment_label': 'Neutral'}, {'ticker': 'LULU', 'relevance_score': '0.066877', 'ticker_sentiment_score': '-0.063104', 'ticker_sentiment_label': 'Neutral'}, {'ticker': 'BACHY', 'relevance_score': '0.033468', 'ticker_sentiment_score': '0.265959', 'ticker_sentiment_label': 'Somewhat-Bullish'}, {'ticker': 'CAT', 'relevance_score': '0.166169', 'ticker_sentiment_score': '0.214059', 'ticker_sentiment_label': 'Somewhat-Bullish'}, {'ticker': 'WMT', 'relevance_score': '0.133285', 'ticker_sentiment_score': '0.126075', 'ticker_sentiment_label': 'Neutral'}]}, {'title': 'Solana Dropped 90% Last Year, But Has Kicked Off 2023 With a Bang. Is This Bull Rally Real?', 'url': 'https://www.fool.com/investing/2023/01/09/solana-dropped-90-last-year-but-has-kicked-off-202/', 'time_published': '20230109T125400', 'authors': ['Michael Byrne'], 'summary': 'The Bonk crypto is restoring a sense of optimism to Solana at a time when it needed it most.', 'banner_image': 'https://g.foolcdn.com/image/?url=https%3A%2F%2Fg.foolcdn.com%2Feditorial%2Fimages%2F715451%2Fshiba-inu-dog-bonk.jpeg&op=resize&w=700', 'source': 'Motley Fool', 'category_within_source': 'n/a', 'source_domain': 'www.fool.com', 'topics': [{'topic': 'Technology', 'relevance_score': '0.5'}, {'topic': 'Finance', 'relevance_score': '0.5'}, {'topic': 'Blockchain', 'relevance_score': '0.838487'}], 'overall_sentiment_score': 0.053275, 'overall_sentiment_label': 'Neutral', 'ticker_sentiment': [{'ticker': 'BAC', 'relevance_score': '0.043898', 'ticker_sentiment_score': '0.095162', 'ticker_sentiment_label': 'Neutral'}, {'ticker': 'AAPL', 'relevance_score': '0.087663', 'ticker_sentiment_score': '0.058489', 'ticker_sentiment_label': 'Neutral'}, {'ticker': 'CRYPTO:SHIB', 'relevance_score': '0.087663', 'ticker_sentiment_score': '0.013856', 'ticker_sentiment_label': 'Neutral'}, {'ticker': 'CRYPTO:SOL', 'relevance_score': '0.043898', 'ticker_sentiment_score': '0.038502', 'ticker_sentiment_label': 'Neutral'}]}, {'title': \"Jack Ma Ceding Control In Ant, Brazil's 'Capitol Hill Moment,' Goldman Sachs Job Cut Rumors And More: 5 Key Stories You May Have Missed From The Weekend - Apple  ( NASDAQ:AAPL ) \", 'url': 'https://www.benzinga.com/news/earnings/23/01/30329977/jack-ma-ceding-control-in-ant-brazils-capitol-hill-moment-goldman-sachs-job-cut-rumors-and-more-5-k', 'time_published': '20230109T125323', 'authors': ['Shanthi Rexaline'], 'summary': \"The lull that characterized the holiday period continued into the past weekend. News flow is likely to pick up pace after the Martin Luther King Jr. holiday scheduled for Jan. 16, as the curtains lift on the fourth-quarter reporting season. Here's a recap of a few major headlines that hit the ...\", 'banner_image': 'https://cdn.benzinga.com/files/images/story/2023/01/09/5_key_stories_photo_by_sebra_on_shutterstock.jpg?width=1200&height=800&fit=crop', 'source': 'Benzinga', 'category_within_source': 'General', 'source_domain': 'www.benzinga.com', 'topics': [{'topic': 'Economy - Monetary', 'relevance_score': '0.451494'}, {'topic': 'Financial Markets', 'relevance_score': '0.108179'}, {'topic': 'Manufacturing', 'relevance_score': '0.333333'}, {'topic': 'Earnings', 'relevance_score': '0.158519'}, {'topic': 'Technology', 'relevance_score': '0.333333'}, {'topic': 'Finance', 'relevance_score': '0.333333'}], 'overall_sentiment_score': -0.074838, 'overall_sentiment_label': 'Neutral', 'ticker_sentiment': [{'ticker': 'BABA', 'relevance_score': '0.147366', 'ticker_sentiment_score': '0.103425', 'ticker_sentiment_label': 'Neutral'}, {'ticker': 'AAPL', 'relevance_score': '0.219477', 'ticker_sentiment_score': '-0.056395', 'ticker_sentiment_label': 'Neutral'}, {'ticker': 'TSLA', 'relevance_score': '0.289748', 'ticker_sentiment_score': '-0.200164', 'ticker_sentiment_label': 'Somewhat-Bearish'}, {'ticker': 'GS', 'relevance_score': '0.219477', 'ticker_sentiment_score': '-0.219174', 'ticker_sentiment_label': 'Somewhat-Bearish'}]}, {'title': \"Apple's India Hirings Signal Flagship Store Debut By March: FT - Apple  ( NASDAQ:AAPL ) \", 'url': 'https://www.benzinga.com/news/23/01/30326033/apples-india-hirings-signal-flagship-store-debut-by-march-ft', 'time_published': '20230109T125007', 'authors': ['Anusuya Lahiri'], 'summary': 'Apple Inc AAPL started hiring retail store workers in India with room for more as it eyed its flagship location debut in the promising smartphone market by this quarter.', 'banner_image': 'https://cdn.benzinga.com/files/images/story/2023/01/09/apple_store_bath_doors_at_night.jpg?optimize=medium&dpr=2&auto=webp&width=3840', 'source': 'Benzinga', 'category_within_source': 'News', 'source_domain': 'www.benzinga.com', 'topics': [{'topic': 'Technology', 'relevance_score': '1.0'}], 'overall_sentiment_score': 0.176713, 'overall_sentiment_label': 'Somewhat-Bullish', 'ticker_sentiment': [{'ticker': 'AAPL', 'relevance_score': '0.774534', 'ticker_sentiment_score': '0.222905', 'ticker_sentiment_label': 'Somewhat-Bullish'}]}, {'title': \"Apple's India-Made iPhone Exports Surpass $2.5B In 9 Months - Nearly Twice Previous Fiscal Year's Total - Apple  ( NASDAQ:AAPL ) , Hon Hai Precision  ( OTC:HNHPF ) , Wistron  ( OTC:WICOF ) , Pegatron  ( OTC:PGTRF ) \", 'url': 'https://www.benzinga.com/news/23/01/30329141/apples-india-made-iphone-exports-surpass-2-5b-in-9-months-nearly-twice-previous-fiscal-years-total', 'time_published': '20230109T115036', 'authors': ['Navdeep Yadav'], 'summary': 'Apple Inc. AAPL exported more than $2.5 billion worth of iPhones from India between April and December as the company diversified production amid supply disruptions in China.', 'banner_image': 'https://cdn.benzinga.com/files/images/story/2023/iPhone_Photo_by_Kaspars_Grinvalds_on_Shutterstock.jpeg?width=1200&height=800&fit=crop', 'source': 'Benzinga', 'category_within_source': 'General', 'source_domain': 'www.benzinga.com', 'topics': [{'topic': 'Technology', 'relevance_score': '1.0'}], 'overall_sentiment_score': -0.04005, 'overall_sentiment_label': 'Neutral', 'ticker_sentiment': [{'ticker': 'AAPL', 'relevance_score': '0.519739', 'ticker_sentiment_score': '0.09736', 'ticker_sentiment_label': 'Neutral'}]}, {'title': \"Ahead Of Tech Earnings, Analyst Says Sector Is 'Under-Owned' - Repeats Calls For 20% Rally - SPDR Select Sector Fund - Technology  ( ARCA:XLK ) \", 'url': 'https://www.benzinga.com/analyst-ratings/analyst-color/23/01/30325912/ahead-of-tech-earnings-analyst-says-sector-is-under-owned-repeats-calls-for-20-rall', 'time_published': '20230109T114325', 'authors': ['Shanthi Rexaline'], 'summary': 'Tech earnings news flow will hit Wall Street in earnest in two weeks and an analyst at Wedbush painted a positive picture concerning the prospects for the sector. Guidance The Key: As the focus shifts to fourth-quarter earnings, the wildcard would be the 2023 guidance and overall demand ...', 'banner_image': 'https://cdn.benzinga.com/files/images/story/2023/01/09/tech_earnings.jpg?width=1200&height=800&fit=crop', 'source': 'Benzinga', 'category_within_source': 'Trading', 'source_domain': 'www.benzinga.com', 'topics': [{'topic': 'Retail & Wholesale', 'relevance_score': '0.5'}, {'topic': 'Financial Markets', 'relevance_score': '0.161647'}, {'topic': 'Earnings', 'relevance_score': '0.310843'}, {'topic': 'Technology', 'relevance_score': '0.5'}], 'overall_sentiment_score': 0.073967, 'overall_sentiment_label': 'Neutral', 'ticker_sentiment': [{'ticker': 'MSFT', 'relevance_score': '0.197413', 'ticker_sentiment_score': '-0.025057', 'ticker_sentiment_label': 'Neutral'}, {'ticker': 'META', 'relevance_score': '0.197413', 'ticker_sentiment_score': '0.0', 'ticker_sentiment_label': 'Neutral'}, {'ticker': 'AAPL', 'relevance_score': '0.197413', 'ticker_sentiment_score': '0.183824', 'ticker_sentiment_label': 'Somewhat-Bullish'}, {'ticker': 'TENB', 'relevance_score': '0.197413', 'ticker_sentiment_score': '0.163749', 'ticker_sentiment_label': 'Somewhat-Bullish'}, {'ticker': 'CRWD', 'relevance_score': '0.197413', 'ticker_sentiment_score': '0.163749', 'ticker_sentiment_label': 'Somewhat-Bullish'}, {'ticker': 'CYBR', 'relevance_score': '0.197413', 'ticker_sentiment_score': '0.163749', 'ticker_sentiment_label': 'Somewhat-Bullish'}, {'ticker': 'AMZN', 'relevance_score': '0.197413', 'ticker_sentiment_score': '0.073353', 'ticker_sentiment_label': 'Neutral'}, {'ticker': 'PANW', 'relevance_score': '0.197413', 'ticker_sentiment_score': '0.163749', 'ticker_sentiment_label': 'Somewhat-Bullish'}]}, {'title': 'Should Invesco Dynamic Large Cap Growth ETF  ( PWB )  Be on Your Investing Radar?', 'url': 'https://www.zacks.com/stock/news/2036566/should-invesco-dynamic-large-cap-growth-etf-pwb-be-on-your-investing-radar', 'time_published': '20230109T112009', 'authors': ['Zacks Investment Research'], 'summary': 'Style Box ETF report for ...', 'banner_image': 'https://staticx-tuner.zacks.com/images/default_article_images/default254.jpg', 'source': 'Zacks Commentary', 'category_within_source': 'n/a', 'source_domain': 'www.zacks.com', 'topics': [{'topic': 'Retail & Wholesale', 'relevance_score': '0.25'}, {'topic': 'Financial Markets', 'relevance_score': '0.999994'}, {'topic': 'Manufacturing', 'relevance_score': '0.25'}, {'topic': 'Earnings', 'relevance_score': '0.310843'}, {'topic': 'Technology', 'relevance_score': '0.25'}, {'topic': 'Finance', 'relevance_score': '0.25'}], 'overall_sentiment_score': 0.30836, 'overall_sentiment_label': 'Somewhat-Bullish', 'ticker_sentiment': [{'ticker': 'AAPL', 'relevance_score': '0.119235', 'ticker_sentiment_score': '0.067585', 'ticker_sentiment_label': 'Neutral'}, {'ticker': 'COST', 'relevance_score': '0.119235', 'ticker_sentiment_score': '0.067585', 'ticker_sentiment_label': 'Neutral'}, {'ticker': 'TSLA', 'relevance_score': '0.119235', 'ticker_sentiment_score': '0.067585', 'ticker_sentiment_label': 'Neutral'}, {'ticker': 'IVZ', 'relevance_score': '0.29234', 'ticker_sentiment_score': '0.308075', 'ticker_sentiment_label': 'Somewhat-Bullish'}]}, {'title': 'Grid Computing Market Is Expected to Hit USD 10,785 Million at a CAGR of 16.14% by 2030 - Report by Market Research Future  ( MRFR ) ', 'url': 'https://www.benzinga.com/pressreleases/23/01/g30328422/grid-computing-market-is-expected-to-hit-usd-10-785-million-at-a-cagr-of-16-14-by-2030-report-by-m', 'time_published': '20230109T110516', 'authors': ['Globe Newswire'], 'summary': 'New York, US, Jan. 09, 2023 ( GLOBE NEWSWIRE ) -- According to a comprehensive research report by Market Research Future ( MRFR ) , \"Grid Computing Market Research Report, By Components, Graphics Type, by End User, by Application- Forecast till 2030, the market is anticipated to acquire a ...', 'banner_image': '', 'source': 'Benzinga', 'category_within_source': 'General', 'source_domain': 'www.benzinga.com', 'topics': [{'topic': 'Technology', 'relevance_score': '0.5'}, {'topic': 'Retail & Wholesale', 'relevance_score': '0.5'}, {'topic': 'Financial Markets', 'relevance_score': '0.161647'}], 'overall_sentiment_score': 0.269343, 'overall_sentiment_label': 'Somewhat-Bullish', 'ticker_sentiment': [{'ticker': 'HPQ', 'relevance_score': '0.030958', 'ticker_sentiment_score': '0.0', 'ticker_sentiment_label': 'Neutral'}, {'ticker': 'ORCL', 'relevance_score': '0.030958', 'ticker_sentiment_score': '0.0', 'ticker_sentiment_label': 'Neutral'}, {'ticker': 'AAPL', 'relevance_score': '0.030958', 'ticker_sentiment_score': '0.0', 'ticker_sentiment_label': 'Neutral'}, {'ticker': 'DRKTF', 'relevance_score': '0.030958', 'ticker_sentiment_score': '0.0', 'ticker_sentiment_label': 'Neutral'}, {'ticker': 'HPE', 'relevance_score': '0.030958', 'ticker_sentiment_score': '0.0', 'ticker_sentiment_label': 'Neutral'}, {'ticker': 'ALTR', 'relevance_score': '0.030958', 'ticker_sentiment_score': '0.0', 'ticker_sentiment_label': 'Neutral'}]}, {'title': 'Apple Watch User Says He Ended Up In Emergency Room After His Gadget Exploded - Apple  ( NASDAQ:AAPL ) ', 'url': 'https://www.benzinga.com/news/22/10/29162885/heat-smoke-and-kaboom-apple-watch-sends-a-user-to-emergency-room-fearing-lead-1', 'time_published': '20230109T103608', 'authors': ['Ananya Gairola'], 'summary': 'An Apple Inc. AAPL watch user reportedly ended up in an emergency room after his device expanded, overheated, started smoking and eventually exploded, all in the course of an evening and night, in October 2022.', 'banner_image': 'https://cdn.benzinga.com/files/images/story/2022/10/06/shutterstock_2096034820.jpg?width=1200&height=800&fit=crop', 'source': 'Benzinga', 'category_within_source': 'General', 'source_domain': 'www.benzinga.com', 'topics': [{'topic': 'Technology', 'relevance_score': '1.0'}], 'overall_sentiment_score': -0.148184, 'overall_sentiment_label': 'Neutral', 'ticker_sentiment': [{'ticker': 'AAPL', 'relevance_score': '0.914806', 'ticker_sentiment_score': '-0.290948', 'ticker_sentiment_label': 'Somewhat-Bearish'}]}, {'title': '2 Warren Buffett Stocks That Are No-Brainer Buys and 1 to Avoid Like the Plague', 'url': 'https://www.fool.com/investing/2023/01/09/2-warren-buffett-stocks-buy-1-to-avoid-like-plague/', 'time_published': '20230109T100600', 'authors': ['Sean Williams'], 'summary': 'Two Buffett stocks stand out as clear-cut buys in the new year, while another top holding has lost much of its luster.', 'banner_image': 'https://g.foolcdn.com/image/?url=https%3A%2F%2Fg.foolcdn.com%2Feditorial%2Fimages%2F715509%2Fwarren-buffett-berkshire-hathaway-brka-brkb-motley-fool.jpg&op=resize&w=700', 'source': 'Motley Fool', 'category_within_source': 'n/a', 'source_domain': 'www.fool.com', 'topics': [{'topic': 'Economy - Monetary', 'relevance_score': '0.576289'}, {'topic': 'Life Sciences', 'relevance_score': '0.333333'}, {'topic': 'Financial Markets', 'relevance_score': '0.990999'}, {'topic': 'Earnings', 'relevance_score': '0.990786'}, {'topic': 'Technology', 'relevance_score': '0.333333'}, {'topic': 'Finance', 'relevance_score': '0.333333'}], 'overall_sentiment_score': 0.112946, 'overall_sentiment_label': 'Neutral', 'ticker_sentiment': [{'ticker': 'SPGI', 'relevance_score': '0.030563', 'ticker_sentiment_score': '0.02913', 'ticker_sentiment_label': 'Neutral'}, {'ticker': 'AAPL', 'relevance_score': '0.326578', 'ticker_sentiment_score': '0.08991', 'ticker_sentiment_label': 'Neutral'}, {'ticker': 'PARA', 'relevance_score': '0.121804', 'ticker_sentiment_score': '0.079622', 'ticker_sentiment_label': 'Neutral'}, {'ticker': 'HCSG', 'relevance_score': '0.030563', 'ticker_sentiment_score': '0.00482', 'ticker_sentiment_label': 'Neutral'}, {'ticker': 'BRK-A', 'relevance_score': '0.030563', 'ticker_sentiment_score': '0.208117', 'ticker_sentiment_label': 'Somewhat-Bullish'}, {'ticker': 'JNJ', 'relevance_score': '0.181819', 'ticker_sentiment_score': '0.027729', 'ticker_sentiment_label': 'Neutral'}]}, {'title': 'iPhone exports double to surpass $2.5 billion this fiscal', 'url': 'https://www.moneycontrol.com/news/business/indias-iphone-exports-reveal-closing-tech-gap-with-china-9833951.html', 'time_published': '20230109T085358', 'authors': [], 'summary': \"India is emerging as Apple Inc.'s next manufacturing hub as assembly partners seek to add resilience to a supply chain heavily centered on China and shaken by its geopolitical and health challenges.\", 'banner_image': 'https://images.moneycontrol.com/static-mcnews/2023/01/RTS5INCE.jpg?impolicy=website&width=168&height=118', 'source': 'Money Control', 'category_within_source': 'Business', 'source_domain': 'www.moneycontrol.com', 'topics': [{'topic': 'Technology', 'relevance_score': '1.0'}], 'overall_sentiment_score': 0.083826, 'overall_sentiment_label': 'Neutral', 'ticker_sentiment': [{'ticker': 'AAPL', 'relevance_score': '0.051551', 'ticker_sentiment_score': '-0.065575', 'ticker_sentiment_label': 'Neutral'}]}, {'title': 'Applied Materials Gained 7% in the Second Half of 2022. Is the Worst Over?', 'url': 'https://www.fool.com/investing/2023/01/09/applied-materials-actually-gained-7-in-the-second/', 'time_published': '20230109T053313', 'authors': ['Brett Schafer'], 'summary': 'The semiconductor equipment company should benefit from a reshuffling of the computer chip supply chain this decade.', 'banner_image': 'https://g.foolcdn.com/image/?url=https%3A%2F%2Fg.foolcdn.com%2Feditorial%2Fimages%2F715493%2Fa-couple-on-a-couch-having-a-discussion-and-consulting-a-smartphone.jpg&op=resize&h=340', 'source': 'Motley Fool', 'category_within_source': 'n/a', 'source_domain': 'www.fool.com', 'topics': [{'topic': 'Financial Markets', 'relevance_score': '0.108179'}, {'topic': 'Manufacturing', 'relevance_score': '0.5'}, {'topic': 'Earnings', 'relevance_score': '0.161647'}, {'topic': 'Technology', 'relevance_score': '0.5'}], 'overall_sentiment_score': 0.093032, 'overall_sentiment_label': 'Neutral', 'ticker_sentiment': [{'ticker': 'SSNLF', 'relevance_score': '0.174587', 'ticker_sentiment_score': '0.146919', 'ticker_sentiment_label': 'Neutral'}, {'ticker': 'AMAT', 'relevance_score': '0.77496', 'ticker_sentiment_score': '0.154503', 'ticker_sentiment_label': 'Somewhat-Bullish'}, {'ticker': 'NVDA', 'relevance_score': '0.087824', 'ticker_sentiment_score': '-0.086973', 'ticker_sentiment_label': 'Neutral'}, {'ticker': 'AAPL', 'relevance_score': '0.087824', 'ticker_sentiment_score': '-0.086973', 'ticker_sentiment_label': 'Neutral'}, {'ticker': 'INTC', 'relevance_score': '0.174587', 'ticker_sentiment_score': '0.146919', 'ticker_sentiment_label': 'Neutral'}, {'ticker': 'SPGI', 'relevance_score': '0.087824', 'ticker_sentiment_score': '0.145193', 'ticker_sentiment_label': 'Neutral'}, {'ticker': 'TSM', 'relevance_score': '0.087824', 'ticker_sentiment_score': '0.048937', 'ticker_sentiment_label': 'Neutral'}]}, {'title': 'Apple Has Canceled The Next iPhone SE, Top Analyst Says - Apple  ( NASDAQ:AAPL ) ', 'url': 'https://www.benzinga.com/analyst-ratings/analyst-color/23/01/30325020/apple-has-canceled-the-next-iphone-se-top-analyst-says-and-this-company-stands-to-b', 'time_published': '20230109T043327', 'authors': ['Ananya Gairola'], 'summary': 'Apple Inc. AAPL has instructed suppliers about canceling the 2024 iPhone SE 4, according to a top analyst of the Cupertino-based tech giant.', 'banner_image': 'https://cdn.benzinga.com/files/images/story/2023/01/08/shutterstock_1705086190.jpg?width=1200&height=800&fit=crop', 'source': 'Benzinga', 'category_within_source': 'News', 'source_domain': 'www.benzinga.com', 'topics': [{'topic': 'Technology', 'relevance_score': '0.5'}, {'topic': 'Manufacturing', 'relevance_score': '0.5'}], 'overall_sentiment_score': 0.037868, 'overall_sentiment_label': 'Neutral', 'ticker_sentiment': [{'ticker': 'QCOM', 'relevance_score': '0.622414', 'ticker_sentiment_score': '0.242334', 'ticker_sentiment_label': 'Somewhat-Bullish'}, {'ticker': 'AAPL', 'relevance_score': '0.814341', 'ticker_sentiment_score': '-0.136031', 'ticker_sentiment_label': 'Neutral'}]}, {'title': 'Will iPhone Have A Challenger? OnePlus Co-Founder Says New Smartphone Will Take On Apple In US - Apple  ( NASDAQ:AAPL ) ', 'url': 'https://www.benzinga.com/news/22/12/29953458/will-iphone-have-a-challenger-oneplus-co-founder-says-new-smartphone-will-take-on-apple-in-1', 'time_published': '20230109T015207', 'authors': ['Ananya Gairola'], 'summary': 'Carl Pei, the co-founder of OnePlus, is planning to take on Apple Inc. AAPL in the U.S. by bringing a new Nothing smartphone to the market. What Happened: Nothing, a U.K.-based consumer tech startup, is in early conversations with U.S. carriers about launching a new smartphone in the country, ...', 'banner_image': 'https://cdn.benzinga.com/files/images/story/2022/12/05/shutterstock_1947390496.jpg?width=1200&height=800&fit=crop', 'source': 'Benzinga', 'category_within_source': 'News', 'source_domain': 'www.benzinga.com', 'topics': [{'topic': 'Technology', 'relevance_score': '1.0'}], 'overall_sentiment_score': 0.180745, 'overall_sentiment_label': 'Somewhat-Bullish', 'ticker_sentiment': [{'ticker': 'SSNLF', 'relevance_score': '0.157483', 'ticker_sentiment_score': '0.149149', 'ticker_sentiment_label': 'Neutral'}, {'ticker': 'AAPL', 'relevance_score': '0.448842', 'ticker_sentiment_score': '0.212072', 'ticker_sentiment_label': 'Somewhat-Bullish'}]}, {'title': 'Apple begins hiring retail store employees in India: Report', 'url': 'https://www.moneycontrol.com/news/business/apple-begins-hiring-retail-store-employees-in-india-report-9831431.html', 'time_published': '20230109T014234', 'authors': [], 'summary': 'The company\\'s careers page lists several different opportunities for workers in India, including business expert, \"genius,\" operations expert and technical specialist.', 'banner_image': 'https://images.moneycontrol.com/static-mcnews/2023/01/Apple-653x435.jpeg', 'source': 'Money Control', 'category_within_source': 'Business', 'source_domain': 'www.moneycontrol.com', 'topics': [{'topic': 'Technology', 'relevance_score': '1.0'}], 'overall_sentiment_score': 0.125298, 'overall_sentiment_label': 'Neutral', 'ticker_sentiment': [{'ticker': 'AAPL', 'relevance_score': '0.240489', 'ticker_sentiment_score': '0.0', 'ticker_sentiment_label': 'Neutral'}]}, {'title': \"Elon Musk Predicts One of San Francisco's Problems Will Get Worse\", 'url': 'https://www.thestreet.com/technology/elon-musk-predicts-one-of-san-franciscos-problems-will-get-worse', 'time_published': '20230108T231300', 'authors': ['Luc Olinga'], 'summary': 'The tech mecca faces a huge problem: a surge of empty offices.', 'banner_image': 'https://www.thestreet.com/.image/ar_16:9%2Cc_fill%2Ccs_srgb%2Cfl_progressive%2Cg_faces:center%2Cq_auto:good%2Cw_620/MTY4NjMyNzkwMTEwMTg1MzY3/has-the-fed-paralyzed-markets.jpg', 'source': 'The Street', 'category_within_source': 'n/a', 'source_domain': 'www.thestreet.com', 'topics': [{'topic': 'Technology', 'relevance_score': '0.5'}, {'topic': 'Manufacturing', 'relevance_score': '0.5'}], 'overall_sentiment_score': 0.043248, 'overall_sentiment_label': 'Neutral', 'ticker_sentiment': [{'ticker': 'NYT', 'relevance_score': '0.054359', 'ticker_sentiment_score': '-0.048829', 'ticker_sentiment_label': 'Neutral'}, {'ticker': 'GOOG', 'relevance_score': '0.054359', 'ticker_sentiment_score': '0.061169', 'ticker_sentiment_label': 'Neutral'}, {'ticker': 'META', 'relevance_score': '0.108466', 'ticker_sentiment_score': '0.070099', 'ticker_sentiment_label': 'Neutral'}, {'ticker': 'AAPL', 'relevance_score': '0.108466', 'ticker_sentiment_score': '0.070099', 'ticker_sentiment_label': 'Neutral'}, {'ticker': 'TSLA', 'relevance_score': '0.108466', 'ticker_sentiment_score': '0.253198', 'ticker_sentiment_label': 'Somewhat-Bullish'}, {'ticker': 'SVLPF', 'relevance_score': '0.054359', 'ticker_sentiment_score': '0.004993', 'ticker_sentiment_label': 'Neutral'}]}, {'title': 'Apple To Launch MR Headset After 7 Years In Development But Focus May Have Cost Innovation In Other Products, Gurman Says - Apple  ( NASDAQ:AAPL ) ', 'url': 'https://www.benzinga.com/news/23/01/30324282/apple-to-launch-mr-headset-after-7-years-in-development-but-the-focus-may-have-cost-innovation-in-ot', 'time_published': '20230108T221633', 'authors': ['Shanthi Rexaline'], 'summary': \"Apple, Inc.'sAAPL mixed reality headset, which has been in the works since 2017, could finally see the light of day this year.\", 'banner_image': 'https://cdn.benzinga.com/files/images/story/2023/01/08/apple_virtual.jpg?width=1200&height=800&fit=crop', 'source': 'Benzinga', 'category_within_source': 'News', 'source_domain': 'www.benzinga.com', 'topics': [{'topic': 'Technology', 'relevance_score': '1.0'}], 'overall_sentiment_score': 0.103426, 'overall_sentiment_label': 'Neutral', 'ticker_sentiment': [{'ticker': 'AAPL', 'relevance_score': '0.798255', 'ticker_sentiment_score': '0.076247', 'ticker_sentiment_label': 'Neutral'}]}, {'title': \"2 Top Stocks in Warren Buffett's Secret Portfolio to Buy Now and Hold Forever\", 'url': 'https://www.fool.com/investing/2023/01/08/2-stocks-in-warren-buffetts-portfolio-to-buy-now/', 'time_published': '20230108T131000', 'authors': ['Trevor Jennewine'], 'summary': 'These industry-leading growth stocks could make patient shareholders richer in the long run.', 'banner_image': 'https://g.foolcdn.com/image/?url=https%3A%2F%2Fg.foolcdn.com%2Feditorial%2Fimages%2F715457%2Fperson-sitting-at-a-desk-with-a-laptop-and-documents.jpg&op=resize&h=340', 'source': 'Motley Fool', 'category_within_source': 'n/a', 'source_domain': 'www.fool.com', 'topics': [{'topic': 'Technology', 'relevance_score': '0.25'}, {'topic': 'Finance', 'relevance_score': '0.25'}, {'topic': 'Economy - Monetary', 'relevance_score': '0.158519'}, {'topic': 'Retail & Wholesale', 'relevance_score': '0.25'}, {'topic': 'Financial Markets', 'relevance_score': '0.650727'}, {'topic': 'Manufacturing', 'relevance_score': '0.25'}, {'topic': 'Earnings', 'relevance_score': '0.108179'}], 'overall_sentiment_score': 0.212346, 'overall_sentiment_label': 'Somewhat-Bullish', 'ticker_sentiment': [{'ticker': 'FORR', 'relevance_score': '0.046724', 'ticker_sentiment_score': '0.073374', 'ticker_sentiment_label': 'Neutral'}, {'ticker': 'PYPL', 'relevance_score': '0.442082', 'ticker_sentiment_score': '0.166378', 'ticker_sentiment_label': 'Somewhat-Bullish'}, {'ticker': 'NVDA', 'relevance_score': '0.360752', 'ticker_sentiment_score': '0.158062', 'ticker_sentiment_label': 'Somewhat-Bullish'}, {'ticker': 'AAPL', 'relevance_score': '0.093289', 'ticker_sentiment_score': '0.02146', 'ticker_sentiment_label': 'Neutral'}, {'ticker': 'AMZN', 'relevance_score': '0.093289', 'ticker_sentiment_score': '0.02146', 'ticker_sentiment_label': 'Neutral'}, {'ticker': 'BRK-A', 'relevance_score': '0.046724', 'ticker_sentiment_score': '0.039657', 'ticker_sentiment_label': 'Neutral'}]}, {'title': 'Can Shiba Inu Reach $1 in 2023?', 'url': 'https://www.fool.com/investing/2023/01/08/can-shiba-inu-reach-1-in-2023/', 'time_published': '20230108T123000', 'authors': ['Neil Patel'], 'summary': 'This meme coin is down a whopping 90% from its peak.', 'banner_image': 'https://g.foolcdn.com/image/?url=https%3A%2F%2Fg.foolcdn.com%2Feditorial%2Fimages%2F715457%2Fperson-sitting-at-a-desk-with-a-laptop-and-documents.jpg&op=resize&h=340', 'source': 'Motley Fool', 'category_within_source': 'n/a', 'source_domain': 'www.fool.com', 'topics': [{'topic': 'Technology', 'relevance_score': '1.0'}, {'topic': 'Blockchain', 'relevance_score': '0.451494'}, {'topic': 'Financial Markets', 'relevance_score': '0.360215'}], 'overall_sentiment_score': 0.20584, 'overall_sentiment_label': 'Somewhat-Bullish', 'ticker_sentiment': [{'ticker': 'AAPL', 'relevance_score': '0.072217', 'ticker_sentiment_score': '0.013396', 'ticker_sentiment_label': 'Neutral'}, {'ticker': 'CRYPTO:BTC', 'relevance_score': '0.143843', 'ticker_sentiment_score': '0.179151', 'ticker_sentiment_label': 'Somewhat-Bullish'}, {'ticker': 'CRYPTO:ETH', 'relevance_score': '0.28305', 'ticker_sentiment_score': '0.36496', 'ticker_sentiment_label': 'Bullish'}, {'ticker': 'CRYPTO:SHIB', 'relevance_score': '0.852984', 'ticker_sentiment_score': '0.285624', 'ticker_sentiment_label': 'Somewhat-Bullish'}, {'ticker': 'CRYPTO:DOGE', 'relevance_score': '0.143843', 'ticker_sentiment_score': '-0.016746', 'ticker_sentiment_label': 'Neutral'}]}, {'title': 'Top Wall Street analysts pick these stocks to celebrate the new year', 'url': 'https://www.cnbc.com/2023/01/08/top-wall-street-analysts-say-buy-stocks-like-apple-and-bumble.html', 'time_published': '20230108T122941', 'authors': ['Tipranks.com Staff'], 'summary': \"TipRanks analyst ranking service pinpoints Wall Street's best-performing stocks, including Apple and Bumble.\", 'banner_image': 'https://image.cnbcfm.com/api/v1/image/106903744-16249186632021-06-28t215230z_1707542565_rc2x9o9wye0g_rtrmadp_0_usa-banks-capital.jpeg?v=1673097597', 'source': 'CNBC', 'category_within_source': 'Investing', 'source_domain': 'www.cnbc.com', 'topics': [{'topic': 'Energy & Transportation', 'relevance_score': '0.5'}, {'topic': 'Technology', 'relevance_score': '0.5'}, {'topic': 'Financial Markets', 'relevance_score': '0.929393'}], 'overall_sentiment_score': 0.358923, 'overall_sentiment_label': 'Bullish', 'ticker_sentiment': [{'ticker': 'MSFT', 'relevance_score': '0.070207', 'ticker_sentiment_score': '0.087844', 'ticker_sentiment_label': 'Neutral'}, {'ticker': 'GOOG', 'relevance_score': '0.070207', 'ticker_sentiment_score': '0.082594', 'ticker_sentiment_label': 'Neutral'}, {'ticker': 'META', 'relevance_score': '0.070207', 'ticker_sentiment_score': '0.087844', 'ticker_sentiment_label': 'Neutral'}, {'ticker': 'AAPL', 'relevance_score': '0.208464', 'ticker_sentiment_score': '0.114588', 'ticker_sentiment_label': 'Neutral'}, {'ticker': 'DV', 'relevance_score': '0.174335', 'ticker_sentiment_score': '0.175541', 'ticker_sentiment_label': 'Somewhat-Bullish'}, {'ticker': 'PERI', 'relevance_score': '0.105141', 'ticker_sentiment_score': '0.150256', 'ticker_sentiment_label': 'Somewhat-Bullish'}, {'ticker': 'BMBL', 'relevance_score': '0.275479', 'ticker_sentiment_score': '0.409814', 'ticker_sentiment_label': 'Bullish'}, {'ticker': 'BKNG', 'relevance_score': '0.174335', 'ticker_sentiment_score': '-0.05236', 'ticker_sentiment_label': 'Neutral'}]}, {'title': '12 Stock Market Predictions for 2023', 'url': 'https://www.fool.com/investing/2023/01/08/12-stock-market-predictions-for-2023/', 'time_published': '20230108T100600', 'authors': ['Sean Williams'], 'summary': \"Here's what you can expect from the U.S. economy, the stock market, and some of the most widely held companies in the new year.\", 'banner_image': 'https://g.foolcdn.com/image/?url=https%3A%2F%2Fg.foolcdn.com%2Feditorial%2Fimages%2F715344%2Fbear-market-stock-chart-quarter-report-financial-metrics-invest-getty.jpg&op=resize&w=700', 'source': 'Motley Fool', 'category_within_source': 'n/a', 'source_domain': 'www.fool.com', 'topics': [{'topic': 'Life Sciences', 'relevance_score': '0.25'}, {'topic': 'Technology', 'relevance_score': '0.25'}, {'topic': 'Economy - Monetary', 'relevance_score': '0.999989'}, {'topic': 'Financial Markets', 'relevance_score': '1.0'}, {'topic': 'Manufacturing', 'relevance_score': '0.25'}, {'topic': 'Earnings', 'relevance_score': '0.158519'}, {'topic': 'Real Estate & Construction', 'relevance_score': '0.25'}], 'overall_sentiment_score': -0.041978, 'overall_sentiment_label': 'Neutral', 'ticker_sentiment': [{'ticker': 'AAPL', 'relevance_score': '0.096477', 'ticker_sentiment_score': '-0.028611', 'ticker_sentiment_label': 'Neutral'}, {'ticker': 'TSLA', 'relevance_score': '0.144275', 'ticker_sentiment_score': '-0.051238', 'ticker_sentiment_label': 'Neutral'}, {'ticker': 'AGNC', 'relevance_score': '0.024175', 'ticker_sentiment_score': '0.094919', 'ticker_sentiment_label': 'Neutral'}, {'ticker': 'BIDU', 'relevance_score': '0.024175', 'ticker_sentiment_score': '0.187647', 'ticker_sentiment_label': 'Somewhat-Bullish'}, {'ticker': 'TM', 'relevance_score': '0.024175', 'ticker_sentiment_score': '0.0', 'ticker_sentiment_label': 'Neutral'}, {'ticker': 'NHPEF', 'relevance_score': '0.024175', 'ticker_sentiment_score': '0.059963', 'ticker_sentiment_label': 'Neutral'}, {'ticker': 'NLY', 'relevance_score': '0.024175', 'ticker_sentiment_score': '0.094919', 'ticker_sentiment_label': 'Neutral'}, {'ticker': 'AWON', 'relevance_score': '0.024175', 'ticker_sentiment_score': '0.0', 'ticker_sentiment_label': 'Neutral'}, {'ticker': 'HCSG', 'relevance_score': '0.024175', 'ticker_sentiment_score': '-0.066343', 'ticker_sentiment_label': 'Neutral'}]}, {'title': 'Cathie Wood Sees Tesla Stock Hitting $500 By 2026 Even Without Autonomous Driving & Ride-Hailing Service - Tesla  ( NASDAQ:TSLA ) ', 'url': 'https://www.benzinga.com/analyst-ratings/analyst-color/23/01/30322188/cathie-wood-sees-tesla-stock-hitting-500-by-2026-even-without-autonomous-driving-ri', 'time_published': '20230107T224913', 'authors': ['Shanthi Rexaline'], 'summary': \"Tesla, Inc. TSLA bull Cathie Wood-run Ark Invest on Friday gave a new perspective on the firm's long-term price target for the stock of the electric vehicle maker. What Happened: Ark's 2026 price target for Tesla stock would be about $500 per share, based on its EV business alone, the firm's ...\", 'banner_image': 'https://cdn.benzinga.com/files/images/story/2023/01/07/tesla_shutter2.jpg?width=1200&height=800&fit=crop', 'source': 'Benzinga', 'category_within_source': 'Trading', 'source_domain': 'www.benzinga.com', 'topics': [{'topic': 'Technology', 'relevance_score': '0.5'}, {'topic': 'Financial Markets', 'relevance_score': '0.214378'}, {'topic': 'Manufacturing', 'relevance_score': '0.5'}], 'overall_sentiment_score': 0.09962, 'overall_sentiment_label': 'Neutral', 'ticker_sentiment': [{'ticker': 'AAPL', 'relevance_score': '0.167322', 'ticker_sentiment_score': '0.080079', 'ticker_sentiment_label': 'Neutral'}, {'ticker': 'NOK', 'relevance_score': '0.084127', 'ticker_sentiment_score': '0.060327', 'ticker_sentiment_label': 'Neutral'}, {'ticker': 'TSLA', 'relevance_score': '0.47379', 'ticker_sentiment_score': '0.149347', 'ticker_sentiment_label': 'Neutral'}]}, {'title': \"Apple Co-Founder Says Many Cryptocurrencies Are 'Rip-Offs' But Only One Is 'Pure Gold' - Bitcoin  ( BTC/USD ) \", 'url': 'https://www.benzinga.com/markets/cryptocurrency/22/03/26011718/apple-co-founder-says-many-cryptocurrencies-are-rip-offs-but-only-one-is-pure-gold-3', 'time_published': '20230107T222700', 'authors': ['Madhukumar Warrier'], 'summary': 'Apple Inc. AAPL co-founder Steve Wozniak has described Bitcoin BTC/USD as the only cryptocurrency that\\'s \"pure-gold mathematics.\" What Happened: Wozniak made the comments about Bitcoin in an interview with Business Insider in March 2022, adding that many cryptocurrencies are untrustworthy and ...', 'banner_image': 'https://cdn.benzinga.com/files/images/story/2012/37411434500_0137b46a26_c.jpg?width=1200&height=800&fit=crop', 'source': 'Benzinga', 'category_within_source': 'Trading', 'source_domain': 'www.benzinga.com', 'topics': [{'topic': 'Technology', 'relevance_score': '1.0'}, {'topic': 'Blockchain', 'relevance_score': '0.928139'}, {'topic': 'Financial Markets', 'relevance_score': '0.360215'}], 'overall_sentiment_score': 0.110919, 'overall_sentiment_label': 'Neutral', 'ticker_sentiment': [{'ticker': 'AAPL', 'relevance_score': '0.468029', 'ticker_sentiment_score': '0.0', 'ticker_sentiment_label': 'Neutral'}, {'ticker': 'CRYPTO:BTC', 'relevance_score': '0.595343', 'ticker_sentiment_score': '0.446765', 'ticker_sentiment_label': 'Bullish'}]}, {'title': \"If You Invested $1,000 In Apple Stock When Donald Trump Sold, Here's The 'YUGE' Return You Would Have Today - Apple  ( NASDAQ:AAPL ) \", 'url': 'https://www.benzinga.com/news/23/01/30322298/if-you-invested-1-000-in-apple-stock-when-donald-trump-sold-heres-the-yuge-return-you-would-have-tod', 'time_published': '20230107T214613', 'authors': ['Chris Katje'], 'summary': 'Former President Donald Trump is no stranger to being outspoken and sharing his opinions on a range of topics. A study showed that Trump once tweeted 5,293 times in a 12-month period, ranking first among world leaders.', 'banner_image': 'https://cdn.benzinga.com/files/images/story/2023/01/07/trump_apple.jpg?width=1200&height=800&fit=crop', 'source': 'Benzinga', 'category_within_source': 'General', 'source_domain': 'www.benzinga.com', 'topics': [{'topic': 'Technology', 'relevance_score': '1.0'}, {'topic': 'Financial Markets', 'relevance_score': '0.990999'}], 'overall_sentiment_score': 0.243741, 'overall_sentiment_label': 'Somewhat-Bullish', 'ticker_sentiment': [{'ticker': 'SSNLF', 'relevance_score': '0.205807', 'ticker_sentiment_score': '-0.057426', 'ticker_sentiment_label': 'Neutral'}, {'ticker': 'META', 'relevance_score': '0.103778', 'ticker_sentiment_score': '0.155051', 'ticker_sentiment_label': 'Somewhat-Bullish'}, {'ticker': 'AAPL', 'relevance_score': '0.882468', 'ticker_sentiment_score': '0.252855', 'ticker_sentiment_label': 'Somewhat-Bullish'}, {'ticker': 'DWAC', 'relevance_score': '0.205807', 'ticker_sentiment_score': '0.230692', 'ticker_sentiment_label': 'Somewhat-Bullish'}]}, {'title': \"Apple, Tesla, Netflix, Microsoft And A Critic Calls Bitcoin A 'Magnet For Idiots': Bulls And Bears Of The Week - Microsoft  ( NASDAQ:MSFT ) \", 'url': 'https://www.benzinga.com/news/large-cap/23/01/30315906/bulls-and-bears-of-the-week-apple-tesla-netflix-microsoft-and-a-critic-calls-bitcoin-a-magnet-for-', 'time_published': '20230107T203416', 'authors': ['Michael Cohen'], 'summary': \"Benzinga examined the prospects for many investors' favorite stocks over the last week - here's a look at some of our top stories. After showing uncertainty at the start of the week, the three major indexes finished strong on Friday.\", 'banner_image': 'https://cdn.benzinga.com/files/images/story/2023/01/06/bulls_bears3.png?width=1200&height=800&fit=crop', 'source': 'Benzinga', 'category_within_source': 'Trading', 'source_domain': 'www.benzinga.com', 'topics': [{'topic': 'Economy - Monetary', 'relevance_score': '0.310843'}, {'topic': 'Financial Markets', 'relevance_score': '0.316726'}, {'topic': 'Manufacturing', 'relevance_score': '0.5'}, {'topic': 'Technology', 'relevance_score': '0.5'}], 'overall_sentiment_score': 0.077978, 'overall_sentiment_label': 'Neutral', 'ticker_sentiment': [{'ticker': 'MSFT', 'relevance_score': '0.15347', 'ticker_sentiment_score': '-0.020781', 'ticker_sentiment_label': 'Neutral'}, {'ticker': 'NFLX', 'relevance_score': '0.228431', 'ticker_sentiment_score': '-0.303711', 'ticker_sentiment_label': 'Somewhat-Bearish'}, {'ticker': 'AAPL', 'relevance_score': '0.228431', 'ticker_sentiment_score': '0.300431', 'ticker_sentiment_label': 'Somewhat-Bullish'}, {'ticker': 'TSLA', 'relevance_score': '0.228431', 'ticker_sentiment_score': '-0.29754', 'ticker_sentiment_label': 'Somewhat-Bearish'}, {'ticker': 'CRYPTO:BTC', 'relevance_score': '0.228431', 'ticker_sentiment_score': '-0.326538', 'ticker_sentiment_label': 'Somewhat-Bearish'}, {'ticker': 'CRYPTO:SHIB', 'relevance_score': '0.228431', 'ticker_sentiment_score': '0.255731', 'ticker_sentiment_label': 'Somewhat-Bullish'}, {'ticker': 'CRYPTO:DOGE', 'relevance_score': '0.228431', 'ticker_sentiment_score': '0.255731', 'ticker_sentiment_label': 'Somewhat-Bullish'}]}, {'title': 'EXCLUSIVE: Will Alphabet, Amazon, Apple Or Tesla See Biggest Increase In 2023? 44% Of Followers Picked This Stock - SPDR S&P 500  ( ARCA:SPY ) ', 'url': 'https://www.benzinga.com/news/23/01/30319472/exclusive-will-alphabet-amazon-apple-or-tesla-see-biggest-increase-in-2023-44-of-benzinga-followers', 'time_published': '20230107T192202', 'authors': ['Chris Katje'], 'summary': 'The stock market had a rough year in 2022 with many top indexes seeing decade lows. Many large-cap technology stocks were among the biggest losers of the year. To kick off 2023, Benzinga polled its followers to see which popular stock might have the best 2023.', 'banner_image': 'https://cdn.benzinga.com/files/images/story/2023/01/07/amazon_apple_tesla_alphabet_chart_shutter.jpg?width=1200&height=800&fit=crop', 'source': 'Benzinga', 'category_within_source': 'Trading', 'source_domain': 'www.benzinga.com', 'topics': [{'topic': 'IPO', 'relevance_score': '0.158519'}, {'topic': 'Retail & Wholesale', 'relevance_score': '0.333333'}, {'topic': 'Financial Markets', 'relevance_score': '0.99793'}, {'topic': 'Manufacturing', 'relevance_score': '0.333333'}, {'topic': 'Technology', 'relevance_score': '0.333333'}], 'overall_sentiment_score': 0.0, 'overall_sentiment_label': 'Neutral', 'ticker_sentiment': [{'ticker': 'AAPL', 'relevance_score': '0.213048', 'ticker_sentiment_score': '-0.042165', 'ticker_sentiment_label': 'Neutral'}, {'ticker': 'AMZN', 'relevance_score': '0.107495', 'ticker_sentiment_score': '-0.110521', 'ticker_sentiment_label': 'Neutral'}, {'ticker': 'TSLA', 'relevance_score': '0.411176', 'ticker_sentiment_score': '0.112399', 'ticker_sentiment_label': 'Neutral'}]}, {'title': 'Dozens in Congress beat stock market in 2022 despite downturn on Wall Street: analysis', 'url': 'https://www.marketwatch.com/story/dozens-in-congress-beat-stock-market-in-2022-despite-downturn-on-wall-street-analysis-11673115066', 'time_published': '20230107T181100', 'authors': ['Lydia Moynihan Rich Calder'], 'summary': 'More than two dozen members of Congress beat the stock market despite Wall Street suffering its worst year since 2008, according to an analysis by a popular stock-trading news site.', 'banner_image': 'https://images.mktw.net/im-699266/social', 'source': 'MarketWatch', 'category_within_source': 'Top Stories', 'source_domain': 'www.marketwatch.com', 'topics': [{'topic': 'Life Sciences', 'relevance_score': '0.2'}, {'topic': 'Energy & Transportation', 'relevance_score': '0.2'}, {'topic': 'Technology', 'relevance_score': '0.2'}, {'topic': 'Economy - Monetary', 'relevance_score': '0.158519'}, {'topic': 'Retail & Wholesale', 'relevance_score': '0.2'}, {'topic': 'Financial Markets', 'relevance_score': '0.99999'}, {'topic': 'Manufacturing', 'relevance_score': '0.2'}], 'overall_sentiment_score': 0.076829, 'overall_sentiment_label': 'Neutral', 'ticker_sentiment': [{'ticker': 'MSFT', 'relevance_score': '0.12165', 'ticker_sentiment_score': '0.067082', 'ticker_sentiment_label': 'Neutral'}, {'ticker': 'GOOG', 'relevance_score': '0.12165', 'ticker_sentiment_score': '0.067082', 'ticker_sentiment_label': 'Neutral'}, {'ticker': 'META', 'relevance_score': '0.081276', 'ticker_sentiment_score': '0.128504', 'ticker_sentiment_label': 'Neutral'}, {'ticker': 'NVDA', 'relevance_score': '0.12165', 'ticker_sentiment_score': '-0.002338', 'ticker_sentiment_label': 'Neutral'}, {'ticker': 'AAPL', 'relevance_score': '0.12165', 'ticker_sentiment_score': '0.067082', 'ticker_sentiment_label': 'Neutral'}, {'ticker': 'TSLA', 'relevance_score': '0.081276', 'ticker_sentiment_score': '-0.002062', 'ticker_sentiment_label': 'Neutral'}, {'ticker': 'V', 'relevance_score': '0.081276', 'ticker_sentiment_score': '-0.002062', 'ticker_sentiment_label': 'Neutral'}, {'ticker': 'LLY', 'relevance_score': '0.081276', 'ticker_sentiment_score': '-0.002062', 'ticker_sentiment_label': 'Neutral'}, {'ticker': 'PTEN', 'relevance_score': '0.081276', 'ticker_sentiment_score': '0.235694', 'ticker_sentiment_label': 'Somewhat-Bullish'}, {'ticker': 'RBLX', 'relevance_score': '0.081276', 'ticker_sentiment_score': '0.047802', 'ticker_sentiment_label': 'Neutral'}, {'ticker': 'AMZN', 'relevance_score': '0.081276', 'ticker_sentiment_score': '0.128504', 'ticker_sentiment_label': 'Neutral'}]}, {'title': 'A Fresh Face-Off on the Market Cap Game Show', 'url': 'https://www.fool.com/investing/2023/01/07/a-fresh-face-off-on-the-market-cap-game-show/', 'time_published': '20230107T164300', 'authors': ['Motley Fool Staff'], 'summary': 'A market cap game with the \"Rule Breaker Investing\" podcast.', 'banner_image': 'https://g.foolcdn.com/image/?url=https%3A%2F%2Fg.foolcdn.com%2Feditorial%2Fimages%2F715209%2Fjoe-biden-speech-white-house-photo-by-adam-schultz.jpg&op=resize&h=340', 'source': 'Motley Fool', 'category_within_source': 'n/a', 'source_domain': 'www.fool.com', 'topics': [{'topic': 'Life Sciences', 'relevance_score': '0.2'}, {'topic': 'Energy & Transportation', 'relevance_score': '0.2'}, {'topic': 'Technology', 'relevance_score': '0.2'}, {'topic': 'IPO', 'relevance_score': '0.451494'}, {'topic': 'Retail & Wholesale', 'relevance_score': '0.2'}, {'topic': 'Financial Markets', 'relevance_score': '1.0'}, {'topic': 'Manufacturing', 'relevance_score': '0.2'}], 'overall_sentiment_score': 0.157481, 'overall_sentiment_label': 'Somewhat-Bullish', 'ticker_sentiment': [{'ticker': 'PYPL', 'relevance_score': '0.006706', 'ticker_sentiment_score': '-0.018856', 'ticker_sentiment_label': 'Neutral'}, {'ticker': 'GOOG', 'relevance_score': '0.006706', 'ticker_sentiment_score': '0.056449', 'ticker_sentiment_label': 'Neutral'}, {'ticker': 'META', 'relevance_score': '0.006706', 'ticker_sentiment_score': '0.034565', 'ticker_sentiment_label': 'Neutral'}, {'ticker': 'AAPL', 'relevance_score': '0.013411', 'ticker_sentiment_score': '0.011974', 'ticker_sentiment_label': 'Neutral'}, {'ticker': 'CRWD', 'relevance_score': '0.003353', 'ticker_sentiment_score': '0.116418', 'ticker_sentiment_label': 'Neutral'}, {'ticker': 'ULTA', 'relevance_score': '0.026818', 'ticker_sentiment_score': '0.061656', 'ticker_sentiment_label': 'Neutral'}, {'ticker': 'OSK', 'relevance_score': '0.016763', 'ticker_sentiment_score': '0.034719', 'ticker_sentiment_label': 'Neutral'}, {'ticker': 'HCA', 'relevance_score': '0.026818', 'ticker_sentiment_score': '0.062988', 'ticker_sentiment_label': 'Neutral'}, {'ticker': 'MSFT', 'relevance_score': '0.006706', 'ticker_sentiment_score': '0.0', 'ticker_sentiment_label': 'Neutral'}, {'ticker': 'WSM', 'relevance_score': '0.003353', 'ticker_sentiment_score': '-0.034536', 'ticker_sentiment_label': 'Neutral'}, {'ticker': 'NCNO', 'relevance_score': '0.036869', 'ticker_sentiment_score': '0.0853', 'ticker_sentiment_label': 'Neutral'}, {'ticker': 'ETSY', 'relevance_score': '0.006706', 'ticker_sentiment_score': '0.062073', 'ticker_sentiment_label': 'Neutral'}, {'ticker': 'UNP', 'relevance_score': '0.003353', 'ticker_sentiment_score': '0.012397', 'ticker_sentiment_label': 'Neutral'}, {'ticker': 'ZS', 'relevance_score': '0.040218', 'ticker_sentiment_score': '0.028597', 'ticker_sentiment_label': 'Neutral'}, {'ticker': 'CRI', 'relevance_score': '0.040218', 'ticker_sentiment_score': '0.040994', 'ticker_sentiment_label': 'Neutral'}, {'ticker': 'SQ', 'relevance_score': '0.043566', 'ticker_sentiment_score': '0.036428', 'ticker_sentiment_label': 'Neutral'}]}, {'title': 'Everyone Is Talking About This Stock. Is It a Good Long-Term Option?', 'url': 'https://www.fool.com/investing/2023/01/07/everyone-is-talking-about-this-stock-is-it-a-buy/', 'time_published': '20230107T151500', 'authors': ['Neil Patel'], 'summary': 'Shares were down in 2022 for this streaming business, and shareholders are rightfully thinking about what to do.', 'banner_image': 'https://g.foolcdn.com/image/?url=https%3A%2F%2Fg.foolcdn.com%2Feditorial%2Fimages%2F715209%2Fjoe-biden-speech-white-house-photo-by-adam-schultz.jpg&op=resize&h=340', 'source': 'Motley Fool', 'category_within_source': 'n/a', 'source_domain': 'www.fool.com', 'topics': [{'topic': 'Economy - Monetary', 'relevance_score': '0.310843'}, {'topic': 'Retail & Wholesale', 'relevance_score': '0.5'}, {'topic': 'Financial Markets', 'relevance_score': '0.214378'}, {'topic': 'Earnings', 'relevance_score': '0.495866'}, {'topic': 'Technology', 'relevance_score': '0.5'}], 'overall_sentiment_score': 0.184111, 'overall_sentiment_label': 'Somewhat-Bullish', 'ticker_sentiment': [{'ticker': 'NFLX', 'relevance_score': '0.061159', 'ticker_sentiment_score': '0.214134', 'ticker_sentiment_label': 'Somewhat-Bullish'}, {'ticker': 'META', 'relevance_score': '0.061159', 'ticker_sentiment_score': '-0.03208', 'ticker_sentiment_label': 'Neutral'}, {'ticker': 'ROKU', 'relevance_score': '0.750225', 'ticker_sentiment_score': '0.332904', 'ticker_sentiment_label': 'Somewhat-Bullish'}, {'ticker': 'AAPL', 'relevance_score': '0.061159', 'ticker_sentiment_score': '0.030083', 'ticker_sentiment_label': 'Neutral'}, {'ticker': 'AMZN', 'relevance_score': '0.121959', 'ticker_sentiment_score': '0.05044', 'ticker_sentiment_label': 'Neutral'}]}, {'title': '3 Apple Stock Predictions for 2023', 'url': 'https://www.fool.com/investing/2023/01/07/3-apple-stock-predictions-for-2023/', 'time_published': '20230107T140000', 'authors': ['Danny Vena'], 'summary': \"Even the Magic 8 Ball couldn't have predicted the events of 2022. Let's see if this year will be any different.\", 'banner_image': 'https://g.foolcdn.com/image/?url=https%3A%2F%2Fg.foolcdn.com%2Feditorial%2Fimages%2F715491%2Fapple-iphone-14-pro-iphone-14-pro-max-hero-220907.jpg&op=resize&w=700', 'source': 'Motley Fool', 'category_within_source': 'n/a', 'source_domain': 'www.fool.com', 'topics': [{'topic': 'Economy - Monetary', 'relevance_score': '0.158519'}, {'topic': 'Financial Markets', 'relevance_score': '0.266143'}, {'topic': 'Earnings', 'relevance_score': '0.962106'}, {'topic': 'Technology', 'relevance_score': '1.0'}], 'overall_sentiment_score': 0.135688, 'overall_sentiment_label': 'Neutral', 'ticker_sentiment': [{'ticker': 'SSNLF', 'relevance_score': '0.185306', 'ticker_sentiment_score': '0.115896', 'ticker_sentiment_label': 'Neutral'}, {'ticker': 'AAPL', 'relevance_score': '0.872351', 'ticker_sentiment_score': '0.252004', 'ticker_sentiment_label': 'Somewhat-Bullish'}]}, {'title': \"You're Thinking About Going to the Gym, but Are You Thinking About Investing in It?\", 'url': 'https://www.fool.com/investing/2023/01/07/youre-thinking-about-going-to-the-gym-but-are-you/', 'time_published': '20230107T130000', 'authors': ['Asit Sharma', 'Chris Hill', 'Jason Moser', 'and Dylan Lewis'], 'summary': 'And we chat about new questions to ask about growth stocks.', 'banner_image': 'https://g.foolcdn.com/image/?url=https%3A%2F%2Fg.foolcdn.com%2Feditorial%2Fimages%2F715511%2Frobot-with-laptop-counting-coins-by-a-window-with-skyscraper-view.jpg&op=resize&h=340', 'source': 'Motley Fool', 'category_within_source': 'n/a', 'source_domain': 'www.fool.com', 'topics': [{'topic': 'Economy - Monetary', 'relevance_score': '0.451494'}, {'topic': 'Retail & Wholesale', 'relevance_score': '0.333333'}, {'topic': 'Financial Markets', 'relevance_score': '1.0'}, {'topic': 'Earnings', 'relevance_score': '0.980922'}, {'topic': 'Energy & Transportation', 'relevance_score': '0.333333'}, {'topic': 'Technology', 'relevance_score': '0.333333'}], 'overall_sentiment_score': 0.203485, 'overall_sentiment_label': 'Somewhat-Bullish', 'ticker_sentiment': [{'ticker': 'META', 'relevance_score': '0.018187', 'ticker_sentiment_score': '0.068771', 'ticker_sentiment_label': 'Neutral'}, {'ticker': 'AAPL', 'relevance_score': '0.009094', 'ticker_sentiment_score': '0.088578', 'ticker_sentiment_label': 'Neutral'}, {'ticker': 'CRWD', 'relevance_score': '0.045448', 'ticker_sentiment_score': '0.141921', 'ticker_sentiment_label': 'Neutral'}, {'ticker': 'PLNT', 'relevance_score': '0.090748', 'ticker_sentiment_score': '0.087773', 'ticker_sentiment_label': 'Neutral'}, {'ticker': 'FDX', 'relevance_score': '0.009094', 'ticker_sentiment_score': '0.040135', 'ticker_sentiment_label': 'Neutral'}, {'ticker': 'UBER', 'relevance_score': '0.009094', 'ticker_sentiment_score': '0.116271', 'ticker_sentiment_label': 'Neutral'}, {'ticker': 'AMZN', 'relevance_score': '0.045448', 'ticker_sentiment_score': '0.042678', 'ticker_sentiment_label': 'Neutral'}]}, {'title': 'Qualcomm Stock: Bear vs. Bull', 'url': 'https://www.fool.com/investing/2023/01/07/qualcomm-stock-bear-vs-bull/', 'time_published': '20230107T130000', 'authors': ['Leo Sun'], 'summary': 'The mobile chipmaker could be a divisive investment in 2023.', 'banner_image': 'https://g.foolcdn.com/image/?url=https%3A%2F%2Fg.foolcdn.com%2Feditorial%2Fimages%2F715358%2Fwoman-check-phone.jpg&op=resize&w=700', 'source': 'Motley Fool', 'category_within_source': 'n/a', 'source_domain': 'www.fool.com', 'topics': [{'topic': 'Financial Markets', 'relevance_score': '0.365926'}, {'topic': 'Manufacturing', 'relevance_score': '0.5'}, {'topic': 'Earnings', 'relevance_score': '0.99793'}, {'topic': 'Technology', 'relevance_score': '0.5'}], 'overall_sentiment_score': 0.040533, 'overall_sentiment_label': 'Neutral', 'ticker_sentiment': [{'ticker': 'QCOM', 'relevance_score': '0.547774', 'ticker_sentiment_score': '0.074237', 'ticker_sentiment_label': 'Neutral'}, {'ticker': 'AAPL', 'relevance_score': '0.162437', 'ticker_sentiment_score': '-0.044585', 'ticker_sentiment_label': 'Neutral'}]}, {'title': \"1 Unstoppable Vanguard ETF I'm Stocking Up on in 2023\", 'url': 'https://www.fool.com/investing/2023/01/07/1-unstoppable-vanguard-etf-im-stocking-up-on-2023/', 'time_published': '20230107T124500', 'authors': ['Katie Brockman'], 'summary': 'This ETF could have a lot of potential in 2023 and beyond.', 'banner_image': 'https://media.ycharts.com/charts/43d38d3c044ccf43c869d2502497becd.png', 'source': 'Motley Fool', 'category_within_source': 'n/a', 'source_domain': 'www.fool.com', 'topics': [{'topic': 'Retail & Wholesale', 'relevance_score': '0.5'}, {'topic': 'Technology', 'relevance_score': '0.5'}, {'topic': 'Financial Markets', 'relevance_score': '0.999999'}], 'overall_sentiment_score': 0.201854, 'overall_sentiment_label': 'Somewhat-Bullish', 'ticker_sentiment': [{'ticker': 'MSFT', 'relevance_score': '0.063425', 'ticker_sentiment_score': '0.0', 'ticker_sentiment_label': 'Neutral'}, {'ticker': 'AAPL', 'relevance_score': '0.063425', 'ticker_sentiment_score': '0.0', 'ticker_sentiment_label': 'Neutral'}, {'ticker': 'AMZN', 'relevance_score': '0.063425', 'ticker_sentiment_score': '0.0', 'ticker_sentiment_label': 'Neutral'}]}, {'title': '3 Compelling Reasons Why Amazon Stock Is a Smarter Pick Than Apple in 2023', 'url': 'https://www.fool.com/investing/2023/01/07/3-compelling-reasons-why-amazon-stock-is-a-smarter/', 'time_published': '20230107T105000', 'authors': ['Keith Speights'], 'summary': 'Both of these stocks should remain winners over the long run. But Amazon has some near-term advantages.', 'banner_image': 'https://g.foolcdn.com/image/?url=https%3A%2F%2Fg.foolcdn.com%2Feditorial%2Fimages%2F715511%2Frobot-with-laptop-counting-coins-by-a-window-with-skyscraper-view.jpg&op=resize&h=340', 'source': 'Motley Fool', 'category_within_source': 'n/a', 'source_domain': 'www.fool.com', 'topics': [{'topic': 'Technology', 'relevance_score': '0.25'}, {'topic': 'Finance', 'relevance_score': '0.25'}, {'topic': 'Economy - Monetary', 'relevance_score': '0.158519'}, {'topic': 'Retail & Wholesale', 'relevance_score': '0.25'}, {'topic': 'Financial Markets', 'relevance_score': '0.316726'}, {'topic': 'Manufacturing', 'relevance_score': '0.25'}, {'topic': 'Earnings', 'relevance_score': '0.310843'}], 'overall_sentiment_score': 0.190257, 'overall_sentiment_label': 'Somewhat-Bullish', 'ticker_sentiment': [{'ticker': 'IRBT', 'relevance_score': '0.063933', 'ticker_sentiment_score': '0.240512', 'ticker_sentiment_label': 'Somewhat-Bullish'}, {'ticker': 'AAPL', 'relevance_score': '0.664235', 'ticker_sentiment_score': '0.45749', 'ticker_sentiment_label': 'Bullish'}, {'ticker': 'AMZN', 'relevance_score': '0.827318', 'ticker_sentiment_score': '0.370959', 'ticker_sentiment_label': 'Bullish'}, {'ticker': 'BRK-A', 'relevance_score': '0.063933', 'ticker_sentiment_score': '0.094065', 'ticker_sentiment_label': 'Neutral'}]}, {'title': 'Better Buy: Tesla vs. Apple', 'url': 'https://www.fool.com/investing/2023/01/07/better-buy-tesla-vs-apple-2023-stock/', 'time_published': '20230107T100500', 'authors': ['Daniel Foelber and Howard Smith'], 'summary': 'These once red-hot stocks are now hovering around their 52-week lows.', 'banner_image': 'https://g.foolcdn.com/image/?url=https%3A%2F%2Fg.foolcdn.com%2Feditorial%2Fimages%2F715210%2Fgettyimages-1321462048.jpg&op=resize&w=700', 'source': 'Motley Fool', 'category_within_source': 'n/a', 'source_domain': 'www.fool.com', 'topics': [{'topic': 'Financial Markets', 'relevance_score': '1.0'}, {'topic': 'Manufacturing', 'relevance_score': '0.5'}, {'topic': 'Earnings', 'relevance_score': '0.576289'}, {'topic': 'Technology', 'relevance_score': '0.5'}], 'overall_sentiment_score': 0.167229, 'overall_sentiment_label': 'Somewhat-Bullish', 'ticker_sentiment': [{'ticker': 'MSFT', 'relevance_score': '0.256538', 'ticker_sentiment_score': '0.103859', 'ticker_sentiment_label': 'Neutral'}, {'ticker': 'AAPL', 'relevance_score': '0.673811', 'ticker_sentiment_score': '0.297595', 'ticker_sentiment_label': 'Somewhat-Bullish'}, {'ticker': 'TSLA', 'relevance_score': '0.790356', 'ticker_sentiment_score': '0.257066', 'ticker_sentiment_label': 'Somewhat-Bullish'}, {'ticker': 'DSSMY', 'relevance_score': '0.043499', 'ticker_sentiment_score': '0.1447', 'ticker_sentiment_label': 'Neutral'}]}, {'title': 'Taiwan exports fall for 4th month in December, decline seen extending into Q1', 'url': 'https://www.reuters.com/markets/asia/taiwan-exports-fall-4th-month-december-decline-seen-extending-into-q1-2023-01-07/', 'time_published': '20230107T090800', 'authors': ['Reuters'], 'summary': 'Taiwan exports fall for 4th month in December, decline seen ... ...', 'banner_image': 'https://cloudfront-us-east-2.images.arcpublishing.com/reuters/CXEEMZLXPNIVJI2FDPM2J6F3ME.jpg', 'source': 'Reuters', 'category_within_source': 'Markets', 'source_domain': 'www.reuters.com', 'topics': [{'topic': 'Economy - Monetary', 'relevance_score': '0.310843'}, {'topic': 'Technology', 'relevance_score': '1.0'}], 'overall_sentiment_score': -0.18391, 'overall_sentiment_label': 'Somewhat-Bearish', 'ticker_sentiment': [{'ticker': 'AAPL', 'relevance_score': '0.097062', 'ticker_sentiment_score': '0.063135', 'ticker_sentiment_label': 'Neutral'}]}, {'title': \"Why Apple Stock Was the Apple of Investors' Eyes Today\", 'url': 'https://www.fool.com/investing/2023/01/06/why-apple-stock-was-the-apple-of-investors-eyes-to/', 'time_published': '20230106T234311', 'authors': ['Eric Volkman'], 'summary': 'Bargain hunters and optimistic analysts brought the bulls back at the end of the week.', 'banner_image': 'https://g.foolcdn.com/image/?url=https%3A%2F%2Fg.foolcdn.com%2Feditorial%2Fimages%2F715511%2Frobot-with-laptop-counting-coins-by-a-window-with-skyscraper-view.jpg&op=resize&h=340', 'source': 'Motley Fool', 'category_within_source': 'n/a', 'source_domain': 'www.fool.com', 'topics': [{'topic': 'Technology', 'relevance_score': '0.333333'}, {'topic': 'Finance', 'relevance_score': '0.333333'}, {'topic': 'Manufacturing', 'relevance_score': '0.333333'}], 'overall_sentiment_score': 0.246836, 'overall_sentiment_label': 'Somewhat-Bullish', 'ticker_sentiment': [{'ticker': 'QCOM', 'relevance_score': '0.139265', 'ticker_sentiment_score': '-0.031458', 'ticker_sentiment_label': 'Neutral'}, {'ticker': 'AAPL', 'relevance_score': '0.619618', 'ticker_sentiment_score': '0.243335', 'ticker_sentiment_label': 'Somewhat-Bullish'}, {'ticker': 'MS', 'relevance_score': '0.139265', 'ticker_sentiment_score': '0.051592', 'ticker_sentiment_label': 'Neutral'}]}, {'title': \"FTC's proposed ban on noncompete agreements could have biggest impact on tech industry\", 'url': 'https://www.marketwatch.com/story/ftcs-proposed-ban-on-noncompete-agreements-could-have-biggest-impact-on-tech-industry-11673045975', 'time_published': '20230106T225900', 'authors': ['Levi Sumagaysay'], 'summary': 'A proposed FTC ban on noncompete agreements would apply across all industries and income levels, but could have the biggest impact on the tech industry.', 'banner_image': 'https://images.mktw.net/im-698795/social', 'source': 'MarketWatch', 'category_within_source': 'Top Stories', 'source_domain': 'www.marketwatch.com', 'topics': [{'topic': 'Technology', 'relevance_score': '0.5'}, {'topic': 'Manufacturing', 'relevance_score': '0.5'}], 'overall_sentiment_score': 0.036423, 'overall_sentiment_label': 'Neutral', 'ticker_sentiment': [{'ticker': 'GOOG', 'relevance_score': '0.125679', 'ticker_sentiment_score': '0.024105', 'ticker_sentiment_label': 'Neutral'}, {'ticker': 'META', 'relevance_score': '0.08398', 'ticker_sentiment_score': '0.027133', 'ticker_sentiment_label': 'Neutral'}, {'ticker': 'AAPL', 'relevance_score': '0.125679', 'ticker_sentiment_score': '0.024105', 'ticker_sentiment_label': 'Neutral'}, {'ticker': 'INTC', 'relevance_score': '0.167032', 'ticker_sentiment_score': '-0.035622', 'ticker_sentiment_label': 'Neutral'}]}]}\n"
          ]
        }
      ],
      "source": [
        "r = requests.get(url)\n",
        "data = r.json()"
      ]
    },
    {
      "cell_type": "code",
      "execution_count": 57,
      "metadata": {},
      "outputs": [],
      "source": [
        "#Function to convert user provided date to date required by AlphaAdvantage\n",
        "def toAADate(oldDate):\n",
        "    newDate = str(oldDate) + 'T0001'\n",
        "    return newDate"
      ]
    },
    {
      "cell_type": "code",
      "execution_count": 64,
      "metadata": {},
      "outputs": [
        {
          "name": "stdout",
          "output_type": "stream",
          "text": [
            "{'items': '50', 'sentiment_score_definition': 'x <= -0.35: Bearish; -0.35 < x <= -0.15: Somewhat-Bearish; -0.15 < x < 0.15: Neutral; 0.15 <= x < 0.35: Somewhat_Bullish; x >= 0.35: Bullish', 'relevance_score_definition': '0 < x <= 1, with a higher score indicating higher relevance.', 'feed': [{'title': 'Shopify Is Innovating Across All Stripes In an Effort To Slash Costs - Shopify  ( NYSE:SHOP ) , Apple  ( NASDAQ:AAPL ) , Amazon.com  ( NASDAQ:AMZN ) ', 'url': 'https://www.benzinga.com/general/23/01/30334417/shopify-is-innovating-across-all-stripes-in-an-effort-to-slash-costs', 'time_published': '20230109T182523', 'authors': ['Upwallstreet'], 'summary': \"Rising inflation and higher interest rates are weakening consumers' buying power and consequently, e-commerce purchases are dropping.\", 'banner_image': 'https://cdn.benzinga.com/files/images/story/2023/01/09/screen_shot_2023-01-05_at_1.36.34_pm.png?width=1200&height=800&fit=crop', 'source': 'Benzinga', 'category_within_source': 'General', 'source_domain': 'www.benzinga.com', 'topics': [{'topic': 'Economy - Monetary', 'relevance_score': '0.158519'}, {'topic': 'Retail & Wholesale', 'relevance_score': '0.5'}, {'topic': 'Financial Markets', 'relevance_score': '0.266143'}, {'topic': 'Technology', 'relevance_score': '0.5'}], 'overall_sentiment_score': 0.10611, 'overall_sentiment_label': 'Neutral', 'ticker_sentiment': [{'ticker': 'MSFT', 'relevance_score': '0.085476', 'ticker_sentiment_score': '-0.007293', 'ticker_sentiment_label': 'Neutral'}, {'ticker': 'SHOP', 'relevance_score': '0.408506', 'ticker_sentiment_score': '0.092878', 'ticker_sentiment_label': 'Neutral'}, {'ticker': 'GOOG', 'relevance_score': '0.169975', 'ticker_sentiment_score': '0.005931', 'ticker_sentiment_label': 'Neutral'}, {'ticker': 'META', 'relevance_score': '0.127908', 'ticker_sentiment_score': '0.077253', 'ticker_sentiment_label': 'Neutral'}, {'ticker': 'AAPL', 'relevance_score': '0.127908', 'ticker_sentiment_score': '0.012277', 'ticker_sentiment_label': 'Neutral'}, {'ticker': 'GLYYY', 'relevance_score': '0.0428', 'ticker_sentiment_score': '0.160022', 'ticker_sentiment_label': 'Somewhat-Bullish'}, {'ticker': 'AMZN', 'relevance_score': '0.169975', 'ticker_sentiment_score': '0.06492', 'ticker_sentiment_label': 'Neutral'}, {'ticker': 'CGCO', 'relevance_score': '0.0428', 'ticker_sentiment_score': '0.160022', 'ticker_sentiment_label': 'Somewhat-Bullish'}]}, {'title': \"Look for a big cut to TSMC's 2023 outlook as a bullish sign for chips, one analyst says ahead of earnings\", 'url': 'https://www.marketwatch.com/story/look-for-a-big-cut-to-tsmcs-2023-outlook-as-a-bullish-sign-for-chips-one-analyst-says-ahead-of-earnings-11673285288', 'time_published': '20230109T172800', 'authors': ['Wallace Witkowski'], 'summary': 'The best thing TSMC can do in its earnings report Thursday is to cut its outlook for 2023 big ...', 'banner_image': 'https://images.mktw.net/im-680350/social', 'source': 'MarketWatch', 'category_within_source': 'Top Stories', 'source_domain': 'www.marketwatch.com', 'topics': [{'topic': 'Earnings', 'relevance_score': '0.905476'}, {'topic': 'Technology', 'relevance_score': '0.5'}, {'topic': 'Manufacturing', 'relevance_score': '0.5'}], 'overall_sentiment_score': 0.094352, 'overall_sentiment_label': 'Neutral', 'ticker_sentiment': [{'ticker': 'AMD', 'relevance_score': '0.232069', 'ticker_sentiment_score': '-0.065937', 'ticker_sentiment_label': 'Neutral'}, {'ticker': 'NVDA', 'relevance_score': '0.155954', 'ticker_sentiment_score': '0.0', 'ticker_sentiment_label': 'Neutral'}, {'ticker': 'AAPL', 'relevance_score': '0.232069', 'ticker_sentiment_score': '-0.065937', 'ticker_sentiment_label': 'Neutral'}, {'ticker': 'TSM', 'relevance_score': '0.232069', 'ticker_sentiment_score': '0.093493', 'ticker_sentiment_label': 'Neutral'}]}, {'title': 'Short Sellers Profited By 31% in 2022 on Stock Picks', 'url': 'https://www.thestreet.com/stocks/short-sellers-profited-by-31-in-2022-on-stock-picks', 'time_published': '20230109T172500', 'authors': ['Ellen Chang'], 'summary': 'Tesla was the number one stock that short sellers made money from in 2022.', 'banner_image': 'https://www.thestreet.com/.image/ar_16:9%2Cc_fill%2Ccs_srgb%2Cfl_progressive%2Cg_faces:center%2Cq_auto:good%2Cw_620/MTkzNzQ3OTE4NDYzNzA2NjA4/thumb-stocks-to-buy-js-111422.jpg', 'source': 'The Street', 'category_within_source': 'n/a', 'source_domain': 'www.thestreet.com', 'topics': [{'topic': 'Economy - Monetary', 'relevance_score': '0.158519'}, {'topic': 'Retail & Wholesale', 'relevance_score': '0.25'}, {'topic': 'Financial Markets', 'relevance_score': '0.214378'}, {'topic': 'Manufacturing', 'relevance_score': '0.25'}, {'topic': 'Energy & Transportation', 'relevance_score': '0.25'}, {'topic': 'Technology', 'relevance_score': '0.25'}], 'overall_sentiment_score': 0.271605, 'overall_sentiment_label': 'Somewhat-Bullish', 'ticker_sentiment': [{'ticker': 'META', 'relevance_score': '0.124593', 'ticker_sentiment_score': '0.393864', 'ticker_sentiment_label': 'Bullish'}, {'ticker': 'NVDA', 'relevance_score': '0.083251', 'ticker_sentiment_score': '0.451894', 'ticker_sentiment_label': 'Bullish'}, {'ticker': 'AAPL', 'relevance_score': '0.083251', 'ticker_sentiment_score': '0.451894', 'ticker_sentiment_label': 'Bullish'}, {'ticker': 'CVX', 'relevance_score': '0.083251', 'ticker_sentiment_score': '0.304396', 'ticker_sentiment_label': 'Somewhat-Bullish'}, {'ticker': 'KO', 'relevance_score': '0.083251', 'ticker_sentiment_score': '0.331775', 'ticker_sentiment_label': 'Somewhat-Bullish'}, {'ticker': 'K', 'relevance_score': '0.083251', 'ticker_sentiment_score': '0.331775', 'ticker_sentiment_label': 'Somewhat-Bullish'}, {'ticker': 'HSY', 'relevance_score': '0.083251', 'ticker_sentiment_score': '0.331775', 'ticker_sentiment_label': 'Somewhat-Bullish'}, {'ticker': 'GIS', 'relevance_score': '0.083251', 'ticker_sentiment_score': '0.331775', 'ticker_sentiment_label': 'Somewhat-Bullish'}, {'ticker': 'MSFT', 'relevance_score': '0.083251', 'ticker_sentiment_score': '0.451894', 'ticker_sentiment_label': 'Bullish'}, {'ticker': 'OXY', 'relevance_score': '0.083251', 'ticker_sentiment_score': '0.304396', 'ticker_sentiment_label': 'Somewhat-Bullish'}, {'ticker': 'BYND', 'relevance_score': '0.083251', 'ticker_sentiment_score': '0.331775', 'ticker_sentiment_label': 'Somewhat-Bullish'}, {'ticker': 'SE', 'relevance_score': '0.083251', 'ticker_sentiment_score': '0.451894', 'ticker_sentiment_label': 'Bullish'}, {'ticker': 'TSLA', 'relevance_score': '0.206157', 'ticker_sentiment_score': '0.424409', 'ticker_sentiment_label': 'Bullish'}, {'ticker': 'CPB', 'relevance_score': '0.083251', 'ticker_sentiment_score': '0.331775', 'ticker_sentiment_label': 'Somewhat-Bullish'}, {'ticker': 'DWAC', 'relevance_score': '0.083251', 'ticker_sentiment_score': '-0.040443', 'ticker_sentiment_label': 'Neutral'}, {'ticker': 'XOM', 'relevance_score': '0.083251', 'ticker_sentiment_score': '0.304396', 'ticker_sentiment_label': 'Somewhat-Bullish'}, {'ticker': 'AMD', 'relevance_score': '0.083251', 'ticker_sentiment_score': '0.451894', 'ticker_sentiment_label': 'Bullish'}, {'ticker': 'CVNA', 'relevance_score': '0.083251', 'ticker_sentiment_score': '0.451894', 'ticker_sentiment_label': 'Bullish'}, {'ticker': 'AMZN', 'relevance_score': '0.124593', 'ticker_sentiment_score': '0.393864', 'ticker_sentiment_label': 'Bullish'}, {'ticker': 'SQ', 'relevance_score': '0.083251', 'ticker_sentiment_score': '0.451894', 'ticker_sentiment_label': 'Bullish'}]}, {'title': \"The iPhone Was Unveiled 16 Years Ago, Here's How Much $1,000 Invested In Apple Stock After The Debut Is Worth Today - Apple  ( NASDAQ:AAPL ) \", 'url': 'https://www.benzinga.com/news/23/01/30336631/the-iphone-was-unveiled-16-years-ago-heres-how-much-1-000-invested-in-apple-stock-after-the-debut-is', 'time_published': '20230109T172424', 'authors': ['Chris Katje'], 'summary': \"Many people around the world recognize the iPhone from Apple Inc AAPL as one of the leading smartphones today. The revolutionary phone was unveiled 16 years ago by Apple co-founder and former CEO Steve Jobs. Here's a look at the announcement and how the stock performed since its debut.\", 'banner_image': 'https://cdn.benzinga.com/files/images/story/2023/01/09/shutterstock_1644720079.jpg?width=1200&height=800&fit=crop', 'source': 'Benzinga', 'category_within_source': 'General', 'source_domain': 'www.benzinga.com', 'topics': [{'topic': 'Technology', 'relevance_score': '1.0'}, {'topic': 'Financial Markets', 'relevance_score': '0.87644'}], 'overall_sentiment_score': 0.23066, 'overall_sentiment_label': 'Somewhat-Bullish', 'ticker_sentiment': [{'ticker': 'SSTK', 'relevance_score': '0.129516', 'ticker_sentiment_score': '0.0', 'ticker_sentiment_label': 'Neutral'}, {'ticker': 'AAPL', 'relevance_score': '0.977547', 'ticker_sentiment_score': '0.509444', 'ticker_sentiment_label': 'Bullish'}]}, {'title': \"Warren Buffett's Berkshire Hathaway Stock Is Breaking Out\", 'url': 'https://www.thestreet.com/investing/stocks/warren-buffetts-berkshire-hathaway-stock-is-breaking-out-brkb-brka-trading', 'time_published': '20230109T165400', 'authors': ['Bret Kenwell'], 'summary': \"Berkshire Hathaway stock is trying for a big-time breakout. Here's the setup.\", 'banner_image': 'https://www.thestreet.com/.image/t_share/MTk1MDQ0MzAwMTE4MDQxNzk5/brk.png', 'source': 'The Street', 'category_within_source': 'n/a', 'source_domain': 'www.thestreet.com', 'topics': [{'topic': 'Technology', 'relevance_score': '0.5'}, {'topic': 'Finance', 'relevance_score': '0.5'}, {'topic': 'Financial Markets', 'relevance_score': '0.266143'}], 'overall_sentiment_score': 0.267281, 'overall_sentiment_label': 'Somewhat-Bullish', 'ticker_sentiment': [{'ticker': 'AAPL', 'relevance_score': '0.228073', 'ticker_sentiment_score': '0.227557', 'ticker_sentiment_label': 'Somewhat-Bullish'}, {'ticker': 'BRK-A', 'relevance_score': '0.531326', 'ticker_sentiment_score': '0.37817', 'ticker_sentiment_label': 'Bullish'}]}, {'title': 'Why Apple Was Rising Today', 'url': 'https://www.fool.com/investing/2023/01/09/why-apple-was-rising-today/', 'time_published': '20230109T165009', 'authors': ['Billy Duberstein'], 'summary': \"On a good day for tech stocks, Bloomberg hinted that Apple's new AR/VR headset will be released in the next couple of months.\", 'banner_image': 'https://g.foolcdn.com/image/?url=https%3A%2F%2Fg.foolcdn.com%2Feditorial%2Fimages%2F714902%2Fwarren-buffett-frowning-tmf-photo.jpg&op=resize&h=340', 'source': 'Motley Fool', 'category_within_source': 'n/a', 'source_domain': 'www.fool.com', 'topics': [{'topic': 'Economy - Monetary', 'relevance_score': '0.310843'}, {'topic': 'Technology', 'relevance_score': '1.0'}, {'topic': 'Financial Markets', 'relevance_score': '0.161647'}], 'overall_sentiment_score': 0.098048, 'overall_sentiment_label': 'Neutral', 'ticker_sentiment': [{'ticker': 'AAPL', 'relevance_score': '0.612033', 'ticker_sentiment_score': '0.068728', 'ticker_sentiment_label': 'Neutral'}]}, {'title': '2 Stocks to Watch From the Challenging Computer Industry', 'url': 'https://www.zacks.com/commentary/2036855/2-stocks-to-watch-from-the-challenging-computer-industry', 'time_published': '20230109T164700', 'authors': ['Zacks Investment Research'], 'summary': 'The Computer - Mini Computers industry is suffering from massive supply-chain and logistical issues, as well as geopolitical challenges. However, the strong demand for laptops and tablets bodes well for Apple (AAPL) and Lenovo (LNVGY).', 'banner_image': 'https://staticx-tuner.zacks.com/images/zadmin_tuner_image/cm_io_perf_20230109.jpg', 'source': 'Zacks Commentary', 'category_within_source': 'n/a', 'source_domain': 'www.zacks.com', 'topics': [{'topic': 'Financial Markets', 'relevance_score': '0.796627'}, {'topic': 'Manufacturing', 'relevance_score': '0.5'}, {'topic': 'Earnings', 'relevance_score': '0.838487'}, {'topic': 'Technology', 'relevance_score': '0.5'}], 'overall_sentiment_score': 0.212626, 'overall_sentiment_label': 'Somewhat-Bullish', 'ticker_sentiment': [{'ticker': 'LNVGF', 'relevance_score': '0.113418', 'ticker_sentiment_score': '0.052718', 'ticker_sentiment_label': 'Neutral'}, {'ticker': 'MSFT', 'relevance_score': '0.03792', 'ticker_sentiment_score': '0.143099', 'ticker_sentiment_label': 'Neutral'}, {'ticker': 'SSNLF', 'relevance_score': '0.075754', 'ticker_sentiment_score': '0.205246', 'ticker_sentiment_label': 'Somewhat-Bullish'}, {'ticker': 'GOOG', 'relevance_score': '0.03792', 'ticker_sentiment_score': '0.143099', 'ticker_sentiment_label': 'Neutral'}, {'ticker': 'NVDA', 'relevance_score': '0.075754', 'ticker_sentiment_score': '0.205246', 'ticker_sentiment_label': 'Somewhat-Bullish'}, {'ticker': 'AAPL', 'relevance_score': '0.260719', 'ticker_sentiment_score': '0.276725', 'ticker_sentiment_label': 'Somewhat-Bullish'}, {'ticker': 'QCOM', 'relevance_score': '0.075754', 'ticker_sentiment_score': '0.205246', 'ticker_sentiment_label': 'Somewhat-Bullish'}]}, {'title': \"Stock Market Gains As Earnings Season Begins; Retail Stocks Sag On Weak Lululemon, Macy's Forecasts\", 'url': 'https://www.investors.com/market-trend/stock-market-today/stock-market-gains-as-earnings-season-begins-retail-stocks-sag-on-weak-lululemon-macys-forecasts/', 'time_published': '20230109T155900', 'authors': [\"Investor's Business Daily\", 'MICHAEL MOLINSKI'], 'summary': \"Stock Market Gains As Earnings Season Begins. Retail Stocks Sag ... Investor's Business Daily ...\", 'banner_image': 'https://www.investors.com/wp-content/uploads/2019/03/Stock-Lululemon-34-shutt.jpg', 'source': 'Investors Business Daily', 'category_within_source': 'n/a', 'source_domain': 'www.investors.com', 'topics': [{'topic': 'Life Sciences', 'relevance_score': '0.166667'}, {'topic': 'Technology', 'relevance_score': '0.166667'}, {'topic': 'Finance', 'relevance_score': '0.166667'}, {'topic': 'Retail & Wholesale', 'relevance_score': '0.166667'}, {'topic': 'Financial Markets', 'relevance_score': '0.999355'}, {'topic': 'Manufacturing', 'relevance_score': '0.166667'}, {'topic': 'Earnings', 'relevance_score': '0.972476'}, {'topic': 'Mergers & Acquisitions', 'relevance_score': '0.158519'}, {'topic': 'Real Estate & Construction', 'relevance_score': '0.166667'}], 'overall_sentiment_score': 0.138051, 'overall_sentiment_label': 'Neutral', 'ticker_sentiment': [{'ticker': 'JWN', 'relevance_score': '0.108712', 'ticker_sentiment_score': '-0.032744', 'ticker_sentiment_label': 'Neutral'}, {'ticker': 'NVDA', 'relevance_score': '0.108712', 'ticker_sentiment_score': '0.103578', 'ticker_sentiment_label': 'Neutral'}, {'ticker': 'AAPL', 'relevance_score': '0.108712', 'ticker_sentiment_score': '0.17174', 'ticker_sentiment_label': 'Somewhat-Bullish'}, {'ticker': 'C', 'relevance_score': '0.108712', 'ticker_sentiment_score': '0.136517', 'ticker_sentiment_label': 'Neutral'}, {'ticker': 'BAC', 'relevance_score': '0.108712', 'ticker_sentiment_score': '0.136517', 'ticker_sentiment_label': 'Neutral'}, {'ticker': 'ALBO', 'relevance_score': '0.108712', 'ticker_sentiment_score': '0.17174', 'ticker_sentiment_label': 'Somewhat-Bullish'}, {'ticker': 'JPM', 'relevance_score': '0.108712', 'ticker_sentiment_score': '0.136517', 'ticker_sentiment_label': 'Neutral'}, {'ticker': 'KSS', 'relevance_score': '0.108712', 'ticker_sentiment_score': '-0.032744', 'ticker_sentiment_label': 'Neutral'}, {'ticker': 'M', 'relevance_score': '0.318211', 'ticker_sentiment_score': '0.119351', 'ticker_sentiment_label': 'Neutral'}, {'ticker': 'UNH', 'relevance_score': '0.108712', 'ticker_sentiment_score': '0.136517', 'ticker_sentiment_label': 'Neutral'}, {'ticker': 'KBH', 'relevance_score': '0.108712', 'ticker_sentiment_score': '0.136517', 'ticker_sentiment_label': 'Neutral'}, {'ticker': 'MSFT', 'relevance_score': '0.108712', 'ticker_sentiment_score': '0.17174', 'ticker_sentiment_label': 'Somewhat-Bullish'}, {'ticker': 'LULU', 'relevance_score': '0.162437', 'ticker_sentiment_score': '0.051351', 'ticker_sentiment_label': 'Neutral'}, {'ticker': 'TSLA', 'relevance_score': '0.108712', 'ticker_sentiment_score': '0.103578', 'ticker_sentiment_label': 'Neutral'}, {'ticker': 'CMA', 'relevance_score': '0.054483', 'ticker_sentiment_score': '-0.043005', 'ticker_sentiment_label': 'Neutral'}, {'ticker': 'CMC', 'relevance_score': '0.162437', 'ticker_sentiment_score': '0.0', 'ticker_sentiment_label': 'Neutral'}, {'ticker': 'AMZN', 'relevance_score': '0.108712', 'ticker_sentiment_score': '0.0', 'ticker_sentiment_label': 'Neutral'}]}, {'title': 'This Day In Market History, Jan. 9: Apple Introduces The iPhone  ( NASDAQ:AAPL )  - Apple  ( NASDAQ:AAPL ) ', 'url': 'https://www.benzinga.com/general/education/20/01/11007650/this-day-in-market-history-apple-introduces-the-iphone-1', 'time_published': '20230109T154600', 'authors': ['Elizabeth Balboa'], 'summary': 'Each day, Benzinga takes a look back at a notable market-related moment that happened on this date. On this day in 2007, Apple Inc. AAPL unveiled the first iPhone after two and a half years of hushed development. The S&P 500 closed at 1,412.11, while the Dow Jones Industrial Average closed at ...', 'banner_image': 'https://cdn.benzinga.com/files/images/story/2012/iphone2007.png?width=1200&height=800&fit=crop', 'source': 'Benzinga', 'category_within_source': 'General', 'source_domain': 'www.benzinga.com', 'topics': [{'topic': 'Technology', 'relevance_score': '0.5'}, {'topic': 'Retail & Wholesale', 'relevance_score': '0.5'}, {'topic': 'Financial Markets', 'relevance_score': '0.214378'}], 'overall_sentiment_score': 0.165969, 'overall_sentiment_label': 'Somewhat-Bullish', 'ticker_sentiment': [{'ticker': 'BB', 'relevance_score': '0.535653', 'ticker_sentiment_score': '0.096311', 'ticker_sentiment_label': 'Neutral'}, {'ticker': 'HPQ', 'relevance_score': '0.192694', 'ticker_sentiment_score': '-0.048765', 'ticker_sentiment_label': 'Neutral'}, {'ticker': 'AAPL', 'relevance_score': '0.535653', 'ticker_sentiment_score': '0.0', 'ticker_sentiment_label': 'Neutral'}, {'ticker': 'HPE', 'relevance_score': '0.374312', 'ticker_sentiment_score': '-0.081802', 'ticker_sentiment_label': 'Neutral'}]}, {'title': 'Apple  ( AAPL )  Expands Fitness+ With New Kickboxing Workout', 'url': 'https://www.zacks.com/stock/news/2036812/apple-aapl-expands-fitness-with-new-kickboxing-workout', 'time_published': '20230109T151400', 'authors': ['Zacks Investment Research'], 'summary': 'Apple (AAPL) is expanding its Fitness+ content with the introduction of Kickboxing, a new meditation theme, Sleep and Beyonce to Artist Spotlight.', 'banner_image': 'https://staticx-tuner.zacks.com/images/articles/main/b2/56.jpg', 'source': 'Zacks Commentary', 'category_within_source': 'n/a', 'source_domain': 'www.zacks.com', 'topics': [{'topic': 'Earnings', 'relevance_score': '0.650727'}, {'topic': 'Technology', 'relevance_score': '1.0'}], 'overall_sentiment_score': 0.148564, 'overall_sentiment_label': 'Neutral', 'ticker_sentiment': [{'ticker': 'LNVGF', 'relevance_score': '0.241684', 'ticker_sentiment_score': '0.051179', 'ticker_sentiment_label': 'Neutral'}, {'ticker': 'AAPL', 'relevance_score': '0.602533', 'ticker_sentiment_score': '0.218365', 'ticker_sentiment_label': 'Somewhat-Bullish'}]}, {'title': 'Top Stories Monday, Jan. 09 - Apple  ( NASDAQ:AAPL ) , AstraZeneca  ( NASDAQ:AZN ) ', 'url': 'https://www.benzinga.com/general/biotech/23/01/30332093/teslas-delivery-wait-times-go-up-china-wants-to-secure-license-for-generic-version-of-pfizers-pax', 'time_published': '20230109T134427', 'authors': ['Vandana Singh'], 'summary': 'Apple Inc AAPL exported more than $2.5 billion worth of iPhones from India between April and December as the company diversified production amid supply disruptions in China. The total export of the Cupertino-based tech giant in the first nine months of the fiscal year ending March 2023 was almost ...', 'banner_image': 'https://cdn.benzinga.com/files/images/story/2023/01/09/tesla_model_y_front_view_7-19-2020_0.jpg?optimize=medium&dpr=2&auto=webp&width=3840', 'source': 'Benzinga', 'category_within_source': 'General', 'source_domain': 'www.benzinga.com', 'topics': [{'topic': 'Life Sciences', 'relevance_score': '0.25'}, {'topic': 'Financial Markets', 'relevance_score': '0.214378'}, {'topic': 'Manufacturing', 'relevance_score': '0.25'}, {'topic': 'Technology', 'relevance_score': '0.25'}, {'topic': 'Finance', 'relevance_score': '0.25'}], 'overall_sentiment_score': 0.115554, 'overall_sentiment_label': 'Neutral', 'ticker_sentiment': [{'ticker': 'PYPL', 'relevance_score': '0.033562', 'ticker_sentiment_score': '0.0', 'ticker_sentiment_label': 'Neutral'}, {'ticker': 'DE', 'relevance_score': '0.067064', 'ticker_sentiment_score': '0.072137', 'ticker_sentiment_label': 'Neutral'}, {'ticker': 'GOOG', 'relevance_score': '0.100448', 'ticker_sentiment_score': '0.171854', 'ticker_sentiment_label': 'Somewhat-Bullish'}, {'ticker': 'AAPL', 'relevance_score': '0.19931', 'ticker_sentiment_score': '0.146461', 'ticker_sentiment_label': 'Neutral'}, {'ticker': 'CIH', 'relevance_score': '0.033562', 'ticker_sentiment_score': '-0.059274', 'ticker_sentiment_label': 'Neutral'}, {'ticker': 'HNHPF', 'relevance_score': '0.067064', 'ticker_sentiment_score': '0.182626', 'ticker_sentiment_label': 'Somewhat-Bullish'}, {'ticker': 'CINC', 'relevance_score': '0.067064', 'ticker_sentiment_score': '0.261217', 'ticker_sentiment_label': 'Somewhat-Bullish'}, {'ticker': 'ELMTF', 'relevance_score': '0.067064', 'ticker_sentiment_score': '0.091195', 'ticker_sentiment_label': 'Neutral'}, {'ticker': 'TPG', 'relevance_score': '0.067064', 'ticker_sentiment_score': '0.182626', 'ticker_sentiment_label': 'Somewhat-Bullish'}, {'ticker': 'VOD', 'relevance_score': '0.133655', 'ticker_sentiment_score': '0.04948', 'ticker_sentiment_label': 'Neutral'}, {'ticker': 'GS', 'relevance_score': '0.133655', 'ticker_sentiment_score': '-0.073632', 'ticker_sentiment_label': 'Neutral'}, {'ticker': 'PFE', 'relevance_score': '0.067064', 'ticker_sentiment_score': '0.085176', 'ticker_sentiment_label': 'Neutral'}, {'ticker': 'MSFT', 'relevance_score': '0.067064', 'ticker_sentiment_score': '0.0', 'ticker_sentiment_label': 'Neutral'}, {'ticker': 'TSLA', 'relevance_score': '0.100448', 'ticker_sentiment_score': '-0.160032', 'ticker_sentiment_label': 'Somewhat-Bearish'}, {'ticker': 'AZN', 'relevance_score': '0.067064', 'ticker_sentiment_score': '0.261217', 'ticker_sentiment_label': 'Somewhat-Bullish'}, {'ticker': 'QGEN', 'relevance_score': '0.133655', 'ticker_sentiment_score': '0.078406', 'ticker_sentiment_label': 'Neutral'}, {'ticker': 'OCGN', 'relevance_score': '0.067064', 'ticker_sentiment_score': '0.0', 'ticker_sentiment_label': 'Neutral'}, {'ticker': 'FOREX:CNY', 'relevance_score': '0.067064', 'ticker_sentiment_score': '0.059366', 'ticker_sentiment_label': 'Neutral'}]}, {'title': 'Top 5 Momentum Stocks for January After a Disappointing 2022', 'url': 'https://www.zacks.com/stock/news/2036650/top-5-momentum-stocks-for-january-after-a-disappointing-2022', 'time_published': '20230109T132700', 'authors': ['Zacks Investment Research'], 'summary': 'We have narrowed our search on five momentum stocks with strong potential in 2023. These are: DOCU, ANET, CAG, PCTY and SCCO.', 'banner_image': 'https://staticx-tuner.zacks.com/images/articles/main/ae/14424.jpg', 'source': 'Zacks Commentary', 'category_within_source': 'n/a', 'source_domain': 'www.zacks.com', 'topics': [{'topic': 'Economy - Monetary', 'relevance_score': '0.451494'}, {'topic': 'Financial Markets', 'relevance_score': '0.992549'}, {'topic': 'Manufacturing', 'relevance_score': '0.333333'}, {'topic': 'Earnings', 'relevance_score': '0.999973'}, {'topic': 'Energy & Transportation', 'relevance_score': '0.333333'}, {'topic': 'Technology', 'relevance_score': '0.333333'}], 'overall_sentiment_score': 0.252018, 'overall_sentiment_label': 'Somewhat-Bullish', 'ticker_sentiment': [{'ticker': 'MSFT', 'relevance_score': '0.03448', 'ticker_sentiment_score': '0.095903', 'ticker_sentiment_label': 'Neutral'}, {'ticker': 'AAPL', 'relevance_score': '0.068896', 'ticker_sentiment_score': '-0.112072', 'ticker_sentiment_label': 'Neutral'}, {'ticker': 'ANET', 'relevance_score': '0.2378', 'ticker_sentiment_score': '0.234044', 'ticker_sentiment_label': 'Somewhat-Bullish'}, {'ticker': 'TSLA', 'relevance_score': '0.068896', 'ticker_sentiment_score': '-0.112072', 'ticker_sentiment_label': 'Neutral'}, {'ticker': 'CAG', 'relevance_score': '0.204647', 'ticker_sentiment_score': '0.158953', 'ticker_sentiment_label': 'Somewhat-Bullish'}, {'ticker': 'SCCO', 'relevance_score': '0.204647', 'ticker_sentiment_score': '0.228689', 'ticker_sentiment_label': 'Somewhat-Bullish'}, {'ticker': 'DOCU', 'relevance_score': '0.2378', 'ticker_sentiment_score': '0.217092', 'ticker_sentiment_label': 'Somewhat-Bullish'}, {'ticker': 'PCTY', 'relevance_score': '0.17112', 'ticker_sentiment_score': '0.245642', 'ticker_sentiment_label': 'Somewhat-Bullish'}]}, {'title': 'Futures Rise Ahead Of Q4 Earnings Season', 'url': 'https://www.investors.com/market-trend/stock-market-today/dow-jones-futures-rise-ahead-of-earnings-season-tesla-stock-continues-to-rebound/', 'time_published': '20230109T132300', 'authors': ['SCOTT LEHTONEN', \"Investor's Business Daily\"], 'summary': \"Dow Jones futures came off early highs Monday, wrestling to add to Friday's powerful stock market gains. Fourth-quarter earnings season kicks off this week, with highly anticipated results from Dow Jones members JPMorgan Chase ( JPM ) and UnitedHealth Group ( UNH ) .\", 'banner_image': 'https://www.investors.com/wp-content/uploads/2021/09/Stock-wallstreetflag-01-adobe.jpg', 'source': 'Investors Business Daily', 'category_within_source': 'n/a', 'source_domain': 'www.investors.com', 'topics': [{'topic': 'Life Sciences', 'relevance_score': '0.142857'}, {'topic': 'Energy & Transportation', 'relevance_score': '0.142857'}, {'topic': 'Technology', 'relevance_score': '0.142857'}, {'topic': 'Finance', 'relevance_score': '0.142857'}, {'topic': 'Retail & Wholesale', 'relevance_score': '0.142857'}, {'topic': 'Financial Markets', 'relevance_score': '1.0'}, {'topic': 'Manufacturing', 'relevance_score': '0.142857'}, {'topic': 'Earnings', 'relevance_score': '0.451494'}, {'topic': 'Real Estate & Construction', 'relevance_score': '0.142857'}], 'overall_sentiment_score': 0.224053, 'overall_sentiment_label': 'Somewhat-Bullish', 'ticker_sentiment': [{'ticker': 'MEDP', 'relevance_score': '0.166169', 'ticker_sentiment_score': '0.08766', 'ticker_sentiment_label': 'Neutral'}, {'ticker': 'DE', 'relevance_score': '0.133285', 'ticker_sentiment_score': '0.091416', 'ticker_sentiment_label': 'Neutral'}, {'ticker': 'AAPL', 'relevance_score': '0.100168', 'ticker_sentiment_score': '0.110614', 'ticker_sentiment_label': 'Neutral'}, {'ticker': 'C', 'relevance_score': '0.066877', 'ticker_sentiment_score': '0.0', 'ticker_sentiment_label': 'Neutral'}, {'ticker': 'CVX', 'relevance_score': '0.133285', 'ticker_sentiment_score': '0.135649', 'ticker_sentiment_label': 'Neutral'}, {'ticker': 'JPM', 'relevance_score': '0.066877', 'ticker_sentiment_score': '0.061362', 'ticker_sentiment_label': 'Neutral'}, {'ticker': 'NBIX', 'relevance_score': '0.133285', 'ticker_sentiment_score': '0.112918', 'ticker_sentiment_label': 'Neutral'}, {'ticker': 'IVZ', 'relevance_score': '0.033468', 'ticker_sentiment_score': '0.111102', 'ticker_sentiment_label': 'Neutral'}, {'ticker': 'UNH', 'relevance_score': '0.066877', 'ticker_sentiment_score': '0.061362', 'ticker_sentiment_label': 'Neutral'}, {'ticker': 'ASML', 'relevance_score': '0.066877', 'ticker_sentiment_score': '0.275301', 'ticker_sentiment_label': 'Somewhat-Bullish'}, {'ticker': 'KBH', 'relevance_score': '0.066877', 'ticker_sentiment_score': '0.0', 'ticker_sentiment_label': 'Neutral'}, {'ticker': 'MSFT', 'relevance_score': '0.133285', 'ticker_sentiment_score': '-0.057574', 'ticker_sentiment_label': 'Neutral'}, {'ticker': 'AYI', 'relevance_score': '0.100168', 'ticker_sentiment_score': '-0.070185', 'ticker_sentiment_label': 'Neutral'}, {'ticker': 'TSLA', 'relevance_score': '0.166169', 'ticker_sentiment_score': '0.137942', 'ticker_sentiment_label': 'Neutral'}, {'ticker': 'MA', 'relevance_score': '0.033468', 'ticker_sentiment_score': '0.092229', 'ticker_sentiment_label': 'Neutral'}, {'ticker': 'WFC', 'relevance_score': '0.066877', 'ticker_sentiment_score': '0.0', 'ticker_sentiment_label': 'Neutral'}, {'ticker': 'V', 'relevance_score': '0.100168', 'ticker_sentiment_score': '0.103877', 'ticker_sentiment_label': 'Neutral'}, {'ticker': 'CMC', 'relevance_score': '0.100168', 'ticker_sentiment_score': '-0.070185', 'ticker_sentiment_label': 'Neutral'}, {'ticker': 'NVDA', 'relevance_score': '0.066877', 'ticker_sentiment_score': '0.275301', 'ticker_sentiment_label': 'Somewhat-Bullish'}, {'ticker': 'BAC', 'relevance_score': '0.066877', 'ticker_sentiment_score': '0.0', 'ticker_sentiment_label': 'Neutral'}, {'ticker': 'CAH', 'relevance_score': '0.166169', 'ticker_sentiment_score': '0.060731', 'ticker_sentiment_label': 'Neutral'}, {'ticker': 'TSM', 'relevance_score': '0.066877', 'ticker_sentiment_score': '0.0', 'ticker_sentiment_label': 'Neutral'}, {'ticker': 'LULU', 'relevance_score': '0.066877', 'ticker_sentiment_score': '-0.063104', 'ticker_sentiment_label': 'Neutral'}, {'ticker': 'BACHY', 'relevance_score': '0.033468', 'ticker_sentiment_score': '0.265959', 'ticker_sentiment_label': 'Somewhat-Bullish'}, {'ticker': 'CAT', 'relevance_score': '0.166169', 'ticker_sentiment_score': '0.214059', 'ticker_sentiment_label': 'Somewhat-Bullish'}, {'ticker': 'WMT', 'relevance_score': '0.133285', 'ticker_sentiment_score': '0.126075', 'ticker_sentiment_label': 'Neutral'}]}, {'title': 'Solana Dropped 90% Last Year, But Has Kicked Off 2023 With a Bang. Is This Bull Rally Real?', 'url': 'https://www.fool.com/investing/2023/01/09/solana-dropped-90-last-year-but-has-kicked-off-202/', 'time_published': '20230109T125400', 'authors': ['Michael Byrne'], 'summary': 'The Bonk crypto is restoring a sense of optimism to Solana at a time when it needed it most.', 'banner_image': 'https://g.foolcdn.com/image/?url=https%3A%2F%2Fg.foolcdn.com%2Feditorial%2Fimages%2F715451%2Fshiba-inu-dog-bonk.jpeg&op=resize&w=700', 'source': 'Motley Fool', 'category_within_source': 'n/a', 'source_domain': 'www.fool.com', 'topics': [{'topic': 'Technology', 'relevance_score': '0.5'}, {'topic': 'Finance', 'relevance_score': '0.5'}, {'topic': 'Blockchain', 'relevance_score': '0.838487'}], 'overall_sentiment_score': 0.053275, 'overall_sentiment_label': 'Neutral', 'ticker_sentiment': [{'ticker': 'BAC', 'relevance_score': '0.043898', 'ticker_sentiment_score': '0.095162', 'ticker_sentiment_label': 'Neutral'}, {'ticker': 'AAPL', 'relevance_score': '0.087663', 'ticker_sentiment_score': '0.058489', 'ticker_sentiment_label': 'Neutral'}, {'ticker': 'CRYPTO:SHIB', 'relevance_score': '0.087663', 'ticker_sentiment_score': '0.013856', 'ticker_sentiment_label': 'Neutral'}, {'ticker': 'CRYPTO:SOL', 'relevance_score': '0.043898', 'ticker_sentiment_score': '0.038502', 'ticker_sentiment_label': 'Neutral'}]}, {'title': \"Jack Ma Ceding Control In Ant, Brazil's 'Capitol Hill Moment,' Goldman Sachs Job Cut Rumors And More: 5 Key Stories You May Have Missed From The Weekend - Apple  ( NASDAQ:AAPL ) \", 'url': 'https://www.benzinga.com/news/earnings/23/01/30329977/jack-ma-ceding-control-in-ant-brazils-capitol-hill-moment-goldman-sachs-job-cut-rumors-and-more-5-k', 'time_published': '20230109T125323', 'authors': ['Shanthi Rexaline'], 'summary': \"The lull that characterized the holiday period continued into the past weekend. News flow is likely to pick up pace after the Martin Luther King Jr. holiday scheduled for Jan. 16, as the curtains lift on the fourth-quarter reporting season. Here's a recap of a few major headlines that hit the ...\", 'banner_image': 'https://cdn.benzinga.com/files/images/story/2023/01/09/5_key_stories_photo_by_sebra_on_shutterstock.jpg?width=1200&height=800&fit=crop', 'source': 'Benzinga', 'category_within_source': 'General', 'source_domain': 'www.benzinga.com', 'topics': [{'topic': 'Economy - Monetary', 'relevance_score': '0.451494'}, {'topic': 'Financial Markets', 'relevance_score': '0.108179'}, {'topic': 'Manufacturing', 'relevance_score': '0.333333'}, {'topic': 'Earnings', 'relevance_score': '0.158519'}, {'topic': 'Technology', 'relevance_score': '0.333333'}, {'topic': 'Finance', 'relevance_score': '0.333333'}], 'overall_sentiment_score': -0.074838, 'overall_sentiment_label': 'Neutral', 'ticker_sentiment': [{'ticker': 'BABA', 'relevance_score': '0.147366', 'ticker_sentiment_score': '0.103425', 'ticker_sentiment_label': 'Neutral'}, {'ticker': 'AAPL', 'relevance_score': '0.219477', 'ticker_sentiment_score': '-0.056395', 'ticker_sentiment_label': 'Neutral'}, {'ticker': 'TSLA', 'relevance_score': '0.289748', 'ticker_sentiment_score': '-0.200164', 'ticker_sentiment_label': 'Somewhat-Bearish'}, {'ticker': 'GS', 'relevance_score': '0.219477', 'ticker_sentiment_score': '-0.219174', 'ticker_sentiment_label': 'Somewhat-Bearish'}]}, {'title': \"Apple's India Hirings Signal Flagship Store Debut By March: FT - Apple  ( NASDAQ:AAPL ) \", 'url': 'https://www.benzinga.com/news/23/01/30326033/apples-india-hirings-signal-flagship-store-debut-by-march-ft', 'time_published': '20230109T125007', 'authors': ['Anusuya Lahiri'], 'summary': 'Apple Inc AAPL started hiring retail store workers in India with room for more as it eyed its flagship location debut in the promising smartphone market by this quarter.', 'banner_image': 'https://cdn.benzinga.com/files/images/story/2023/01/09/apple_store_bath_doors_at_night.jpg?optimize=medium&dpr=2&auto=webp&width=3840', 'source': 'Benzinga', 'category_within_source': 'News', 'source_domain': 'www.benzinga.com', 'topics': [{'topic': 'Technology', 'relevance_score': '1.0'}], 'overall_sentiment_score': 0.176713, 'overall_sentiment_label': 'Somewhat-Bullish', 'ticker_sentiment': [{'ticker': 'AAPL', 'relevance_score': '0.774534', 'ticker_sentiment_score': '0.222905', 'ticker_sentiment_label': 'Somewhat-Bullish'}]}, {'title': \"Apple's India-Made iPhone Exports Surpass $2.5B In 9 Months - Nearly Twice Previous Fiscal Year's Total - Apple  ( NASDAQ:AAPL ) , Hon Hai Precision  ( OTC:HNHPF ) , Wistron  ( OTC:WICOF ) , Pegatron  ( OTC:PGTRF ) \", 'url': 'https://www.benzinga.com/news/23/01/30329141/apples-india-made-iphone-exports-surpass-2-5b-in-9-months-nearly-twice-previous-fiscal-years-total', 'time_published': '20230109T115036', 'authors': ['Navdeep Yadav'], 'summary': 'Apple Inc. AAPL exported more than $2.5 billion worth of iPhones from India between April and December as the company diversified production amid supply disruptions in China.', 'banner_image': 'https://cdn.benzinga.com/files/images/story/2023/iPhone_Photo_by_Kaspars_Grinvalds_on_Shutterstock.jpeg?width=1200&height=800&fit=crop', 'source': 'Benzinga', 'category_within_source': 'General', 'source_domain': 'www.benzinga.com', 'topics': [{'topic': 'Technology', 'relevance_score': '1.0'}], 'overall_sentiment_score': -0.04005, 'overall_sentiment_label': 'Neutral', 'ticker_sentiment': [{'ticker': 'AAPL', 'relevance_score': '0.519739', 'ticker_sentiment_score': '0.09736', 'ticker_sentiment_label': 'Neutral'}]}, {'title': \"Ahead Of Tech Earnings, Analyst Says Sector Is 'Under-Owned' - Repeats Calls For 20% Rally - SPDR Select Sector Fund - Technology  ( ARCA:XLK ) \", 'url': 'https://www.benzinga.com/analyst-ratings/analyst-color/23/01/30325912/ahead-of-tech-earnings-analyst-says-sector-is-under-owned-repeats-calls-for-20-rall', 'time_published': '20230109T114325', 'authors': ['Shanthi Rexaline'], 'summary': 'Tech earnings news flow will hit Wall Street in earnest in two weeks and an analyst at Wedbush painted a positive picture concerning the prospects for the sector. Guidance The Key: As the focus shifts to fourth-quarter earnings, the wildcard would be the 2023 guidance and overall demand ...', 'banner_image': 'https://cdn.benzinga.com/files/images/story/2023/01/09/tech_earnings.jpg?width=1200&height=800&fit=crop', 'source': 'Benzinga', 'category_within_source': 'Trading', 'source_domain': 'www.benzinga.com', 'topics': [{'topic': 'Retail & Wholesale', 'relevance_score': '0.5'}, {'topic': 'Financial Markets', 'relevance_score': '0.161647'}, {'topic': 'Earnings', 'relevance_score': '0.310843'}, {'topic': 'Technology', 'relevance_score': '0.5'}], 'overall_sentiment_score': 0.073967, 'overall_sentiment_label': 'Neutral', 'ticker_sentiment': [{'ticker': 'MSFT', 'relevance_score': '0.197413', 'ticker_sentiment_score': '-0.025057', 'ticker_sentiment_label': 'Neutral'}, {'ticker': 'META', 'relevance_score': '0.197413', 'ticker_sentiment_score': '0.0', 'ticker_sentiment_label': 'Neutral'}, {'ticker': 'AAPL', 'relevance_score': '0.197413', 'ticker_sentiment_score': '0.183824', 'ticker_sentiment_label': 'Somewhat-Bullish'}, {'ticker': 'TENB', 'relevance_score': '0.197413', 'ticker_sentiment_score': '0.163749', 'ticker_sentiment_label': 'Somewhat-Bullish'}, {'ticker': 'CRWD', 'relevance_score': '0.197413', 'ticker_sentiment_score': '0.163749', 'ticker_sentiment_label': 'Somewhat-Bullish'}, {'ticker': 'CYBR', 'relevance_score': '0.197413', 'ticker_sentiment_score': '0.163749', 'ticker_sentiment_label': 'Somewhat-Bullish'}, {'ticker': 'AMZN', 'relevance_score': '0.197413', 'ticker_sentiment_score': '0.073353', 'ticker_sentiment_label': 'Neutral'}, {'ticker': 'PANW', 'relevance_score': '0.197413', 'ticker_sentiment_score': '0.163749', 'ticker_sentiment_label': 'Somewhat-Bullish'}]}, {'title': 'Should Invesco Dynamic Large Cap Growth ETF  ( PWB )  Be on Your Investing Radar?', 'url': 'https://www.zacks.com/stock/news/2036566/should-invesco-dynamic-large-cap-growth-etf-pwb-be-on-your-investing-radar', 'time_published': '20230109T112009', 'authors': ['Zacks Investment Research'], 'summary': 'Style Box ETF report for ...', 'banner_image': 'https://staticx-tuner.zacks.com/images/default_article_images/default254.jpg', 'source': 'Zacks Commentary', 'category_within_source': 'n/a', 'source_domain': 'www.zacks.com', 'topics': [{'topic': 'Retail & Wholesale', 'relevance_score': '0.25'}, {'topic': 'Financial Markets', 'relevance_score': '0.999994'}, {'topic': 'Manufacturing', 'relevance_score': '0.25'}, {'topic': 'Earnings', 'relevance_score': '0.310843'}, {'topic': 'Technology', 'relevance_score': '0.25'}, {'topic': 'Finance', 'relevance_score': '0.25'}], 'overall_sentiment_score': 0.30836, 'overall_sentiment_label': 'Somewhat-Bullish', 'ticker_sentiment': [{'ticker': 'AAPL', 'relevance_score': '0.119235', 'ticker_sentiment_score': '0.067585', 'ticker_sentiment_label': 'Neutral'}, {'ticker': 'COST', 'relevance_score': '0.119235', 'ticker_sentiment_score': '0.067585', 'ticker_sentiment_label': 'Neutral'}, {'ticker': 'TSLA', 'relevance_score': '0.119235', 'ticker_sentiment_score': '0.067585', 'ticker_sentiment_label': 'Neutral'}, {'ticker': 'IVZ', 'relevance_score': '0.29234', 'ticker_sentiment_score': '0.308075', 'ticker_sentiment_label': 'Somewhat-Bullish'}]}, {'title': 'Grid Computing Market Is Expected to Hit USD 10,785 Million at a CAGR of 16.14% by 2030 - Report by Market Research Future  ( MRFR ) ', 'url': 'https://www.benzinga.com/pressreleases/23/01/g30328422/grid-computing-market-is-expected-to-hit-usd-10-785-million-at-a-cagr-of-16-14-by-2030-report-by-m', 'time_published': '20230109T110516', 'authors': ['Globe Newswire'], 'summary': 'New York, US, Jan. 09, 2023 ( GLOBE NEWSWIRE ) -- According to a comprehensive research report by Market Research Future ( MRFR ) , \"Grid Computing Market Research Report, By Components, Graphics Type, by End User, by Application- Forecast till 2030, the market is anticipated to acquire a ...', 'banner_image': '', 'source': 'Benzinga', 'category_within_source': 'General', 'source_domain': 'www.benzinga.com', 'topics': [{'topic': 'Technology', 'relevance_score': '0.5'}, {'topic': 'Retail & Wholesale', 'relevance_score': '0.5'}, {'topic': 'Financial Markets', 'relevance_score': '0.161647'}], 'overall_sentiment_score': 0.269343, 'overall_sentiment_label': 'Somewhat-Bullish', 'ticker_sentiment': [{'ticker': 'HPQ', 'relevance_score': '0.030958', 'ticker_sentiment_score': '0.0', 'ticker_sentiment_label': 'Neutral'}, {'ticker': 'ORCL', 'relevance_score': '0.030958', 'ticker_sentiment_score': '0.0', 'ticker_sentiment_label': 'Neutral'}, {'ticker': 'AAPL', 'relevance_score': '0.030958', 'ticker_sentiment_score': '0.0', 'ticker_sentiment_label': 'Neutral'}, {'ticker': 'DRKTF', 'relevance_score': '0.030958', 'ticker_sentiment_score': '0.0', 'ticker_sentiment_label': 'Neutral'}, {'ticker': 'HPE', 'relevance_score': '0.030958', 'ticker_sentiment_score': '0.0', 'ticker_sentiment_label': 'Neutral'}, {'ticker': 'ALTR', 'relevance_score': '0.030958', 'ticker_sentiment_score': '0.0', 'ticker_sentiment_label': 'Neutral'}]}, {'title': 'Apple Watch User Says He Ended Up In Emergency Room After His Gadget Exploded - Apple  ( NASDAQ:AAPL ) ', 'url': 'https://www.benzinga.com/news/22/10/29162885/heat-smoke-and-kaboom-apple-watch-sends-a-user-to-emergency-room-fearing-lead-1', 'time_published': '20230109T103608', 'authors': ['Ananya Gairola'], 'summary': 'An Apple Inc. AAPL watch user reportedly ended up in an emergency room after his device expanded, overheated, started smoking and eventually exploded, all in the course of an evening and night, in October 2022.', 'banner_image': 'https://cdn.benzinga.com/files/images/story/2022/10/06/shutterstock_2096034820.jpg?width=1200&height=800&fit=crop', 'source': 'Benzinga', 'category_within_source': 'General', 'source_domain': 'www.benzinga.com', 'topics': [{'topic': 'Technology', 'relevance_score': '1.0'}], 'overall_sentiment_score': -0.148184, 'overall_sentiment_label': 'Neutral', 'ticker_sentiment': [{'ticker': 'AAPL', 'relevance_score': '0.914806', 'ticker_sentiment_score': '-0.290948', 'ticker_sentiment_label': 'Somewhat-Bearish'}]}, {'title': '2 Warren Buffett Stocks That Are No-Brainer Buys and 1 to Avoid Like the Plague', 'url': 'https://www.fool.com/investing/2023/01/09/2-warren-buffett-stocks-buy-1-to-avoid-like-plague/', 'time_published': '20230109T100600', 'authors': ['Sean Williams'], 'summary': 'Two Buffett stocks stand out as clear-cut buys in the new year, while another top holding has lost much of its luster.', 'banner_image': 'https://g.foolcdn.com/image/?url=https%3A%2F%2Fg.foolcdn.com%2Feditorial%2Fimages%2F715509%2Fwarren-buffett-berkshire-hathaway-brka-brkb-motley-fool.jpg&op=resize&w=700', 'source': 'Motley Fool', 'category_within_source': 'n/a', 'source_domain': 'www.fool.com', 'topics': [{'topic': 'Economy - Monetary', 'relevance_score': '0.576289'}, {'topic': 'Life Sciences', 'relevance_score': '0.333333'}, {'topic': 'Financial Markets', 'relevance_score': '0.990999'}, {'topic': 'Earnings', 'relevance_score': '0.990786'}, {'topic': 'Technology', 'relevance_score': '0.333333'}, {'topic': 'Finance', 'relevance_score': '0.333333'}], 'overall_sentiment_score': 0.112946, 'overall_sentiment_label': 'Neutral', 'ticker_sentiment': [{'ticker': 'SPGI', 'relevance_score': '0.030563', 'ticker_sentiment_score': '0.02913', 'ticker_sentiment_label': 'Neutral'}, {'ticker': 'AAPL', 'relevance_score': '0.326578', 'ticker_sentiment_score': '0.08991', 'ticker_sentiment_label': 'Neutral'}, {'ticker': 'PARA', 'relevance_score': '0.121804', 'ticker_sentiment_score': '0.079622', 'ticker_sentiment_label': 'Neutral'}, {'ticker': 'HCSG', 'relevance_score': '0.030563', 'ticker_sentiment_score': '0.00482', 'ticker_sentiment_label': 'Neutral'}, {'ticker': 'BRK-A', 'relevance_score': '0.030563', 'ticker_sentiment_score': '0.208117', 'ticker_sentiment_label': 'Somewhat-Bullish'}, {'ticker': 'JNJ', 'relevance_score': '0.181819', 'ticker_sentiment_score': '0.027729', 'ticker_sentiment_label': 'Neutral'}]}, {'title': 'iPhone exports double to surpass $2.5 billion this fiscal', 'url': 'https://www.moneycontrol.com/news/business/indias-iphone-exports-reveal-closing-tech-gap-with-china-9833951.html', 'time_published': '20230109T085358', 'authors': [], 'summary': \"India is emerging as Apple Inc.'s next manufacturing hub as assembly partners seek to add resilience to a supply chain heavily centered on China and shaken by its geopolitical and health challenges.\", 'banner_image': 'https://images.moneycontrol.com/static-mcnews/2023/01/RTS5INCE.jpg?impolicy=website&width=168&height=118', 'source': 'Money Control', 'category_within_source': 'Business', 'source_domain': 'www.moneycontrol.com', 'topics': [{'topic': 'Technology', 'relevance_score': '1.0'}], 'overall_sentiment_score': 0.083826, 'overall_sentiment_label': 'Neutral', 'ticker_sentiment': [{'ticker': 'AAPL', 'relevance_score': '0.051551', 'ticker_sentiment_score': '-0.065575', 'ticker_sentiment_label': 'Neutral'}]}, {'title': 'Applied Materials Gained 7% in the Second Half of 2022. Is the Worst Over?', 'url': 'https://www.fool.com/investing/2023/01/09/applied-materials-actually-gained-7-in-the-second/', 'time_published': '20230109T053313', 'authors': ['Brett Schafer'], 'summary': 'The semiconductor equipment company should benefit from a reshuffling of the computer chip supply chain this decade.', 'banner_image': 'https://g.foolcdn.com/image/?url=https%3A%2F%2Fg.foolcdn.com%2Feditorial%2Fimages%2F715493%2Fa-couple-on-a-couch-having-a-discussion-and-consulting-a-smartphone.jpg&op=resize&h=340', 'source': 'Motley Fool', 'category_within_source': 'n/a', 'source_domain': 'www.fool.com', 'topics': [{'topic': 'Financial Markets', 'relevance_score': '0.108179'}, {'topic': 'Manufacturing', 'relevance_score': '0.5'}, {'topic': 'Earnings', 'relevance_score': '0.161647'}, {'topic': 'Technology', 'relevance_score': '0.5'}], 'overall_sentiment_score': 0.093032, 'overall_sentiment_label': 'Neutral', 'ticker_sentiment': [{'ticker': 'SSNLF', 'relevance_score': '0.174587', 'ticker_sentiment_score': '0.146919', 'ticker_sentiment_label': 'Neutral'}, {'ticker': 'AMAT', 'relevance_score': '0.77496', 'ticker_sentiment_score': '0.154503', 'ticker_sentiment_label': 'Somewhat-Bullish'}, {'ticker': 'NVDA', 'relevance_score': '0.087824', 'ticker_sentiment_score': '-0.086973', 'ticker_sentiment_label': 'Neutral'}, {'ticker': 'AAPL', 'relevance_score': '0.087824', 'ticker_sentiment_score': '-0.086973', 'ticker_sentiment_label': 'Neutral'}, {'ticker': 'INTC', 'relevance_score': '0.174587', 'ticker_sentiment_score': '0.146919', 'ticker_sentiment_label': 'Neutral'}, {'ticker': 'SPGI', 'relevance_score': '0.087824', 'ticker_sentiment_score': '0.145193', 'ticker_sentiment_label': 'Neutral'}, {'ticker': 'TSM', 'relevance_score': '0.087824', 'ticker_sentiment_score': '0.048937', 'ticker_sentiment_label': 'Neutral'}]}, {'title': 'Apple Has Canceled The Next iPhone SE, Top Analyst Says - Apple  ( NASDAQ:AAPL ) ', 'url': 'https://www.benzinga.com/analyst-ratings/analyst-color/23/01/30325020/apple-has-canceled-the-next-iphone-se-top-analyst-says-and-this-company-stands-to-b', 'time_published': '20230109T043327', 'authors': ['Ananya Gairola'], 'summary': 'Apple Inc. AAPL has instructed suppliers about canceling the 2024 iPhone SE 4, according to a top analyst of the Cupertino-based tech giant.', 'banner_image': 'https://cdn.benzinga.com/files/images/story/2023/01/08/shutterstock_1705086190.jpg?width=1200&height=800&fit=crop', 'source': 'Benzinga', 'category_within_source': 'News', 'source_domain': 'www.benzinga.com', 'topics': [{'topic': 'Technology', 'relevance_score': '0.5'}, {'topic': 'Manufacturing', 'relevance_score': '0.5'}], 'overall_sentiment_score': 0.037868, 'overall_sentiment_label': 'Neutral', 'ticker_sentiment': [{'ticker': 'QCOM', 'relevance_score': '0.622414', 'ticker_sentiment_score': '0.242334', 'ticker_sentiment_label': 'Somewhat-Bullish'}, {'ticker': 'AAPL', 'relevance_score': '0.814341', 'ticker_sentiment_score': '-0.136031', 'ticker_sentiment_label': 'Neutral'}]}, {'title': 'Will iPhone Have A Challenger? OnePlus Co-Founder Says New Smartphone Will Take On Apple In US - Apple  ( NASDAQ:AAPL ) ', 'url': 'https://www.benzinga.com/news/22/12/29953458/will-iphone-have-a-challenger-oneplus-co-founder-says-new-smartphone-will-take-on-apple-in-1', 'time_published': '20230109T015207', 'authors': ['Ananya Gairola'], 'summary': 'Carl Pei, the co-founder of OnePlus, is planning to take on Apple Inc. AAPL in the U.S. by bringing a new Nothing smartphone to the market. What Happened: Nothing, a U.K.-based consumer tech startup, is in early conversations with U.S. carriers about launching a new smartphone in the country, ...', 'banner_image': 'https://cdn.benzinga.com/files/images/story/2022/12/05/shutterstock_1947390496.jpg?width=1200&height=800&fit=crop', 'source': 'Benzinga', 'category_within_source': 'News', 'source_domain': 'www.benzinga.com', 'topics': [{'topic': 'Technology', 'relevance_score': '1.0'}], 'overall_sentiment_score': 0.180745, 'overall_sentiment_label': 'Somewhat-Bullish', 'ticker_sentiment': [{'ticker': 'SSNLF', 'relevance_score': '0.157483', 'ticker_sentiment_score': '0.149149', 'ticker_sentiment_label': 'Neutral'}, {'ticker': 'AAPL', 'relevance_score': '0.448842', 'ticker_sentiment_score': '0.212072', 'ticker_sentiment_label': 'Somewhat-Bullish'}]}, {'title': 'Apple begins hiring retail store employees in India: Report', 'url': 'https://www.moneycontrol.com/news/business/apple-begins-hiring-retail-store-employees-in-india-report-9831431.html', 'time_published': '20230109T014234', 'authors': [], 'summary': 'The company\\'s careers page lists several different opportunities for workers in India, including business expert, \"genius,\" operations expert and technical specialist.', 'banner_image': 'https://images.moneycontrol.com/static-mcnews/2023/01/Apple-653x435.jpeg', 'source': 'Money Control', 'category_within_source': 'Business', 'source_domain': 'www.moneycontrol.com', 'topics': [{'topic': 'Technology', 'relevance_score': '1.0'}], 'overall_sentiment_score': 0.125298, 'overall_sentiment_label': 'Neutral', 'ticker_sentiment': [{'ticker': 'AAPL', 'relevance_score': '0.240489', 'ticker_sentiment_score': '0.0', 'ticker_sentiment_label': 'Neutral'}]}, {'title': \"Elon Musk Predicts One of San Francisco's Problems Will Get Worse\", 'url': 'https://www.thestreet.com/technology/elon-musk-predicts-one-of-san-franciscos-problems-will-get-worse', 'time_published': '20230108T231300', 'authors': ['Luc Olinga'], 'summary': 'The tech mecca faces a huge problem: a surge of empty offices.', 'banner_image': 'https://www.thestreet.com/.image/ar_16:9%2Cc_fill%2Ccs_srgb%2Cfl_progressive%2Cg_faces:center%2Cq_auto:good%2Cw_620/MTY4NjMyNzkwMTEwMTg1MzY3/has-the-fed-paralyzed-markets.jpg', 'source': 'The Street', 'category_within_source': 'n/a', 'source_domain': 'www.thestreet.com', 'topics': [{'topic': 'Technology', 'relevance_score': '0.5'}, {'topic': 'Manufacturing', 'relevance_score': '0.5'}], 'overall_sentiment_score': 0.043248, 'overall_sentiment_label': 'Neutral', 'ticker_sentiment': [{'ticker': 'NYT', 'relevance_score': '0.054359', 'ticker_sentiment_score': '-0.048829', 'ticker_sentiment_label': 'Neutral'}, {'ticker': 'GOOG', 'relevance_score': '0.054359', 'ticker_sentiment_score': '0.061169', 'ticker_sentiment_label': 'Neutral'}, {'ticker': 'META', 'relevance_score': '0.108466', 'ticker_sentiment_score': '0.070099', 'ticker_sentiment_label': 'Neutral'}, {'ticker': 'AAPL', 'relevance_score': '0.108466', 'ticker_sentiment_score': '0.070099', 'ticker_sentiment_label': 'Neutral'}, {'ticker': 'TSLA', 'relevance_score': '0.108466', 'ticker_sentiment_score': '0.253198', 'ticker_sentiment_label': 'Somewhat-Bullish'}, {'ticker': 'SVLPF', 'relevance_score': '0.054359', 'ticker_sentiment_score': '0.004993', 'ticker_sentiment_label': 'Neutral'}]}, {'title': 'Apple To Launch MR Headset After 7 Years In Development But Focus May Have Cost Innovation In Other Products, Gurman Says - Apple  ( NASDAQ:AAPL ) ', 'url': 'https://www.benzinga.com/news/23/01/30324282/apple-to-launch-mr-headset-after-7-years-in-development-but-the-focus-may-have-cost-innovation-in-ot', 'time_published': '20230108T221633', 'authors': ['Shanthi Rexaline'], 'summary': \"Apple, Inc.'sAAPL mixed reality headset, which has been in the works since 2017, could finally see the light of day this year.\", 'banner_image': 'https://cdn.benzinga.com/files/images/story/2023/01/08/apple_virtual.jpg?width=1200&height=800&fit=crop', 'source': 'Benzinga', 'category_within_source': 'News', 'source_domain': 'www.benzinga.com', 'topics': [{'topic': 'Technology', 'relevance_score': '1.0'}], 'overall_sentiment_score': 0.103426, 'overall_sentiment_label': 'Neutral', 'ticker_sentiment': [{'ticker': 'AAPL', 'relevance_score': '0.798255', 'ticker_sentiment_score': '0.076247', 'ticker_sentiment_label': 'Neutral'}]}, {'title': \"2 Top Stocks in Warren Buffett's Secret Portfolio to Buy Now and Hold Forever\", 'url': 'https://www.fool.com/investing/2023/01/08/2-stocks-in-warren-buffetts-portfolio-to-buy-now/', 'time_published': '20230108T131000', 'authors': ['Trevor Jennewine'], 'summary': 'These industry-leading growth stocks could make patient shareholders richer in the long run.', 'banner_image': 'https://g.foolcdn.com/image/?url=https%3A%2F%2Fg.foolcdn.com%2Feditorial%2Fimages%2F715457%2Fperson-sitting-at-a-desk-with-a-laptop-and-documents.jpg&op=resize&h=340', 'source': 'Motley Fool', 'category_within_source': 'n/a', 'source_domain': 'www.fool.com', 'topics': [{'topic': 'Technology', 'relevance_score': '0.25'}, {'topic': 'Finance', 'relevance_score': '0.25'}, {'topic': 'Economy - Monetary', 'relevance_score': '0.158519'}, {'topic': 'Retail & Wholesale', 'relevance_score': '0.25'}, {'topic': 'Financial Markets', 'relevance_score': '0.650727'}, {'topic': 'Manufacturing', 'relevance_score': '0.25'}, {'topic': 'Earnings', 'relevance_score': '0.108179'}], 'overall_sentiment_score': 0.212346, 'overall_sentiment_label': 'Somewhat-Bullish', 'ticker_sentiment': [{'ticker': 'FORR', 'relevance_score': '0.046724', 'ticker_sentiment_score': '0.073374', 'ticker_sentiment_label': 'Neutral'}, {'ticker': 'PYPL', 'relevance_score': '0.442082', 'ticker_sentiment_score': '0.166378', 'ticker_sentiment_label': 'Somewhat-Bullish'}, {'ticker': 'NVDA', 'relevance_score': '0.360752', 'ticker_sentiment_score': '0.158062', 'ticker_sentiment_label': 'Somewhat-Bullish'}, {'ticker': 'AAPL', 'relevance_score': '0.093289', 'ticker_sentiment_score': '0.02146', 'ticker_sentiment_label': 'Neutral'}, {'ticker': 'AMZN', 'relevance_score': '0.093289', 'ticker_sentiment_score': '0.02146', 'ticker_sentiment_label': 'Neutral'}, {'ticker': 'BRK-A', 'relevance_score': '0.046724', 'ticker_sentiment_score': '0.039657', 'ticker_sentiment_label': 'Neutral'}]}, {'title': 'Can Shiba Inu Reach $1 in 2023?', 'url': 'https://www.fool.com/investing/2023/01/08/can-shiba-inu-reach-1-in-2023/', 'time_published': '20230108T123000', 'authors': ['Neil Patel'], 'summary': 'This meme coin is down a whopping 90% from its peak.', 'banner_image': 'https://g.foolcdn.com/image/?url=https%3A%2F%2Fg.foolcdn.com%2Feditorial%2Fimages%2F715457%2Fperson-sitting-at-a-desk-with-a-laptop-and-documents.jpg&op=resize&h=340', 'source': 'Motley Fool', 'category_within_source': 'n/a', 'source_domain': 'www.fool.com', 'topics': [{'topic': 'Technology', 'relevance_score': '1.0'}, {'topic': 'Blockchain', 'relevance_score': '0.451494'}, {'topic': 'Financial Markets', 'relevance_score': '0.360215'}], 'overall_sentiment_score': 0.20584, 'overall_sentiment_label': 'Somewhat-Bullish', 'ticker_sentiment': [{'ticker': 'AAPL', 'relevance_score': '0.072217', 'ticker_sentiment_score': '0.013396', 'ticker_sentiment_label': 'Neutral'}, {'ticker': 'CRYPTO:BTC', 'relevance_score': '0.143843', 'ticker_sentiment_score': '0.179151', 'ticker_sentiment_label': 'Somewhat-Bullish'}, {'ticker': 'CRYPTO:ETH', 'relevance_score': '0.28305', 'ticker_sentiment_score': '0.36496', 'ticker_sentiment_label': 'Bullish'}, {'ticker': 'CRYPTO:SHIB', 'relevance_score': '0.852984', 'ticker_sentiment_score': '0.285624', 'ticker_sentiment_label': 'Somewhat-Bullish'}, {'ticker': 'CRYPTO:DOGE', 'relevance_score': '0.143843', 'ticker_sentiment_score': '-0.016746', 'ticker_sentiment_label': 'Neutral'}]}, {'title': 'Top Wall Street analysts pick these stocks to celebrate the new year', 'url': 'https://www.cnbc.com/2023/01/08/top-wall-street-analysts-say-buy-stocks-like-apple-and-bumble.html', 'time_published': '20230108T122941', 'authors': ['Tipranks.com Staff'], 'summary': \"TipRanks analyst ranking service pinpoints Wall Street's best-performing stocks, including Apple and Bumble.\", 'banner_image': 'https://image.cnbcfm.com/api/v1/image/106903744-16249186632021-06-28t215230z_1707542565_rc2x9o9wye0g_rtrmadp_0_usa-banks-capital.jpeg?v=1673097597', 'source': 'CNBC', 'category_within_source': 'Investing', 'source_domain': 'www.cnbc.com', 'topics': [{'topic': 'Energy & Transportation', 'relevance_score': '0.5'}, {'topic': 'Technology', 'relevance_score': '0.5'}, {'topic': 'Financial Markets', 'relevance_score': '0.929393'}], 'overall_sentiment_score': 0.358923, 'overall_sentiment_label': 'Bullish', 'ticker_sentiment': [{'ticker': 'MSFT', 'relevance_score': '0.070207', 'ticker_sentiment_score': '0.087844', 'ticker_sentiment_label': 'Neutral'}, {'ticker': 'GOOG', 'relevance_score': '0.070207', 'ticker_sentiment_score': '0.082594', 'ticker_sentiment_label': 'Neutral'}, {'ticker': 'META', 'relevance_score': '0.070207', 'ticker_sentiment_score': '0.087844', 'ticker_sentiment_label': 'Neutral'}, {'ticker': 'AAPL', 'relevance_score': '0.208464', 'ticker_sentiment_score': '0.114588', 'ticker_sentiment_label': 'Neutral'}, {'ticker': 'DV', 'relevance_score': '0.174335', 'ticker_sentiment_score': '0.175541', 'ticker_sentiment_label': 'Somewhat-Bullish'}, {'ticker': 'PERI', 'relevance_score': '0.105141', 'ticker_sentiment_score': '0.150256', 'ticker_sentiment_label': 'Somewhat-Bullish'}, {'ticker': 'BMBL', 'relevance_score': '0.275479', 'ticker_sentiment_score': '0.409814', 'ticker_sentiment_label': 'Bullish'}, {'ticker': 'BKNG', 'relevance_score': '0.174335', 'ticker_sentiment_score': '-0.05236', 'ticker_sentiment_label': 'Neutral'}]}, {'title': '12 Stock Market Predictions for 2023', 'url': 'https://www.fool.com/investing/2023/01/08/12-stock-market-predictions-for-2023/', 'time_published': '20230108T100600', 'authors': ['Sean Williams'], 'summary': \"Here's what you can expect from the U.S. economy, the stock market, and some of the most widely held companies in the new year.\", 'banner_image': 'https://g.foolcdn.com/image/?url=https%3A%2F%2Fg.foolcdn.com%2Feditorial%2Fimages%2F715344%2Fbear-market-stock-chart-quarter-report-financial-metrics-invest-getty.jpg&op=resize&w=700', 'source': 'Motley Fool', 'category_within_source': 'n/a', 'source_domain': 'www.fool.com', 'topics': [{'topic': 'Life Sciences', 'relevance_score': '0.25'}, {'topic': 'Technology', 'relevance_score': '0.25'}, {'topic': 'Economy - Monetary', 'relevance_score': '0.999989'}, {'topic': 'Financial Markets', 'relevance_score': '1.0'}, {'topic': 'Manufacturing', 'relevance_score': '0.25'}, {'topic': 'Earnings', 'relevance_score': '0.158519'}, {'topic': 'Real Estate & Construction', 'relevance_score': '0.25'}], 'overall_sentiment_score': -0.041978, 'overall_sentiment_label': 'Neutral', 'ticker_sentiment': [{'ticker': 'AAPL', 'relevance_score': '0.096477', 'ticker_sentiment_score': '-0.028611', 'ticker_sentiment_label': 'Neutral'}, {'ticker': 'TSLA', 'relevance_score': '0.144275', 'ticker_sentiment_score': '-0.051238', 'ticker_sentiment_label': 'Neutral'}, {'ticker': 'AGNC', 'relevance_score': '0.024175', 'ticker_sentiment_score': '0.094919', 'ticker_sentiment_label': 'Neutral'}, {'ticker': 'BIDU', 'relevance_score': '0.024175', 'ticker_sentiment_score': '0.187647', 'ticker_sentiment_label': 'Somewhat-Bullish'}, {'ticker': 'TM', 'relevance_score': '0.024175', 'ticker_sentiment_score': '0.0', 'ticker_sentiment_label': 'Neutral'}, {'ticker': 'NHPEF', 'relevance_score': '0.024175', 'ticker_sentiment_score': '0.059963', 'ticker_sentiment_label': 'Neutral'}, {'ticker': 'NLY', 'relevance_score': '0.024175', 'ticker_sentiment_score': '0.094919', 'ticker_sentiment_label': 'Neutral'}, {'ticker': 'AWON', 'relevance_score': '0.024175', 'ticker_sentiment_score': '0.0', 'ticker_sentiment_label': 'Neutral'}, {'ticker': 'HCSG', 'relevance_score': '0.024175', 'ticker_sentiment_score': '-0.066343', 'ticker_sentiment_label': 'Neutral'}]}, {'title': 'Cathie Wood Sees Tesla Stock Hitting $500 By 2026 Even Without Autonomous Driving & Ride-Hailing Service - Tesla  ( NASDAQ:TSLA ) ', 'url': 'https://www.benzinga.com/analyst-ratings/analyst-color/23/01/30322188/cathie-wood-sees-tesla-stock-hitting-500-by-2026-even-without-autonomous-driving-ri', 'time_published': '20230107T224913', 'authors': ['Shanthi Rexaline'], 'summary': \"Tesla, Inc. TSLA bull Cathie Wood-run Ark Invest on Friday gave a new perspective on the firm's long-term price target for the stock of the electric vehicle maker. What Happened: Ark's 2026 price target for Tesla stock would be about $500 per share, based on its EV business alone, the firm's ...\", 'banner_image': 'https://cdn.benzinga.com/files/images/story/2023/01/07/tesla_shutter2.jpg?width=1200&height=800&fit=crop', 'source': 'Benzinga', 'category_within_source': 'Trading', 'source_domain': 'www.benzinga.com', 'topics': [{'topic': 'Technology', 'relevance_score': '0.5'}, {'topic': 'Financial Markets', 'relevance_score': '0.214378'}, {'topic': 'Manufacturing', 'relevance_score': '0.5'}], 'overall_sentiment_score': 0.09962, 'overall_sentiment_label': 'Neutral', 'ticker_sentiment': [{'ticker': 'AAPL', 'relevance_score': '0.167322', 'ticker_sentiment_score': '0.080079', 'ticker_sentiment_label': 'Neutral'}, {'ticker': 'NOK', 'relevance_score': '0.084127', 'ticker_sentiment_score': '0.060327', 'ticker_sentiment_label': 'Neutral'}, {'ticker': 'TSLA', 'relevance_score': '0.47379', 'ticker_sentiment_score': '0.149347', 'ticker_sentiment_label': 'Neutral'}]}, {'title': \"Apple Co-Founder Says Many Cryptocurrencies Are 'Rip-Offs' But Only One Is 'Pure Gold' - Bitcoin  ( BTC/USD ) \", 'url': 'https://www.benzinga.com/markets/cryptocurrency/22/03/26011718/apple-co-founder-says-many-cryptocurrencies-are-rip-offs-but-only-one-is-pure-gold-3', 'time_published': '20230107T222700', 'authors': ['Madhukumar Warrier'], 'summary': 'Apple Inc. AAPL co-founder Steve Wozniak has described Bitcoin BTC/USD as the only cryptocurrency that\\'s \"pure-gold mathematics.\" What Happened: Wozniak made the comments about Bitcoin in an interview with Business Insider in March 2022, adding that many cryptocurrencies are untrustworthy and ...', 'banner_image': 'https://cdn.benzinga.com/files/images/story/2012/37411434500_0137b46a26_c.jpg?width=1200&height=800&fit=crop', 'source': 'Benzinga', 'category_within_source': 'Trading', 'source_domain': 'www.benzinga.com', 'topics': [{'topic': 'Technology', 'relevance_score': '1.0'}, {'topic': 'Blockchain', 'relevance_score': '0.928139'}, {'topic': 'Financial Markets', 'relevance_score': '0.360215'}], 'overall_sentiment_score': 0.110919, 'overall_sentiment_label': 'Neutral', 'ticker_sentiment': [{'ticker': 'AAPL', 'relevance_score': '0.468029', 'ticker_sentiment_score': '0.0', 'ticker_sentiment_label': 'Neutral'}, {'ticker': 'CRYPTO:BTC', 'relevance_score': '0.595343', 'ticker_sentiment_score': '0.446765', 'ticker_sentiment_label': 'Bullish'}]}, {'title': \"If You Invested $1,000 In Apple Stock When Donald Trump Sold, Here's The 'YUGE' Return You Would Have Today - Apple  ( NASDAQ:AAPL ) \", 'url': 'https://www.benzinga.com/news/23/01/30322298/if-you-invested-1-000-in-apple-stock-when-donald-trump-sold-heres-the-yuge-return-you-would-have-tod', 'time_published': '20230107T214613', 'authors': ['Chris Katje'], 'summary': 'Former President Donald Trump is no stranger to being outspoken and sharing his opinions on a range of topics. A study showed that Trump once tweeted 5,293 times in a 12-month period, ranking first among world leaders.', 'banner_image': 'https://cdn.benzinga.com/files/images/story/2023/01/07/trump_apple.jpg?width=1200&height=800&fit=crop', 'source': 'Benzinga', 'category_within_source': 'General', 'source_domain': 'www.benzinga.com', 'topics': [{'topic': 'Technology', 'relevance_score': '1.0'}, {'topic': 'Financial Markets', 'relevance_score': '0.990999'}], 'overall_sentiment_score': 0.243741, 'overall_sentiment_label': 'Somewhat-Bullish', 'ticker_sentiment': [{'ticker': 'SSNLF', 'relevance_score': '0.205807', 'ticker_sentiment_score': '-0.057426', 'ticker_sentiment_label': 'Neutral'}, {'ticker': 'META', 'relevance_score': '0.103778', 'ticker_sentiment_score': '0.155051', 'ticker_sentiment_label': 'Somewhat-Bullish'}, {'ticker': 'AAPL', 'relevance_score': '0.882468', 'ticker_sentiment_score': '0.252855', 'ticker_sentiment_label': 'Somewhat-Bullish'}, {'ticker': 'DWAC', 'relevance_score': '0.205807', 'ticker_sentiment_score': '0.230692', 'ticker_sentiment_label': 'Somewhat-Bullish'}]}, {'title': \"Apple, Tesla, Netflix, Microsoft And A Critic Calls Bitcoin A 'Magnet For Idiots': Bulls And Bears Of The Week - Microsoft  ( NASDAQ:MSFT ) \", 'url': 'https://www.benzinga.com/news/large-cap/23/01/30315906/bulls-and-bears-of-the-week-apple-tesla-netflix-microsoft-and-a-critic-calls-bitcoin-a-magnet-for-', 'time_published': '20230107T203416', 'authors': ['Michael Cohen'], 'summary': \"Benzinga examined the prospects for many investors' favorite stocks over the last week - here's a look at some of our top stories. After showing uncertainty at the start of the week, the three major indexes finished strong on Friday.\", 'banner_image': 'https://cdn.benzinga.com/files/images/story/2023/01/06/bulls_bears3.png?width=1200&height=800&fit=crop', 'source': 'Benzinga', 'category_within_source': 'Trading', 'source_domain': 'www.benzinga.com', 'topics': [{'topic': 'Economy - Monetary', 'relevance_score': '0.310843'}, {'topic': 'Financial Markets', 'relevance_score': '0.316726'}, {'topic': 'Manufacturing', 'relevance_score': '0.5'}, {'topic': 'Technology', 'relevance_score': '0.5'}], 'overall_sentiment_score': 0.077978, 'overall_sentiment_label': 'Neutral', 'ticker_sentiment': [{'ticker': 'MSFT', 'relevance_score': '0.15347', 'ticker_sentiment_score': '-0.020781', 'ticker_sentiment_label': 'Neutral'}, {'ticker': 'NFLX', 'relevance_score': '0.228431', 'ticker_sentiment_score': '-0.303711', 'ticker_sentiment_label': 'Somewhat-Bearish'}, {'ticker': 'AAPL', 'relevance_score': '0.228431', 'ticker_sentiment_score': '0.300431', 'ticker_sentiment_label': 'Somewhat-Bullish'}, {'ticker': 'TSLA', 'relevance_score': '0.228431', 'ticker_sentiment_score': '-0.29754', 'ticker_sentiment_label': 'Somewhat-Bearish'}, {'ticker': 'CRYPTO:BTC', 'relevance_score': '0.228431', 'ticker_sentiment_score': '-0.326538', 'ticker_sentiment_label': 'Somewhat-Bearish'}, {'ticker': 'CRYPTO:SHIB', 'relevance_score': '0.228431', 'ticker_sentiment_score': '0.255731', 'ticker_sentiment_label': 'Somewhat-Bullish'}, {'ticker': 'CRYPTO:DOGE', 'relevance_score': '0.228431', 'ticker_sentiment_score': '0.255731', 'ticker_sentiment_label': 'Somewhat-Bullish'}]}, {'title': 'EXCLUSIVE: Will Alphabet, Amazon, Apple Or Tesla See Biggest Increase In 2023? 44% Of Followers Picked This Stock - SPDR S&P 500  ( ARCA:SPY ) ', 'url': 'https://www.benzinga.com/news/23/01/30319472/exclusive-will-alphabet-amazon-apple-or-tesla-see-biggest-increase-in-2023-44-of-benzinga-followers', 'time_published': '20230107T192202', 'authors': ['Chris Katje'], 'summary': 'The stock market had a rough year in 2022 with many top indexes seeing decade lows. Many large-cap technology stocks were among the biggest losers of the year. To kick off 2023, Benzinga polled its followers to see which popular stock might have the best 2023.', 'banner_image': 'https://cdn.benzinga.com/files/images/story/2023/01/07/amazon_apple_tesla_alphabet_chart_shutter.jpg?width=1200&height=800&fit=crop', 'source': 'Benzinga', 'category_within_source': 'Trading', 'source_domain': 'www.benzinga.com', 'topics': [{'topic': 'IPO', 'relevance_score': '0.158519'}, {'topic': 'Retail & Wholesale', 'relevance_score': '0.333333'}, {'topic': 'Financial Markets', 'relevance_score': '0.99793'}, {'topic': 'Manufacturing', 'relevance_score': '0.333333'}, {'topic': 'Technology', 'relevance_score': '0.333333'}], 'overall_sentiment_score': 0.0, 'overall_sentiment_label': 'Neutral', 'ticker_sentiment': [{'ticker': 'AAPL', 'relevance_score': '0.213048', 'ticker_sentiment_score': '-0.042165', 'ticker_sentiment_label': 'Neutral'}, {'ticker': 'AMZN', 'relevance_score': '0.107495', 'ticker_sentiment_score': '-0.110521', 'ticker_sentiment_label': 'Neutral'}, {'ticker': 'TSLA', 'relevance_score': '0.411176', 'ticker_sentiment_score': '0.112399', 'ticker_sentiment_label': 'Neutral'}]}, {'title': 'Dozens in Congress beat stock market in 2022 despite downturn on Wall Street: analysis', 'url': 'https://www.marketwatch.com/story/dozens-in-congress-beat-stock-market-in-2022-despite-downturn-on-wall-street-analysis-11673115066', 'time_published': '20230107T181100', 'authors': ['Lydia Moynihan Rich Calder'], 'summary': 'More than two dozen members of Congress beat the stock market despite Wall Street suffering its worst year since 2008, according to an analysis by a popular stock-trading news site.', 'banner_image': 'https://images.mktw.net/im-699266/social', 'source': 'MarketWatch', 'category_within_source': 'Top Stories', 'source_domain': 'www.marketwatch.com', 'topics': [{'topic': 'Life Sciences', 'relevance_score': '0.2'}, {'topic': 'Energy & Transportation', 'relevance_score': '0.2'}, {'topic': 'Technology', 'relevance_score': '0.2'}, {'topic': 'Economy - Monetary', 'relevance_score': '0.158519'}, {'topic': 'Retail & Wholesale', 'relevance_score': '0.2'}, {'topic': 'Financial Markets', 'relevance_score': '0.99999'}, {'topic': 'Manufacturing', 'relevance_score': '0.2'}], 'overall_sentiment_score': 0.076829, 'overall_sentiment_label': 'Neutral', 'ticker_sentiment': [{'ticker': 'MSFT', 'relevance_score': '0.12165', 'ticker_sentiment_score': '0.067082', 'ticker_sentiment_label': 'Neutral'}, {'ticker': 'GOOG', 'relevance_score': '0.12165', 'ticker_sentiment_score': '0.067082', 'ticker_sentiment_label': 'Neutral'}, {'ticker': 'META', 'relevance_score': '0.081276', 'ticker_sentiment_score': '0.128504', 'ticker_sentiment_label': 'Neutral'}, {'ticker': 'NVDA', 'relevance_score': '0.12165', 'ticker_sentiment_score': '-0.002338', 'ticker_sentiment_label': 'Neutral'}, {'ticker': 'AAPL', 'relevance_score': '0.12165', 'ticker_sentiment_score': '0.067082', 'ticker_sentiment_label': 'Neutral'}, {'ticker': 'TSLA', 'relevance_score': '0.081276', 'ticker_sentiment_score': '-0.002062', 'ticker_sentiment_label': 'Neutral'}, {'ticker': 'V', 'relevance_score': '0.081276', 'ticker_sentiment_score': '-0.002062', 'ticker_sentiment_label': 'Neutral'}, {'ticker': 'LLY', 'relevance_score': '0.081276', 'ticker_sentiment_score': '-0.002062', 'ticker_sentiment_label': 'Neutral'}, {'ticker': 'PTEN', 'relevance_score': '0.081276', 'ticker_sentiment_score': '0.235694', 'ticker_sentiment_label': 'Somewhat-Bullish'}, {'ticker': 'RBLX', 'relevance_score': '0.081276', 'ticker_sentiment_score': '0.047802', 'ticker_sentiment_label': 'Neutral'}, {'ticker': 'AMZN', 'relevance_score': '0.081276', 'ticker_sentiment_score': '0.128504', 'ticker_sentiment_label': 'Neutral'}]}, {'title': 'A Fresh Face-Off on the Market Cap Game Show', 'url': 'https://www.fool.com/investing/2023/01/07/a-fresh-face-off-on-the-market-cap-game-show/', 'time_published': '20230107T164300', 'authors': ['Motley Fool Staff'], 'summary': 'A market cap game with the \"Rule Breaker Investing\" podcast.', 'banner_image': 'https://g.foolcdn.com/image/?url=https%3A%2F%2Fg.foolcdn.com%2Feditorial%2Fimages%2F715209%2Fjoe-biden-speech-white-house-photo-by-adam-schultz.jpg&op=resize&h=340', 'source': 'Motley Fool', 'category_within_source': 'n/a', 'source_domain': 'www.fool.com', 'topics': [{'topic': 'Life Sciences', 'relevance_score': '0.2'}, {'topic': 'Energy & Transportation', 'relevance_score': '0.2'}, {'topic': 'Technology', 'relevance_score': '0.2'}, {'topic': 'IPO', 'relevance_score': '0.451494'}, {'topic': 'Retail & Wholesale', 'relevance_score': '0.2'}, {'topic': 'Financial Markets', 'relevance_score': '1.0'}, {'topic': 'Manufacturing', 'relevance_score': '0.2'}], 'overall_sentiment_score': 0.157481, 'overall_sentiment_label': 'Somewhat-Bullish', 'ticker_sentiment': [{'ticker': 'PYPL', 'relevance_score': '0.006706', 'ticker_sentiment_score': '-0.018856', 'ticker_sentiment_label': 'Neutral'}, {'ticker': 'GOOG', 'relevance_score': '0.006706', 'ticker_sentiment_score': '0.056449', 'ticker_sentiment_label': 'Neutral'}, {'ticker': 'META', 'relevance_score': '0.006706', 'ticker_sentiment_score': '0.034565', 'ticker_sentiment_label': 'Neutral'}, {'ticker': 'AAPL', 'relevance_score': '0.013411', 'ticker_sentiment_score': '0.011974', 'ticker_sentiment_label': 'Neutral'}, {'ticker': 'CRWD', 'relevance_score': '0.003353', 'ticker_sentiment_score': '0.116418', 'ticker_sentiment_label': 'Neutral'}, {'ticker': 'ULTA', 'relevance_score': '0.026818', 'ticker_sentiment_score': '0.061656', 'ticker_sentiment_label': 'Neutral'}, {'ticker': 'OSK', 'relevance_score': '0.016763', 'ticker_sentiment_score': '0.034719', 'ticker_sentiment_label': 'Neutral'}, {'ticker': 'HCA', 'relevance_score': '0.026818', 'ticker_sentiment_score': '0.062988', 'ticker_sentiment_label': 'Neutral'}, {'ticker': 'MSFT', 'relevance_score': '0.006706', 'ticker_sentiment_score': '0.0', 'ticker_sentiment_label': 'Neutral'}, {'ticker': 'WSM', 'relevance_score': '0.003353', 'ticker_sentiment_score': '-0.034536', 'ticker_sentiment_label': 'Neutral'}, {'ticker': 'NCNO', 'relevance_score': '0.036869', 'ticker_sentiment_score': '0.0853', 'ticker_sentiment_label': 'Neutral'}, {'ticker': 'ETSY', 'relevance_score': '0.006706', 'ticker_sentiment_score': '0.062073', 'ticker_sentiment_label': 'Neutral'}, {'ticker': 'UNP', 'relevance_score': '0.003353', 'ticker_sentiment_score': '0.012397', 'ticker_sentiment_label': 'Neutral'}, {'ticker': 'ZS', 'relevance_score': '0.040218', 'ticker_sentiment_score': '0.028597', 'ticker_sentiment_label': 'Neutral'}, {'ticker': 'CRI', 'relevance_score': '0.040218', 'ticker_sentiment_score': '0.040994', 'ticker_sentiment_label': 'Neutral'}, {'ticker': 'SQ', 'relevance_score': '0.043566', 'ticker_sentiment_score': '0.036428', 'ticker_sentiment_label': 'Neutral'}]}, {'title': 'Everyone Is Talking About This Stock. Is It a Good Long-Term Option?', 'url': 'https://www.fool.com/investing/2023/01/07/everyone-is-talking-about-this-stock-is-it-a-buy/', 'time_published': '20230107T151500', 'authors': ['Neil Patel'], 'summary': 'Shares were down in 2022 for this streaming business, and shareholders are rightfully thinking about what to do.', 'banner_image': 'https://g.foolcdn.com/image/?url=https%3A%2F%2Fg.foolcdn.com%2Feditorial%2Fimages%2F715209%2Fjoe-biden-speech-white-house-photo-by-adam-schultz.jpg&op=resize&h=340', 'source': 'Motley Fool', 'category_within_source': 'n/a', 'source_domain': 'www.fool.com', 'topics': [{'topic': 'Economy - Monetary', 'relevance_score': '0.310843'}, {'topic': 'Retail & Wholesale', 'relevance_score': '0.5'}, {'topic': 'Financial Markets', 'relevance_score': '0.214378'}, {'topic': 'Earnings', 'relevance_score': '0.495866'}, {'topic': 'Technology', 'relevance_score': '0.5'}], 'overall_sentiment_score': 0.184111, 'overall_sentiment_label': 'Somewhat-Bullish', 'ticker_sentiment': [{'ticker': 'NFLX', 'relevance_score': '0.061159', 'ticker_sentiment_score': '0.214134', 'ticker_sentiment_label': 'Somewhat-Bullish'}, {'ticker': 'META', 'relevance_score': '0.061159', 'ticker_sentiment_score': '-0.03208', 'ticker_sentiment_label': 'Neutral'}, {'ticker': 'ROKU', 'relevance_score': '0.750225', 'ticker_sentiment_score': '0.332904', 'ticker_sentiment_label': 'Somewhat-Bullish'}, {'ticker': 'AAPL', 'relevance_score': '0.061159', 'ticker_sentiment_score': '0.030083', 'ticker_sentiment_label': 'Neutral'}, {'ticker': 'AMZN', 'relevance_score': '0.121959', 'ticker_sentiment_score': '0.05044', 'ticker_sentiment_label': 'Neutral'}]}, {'title': '3 Apple Stock Predictions for 2023', 'url': 'https://www.fool.com/investing/2023/01/07/3-apple-stock-predictions-for-2023/', 'time_published': '20230107T140000', 'authors': ['Danny Vena'], 'summary': \"Even the Magic 8 Ball couldn't have predicted the events of 2022. Let's see if this year will be any different.\", 'banner_image': 'https://g.foolcdn.com/image/?url=https%3A%2F%2Fg.foolcdn.com%2Feditorial%2Fimages%2F715491%2Fapple-iphone-14-pro-iphone-14-pro-max-hero-220907.jpg&op=resize&w=700', 'source': 'Motley Fool', 'category_within_source': 'n/a', 'source_domain': 'www.fool.com', 'topics': [{'topic': 'Economy - Monetary', 'relevance_score': '0.158519'}, {'topic': 'Financial Markets', 'relevance_score': '0.266143'}, {'topic': 'Earnings', 'relevance_score': '0.962106'}, {'topic': 'Technology', 'relevance_score': '1.0'}], 'overall_sentiment_score': 0.135688, 'overall_sentiment_label': 'Neutral', 'ticker_sentiment': [{'ticker': 'SSNLF', 'relevance_score': '0.185306', 'ticker_sentiment_score': '0.115896', 'ticker_sentiment_label': 'Neutral'}, {'ticker': 'AAPL', 'relevance_score': '0.872351', 'ticker_sentiment_score': '0.252004', 'ticker_sentiment_label': 'Somewhat-Bullish'}]}, {'title': \"You're Thinking About Going to the Gym, but Are You Thinking About Investing in It?\", 'url': 'https://www.fool.com/investing/2023/01/07/youre-thinking-about-going-to-the-gym-but-are-you/', 'time_published': '20230107T130000', 'authors': ['Asit Sharma', 'Chris Hill', 'Jason Moser', 'and Dylan Lewis'], 'summary': 'And we chat about new questions to ask about growth stocks.', 'banner_image': 'https://g.foolcdn.com/image/?url=https%3A%2F%2Fg.foolcdn.com%2Feditorial%2Fimages%2F715511%2Frobot-with-laptop-counting-coins-by-a-window-with-skyscraper-view.jpg&op=resize&h=340', 'source': 'Motley Fool', 'category_within_source': 'n/a', 'source_domain': 'www.fool.com', 'topics': [{'topic': 'Economy - Monetary', 'relevance_score': '0.451494'}, {'topic': 'Retail & Wholesale', 'relevance_score': '0.333333'}, {'topic': 'Financial Markets', 'relevance_score': '1.0'}, {'topic': 'Earnings', 'relevance_score': '0.980922'}, {'topic': 'Energy & Transportation', 'relevance_score': '0.333333'}, {'topic': 'Technology', 'relevance_score': '0.333333'}], 'overall_sentiment_score': 0.203485, 'overall_sentiment_label': 'Somewhat-Bullish', 'ticker_sentiment': [{'ticker': 'META', 'relevance_score': '0.018187', 'ticker_sentiment_score': '0.068771', 'ticker_sentiment_label': 'Neutral'}, {'ticker': 'AAPL', 'relevance_score': '0.009094', 'ticker_sentiment_score': '0.088578', 'ticker_sentiment_label': 'Neutral'}, {'ticker': 'CRWD', 'relevance_score': '0.045448', 'ticker_sentiment_score': '0.141921', 'ticker_sentiment_label': 'Neutral'}, {'ticker': 'PLNT', 'relevance_score': '0.090748', 'ticker_sentiment_score': '0.087773', 'ticker_sentiment_label': 'Neutral'}, {'ticker': 'FDX', 'relevance_score': '0.009094', 'ticker_sentiment_score': '0.040135', 'ticker_sentiment_label': 'Neutral'}, {'ticker': 'UBER', 'relevance_score': '0.009094', 'ticker_sentiment_score': '0.116271', 'ticker_sentiment_label': 'Neutral'}, {'ticker': 'AMZN', 'relevance_score': '0.045448', 'ticker_sentiment_score': '0.042678', 'ticker_sentiment_label': 'Neutral'}]}, {'title': 'Qualcomm Stock: Bear vs. Bull', 'url': 'https://www.fool.com/investing/2023/01/07/qualcomm-stock-bear-vs-bull/', 'time_published': '20230107T130000', 'authors': ['Leo Sun'], 'summary': 'The mobile chipmaker could be a divisive investment in 2023.', 'banner_image': 'https://g.foolcdn.com/image/?url=https%3A%2F%2Fg.foolcdn.com%2Feditorial%2Fimages%2F715358%2Fwoman-check-phone.jpg&op=resize&w=700', 'source': 'Motley Fool', 'category_within_source': 'n/a', 'source_domain': 'www.fool.com', 'topics': [{'topic': 'Financial Markets', 'relevance_score': '0.365926'}, {'topic': 'Manufacturing', 'relevance_score': '0.5'}, {'topic': 'Earnings', 'relevance_score': '0.99793'}, {'topic': 'Technology', 'relevance_score': '0.5'}], 'overall_sentiment_score': 0.040533, 'overall_sentiment_label': 'Neutral', 'ticker_sentiment': [{'ticker': 'QCOM', 'relevance_score': '0.547774', 'ticker_sentiment_score': '0.074237', 'ticker_sentiment_label': 'Neutral'}, {'ticker': 'AAPL', 'relevance_score': '0.162437', 'ticker_sentiment_score': '-0.044585', 'ticker_sentiment_label': 'Neutral'}]}, {'title': \"1 Unstoppable Vanguard ETF I'm Stocking Up on in 2023\", 'url': 'https://www.fool.com/investing/2023/01/07/1-unstoppable-vanguard-etf-im-stocking-up-on-2023/', 'time_published': '20230107T124500', 'authors': ['Katie Brockman'], 'summary': 'This ETF could have a lot of potential in 2023 and beyond.', 'banner_image': 'https://media.ycharts.com/charts/43d38d3c044ccf43c869d2502497becd.png', 'source': 'Motley Fool', 'category_within_source': 'n/a', 'source_domain': 'www.fool.com', 'topics': [{'topic': 'Retail & Wholesale', 'relevance_score': '0.5'}, {'topic': 'Technology', 'relevance_score': '0.5'}, {'topic': 'Financial Markets', 'relevance_score': '0.999999'}], 'overall_sentiment_score': 0.201854, 'overall_sentiment_label': 'Somewhat-Bullish', 'ticker_sentiment': [{'ticker': 'MSFT', 'relevance_score': '0.063425', 'ticker_sentiment_score': '0.0', 'ticker_sentiment_label': 'Neutral'}, {'ticker': 'AAPL', 'relevance_score': '0.063425', 'ticker_sentiment_score': '0.0', 'ticker_sentiment_label': 'Neutral'}, {'ticker': 'AMZN', 'relevance_score': '0.063425', 'ticker_sentiment_score': '0.0', 'ticker_sentiment_label': 'Neutral'}]}, {'title': '3 Compelling Reasons Why Amazon Stock Is a Smarter Pick Than Apple in 2023', 'url': 'https://www.fool.com/investing/2023/01/07/3-compelling-reasons-why-amazon-stock-is-a-smarter/', 'time_published': '20230107T105000', 'authors': ['Keith Speights'], 'summary': 'Both of these stocks should remain winners over the long run. But Amazon has some near-term advantages.', 'banner_image': 'https://g.foolcdn.com/image/?url=https%3A%2F%2Fg.foolcdn.com%2Feditorial%2Fimages%2F715511%2Frobot-with-laptop-counting-coins-by-a-window-with-skyscraper-view.jpg&op=resize&h=340', 'source': 'Motley Fool', 'category_within_source': 'n/a', 'source_domain': 'www.fool.com', 'topics': [{'topic': 'Technology', 'relevance_score': '0.25'}, {'topic': 'Finance', 'relevance_score': '0.25'}, {'topic': 'Economy - Monetary', 'relevance_score': '0.158519'}, {'topic': 'Retail & Wholesale', 'relevance_score': '0.25'}, {'topic': 'Financial Markets', 'relevance_score': '0.316726'}, {'topic': 'Manufacturing', 'relevance_score': '0.25'}, {'topic': 'Earnings', 'relevance_score': '0.310843'}], 'overall_sentiment_score': 0.190257, 'overall_sentiment_label': 'Somewhat-Bullish', 'ticker_sentiment': [{'ticker': 'IRBT', 'relevance_score': '0.063933', 'ticker_sentiment_score': '0.240512', 'ticker_sentiment_label': 'Somewhat-Bullish'}, {'ticker': 'AAPL', 'relevance_score': '0.664235', 'ticker_sentiment_score': '0.45749', 'ticker_sentiment_label': 'Bullish'}, {'ticker': 'AMZN', 'relevance_score': '0.827318', 'ticker_sentiment_score': '0.370959', 'ticker_sentiment_label': 'Bullish'}, {'ticker': 'BRK-A', 'relevance_score': '0.063933', 'ticker_sentiment_score': '0.094065', 'ticker_sentiment_label': 'Neutral'}]}, {'title': 'Better Buy: Tesla vs. Apple', 'url': 'https://www.fool.com/investing/2023/01/07/better-buy-tesla-vs-apple-2023-stock/', 'time_published': '20230107T100500', 'authors': ['Daniel Foelber and Howard Smith'], 'summary': 'These once red-hot stocks are now hovering around their 52-week lows.', 'banner_image': 'https://g.foolcdn.com/image/?url=https%3A%2F%2Fg.foolcdn.com%2Feditorial%2Fimages%2F715210%2Fgettyimages-1321462048.jpg&op=resize&w=700', 'source': 'Motley Fool', 'category_within_source': 'n/a', 'source_domain': 'www.fool.com', 'topics': [{'topic': 'Financial Markets', 'relevance_score': '1.0'}, {'topic': 'Manufacturing', 'relevance_score': '0.5'}, {'topic': 'Earnings', 'relevance_score': '0.576289'}, {'topic': 'Technology', 'relevance_score': '0.5'}], 'overall_sentiment_score': 0.167229, 'overall_sentiment_label': 'Somewhat-Bullish', 'ticker_sentiment': [{'ticker': 'MSFT', 'relevance_score': '0.256538', 'ticker_sentiment_score': '0.103859', 'ticker_sentiment_label': 'Neutral'}, {'ticker': 'AAPL', 'relevance_score': '0.673811', 'ticker_sentiment_score': '0.297595', 'ticker_sentiment_label': 'Somewhat-Bullish'}, {'ticker': 'TSLA', 'relevance_score': '0.790356', 'ticker_sentiment_score': '0.257066', 'ticker_sentiment_label': 'Somewhat-Bullish'}, {'ticker': 'DSSMY', 'relevance_score': '0.043499', 'ticker_sentiment_score': '0.1447', 'ticker_sentiment_label': 'Neutral'}]}, {'title': 'Taiwan exports fall for 4th month in December, decline seen extending into Q1', 'url': 'https://www.reuters.com/markets/asia/taiwan-exports-fall-4th-month-december-decline-seen-extending-into-q1-2023-01-07/', 'time_published': '20230107T090800', 'authors': ['Reuters'], 'summary': 'Taiwan exports fall for 4th month in December, decline seen ... ...', 'banner_image': 'https://cloudfront-us-east-2.images.arcpublishing.com/reuters/CXEEMZLXPNIVJI2FDPM2J6F3ME.jpg', 'source': 'Reuters', 'category_within_source': 'Markets', 'source_domain': 'www.reuters.com', 'topics': [{'topic': 'Economy - Monetary', 'relevance_score': '0.310843'}, {'topic': 'Technology', 'relevance_score': '1.0'}], 'overall_sentiment_score': -0.18391, 'overall_sentiment_label': 'Somewhat-Bearish', 'ticker_sentiment': [{'ticker': 'AAPL', 'relevance_score': '0.097062', 'ticker_sentiment_score': '0.063135', 'ticker_sentiment_label': 'Neutral'}]}, {'title': \"Why Apple Stock Was the Apple of Investors' Eyes Today\", 'url': 'https://www.fool.com/investing/2023/01/06/why-apple-stock-was-the-apple-of-investors-eyes-to/', 'time_published': '20230106T234311', 'authors': ['Eric Volkman'], 'summary': 'Bargain hunters and optimistic analysts brought the bulls back at the end of the week.', 'banner_image': 'https://g.foolcdn.com/image/?url=https%3A%2F%2Fg.foolcdn.com%2Feditorial%2Fimages%2F715511%2Frobot-with-laptop-counting-coins-by-a-window-with-skyscraper-view.jpg&op=resize&h=340', 'source': 'Motley Fool', 'category_within_source': 'n/a', 'source_domain': 'www.fool.com', 'topics': [{'topic': 'Technology', 'relevance_score': '0.333333'}, {'topic': 'Finance', 'relevance_score': '0.333333'}, {'topic': 'Manufacturing', 'relevance_score': '0.333333'}], 'overall_sentiment_score': 0.246836, 'overall_sentiment_label': 'Somewhat-Bullish', 'ticker_sentiment': [{'ticker': 'QCOM', 'relevance_score': '0.139265', 'ticker_sentiment_score': '-0.031458', 'ticker_sentiment_label': 'Neutral'}, {'ticker': 'AAPL', 'relevance_score': '0.619618', 'ticker_sentiment_score': '0.243335', 'ticker_sentiment_label': 'Somewhat-Bullish'}, {'ticker': 'MS', 'relevance_score': '0.139265', 'ticker_sentiment_score': '0.051592', 'ticker_sentiment_label': 'Neutral'}]}, {'title': \"FTC's proposed ban on noncompete agreements could have biggest impact on tech industry\", 'url': 'https://www.marketwatch.com/story/ftcs-proposed-ban-on-noncompete-agreements-could-have-biggest-impact-on-tech-industry-11673045975', 'time_published': '20230106T225900', 'authors': ['Levi Sumagaysay'], 'summary': 'A proposed FTC ban on noncompete agreements would apply across all industries and income levels, but could have the biggest impact on the tech industry.', 'banner_image': 'https://images.mktw.net/im-698795/social', 'source': 'MarketWatch', 'category_within_source': 'Top Stories', 'source_domain': 'www.marketwatch.com', 'topics': [{'topic': 'Technology', 'relevance_score': '0.5'}, {'topic': 'Manufacturing', 'relevance_score': '0.5'}], 'overall_sentiment_score': 0.036423, 'overall_sentiment_label': 'Neutral', 'ticker_sentiment': [{'ticker': 'GOOG', 'relevance_score': '0.125679', 'ticker_sentiment_score': '0.024105', 'ticker_sentiment_label': 'Neutral'}, {'ticker': 'META', 'relevance_score': '0.08398', 'ticker_sentiment_score': '0.027133', 'ticker_sentiment_label': 'Neutral'}, {'ticker': 'AAPL', 'relevance_score': '0.125679', 'ticker_sentiment_score': '0.024105', 'ticker_sentiment_label': 'Neutral'}, {'ticker': 'INTC', 'relevance_score': '0.167032', 'ticker_sentiment_score': '-0.035622', 'ticker_sentiment_label': 'Neutral'}]}]}\n"
          ]
        }
      ],
      "source": [
        "# Get data from AlphaAdvantage for one ticker for a particular day\n",
        "def getHistoricNewsData(ticker, startDate = None, endDate = None):\n",
        "    url = 'https://www.alphavantage.co/query?'\n",
        "    if startDate and endDate:\n",
        "        startDate = toAADate(startDate)\n",
        "        endDate = toAADate(endDate)\n",
        "        Myparams = {'function': 'NEWS_SENTIMENT', 'tickers': ticker, 'time_from': startDate, 'time_to': endDate, 'sort': 'LATEST','limit': 100, 'apikey': AAapikey}\n",
        "    else:\n",
        "        Myparams = {'function': 'NEWS_SENTIMENT', 'tickers': ticker, 'sort': 'LATEST','limit': 100, 'apikey': AAapikey}\n",
        "    r = requests.get(url, params = Myparams)\n",
        "    date = r.json()\n",
        "    print(data)\n",
        "\n",
        "getHistoricNewsData('AAPL', '20221101', '20230109')"
      ]
    },
    {
      "cell_type": "markdown",
      "metadata": {},
      "source": [
        "# Sentiment Analysis of FinViz data #"
      ]
    },
    {
      "cell_type": "code",
      "execution_count": null,
      "metadata": {},
      "outputs": [
        {
          "name": "stderr",
          "output_type": "stream",
          "text": [
            "[nltk_data] Downloading package vader_lexicon to\n",
            "[nltk_data]     C:\\Users\\Ishaan\\AppData\\Roaming\\nltk_data...\n",
            "[nltk_data]   Package vader_lexicon is already up-to-date!\n"
          ]
        },
        {
          "data": {
            "text/plain": [
              "True"
            ]
          },
          "execution_count": 27,
          "metadata": {},
          "output_type": "execute_result"
        }
      ],
      "source": [
        "nltk.download('vader_lexicon')"
      ]
    },
    {
      "cell_type": "code",
      "execution_count": null,
      "metadata": {},
      "outputs": [],
      "source": [
        "# Sentiment Analysis\n",
        "analyzer = SentimentIntensityAnalyzer()\n",
        "\n",
        "columns = ['Ticker', 'Date', 'Time', 'Headline']\n",
        "news = pd.DataFrame(parsed_news, columns=columns)\n",
        "scores = news['Headline'].apply(analyzer.polarity_scores).tolist()\n",
        "\n",
        "df_scores = pd.DataFrame(scores)\n",
        "news = news.join(df_scores, rsuffix='_right')"
      ]
    },
    {
      "cell_type": "code",
      "execution_count": null,
      "metadata": {},
      "outputs": [
        {
          "name": "stdout",
          "output_type": "stream",
          "text": [
            "\n",
            "\n",
            "              Date     Time    neg    neu    pos  compound\n",
            "Ticker                                                    \n",
            "AAPL    2023-01-06  06:48PM  0.000  1.000  0.000    0.0000\n",
            "AAPL    2023-01-06  06:43PM  0.209  0.791  0.000   -0.4404\n",
            "AAPL    2023-01-06  05:15PM  0.209  0.791  0.000   -0.4404\n",
            "AAPL    2023-01-06  04:09PM  0.000  0.852  0.148    0.5106\n",
            "AAPL    2023-01-06  04:00PM  0.000  0.722  0.278    0.6597\n",
            "\n",
            "\n",
            "              Date     Time    neg    neu    pos  compound\n",
            "Ticker                                                    \n",
            "TSLA    2023-01-06  10:26PM  0.000  0.751  0.249    0.5106\n",
            "TSLA    2023-01-06  09:01PM  0.205  0.795  0.000   -0.4767\n",
            "TSLA    2023-01-06  07:45PM  0.000  1.000  0.000    0.0000\n",
            "TSLA    2023-01-06  07:30PM  0.206  0.794  0.000   -0.5994\n",
            "TSLA    2023-01-06  06:31PM  0.000  0.737  0.263    0.3612\n",
            "\n",
            "\n",
            "              Date     Time   neg    neu    pos  compound\n",
            "Ticker                                                   \n",
            "AMZN    2023-01-06  06:48PM  0.00  1.000  0.000    0.0000\n",
            "AMZN    2023-01-06  06:10PM  0.25  0.603  0.147   -0.2960\n",
            "AMZN    2023-01-06  06:04PM  0.00  0.843  0.157    0.4215\n",
            "AMZN    2023-01-06  05:01PM  0.00  0.892  0.108    0.1779\n",
            "AMZN    2023-01-06  04:17PM  0.00  1.000  0.000    0.0000\n",
            "\n",
            "\n",
            "        Mean Sentiment\n",
            "Ticker                \n",
            "AAPL             -0.06\n",
            "TSLA             -0.08\n",
            "AMZN             -0.08\n"
          ]
        }
      ],
      "source": [
        "# View Data \n",
        "#news = pd.DataFrame()\n",
        "news['Date'] = pd.to_datetime(news.Date).dt.date\n",
        "\n",
        "unique_ticker = news['Ticker'].unique().tolist()\n",
        "news_dict = {name: news.loc[news['Ticker'] == name] for name in unique_ticker}\n",
        "\n",
        "values = []\n",
        "for ticker in tickers: \n",
        "    dataframe = news_dict[ticker]\n",
        "    dataframe = dataframe.set_index('Ticker')\n",
        "    dataframe = dataframe.drop(columns = ['Headline'])\n",
        "    print ('\\n')\n",
        "    print (dataframe.head())\n",
        "    \n",
        "    mean = round(dataframe['compound'].mean(), 2)\n",
        "    values.append(mean)\n",
        "    \n",
        "df = pd.DataFrame(list(zip(tickers, values)), columns =['Ticker', 'Mean Sentiment']) \n",
        "df = df.set_index('Ticker')\n",
        "df = df.sort_values('Mean Sentiment', ascending=False)\n",
        "print ('\\n')\n",
        "print (df)"
      ]
    },
    {
      "cell_type": "code",
      "execution_count": null,
      "metadata": {},
      "outputs": [
        {
          "name": "stdout",
          "output_type": "stream",
          "text": [
            "Getting stock open for stock $AAPL\n",
            "AAPL 126.01000213623047\n"
          ]
        }
      ],
      "source": [
        "#Testing helper functions from stock_helper_functions.ipynb\n",
        "aapl_open = getStockOpen(\"AAPL\")"
      ]
    },
    {
      "cell_type": "markdown",
      "metadata": {},
      "source": [
        "# Creating Dataset #"
      ]
    },
    {
      "cell_type": "code",
      "execution_count": null,
      "metadata": {},
      "outputs": [
        {
          "data": {
            "text/plain": [
              "Mean Sentiment   -0.08\n",
              "Name: AMZN, dtype: float64"
            ]
          },
          "execution_count": 31,
          "metadata": {},
          "output_type": "execute_result"
        }
      ],
      "source": [
        "num = df.loc['AMZN']\n",
        "num"
      ]
    },
    {
      "cell_type": "code",
      "execution_count": null,
      "metadata": {},
      "outputs": [
        {
          "name": "stdout",
          "output_type": "stream",
          "text": [
            "Getting stock data for stock $AAPL\n",
            "[*********************100%***********************]  1 of 1 completed\n",
            "Getting stock data for stock $TSLA\n",
            "[*********************100%***********************]  1 of 1 completed\n",
            "Getting stock data for stock $AMZN\n",
            "[*********************100%***********************]  1 of 1 completed\n"
          ]
        }
      ],
      "source": [
        "#Pulling stock data\n",
        "for i in tickers:\n",
        "    dataset = getStockDataDaily(i, day='2022-12-27')\n",
        "    dataset['Sentiment'] = float(df.loc[i])\n",
        "    #print(dataset)\n",
        "    "
      ]
    },
    {
      "cell_type": "code",
      "execution_count": null,
      "metadata": {},
      "outputs": [],
      "source": []
    }
  ],
  "metadata": {
    "colab": {
      "authorship_tag": "ABX9TyO2ChGGwJkijmmb0vDcCR40",
      "include_colab_link": true,
      "name": "Sentiment Analysis.ipynb",
      "provenance": []
    },
    "kernelspec": {
      "display_name": "Python 3.10.0 64-bit",
      "language": "python",
      "name": "python3"
    },
    "language_info": {
      "codemirror_mode": {
        "name": "ipython",
        "version": 3
      },
      "file_extension": ".py",
      "mimetype": "text/x-python",
      "name": "python",
      "nbconvert_exporter": "python",
      "pygments_lexer": "ipython3",
      "version": "3.10.0"
    },
    "vscode": {
      "interpreter": {
        "hash": "369f2c481f4da34e4445cda3fffd2e751bd1c4d706f27375911949ba6bb62e1c"
      }
    }
  },
  "nbformat": 4,
  "nbformat_minor": 0
}
