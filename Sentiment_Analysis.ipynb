{
  "cells": [
    {
      "cell_type": "markdown",
      "metadata": {
        "colab_type": "text",
        "id": "view-in-github"
      },
      "source": [
        "<a href=\"https://colab.research.google.com/github/ishaanpaul98/Sentiment-Analysis/blob/main/Sentiment_Analysis.ipynb\" target=\"_parent\"><img src=\"https://colab.research.google.com/assets/colab-badge.svg\" alt=\"Open In Colab\"/></a>"
      ]
    },
    {
      "cell_type": "markdown",
      "metadata": {},
      "source": [
        "# Imports #"
      ]
    },
    {
      "cell_type": "code",
      "execution_count": 97,
      "metadata": {
        "id": "pGQVQfr0b3SS"
      },
      "outputs": [],
      "source": [
        "# Import libraries\n",
        "import pandas as pd\n",
        "import matplotlib.pyplot as plt\n",
        "import seaborn as sns\n",
        "import numpy as np\n",
        "from wordcloud import WordCloud\n",
        "import re\n",
        "\n",
        "from bs4 import BeautifulSoup\n",
        "from urllib.request import urlopen, Request\n",
        "from nltk.sentiment.vader import SentimentIntensityAnalyzer\n",
        "\n",
        "import datetime\n",
        "import yfinance as yf\n",
        "import time\n",
        "import requests\n",
        "import io"
      ]
    },
    {
      "cell_type": "code",
      "execution_count": 98,
      "metadata": {
        "id": "WSgZEvuikgTn"
      },
      "outputs": [],
      "source": [
        "import nltk\n",
        "from nltk.corpus import stopwords\n",
        "from nltk.stem import WordNetLemmatizer"
      ]
    },
    {
      "cell_type": "code",
      "execution_count": 99,
      "metadata": {
        "id": "9hbdUWDKkgv_"
      },
      "outputs": [],
      "source": [
        "from sklearn.feature_extraction.text import CountVectorizer\n",
        "from sklearn.model_selection import GridSearchCV\n",
        "from sklearn.ensemble import RandomForestClassifier"
      ]
    },
    {
      "cell_type": "code",
      "execution_count": 100,
      "metadata": {
        "id": "Eqvj106lkgyU"
      },
      "outputs": [],
      "source": [
        "from sklearn.metrics import accuracy_score,precision_score,recall_score,confusion_matrix,roc_curve,classification_report\n",
        "from sklearn.metrics import plot_confusion_matrix"
      ]
    },
    {
      "cell_type": "markdown",
      "metadata": {},
      "source": [
        "# Stock Data Helper Functions #"
      ]
    },
    {
      "cell_type": "code",
      "execution_count": 101,
      "metadata": {},
      "outputs": [
        {
          "name": "stdout",
          "output_type": "stream",
          "text": [
            "Getting stock data for stock $AAPL\n",
            "[*********************100%***********************]  1 of 1 completed\n"
          ]
        },
        {
          "data": {
            "text/html": [
              "<div>\n",
              "<style scoped>\n",
              "    .dataframe tbody tr th:only-of-type {\n",
              "        vertical-align: middle;\n",
              "    }\n",
              "\n",
              "    .dataframe tbody tr th {\n",
              "        vertical-align: top;\n",
              "    }\n",
              "\n",
              "    .dataframe thead th {\n",
              "        text-align: right;\n",
              "    }\n",
              "</style>\n",
              "<table border=\"1\" class=\"dataframe\">\n",
              "  <thead>\n",
              "    <tr style=\"text-align: right;\">\n",
              "      <th></th>\n",
              "      <th>Open</th>\n",
              "      <th>High</th>\n",
              "      <th>Low</th>\n",
              "      <th>Close</th>\n",
              "      <th>Adj Close</th>\n",
              "      <th>Volume</th>\n",
              "    </tr>\n",
              "    <tr>\n",
              "      <th>Date</th>\n",
              "      <th></th>\n",
              "      <th></th>\n",
              "      <th></th>\n",
              "      <th></th>\n",
              "      <th></th>\n",
              "      <th></th>\n",
              "    </tr>\n",
              "  </thead>\n",
              "  <tbody>\n",
              "    <tr>\n",
              "      <th>2022-12-21</th>\n",
              "      <td>132.979996</td>\n",
              "      <td>136.809998</td>\n",
              "      <td>132.750000</td>\n",
              "      <td>135.449997</td>\n",
              "      <td>135.449997</td>\n",
              "      <td>85928000</td>\n",
              "    </tr>\n",
              "    <tr>\n",
              "      <th>2022-12-22</th>\n",
              "      <td>134.350006</td>\n",
              "      <td>134.559998</td>\n",
              "      <td>130.300003</td>\n",
              "      <td>132.229996</td>\n",
              "      <td>132.229996</td>\n",
              "      <td>77852100</td>\n",
              "    </tr>\n",
              "    <tr>\n",
              "      <th>2022-12-23</th>\n",
              "      <td>130.919998</td>\n",
              "      <td>132.419998</td>\n",
              "      <td>129.639999</td>\n",
              "      <td>131.860001</td>\n",
              "      <td>131.860001</td>\n",
              "      <td>63771000</td>\n",
              "    </tr>\n",
              "  </tbody>\n",
              "</table>\n",
              "</div>"
            ],
            "text/plain": [
              "                  Open        High         Low       Close   Adj Close  \\\n",
              "Date                                                                     \n",
              "2022-12-21  132.979996  136.809998  132.750000  135.449997  135.449997   \n",
              "2022-12-22  134.350006  134.559998  130.300003  132.229996  132.229996   \n",
              "2022-12-23  130.919998  132.419998  129.639999  131.860001  131.860001   \n",
              "\n",
              "              Volume  \n",
              "Date                  \n",
              "2022-12-21  85928000  \n",
              "2022-12-22  77852100  \n",
              "2022-12-23  63771000  "
            ]
          },
          "execution_count": 101,
          "metadata": {},
          "output_type": "execute_result"
        }
      ],
      "source": [
        "def getStockDataDaily(symbol, day):\n",
        "    print(\"Getting stock data for stock $\"+symbol)\n",
        "    df = yf.download(symbol, start=day, period = \"1d\")\n",
        "    return df\n",
        "\n",
        "getStockDataDaily('AAPL', \"2022-12-21\")"
      ]
    },
    {
      "cell_type": "code",
      "execution_count": 102,
      "metadata": {},
      "outputs": [],
      "source": [
        "def arrayToString(arr):\n",
        "    print(\"Starting array to list\")\n",
        "    listToStr = ' '.join([str(elem) for elem in arr])\n",
        "    return listToStr\n"
      ]
    },
    {
      "cell_type": "code",
      "execution_count": 103,
      "metadata": {},
      "outputs": [
        {
          "name": "stdout",
          "output_type": "stream",
          "text": [
            "Length of symbols array is more than 1. STARTING ARRAYTOSTRING\n",
            "Starting array to list\n",
            "Getting stock data for stock $AAPL TSLA\n",
            "[*********************100%***********************]  2 of 2 completed\n"
          ]
        },
        {
          "data": {
            "text/html": [
              "<div>\n",
              "<style scoped>\n",
              "    .dataframe tbody tr th:only-of-type {\n",
              "        vertical-align: middle;\n",
              "    }\n",
              "\n",
              "    .dataframe tbody tr th {\n",
              "        vertical-align: top;\n",
              "    }\n",
              "\n",
              "    .dataframe thead tr th {\n",
              "        text-align: left;\n",
              "    }\n",
              "\n",
              "    .dataframe thead tr:last-of-type th {\n",
              "        text-align: right;\n",
              "    }\n",
              "</style>\n",
              "<table border=\"1\" class=\"dataframe\">\n",
              "  <thead>\n",
              "    <tr>\n",
              "      <th></th>\n",
              "      <th colspan=\"6\" halign=\"left\">TSLA</th>\n",
              "      <th colspan=\"6\" halign=\"left\">AAPL</th>\n",
              "    </tr>\n",
              "    <tr>\n",
              "      <th></th>\n",
              "      <th>Open</th>\n",
              "      <th>High</th>\n",
              "      <th>Low</th>\n",
              "      <th>Close</th>\n",
              "      <th>Adj Close</th>\n",
              "      <th>Volume</th>\n",
              "      <th>Open</th>\n",
              "      <th>High</th>\n",
              "      <th>Low</th>\n",
              "      <th>Close</th>\n",
              "      <th>Adj Close</th>\n",
              "      <th>Volume</th>\n",
              "    </tr>\n",
              "    <tr>\n",
              "      <th>Date</th>\n",
              "      <th></th>\n",
              "      <th></th>\n",
              "      <th></th>\n",
              "      <th></th>\n",
              "      <th></th>\n",
              "      <th></th>\n",
              "      <th></th>\n",
              "      <th></th>\n",
              "      <th></th>\n",
              "      <th></th>\n",
              "      <th></th>\n",
              "      <th></th>\n",
              "    </tr>\n",
              "  </thead>\n",
              "  <tbody>\n",
              "    <tr>\n",
              "      <th>2022-12-21</th>\n",
              "      <td>139.339996</td>\n",
              "      <td>141.259995</td>\n",
              "      <td>135.889999</td>\n",
              "      <td>137.570007</td>\n",
              "      <td>137.570007</td>\n",
              "      <td>145417400</td>\n",
              "      <td>132.979996</td>\n",
              "      <td>136.809998</td>\n",
              "      <td>132.750000</td>\n",
              "      <td>135.449997</td>\n",
              "      <td>135.449997</td>\n",
              "      <td>85928000</td>\n",
              "    </tr>\n",
              "    <tr>\n",
              "      <th>2022-12-22</th>\n",
              "      <td>136.000000</td>\n",
              "      <td>136.630005</td>\n",
              "      <td>122.260002</td>\n",
              "      <td>125.349998</td>\n",
              "      <td>125.349998</td>\n",
              "      <td>210090300</td>\n",
              "      <td>134.350006</td>\n",
              "      <td>134.559998</td>\n",
              "      <td>130.300003</td>\n",
              "      <td>132.229996</td>\n",
              "      <td>132.229996</td>\n",
              "      <td>77852100</td>\n",
              "    </tr>\n",
              "    <tr>\n",
              "      <th>2022-12-23</th>\n",
              "      <td>126.370003</td>\n",
              "      <td>128.619995</td>\n",
              "      <td>121.019997</td>\n",
              "      <td>123.150002</td>\n",
              "      <td>123.150002</td>\n",
              "      <td>166396100</td>\n",
              "      <td>130.919998</td>\n",
              "      <td>132.419998</td>\n",
              "      <td>129.639999</td>\n",
              "      <td>131.860001</td>\n",
              "      <td>131.860001</td>\n",
              "      <td>63771000</td>\n",
              "    </tr>\n",
              "  </tbody>\n",
              "</table>\n",
              "</div>"
            ],
            "text/plain": [
              "                  TSLA                                                  \\\n",
              "                  Open        High         Low       Close   Adj Close   \n",
              "Date                                                                     \n",
              "2022-12-21  139.339996  141.259995  135.889999  137.570007  137.570007   \n",
              "2022-12-22  136.000000  136.630005  122.260002  125.349998  125.349998   \n",
              "2022-12-23  126.370003  128.619995  121.019997  123.150002  123.150002   \n",
              "\n",
              "                             AAPL                                      \\\n",
              "               Volume        Open        High         Low       Close   \n",
              "Date                                                                    \n",
              "2022-12-21  145417400  132.979996  136.809998  132.750000  135.449997   \n",
              "2022-12-22  210090300  134.350006  134.559998  130.300003  132.229996   \n",
              "2022-12-23  166396100  130.919998  132.419998  129.639999  131.860001   \n",
              "\n",
              "                                  \n",
              "             Adj Close    Volume  \n",
              "Date                              \n",
              "2022-12-21  135.449997  85928000  \n",
              "2022-12-22  132.229996  77852100  \n",
              "2022-12-23  131.860001  63771000  "
            ]
          },
          "execution_count": 103,
          "metadata": {},
          "output_type": "execute_result"
        }
      ],
      "source": [
        "def getMultiStockDataDaily(symbols, day):\n",
        "    if len(symbols) > 1:\n",
        "        print(\"Length of symbols array is more than 1. STARTING ARRAYTOSTRING\")\n",
        "        symbols = arrayToString(symbols)\n",
        "    print(\"Getting stock data for stock $\"+symbols)\n",
        "    df = yf.download(symbols, start=day, period = \"1d\", group_by='ticker')\n",
        "    return df\n",
        "\n",
        "getMultiStockDataDaily(['AAPL', 'TSLA'], \"2022-12-21\")"
      ]
    },
    {
      "cell_type": "code",
      "execution_count": 104,
      "metadata": {},
      "outputs": [
        {
          "name": "stdout",
          "output_type": "stream",
          "text": [
            "Getting stock close for stock $AAPL\n",
            "AAPL 131.86000061035156\n"
          ]
        },
        {
          "data": {
            "text/plain": [
              "131.86000061035156"
            ]
          },
          "execution_count": 104,
          "metadata": {},
          "output_type": "execute_result"
        }
      ],
      "source": [
        "def getStockClose(symbol):\n",
        "    print(\"Getting stock close for stock $\"+symbol)\n",
        "    ticker = yf.Ticker(symbol)\n",
        "    data = ticker.history()\n",
        "    #print(data)\n",
        "    last_price = data['Close'].iloc[-1]\n",
        "    print(symbol, last_price)\n",
        "    return last_price\n",
        "\n",
        "getStockClose(\"AAPL\")"
      ]
    },
    {
      "cell_type": "code",
      "execution_count": 105,
      "metadata": {},
      "outputs": [
        {
          "name": "stdout",
          "output_type": "stream",
          "text": [
            "Getting stock open for stock $AAPL\n",
            "AAPL 130.9199981689453\n"
          ]
        },
        {
          "data": {
            "text/plain": [
              "130.9199981689453"
            ]
          },
          "execution_count": 105,
          "metadata": {},
          "output_type": "execute_result"
        }
      ],
      "source": [
        "def getStockOpen(symbol):\n",
        "    print(\"Getting stock open for stock $\"+symbol)\n",
        "    ticker = yf.Ticker(symbol)\n",
        "    data = ticker.history()\n",
        "    #print(data)\n",
        "    last_price = data['Open'].iloc[-1]\n",
        "    print(symbol, last_price)\n",
        "    return last_price\n",
        "\n",
        "getStockOpen(\"AAPL\")"
      ]
    },
    {
      "cell_type": "code",
      "execution_count": 106,
      "metadata": {},
      "outputs": [
        {
          "name": "stdout",
          "output_type": "stream",
          "text": [
            "Getting stock high for stock $AAPL\n",
            "AAPL 132.4199981689453\n"
          ]
        },
        {
          "data": {
            "text/plain": [
              "132.4199981689453"
            ]
          },
          "execution_count": 106,
          "metadata": {},
          "output_type": "execute_result"
        }
      ],
      "source": [
        "def getStockHigh(symbol):\n",
        "    print(\"Getting stock high for stock $\"+symbol)\n",
        "    ticker = yf.Ticker(symbol)\n",
        "    data = ticker.history()\n",
        "    #print(data)\n",
        "    last_price = data['High'].iloc[-1]\n",
        "    print(symbol, last_price)\n",
        "    return last_price\n",
        "\n",
        "getStockHigh(\"AAPL\")"
      ]
    },
    {
      "cell_type": "code",
      "execution_count": 107,
      "metadata": {},
      "outputs": [
        {
          "name": "stdout",
          "output_type": "stream",
          "text": [
            "Getting stock low for stock $AAPL\n",
            "AAPL 129.63999938964844\n"
          ]
        },
        {
          "data": {
            "text/plain": [
              "129.63999938964844"
            ]
          },
          "execution_count": 107,
          "metadata": {},
          "output_type": "execute_result"
        }
      ],
      "source": [
        "def getStockLow(symbol):\n",
        "    print(\"Getting stock low for stock $\"+symbol)\n",
        "    ticker = yf.Ticker(symbol)\n",
        "    data = ticker.history()\n",
        "    #print(data)\n",
        "    last_price = data['Low'].iloc[-1]\n",
        "    print(symbol, last_price)\n",
        "    return last_price\n",
        "\n",
        "getStockLow(\"AAPL\")"
      ]
    },
    {
      "cell_type": "markdown",
      "metadata": {},
      "source": [
        "# Gathering FinViz Data #"
      ]
    },
    {
      "cell_type": "code",
      "execution_count": 108,
      "metadata": {},
      "outputs": [],
      "source": [
        "# Parameters \n",
        "n = 3 #the # of article headlines displayed per ticker\n",
        "tickers = ['AAPL', 'TSLA', 'AMZN']"
      ]
    },
    {
      "cell_type": "code",
      "execution_count": 109,
      "metadata": {},
      "outputs": [
        {
          "name": "stdout",
          "output_type": "stream",
          "text": [
            "current url is: https://finviz.com/quote.ashx?t=AAPL\n",
            "current url is: https://finviz.com/quote.ashx?t=TSLA\n",
            "current url is: https://finviz.com/quote.ashx?t=AMZN\n",
            "\n",
            "\n",
            "Recent News Headlines for AAPL: \n",
            "Apple Japan hit with $98 million in back taxes- Nikkei ( Dec-26-22 01:06PM )\n",
            "Apple Japan hit with $98 mln in back taxes- Nikkei ( 01:04PM )\n",
            "Apple Stock: Bear vs. Bull ( 07:19AM )\n",
            "\n",
            "\n",
            "Recent News Headlines for TSLA: \n",
            "Dow Jones Futures Rise: Market Rally Not Finished Yet; Tesla Shanghai Production Halted ( Dec-26-22 06:22PM )\n",
            "Dow Jones Futures Loom: Market Rally Not Finished Yet; Tesla Shanghai Production Halted ( 02:42PM )\n",
            "Dow Jones Futures: Market Rally Not Finished Yet; Tesla Shanghai Production Halted ( 12:48PM )\n",
            "\n",
            "\n",
            "Recent News Headlines for AMZN: \n",
            "Amazon's Advertising Business Still Has Lots of Room for Growth ( Dec-26-22 09:40AM )\n",
            "Better Buy: Netflix vs. Amazon ( 08:30AM )\n",
            "2 Investing Lessons I Learned From the Stock Market in 2022 ( 06:14AM )\n"
          ]
        }
      ],
      "source": [
        "# Get Data\n",
        "finwiz_url = 'https://finviz.com/quote.ashx?t='\n",
        "news_tables = {}\n",
        "\n",
        "for ticker in tickers:\n",
        "    url = finwiz_url + ticker\n",
        "    print(\"current url is: \" +url)\n",
        "    header = {\"User-Agent\": \"Mozilla/5.0 (Windows NT 10.0; Win64; x64) AppleWebKit/537.36 (KHTML, like Gecko) Chrome/92.0.4515.159 Safari/537.36.\"}\n",
        "    req = Request(url=url,headers=header) \n",
        "    resp = urlopen(req)    \n",
        "    html = BeautifulSoup(resp, features=\"lxml\")\n",
        "    news_table = html.find(id='news-table')\n",
        "    news_tables[ticker] = news_table\n",
        "\n",
        "try:\n",
        "    for ticker in tickers:\n",
        "        df = news_tables[ticker]\n",
        "        df_tr = df.findAll('tr')\n",
        "    \n",
        "        print ('\\n')\n",
        "        print ('Recent News Headlines for {}: '.format(ticker))\n",
        "        \n",
        "        for i, table_row in enumerate(df_tr):\n",
        "            a_text = table_row.a.text\n",
        "            td_text = table_row.td.text\n",
        "            td_text = td_text.strip()\n",
        "            print(a_text,'(',td_text,')')\n",
        "            if i == n-1:\n",
        "                break\n",
        "except KeyError:\n",
        "    pass"
      ]
    },
    {
      "cell_type": "code",
      "execution_count": 110,
      "metadata": {},
      "outputs": [
        {
          "name": "stdout",
          "output_type": "stream",
          "text": [
            "Dec-26-22 01:06PMApple Japan hit with $98 million in back taxes- Nikkei Reuters\n",
            "01:04PMApple Japan hit with $98 mln in back taxes- Nikkei Reuters\n",
            "07:19AMApple Stock: Bear vs. Bull Motley Fool\n",
            "06:01AMWarren Buffett vs. the Market: What It Means for Investors Motley Fool\n",
            "05:07AMThe Media Industry Is Handing Apple and Amazon a Big Opportunity Motley Fool\n",
            "\n",
            "05:00AM\n",
            "Loading…\n",
            "\n",
            "05:00AMCEOs from Elon Musk to Jamie Dimon fought to bring workers back to the office in 2022. Heres who wonand who lostthe great return-to-office war Fortune\n",
            "Dec-25-22 11:17AM12 Most Advanced Countries in Electronics Insider Monkey\n",
            "11:14AMWant Unstoppable Stocks for 2023 and Beyond? Focus on Competitive Advantages Motley Fool\n",
            "09:01AMTarget, Amazon and 4 More Retailers That Will Reward You for Turning in Your Old Stuff GOBankingRates\n",
            "08:10AMBetter Buy: Apple vs. Nvidia Motley Fool\n",
            "06:00AMInvestors in Apple (NASDAQ:AAPL) have made a solid return of 228% over the past five years Simply Wall St.\n",
            "05:30AM3 Investment Moves to Make Before the Year Ends Motley Fool\n",
            "05:21AMWhich FAANG Stock Will Be the Top Performer in 2023? Motley Fool\n",
            "12:00AMApples business under growing threat from Chinas Covid wave Financial Times\n",
            "Dec-24-22 12:28PMThis company has wiped out more investor wealth in 2022 than Tesla MarketWatch\n",
            "\n",
            "09:01AM\n",
            "Loading…\n",
            "\n",
            "09:01AMInflation and the FTX Collapse Got These Investors Talking Motley Fool\n",
            "09:00AMPepsiCo's Chief Design Officer Talks About the Human Side of Innovation Motley Fool\n",
            "Dec-23-22 08:13PMGoogle Gets Set to Stream Football Games. What the Deal Says About Apple. Barrons.com\n",
            "06:27PMApple May Hit This Big Milestone Sooner Than Expected Motley Fool\n",
            "02:46PMApple Hubs In India, Vietnam Next Year; China Exodus By 2025. Are Beaten Down Tech Stocks A Buy Now? Investor's Business Daily\n",
            "01:15PMTesla, Meta Lead Big Tech's Market Value Wipeout The Wall Street Journal\n",
            "10:45AMMeta Is Cheap for a Reason: Shareholders Aren't the Focus TheStreet.com\n",
            "07:43AMWhich of the 20 Most Valuable Brands in the World Are Great Investments Now? Insider Monkey\n",
            "07:30AMBetter Buy: Microsoft Stock vs. Apple Stock Motley Fool\n",
            "07:20AM20 Biggest Companies that Sponsor H1B Visas Insider Monkey\n",
            "05:12AMWarren Buffett's 3 Most Intriguing Tech Investments Motley Fool\n",
            "02:15AMMost Tech Stocks Had a Miserable Year. Not IBM. Barrons.com\n",
            "12:06AMApple's Australian workers go on Christmas strike demanding better wages, work terms Reuters\n",
            "12:00AMMeta and Alphabet lose dominance over US digital ads market Financial Times\n",
            "Dec-22-22 07:46PMPeak TV is coming to an end as streaming services look to cut costs MarketWatch\n",
            "\n",
            "06:00PM\n",
            "Loading…\n",
            "\n",
            "06:00PMUPDATE 2-Apple Watches violate AliveCor patents but import ban on hold -U.S. ITC Reuters\n",
            "05:34PMApple Watches violate AliveCor patents but import ban on hold -U.S. ITC Reuters\n",
            "03:35PM6 Useless Subscriptions To Cancel at the Beginning of 2023 GOBankingRates\n",
            "03:30PMGoldman Offers More Services Through Apple as It Revamps Consumer-Banking Approach The Wall Street Journal\n",
            "03:25PMWhy Apple, Roku, and Shopify Stocks All Tumbled Thursday Motley Fool\n",
            "02:27PMJim Cramers 10 Comeback Stocks Insider Monkey\n",
            "10:15AMIs The Trade Desk Stock a Buy Now? Motley Fool\n",
            "10:12AM6 reasons why Apple stock will rebound in 2023: Analyst Yahoo Finance Video\n",
            "09:36AMAlphabet (GOOGL) Boosts YouTube Streaming Efforts With NFL Deal Zacks\n",
            "09:25AMGoldman Is Banking on Apple Partnership in Consumer Push The Wall Street Journal\n",
            "09:21AMThe hottest tech trends to watch in 2023 Yahoo Finance\n",
            "09:15AMCould Apple Still Be the World's Largest Company in 2023? Motley Fool\n",
            "08:00AMApple Stock In 2023: Will Goggles Finally Become A Reality? Investor's Business Daily\n",
            "06:21AMAs U.S. fails to crack down on Big Tech, Europe shows what progress looks like MarketWatch\n",
            "06:16AM6 big reasons Apple stock is a must buy for 2023: analyst Yahoo Finance\n",
            "06:02AM2 Magnificent Semiconductor Stocks Down 46% and 51% to Buy Before the Next Bull Market Motley Fool\n",
            "06:00AMApple's Steady Diet of Resistance and My Contrarian Conundrum TheStreet.com\n",
            "05:31AMBitcoin interest surged in 2022 as 'crypto winter' arrived: Morning Brief Yahoo Finance\n",
            "05:10AMThe Biggest Reason Apple Stock Is a Screaming Buy for 2023 Motley Fool\n",
            "01:45AMThese Are the Best Holiday Tech Gifts of 2022. I Own Them All. Barrons.com\n",
            "Dec-21-22 06:37PMWhy Amazon, Apple, and Chewy Stocks All Rallied on Wednesday Motley Fool\n",
            "04:56PMApple to launch first AR headset in 2023 Yahoo Finance Video\n",
            "04:18PMTech stocks: The 'best' and worst performers of 2022 Yahoo Finance\n",
            "03:52PMHow the EU Took On Big Tech in 2022 WSJ\n",
            "03:39PMJustin Bieber the latest major act to sell music rights in reported $200 million deal Yahoo Finance\n",
            "03:16PMApple's Regulatory Risks Led Pullback Likely To Render A Buying Opportunity, Analyst Says Benzinga\n",
            "02:51PMTeslas stock drop has been bad. But this company has wiped out more investor wealth in 2022. MarketWatch\n",
            "02:25PM5 Things You Might Not Know About Apple CEO Tim Cook Benzinga\n",
            "12:47PMApple Stock Has Struggled This Year. The Case for a Better Next Year. Barrons.com\n",
            "12:00PM2 Growth Stocks to Buy in December Motley Fool\n",
            "11:07AMApple Stock Has Struggled in 2022. But Analyst Sees Resilient Demand for Tech Giants Products Next Year. Barrons.com\n",
            "10:44AMTech stocks had a rough year. Apple, Microsoft, and Qualcomm did slightly better. Yahoo Finance Video\n",
            "10:40AMBetter Buy for 2023: Apple vs. Nvidia Motley Fool\n",
            "10:30AMHere are the 3 big bets Warren Buffett is taking into 2023  if you're worried about the new year, it might be time to follow along MoneyWise\n",
            "10:19AMAlphabet (GOOGL) Updates Workspace Apps With Toggle Feature Zacks\n",
            "09:25AMApple (AAPL) Set to Shift Some MacBook Production to Vietnam Zacks\n",
            "08:33AMIs Bed Bath & Beyond Stock Really a Cheap Buy? Here's What the Charts Say Motley Fool\n",
            "08:00AMAmid Weak Digital Ad Outlook, Apple, Walmart, Internet TV Are Still Bright Spots Investor's Business Daily\n",
            "07:00AMApple May Face Greatest Loyalty Test Yet The Wall Street Journal\n",
            "06:00AMA Look At The Fair Value Of Apple Inc. (NASDAQ:AAPL) Simply Wall St.\n",
            "05:15AMApple Stock: Bull vs. Bear Motley Fool\n",
            "Dec-20-22 11:21PMNo Sign of Smartphone Recovery Until Late 2023, TDK CEO Cautions Bloomberg\n",
            "08:06PMApple (AAPL) vs. Microsoft (MSFT): Which stock is the Better Buy for 2023? Zacks\n",
            "05:45PMApple (AAPL) Stock Sinks As Market Gains: What You Should Know Zacks\n",
            "04:33PMApple Partially Shifts Macbook Production to Vietnam Investopedia\n",
            "04:11PMHow big tech defeated the biggest antitrust push in decades on Capitol Hill LA Times\n",
            "12:03PMAmazon settles with the EU over antitrust charges Yahoo Finance Video\n",
            "09:49AM12 Best Stocks To Invest In Right Now Insider Monkey\n",
            "09:43AMNo love for meme stocks  stock-trading kids are loading up on Apple and index funds MarketWatch\n",
            "09:41AMStocks mixed at open, Apple and Tesla move lower Yahoo Finance Video\n",
            "09:09AMApple files for more construction at NW Austin campus American City Business Journals\n",
            "09:08AMTwitter Rolls Out 'Blue For Business,' Visa Pitches Auto-Payments On Ethereum Blockchain, Justin Bieber Slams H&M: Today's Top Stories Benzinga\n",
            "09:01AM1 Top Stock to Buy for 2023 and Beyond Motley Fool\n",
            "08:15AMParis Court Slaps Apple With Fine Of 1M Over App Store Practices Benzinga\n",
            "07:53AMDow Jones Extends Losing Streak As Apple Sells Off; Tesla Hits New Low Amid Elon Musk Twitter Poll Investor's Business Daily\n",
            "07:30AMPurpose Investments Debuts Yield Shares, the Worlds First Yield-Focused Single-Stock ETFs GlobeNewswire\n",
            "07:00AMWill Nvidia Be a Trillion-Dollar Stock by 2030? Motley Fool\n",
            "06:59AMPayPal Stock: Buy, Sell, or Hold Before 2023? Motley Fool\n",
            "06:44AMApple Christmas iPhone Sales Will Take Supply Chain Hit, Says JPMorgan; Cuts Price Target TheStreet.com\n",
            "06:04AMAmazon stock is now down 50% this year and is at a 52-week low Yahoo Finance\n",
            "05:30AMStock Picking Makes a Comeback in Market Turbulence The Wall Street Journal\n",
            "05:20AMGot $1,000? 5 Buffett Stocks to Buy and Hold Forever Motley Fool\n",
            "Dec-19-22 06:10PMWhy Apple Stock Flopped on Monday Motley Fool\n",
            "03:48PMSports streaming: The math is difficult in negotiations and viewership count, analyst says Yahoo Finance Video\n",
            "12:47PMUpgrading Your Phone for the Holidays Could Save You $1,000 Right Now With This Provider GOBankingRates\n",
            "12:42PMUPDATE 1-Apple fined 1 mln euros by Paris court over App Store practices Reuters\n",
            "12:38PMNever Lose Your Things Again  The Startup Pouring Gasoline on the Apple AirTag Benzinga\n",
            "11:58AMApple fined 1 million euros by Paris court over App Store practices Reuters\n",
            "10:16AMAlphabet (GOOGL) Boosts Wear OS Platform With KoruLab Takeover Zacks\n",
            "10:06AMGoogle, Amazon, Microsoft's Growing Finance Business Is Getting Them Bank-Like Treatment. Are Beaten Down Tech Stocks A Buy Now? Investor's Business Daily\n",
            "Dec-26-22 06:22PMDow Jones Futures Rise: Market Rally Not Finished Yet; Tesla Shanghai Production Halted Investor's Business Daily\n",
            "02:42PMDow Jones Futures Loom: Market Rally Not Finished Yet; Tesla Shanghai Production Halted Investor's Business Daily\n",
            "12:48PMDow Jones Futures: Market Rally Not Finished Yet; Tesla Shanghai Production Halted Investor's Business Daily\n",
            "11:16AMTesla stock slashed in punishing week: 4 biggest recent analyst moves Investing.com\n",
            "09:19AMTesla Extends Shutdown at Shanghai Plant in Rare Christmas Suspension The Wall Street Journal\n",
            "\n",
            "07:00AM\n",
            "Loading…\n",
            "\n",
            "07:00AMTesla Halts Auto Production at Shanghai Plant in Rare Christmas Suspension The Wall Street Journal\n",
            "07:00AMRivian Is Having a Horrible Year TheStreet.com\n",
            "06:20AMWhy Tesla Is One Stock I'd Avoid in 2023 Motley Fool\n",
            "05:00AMCEOs from Elon Musk to Jamie Dimon fought to bring workers back to the office in 2022. Heres who wonand who lostthe great return-to-office war Fortune\n",
            "Dec-25-22 03:31PMTesla Stock 2023: EV Giant Faces Big Challenges In Its Two Megamarkets Investor's Business Daily\n",
            "11:55AMTesla owner says he had to cancel Christmas plans because car would not charge in freezing weather Fox Business\n",
            "08:00AMIs It Better to Buy Auto Chip Stock Pure Plays or Legacy Chip Stocks Getting Into Auto Technology? Motley Fool\n",
            "Dec-24-22 06:51PMElon Musk Warns Against Margin Debt on Risk of Market Mass Panic Bloomberg\n",
            "06:13PMCathie Wood Is Loading Up On These 12 Stocks Insider Monkey\n",
            "05:13PMTesla suspends production at Shanghai plant for planned break MarketWatch\n",
            "\n",
            "01:01PM\n",
            "Loading…\n",
            "\n",
            "01:01PMTesla Stock Vs. BYD Stock: Tesla Shanghai Suspends Production As Covid Wave Hits BYD Investor's Business Daily\n",
            "12:28PMThis company has wiped out more investor wealth in 2022 than Tesla MarketWatch\n",
            "10:36AMTesla Is Shutting Down Its Shanghai Plant, Reports Say. Its Not a Grinch Moment. Barrons.com\n",
            "08:15AMMarket Rally Not Finished Yet, Five Growth Stocks To Watch; Tesla Shanghai Production Halted Investor's Business Daily\n",
            "07:51AMTesla suspends production at Shanghai plant - internal notice Reuters\n",
            "07:46AMTesla suspends production at Shanghai plant - internal notice Reuters\n",
            "07:00AMWhy Tesla Is a Top Semiconductor Stock and Not Just Another Automaker Motley Fool\n",
            "07:00AMTesla Stock: Bull vs. Bear Motley Fool\n",
            "06:07AMDown 64% in 2022, Is Tesla Stock a Buy for 2023? Motley Fool\n",
            "05:30AMTesla Shares Head for Worst Year Ever as Elon Musk Focuses on Twitter The Wall Street Journal\n",
            "05:30AM3 Stocks on Santa's Nice List to Buy Before 2023 Motley Fool\n",
            "12:00AMAre You Extremely Hardcore or Not? How Elon Musk Is Dividing Silicon Valleys Elite The Wall Street Journal\n",
            "Dec-23-22 06:47PMElon Musk Warns About a Bad Decision TheStreet.com\n",
            "06:32PMElon Musks Finances Complicated by Declining Wealth, Twitter Pressures The Wall Street Journal\n",
            "04:53PMTesla Stock's Elonovela Continues  Musk Says He Won't Sell Shares Investor's Business Daily\n",
            "\n",
            "04:45PM\n",
            "Loading…\n",
            "\n",
            "04:45PMUS STOCKS-Wall Street ends up as investors eye data for rate prospects, energy outperforms Reuters\n",
            "04:41PMI'm Bullish on EV Stocks But This Has Me a Little Worried Motley Fool\n",
            "04:31PMTesla shares lose $85bn in market value over brutal week Financial Times\n",
            "04:31PMBrutal week sees Tesla shares lose $85bn in market value Financial Times\n",
            "04:21PMThese Stocks Moved Today: Tesla, AMC, Energy Stocks, and More Barrons.com\n",
            "04:09PMTesla stock suffers longest losing streak since March 2020 after Wedbush slashes price target by 30% MarketWatch\n",
            "04:02PMMusk Says He Won't Sell More Tesla Shares, For Real This Time Investopedia\n",
            "02:51PMUS STOCKS-Wall Street gains after inflation data, energy outperforms Reuters\n",
            "02:03PMCan Tesla Be a Value Stock? How Its Going to Get There. Barrons.com\n",
            "02:01PMWhy Tesla Shares Swung Wildly Friday Motley Fool\n",
            "01:45PMTesla Stock Edges Lower Friday The Wall Street Journal\n",
            "01:15PMTesla, Meta Lead Big Tech's Market Value Wipeout The Wall Street Journal\n",
            "12:45PMThese Stocks Are Moving the Most Today: Tesla, AMC, Energy Stocks, and More Barrons.com\n",
            "12:31PMMusk Continues to Warn About a Decision Hurting the Economy TheStreet.com\n",
            "12:28PMUS STOCKS-Wall St choppy post inflation data, energy shares jump Reuters\n",
            "12:13PMTesla stock bull: The company is a sustainability 'behemoth' Yahoo Finance\n",
            "12:00PMWhy 2023 could be the year of the cheapor cheaperEV Yahoo Finance\n",
            "12:00PMTeslas Ugly December and Other Omens for the Auto Industry Bloomberg\n",
            "11:32AMTwitter much more aggressively managed than people think, analyst says Yahoo Finance Video\n",
            "11:21AMStock Market Falls Sharply Again As Tesla Dives, Micron Hits Chips; Nike, FedEx Strong: Weekly Review Investor's Business Daily\n",
            "11:20AMElon Musk's vow to hold on to Tesla stock fails to soothe investors Reuters\n",
            "10:46AMElon Musk Continues to Warn About a Huge Mistake TheStreet.com\n",
            "10:37AMHow Low Can Tesla Stock Still Go? Investor's Business Daily\n",
            "10:25AMWhy a recession is actually pretty positive for Tesla: Analyst Yahoo Finance Video\n",
            "10:21AMNo More Tesla Stock Sales Until 2024, and Other Tidbits From Musk Barrons.com\n",
            "10:14AMDow Jones Falls On Inflation Data; Tesla Stock Hits New Low Amid Elon Musk Comments Investor's Business Daily\n",
            "10:10AMTesla stock in danger of longest losing streak since March 2020 after Wedbush slashes price target by 30% MarketWatch\n",
            "10:01AMMusk Says Again Tesla Share Sales Will Stop After Stock Tanks Bloomberg\n",
            "09:23AMUS STOCKS-Wall St set to slip at open as investors assess inflation data Reuters\n",
            "09:22AMDow Jones Futures Fall On Inflation Data; Tesla Stock Races Higher On Elon Musk Comments Investor's Business Daily\n",
            "08:58AMDow Jones Futures Rise On Inflation Data; Tesla Stock Races Higher On Elon Musk Comments Investor's Business Daily\n",
            "08:48AMDow Jones Futures Rally On Inflation Data; Tesla Stock Races Higher On Elon Musk Comments Investor's Business Daily\n",
            "08:39AMDow Jones Futures Reverse Lower On Inflation Data; Tesla Stock Rallies On Elon Musk Comments Investor's Business Daily\n",
            "08:26AMDow Jones Futures Rise Ahead Of Inflation Data; Tesla Stock Rallies On Elon Musk Comments Investor's Business Daily\n",
            "08:03AMDow Jones Futures Await Fed's Favorite Inflation Report; Tesla Rises On Elon Musk Pledge Investor's Business Daily\n",
            "08:00AM$667 Billion Gone! How Low Can Tesla Stock Still Go? Investor's Business Daily\n",
            "08:00AMElon Musk Invokes Twitter Succession Without Giving Clarity on Successor The Wall Street Journal\n",
            "07:40AMA Tesla Bull Sees Demand Softening. The Price Target Is Cut Again. Barrons.com\n",
            "07:00AMBig Techs 2022 Goes From Bad to Worse. Just Look at These Data. Barrons.com\n",
            "06:26AMFormer Tesla stock bull slams Elon Musk for being 'asleep at the wheel' Yahoo Finance\n",
            "05:34AMBomb Cyclone, Travel Chaos, Twitter Layoffs,  Elon Musk and Meta - Five Things To Know TheStreet.com\n",
            "05:18AMElon Musk Returns To Old Promises And Insane Prediction TheStreet.com\n",
            "03:51AMElon Musk says he wont sell more Tesla shares but vows to keep tweeting: Im not gonna suppress my views just to boost the stock price Fortune\n",
            "01:20AMPRESS DIGEST- Wall Street Journal - Dec 23 Reuters\n",
            "12:32AMElon Musk puts Tesla stock sales on pause Fox Business\n",
            "12:30AMMORNING BID-Grinch (re)appears Reuters\n",
            "Dec-22-22 11:04PMTesla Doubles Discounts on Model 3 and Model Y Vehicles The Wall Street Journal -8.88%\n",
            "08:00PMTesla Offers Discounts to US Shoppers Motley Fool\n",
            "06:23PMTesla short sellers have collected nearly $14 billion since Elon Musk agreed to buy Twitter, making Tesla the most profitable short of 2022 MarketWatch\n",
            "06:13PMElon Musk Says No More Stock Sales Until 2024 at the Earliest Barrons.com\n",
            "06:11PMUPDATE 2-Elon Musk says he will not sell more Tesla stock for another two years Reuters\n",
            "05:45PMElon Musk says he will not sell more Tesla stock for about two years Reuters\n",
            "04:41PMFord and Tesla Investors Get Cold Water in the Face. Affordability Is a Problem. Barrons.com\n",
            "04:38PMTeslas $7,500 Discount Is Great for Buyers. Less So for Investors. Barrons.com\n",
            "04:17PMDow Jones Dives On This; Tesla Stock Erases Years Of Gains; These Cathie Wood Buys Plunge Investor's Business Daily\n",
            "04:15PMRivian, Lucid Shares Fall. Its Not Only Affordability. Its Cash Flow. Barrons.com\n",
            "04:06PMFeds to probe two more Tesla crashes, including one on San Francisco Bay Bridge MarketWatch\n",
            "03:13PMElon Musk, Tesla Make a Rare Move TheStreet.com\n",
            "03:09PM10 Fastest Growing Auto Stocks in the World Insider Monkey\n",
            "02:27PMJim Cramers 10 Comeback Stocks Insider Monkey\n",
            "02:16PMTesla is the most profitable short pick of 2022, with nearly $14 billion in proceeds since Elon Musk agreed to buy Twitter MarketWatch\n",
            "02:13PMUPDATE 1-Twitter seeks dismissal of disability bias lawsuit over job cuts Reuters\n",
            "02:11PMTesla delivery numbers in early 2023 could be a letdown: analyst Yahoo Finance\n",
            "02:07PMTesla's Discount Move Suggests a Troubling Short-Term Mindset Motley Fool\n",
            "02:02PMUPDATE 1-U.S. safety agency probes two more Tesla crashes involving suspected driver assistance Reuters\n",
            "01:56PMIs demand for Teslas lagging? Its year-end discounts suggest problems ahead. Quartz\n",
            "01:53PMTesla shares tumble, on track for worst month ever Reuters\n",
            "01:47PMTesla bull: My goal is to help Elon; Twitter 'isn't good for him' Yahoo Finance\n",
            "01:25PMTesla Hits 52-Week Lows For Eight Straight Sessions. Is It a Buy? TheStreet.com\n",
            "01:16PMElon, Tesla Make a Rare Move TheStreet.com\n",
            "Dec-26-22 09:40AMAmazon's Advertising Business Still Has Lots of Room for Growth Motley Fool\n",
            "08:30AMBetter Buy: Netflix vs. Amazon Motley Fool\n",
            "06:14AM2 Investing Lessons I Learned From the Stock Market in 2022 Motley Fool\n",
            "05:45AMI'm Buying More of Prologis Before 2023: Here's Why Motley Fool\n",
            "05:30AMHere Are the Best Stocks To Own as 2022 Draws to a Close Motley Fool\n",
            "\n",
            "05:07AM\n",
            "Loading…\n",
            "\n",
            "05:07AMThe Media Industry Is Handing Apple and Amazon a Big Opportunity Motley Fool\n",
            "Dec-25-22 01:30PM37 Mistakes We Make When Shopping at Costco, Amazon, Target and Walmart GOBankingRates\n",
            "09:01AMTarget, Amazon and 4 More Retailers That Will Reward You for Turning in Your Old Stuff GOBankingRates\n",
            "05:30AM3 Investment Moves to Make Before the Year Ends Motley Fool\n",
            "05:21AMWhich FAANG Stock Will Be the Top Performer in 2023? Motley Fool\n",
            "Dec-24-22 06:09PM15 Most Hated Companies in America Insider Monkey\n",
            "12:28PMThis company has wiped out more investor wealth in 2022 than Tesla MarketWatch\n",
            "10:00AMTalking About Top Stocks Motley Fool\n",
            "09:01AMInflation and the FTX Collapse Got These Investors Talking Motley Fool\n",
            "08:00AMThis Major Retailer Will Return Your Amazon Items for Free Motley Fool\n",
            "\n",
            "08:00AM\n",
            "Loading…\n",
            "\n",
            "08:00AMAmerican Bargain Hunters Flock to a New Online Platform Forged in China The Wall Street Journal\n",
            "07:58AMIf You Invested $10,000 in Amazon Stock at Its IPO, Here's How Much You'd Have Today Motley Fool\n",
            "07:49AMThe Best Christmas Present a Parent Can Give: 1 Stock Market Index Fund to Buy Your Kid Motley Fool\n",
            "07:30AM2 Reasons Amazon Stock Could Keep Tumbling Motley Fool\n",
            "02:00AMWarren Buffetts Investment Aides May Be Having a Tough Year Barrons.com\n",
            "12:00AMThis Former Auto Executive Is Now CEO of a Billion-Dollar Online Pharmacy The Wall Street Journal\n",
            "Dec-23-22 05:45PMAmazon (AMZN) Outpaces Stock Market Gains: What You Should Know Zacks\n",
            "05:00PMWill Etsy Be Worth More Than Amazon by 2030? Motley Fool\n",
            "04:35PMAmazon Looks to Sell Excess Air Cargo Space as Demand Cools Bloomberg\n",
            "02:55PMWhy Famed Value Investor Bill Miller Is Still Bullish on Bitcoin, Amazon Stock, and More Barrons.com\n",
            "01:15PMTesla, Meta Lead Big Tech's Market Value Wipeout The Wall Street Journal\n",
            "12:57PMAmazon's (AMZN) AWS Boosts Prospects With Navy Contract Win Zacks\n",
            "12:52PMFedEx, UPS holiday storm delays won't be 'that impactful' to their quarters, analyst says Yahoo Finance\n",
            "12:24PMSNAP Adds Customization Options for Snapchat+ Paid Service Zacks\n",
            "11:47AMIs Amazon Stock a Buy Now? Motley Fool\n",
            "\n",
            "11:39AM\n",
            "Loading…\n",
            "\n",
            "11:39AMRobots Are Replacing Workers Lost in the Pandemic. Theyre Here to Stay. Barrons.com\n",
            "10:07AM3 Top Warren Buffett Stocks for 2023 Motley Fool\n",
            "08:58AMStrategic Framework Aids Kohl's (KSS), Rising Inflation Ails Zacks\n",
            "07:30AMDown 49% in 2022, Is Amazon Stock a Buy for 2023? Motley Fool\n",
            "07:20AM20 Biggest Companies that Sponsor H1B Visas Insider Monkey\n",
            "07:09AMAmazon Nightmare Is Reminiscent of the Dotcom Collapse TheStreet.com\n",
            "06:16AM2023 Should Be a Great Year to Go Bargain Shopping for Growth Stocks Motley Fool\n",
            "06:15AMS&P 500 Bull Market: Here's How to Start Preparing for the Upswing Motley Fool\n",
            "06:01AMBetter Buy for 2023: Disney vs. Amazon Motley Fool\n",
            "05:52AM2 Metaverse Stocks That Could Make You Richer in 2023 Motley Fool\n",
            "05:21AM5 Stocks Billionaire Money Managers Want to Own in 2023 Motley Fool\n",
            "02:15AMMost Tech Stocks Had a Miserable Year. Not IBM. Barrons.com\n",
            "12:30AMThe Rise of the Robot Worker: Why Your Job Is Safe for Now. Barrons.com\n",
            "12:00AMMeta and Alphabet lose dominance over US digital ads market Financial Times\n",
            "Dec-22-22 07:46PMPeak TV is coming to an end as streaming services look to cut costs MarketWatch\n",
            "06:18PMAmazon stock breaks below 2020 low for the first time, heads for worst year since dot-com bust MarketWatch\n",
            "05:18PMYouTube's NFL Deal Is a Score for Streaming, Sack for Cable Investopedia\n",
            "03:58PMWhy the union push at Amazon isn't going to stop Yahoo Finance\n",
            "03:02PMAmazon Analyst Slashes FY23 Estimates As Investors Seek Its Upside Pricing Power Benzinga\n",
            "02:27PMJim Cramers 10 Comeback Stocks Insider Monkey\n",
            "02:07PMEuropean Ruling Outlines Amazon Liability in Christian Louboutin Counterfeiting Case WWD\n",
            "11:59AMWhy Alphabet, Amazon, and Microsoft Stocks All Fell Thursday Motley Fool\n",
            "11:00AMWill Shopify Stock Recover in 2023? Motley Fool\n",
            "09:36AMAlphabet (GOOGL) Boosts YouTube Streaming Efforts With NFL Deal Zacks\n",
            "09:17AMAmazon Stock Just Hit a 52-Week Low. Here's Why It Could Go Even Lower. Motley Fool\n",
            "09:15AMCould Apple Still Be the World's Largest Company in 2023? Motley Fool\n",
            "08:45AMBetter Buy: Shopify vs. Etsy Stock Motley Fool\n",
            "08:23AMHere's Why You Should Buy Amazon Stock Before the End of 2022 Motley Fool\n",
            "08:02AMUPDATE 2-Amazon may be responsible for allowing Louboutin knock-off ads, EU court says Reuters\n",
            "05:31AMBitcoin interest surged in 2022 as 'crypto winter' arrived: Morning Brief Yahoo Finance\n",
            "05:30AMInside Rivian and Fords Plants, as They Race to Build EVs Faster WSJ\n",
            "05:28AMAmazon may be responsible for allowing Louboutin knock-off ads, EU court says Reuters\n",
            "05:25AMAmazon may be responsible for allowing Louboutin knock-off ads, EU court says Reuters\n",
            "05:16AMIndia panel recommends digital competition act to rein in Big Tech Reuters\n",
            "01:15AMBill Miller Is Still Bullish on Bitcoin, Amazon, and More Barrons.com\n",
            "Dec-21-22 06:37PMWhy Amazon, Apple, and Chewy Stocks All Rallied on Wednesday Motley Fool\n",
            "03:52PMHow the EU Took On Big Tech in 2022 WSJ\n",
            "03:39PMJustin Bieber the latest major act to sell music rights in reported $200 million deal Yahoo Finance\n",
            "03:09PMGoogle Downplays Microsoft Cloud Potential Versus Wall Street; Analyst Disagrees Benzinga\n",
            "02:51PMTeslas stock drop has been bad. But this company has wiped out more investor wealth in 2022. MarketWatch\n",
            "12:56PM11 Best Penny Stocks to Buy Now Insider Monkey\n",
            "12:00PM3 Top E-Commerce Stocks to Buy Right Now Motley Fool\n",
            "11:49AMDisney and Amazon Are Close to Joining an Unenviable Club of 44 Stocks Barrons.com\n",
            "11:15AM3 Reasons to Buy Amazon Stock Before 2023 Motley Fool\n",
            "10:15AMIs Amazon Stock a Buy Going Into 2023 After Nike's Report? Motley Fool\n",
            "10:05AMAmazon: What to Expect in 2023 and Beyond Motley Fool\n",
            "09:54AMPrice Matching Can Save You Hundreds: Heres What Stores Offer It GOBankingRates\n",
            "09:24AM11 Best TaaS Stocks to Buy Now Insider Monkey\n",
            "09:23AMThe Smartest Investors Are Buying These 3 Stocks Hand Over Fist Motley Fool\n",
            "09:00AM3 Things About Amazon Stock That Smart Investors Know Motley Fool\n",
            "08:55AMInterest Rate Hikes Won't Stop These 2 Cash-Rich Growth Stocks Motley Fool\n",
            "08:17AM2 Warren Buffett Stocks to Buy More Of in December Motley Fool\n",
            "07:00AMWhich Cloud Computing Stock Will Reign Supreme in 2023? Motley Fool\n",
            "06:50AM2 Top Warren Buffett Stocks to Buy Right Now Motley Fool\n",
            "06:18AM2 Big Stock Market Predictions for 2023 Motley Fool\n",
            "06:15AMA Once-in-a-Decade Investing Opportunity Is Here. Should You Buy Now? Motley Fool\n",
            "06:00AMHow Amazon's AWS hires for and develops hard-to-find cloud skills Quartz\n",
            "05:34AM2 High-Conviction Growth Stocks To Buy Aggressively Before the End of 2022 Motley Fool\n",
            "05:20AMGot $300? These 2 Stocks Could Supercharge Your Portfolio in 2023 Motley Fool\n",
            "05:12AMChewy Stock: Bull vs. Bear Motley Fool\n",
            "02:21AMThese are some of the Puget Sound region's most notable tech layoffs of 2022 (Photos) American City Business Journals\n",
            "Dec-20-22 07:04PMWells Fargo, Amazon Look to Move On Motley Fool\n",
            "04:21PMUSPS will electrify entire mail-delivery fleet within just a few years MarketWatch\n",
            "04:02PMPharmacies limit the purchase of kids' meds. How bad are the shortages? Yahoo Finance\n",
            "03:00PMA.I. is getting your holiday gifts to you more efficiently than ever Fortune\n",
            "02:49PM13 Best New Tech Stocks to Buy Now Insider Monkey\n",
            "02:03PMAmazon loans $54.8M to Nashville affordable housing projects American City Business Journals\n",
            "01:10PMDisney, Amazon May Join an Unenviable Club of 44 Stocks Barrons.com\n",
            "12:51PMImax (IMAX) Delivers a Massive Opening of Avatar: The Way Of Water Zacks\n",
            "12:06PMAmazon union push is not going to stop, Chris Smalls says Yahoo Finance Video\n"
          ]
        }
      ],
      "source": [
        "# Iterate through the news\n",
        "parsed_news = []\n",
        "for file_name, news_table in news_tables.items():\n",
        "    for x in news_table.findAll('tr'):\n",
        "        print(x.get_text())\n",
        "        text = x.get_text() \n",
        "        date_scrape = x.td.text.split()\n",
        "\n",
        "        if len(date_scrape) == 1:\n",
        "            time = date_scrape[0]\n",
        "            \n",
        "        else:\n",
        "            date = date_scrape[0]\n",
        "            time = date_scrape[1]\n",
        "\n",
        "        ticker = file_name.split('_')[0]\n",
        "        \n",
        "        parsed_news.append([ticker, date, time, text ])"
      ]
    },
    {
      "cell_type": "markdown",
      "metadata": {},
      "source": [
        "# Sentiment Analysis of FinViz data #"
      ]
    },
    {
      "cell_type": "code",
      "execution_count": 111,
      "metadata": {},
      "outputs": [
        {
          "name": "stderr",
          "output_type": "stream",
          "text": [
            "[nltk_data] Downloading package vader_lexicon to\n",
            "[nltk_data]     C:\\Users\\Ishaan\\AppData\\Roaming\\nltk_data...\n",
            "[nltk_data]   Package vader_lexicon is already up-to-date!\n"
          ]
        },
        {
          "data": {
            "text/plain": [
              "True"
            ]
          },
          "execution_count": 111,
          "metadata": {},
          "output_type": "execute_result"
        }
      ],
      "source": [
        "nltk.download('vader_lexicon')"
      ]
    },
    {
      "cell_type": "code",
      "execution_count": 112,
      "metadata": {},
      "outputs": [],
      "source": [
        "# Sentiment Analysis\n",
        "analyzer = SentimentIntensityAnalyzer()\n",
        "\n",
        "columns = ['Ticker', 'Date', 'Time', 'Headline']\n",
        "news = pd.DataFrame(parsed_news, columns=columns)\n",
        "scores = news['Headline'].apply(analyzer.polarity_scores).tolist()\n",
        "\n",
        "df_scores = pd.DataFrame(scores)\n",
        "news = news.join(df_scores, rsuffix='_right')"
      ]
    },
    {
      "cell_type": "code",
      "execution_count": 113,
      "metadata": {},
      "outputs": [
        {
          "name": "stdout",
          "output_type": "stream",
          "text": [
            "\n",
            "\n",
            "              Date     Time    neg    neu    pos  compound\n",
            "Ticker                                                    \n",
            "AAPL    2022-12-26  01:06PM  0.000  1.000  0.000    0.0000\n",
            "AAPL    2022-12-26  01:04PM  0.000  1.000  0.000    0.0000\n",
            "AAPL    2022-12-26  07:19AM  0.326  0.674  0.000   -0.4404\n",
            "AAPL    2022-12-26  06:01AM  0.209  0.791  0.000   -0.4404\n",
            "AAPL    2022-12-26  05:07AM  0.177  0.549  0.274    0.1531\n",
            "\n",
            "\n",
            "              Date     Time    neg    neu    pos  compound\n",
            "Ticker                                                    \n",
            "TSLA    2022-12-26  06:22PM  0.000  1.000  0.000    0.0000\n",
            "TSLA    2022-12-26  02:42PM  0.112  0.888  0.000   -0.2263\n",
            "TSLA    2022-12-26  12:48PM  0.000  1.000  0.000    0.0000\n",
            "TSLA    2022-12-26  11:16AM  0.379  0.621  0.000   -0.6705\n",
            "TSLA    2022-12-26  09:19AM  0.000  0.897  0.103    0.1280\n",
            "\n",
            "\n",
            "              Date     Time    neg    neu    pos  compound\n",
            "Ticker                                                    \n",
            "AMZN    2022-12-26  09:40AM  0.176  0.667  0.158   -0.0772\n",
            "AMZN    2022-12-26  08:30AM  0.302  0.521  0.177   -0.2960\n",
            "AMZN    2022-12-26  06:14AM  0.209  0.791  0.000   -0.4404\n",
            "AMZN    2022-12-26  05:45AM  0.225  0.775  0.000   -0.4404\n",
            "AMZN    2022-12-26  05:30AM  0.152  0.628  0.220    0.3182\n",
            "\n",
            "\n",
            "        Mean Sentiment\n",
            "Ticker                \n",
            "AMZN             -0.03\n",
            "AAPL             -0.07\n",
            "TSLA             -0.07\n"
          ]
        }
      ],
      "source": [
        "# View Data \n",
        "#news = pd.DataFrame()\n",
        "news['Date'] = pd.to_datetime(news.Date).dt.date\n",
        "\n",
        "unique_ticker = news['Ticker'].unique().tolist()\n",
        "news_dict = {name: news.loc[news['Ticker'] == name] for name in unique_ticker}\n",
        "\n",
        "values = []\n",
        "for ticker in tickers: \n",
        "    dataframe = news_dict[ticker]\n",
        "    dataframe = dataframe.set_index('Ticker')\n",
        "    dataframe = dataframe.drop(columns = ['Headline'])\n",
        "    print ('\\n')\n",
        "    print (dataframe.head())\n",
        "    \n",
        "    mean = round(dataframe['compound'].mean(), 2)\n",
        "    values.append(mean)\n",
        "    \n",
        "df = pd.DataFrame(list(zip(tickers, values)), columns =['Ticker', 'Mean Sentiment']) \n",
        "df = df.set_index('Ticker')\n",
        "df = df.sort_values('Mean Sentiment', ascending=False)\n",
        "print ('\\n')\n",
        "print (df)"
      ]
    },
    {
      "cell_type": "code",
      "execution_count": 114,
      "metadata": {},
      "outputs": [
        {
          "name": "stdout",
          "output_type": "stream",
          "text": [
            "Getting stock open for stock $AAPL\n",
            "AAPL 130.9199981689453\n"
          ]
        }
      ],
      "source": [
        "#Testing helper functions from stock_helper_functions.ipynb\n",
        "aapl_open = getStockOpen(\"AAPL\")"
      ]
    },
    {
      "cell_type": "markdown",
      "metadata": {},
      "source": [
        "# Creating Dataset #"
      ]
    },
    {
      "cell_type": "code",
      "execution_count": 115,
      "metadata": {},
      "outputs": [],
      "source": [
        "#Defining a new dataframe called 'dataset'\n",
        "dataset = pd.DataFrame()"
      ]
    },
    {
      "cell_type": "code",
      "execution_count": 116,
      "metadata": {},
      "outputs": [
        {
          "name": "stdout",
          "output_type": "stream",
          "text": [
            "The stock name is: $AAPL\n",
            "Getting stock data for stock $AAPL\n",
            "[*********************100%***********************]  1 of 1 completed\n",
            "                  Open        High         Low       Close   Adj Close  \\\n",
            "Date                                                                     \n",
            "2022-12-23  130.919998  132.419998  129.639999  131.860001  131.860001   \n",
            "\n",
            "              Volume  \n",
            "Date                  \n",
            "2022-12-23  63771000  \n",
            "The stock name is: $TSLA\n",
            "Getting stock data for stock $TSLA\n",
            "[*********************100%***********************]  1 of 1 completed\n",
            "                  Open        High         Low       Close   Adj Close  \\\n",
            "Date                                                                     \n",
            "2022-12-23  126.370003  128.619995  121.019997  123.150002  123.150002   \n",
            "\n",
            "               Volume  \n",
            "Date                   \n",
            "2022-12-23  166396100  \n",
            "The stock name is: $AMZN\n",
            "Getting stock data for stock $AMZN\n",
            "[*********************100%***********************]  1 of 1 completed\n",
            "             Open       High    Low  Close  Adj Close    Volume\n",
            "Date                                                           \n",
            "2022-12-23  83.25  85.779999  82.93  85.25      85.25  57390800\n"
          ]
        }
      ],
      "source": [
        "#Pulling stock data\n",
        "for i in tickers:\n",
        "    dataset = getStockDataDaily(i, day='2022-12-23')\n",
        "    print(dataset)\n",
        "    "
      ]
    },
    {
      "cell_type": "code",
      "execution_count": null,
      "metadata": {},
      "outputs": [],
      "source": []
    }
  ],
  "metadata": {
    "colab": {
      "authorship_tag": "ABX9TyO2ChGGwJkijmmb0vDcCR40",
      "include_colab_link": true,
      "name": "Sentiment Analysis.ipynb",
      "provenance": []
    },
    "kernelspec": {
      "display_name": "Python 3.10.0 64-bit",
      "language": "python",
      "name": "python3"
    },
    "language_info": {
      "codemirror_mode": {
        "name": "ipython",
        "version": 3
      },
      "file_extension": ".py",
      "mimetype": "text/x-python",
      "name": "python",
      "nbconvert_exporter": "python",
      "pygments_lexer": "ipython3",
      "version": "3.10.0"
    },
    "vscode": {
      "interpreter": {
        "hash": "369f2c481f4da34e4445cda3fffd2e751bd1c4d706f27375911949ba6bb62e1c"
      }
    }
  },
  "nbformat": 4,
  "nbformat_minor": 0
}
