{
  "cells": [
    {
      "cell_type": "markdown",
      "metadata": {
        "colab_type": "text",
        "id": "view-in-github"
      },
      "source": [
        "<a href=\"https://colab.research.google.com/github/ishaanpaul98/Sentiment-Analysis/blob/main/Sentiment_Analysis.ipynb\" target=\"_parent\"><img src=\"https://colab.research.google.com/assets/colab-badge.svg\" alt=\"Open In Colab\"/></a>"
      ]
    },
    {
      "cell_type": "markdown",
      "metadata": {},
      "source": [
        "# Imports #"
      ]
    },
    {
      "cell_type": "code",
      "execution_count": 407,
      "metadata": {
        "id": "pGQVQfr0b3SS"
      },
      "outputs": [],
      "source": [
        "# Import libraries\n",
        "import pandas as pd\n",
        "import matplotlib.pyplot as plt\n",
        "import seaborn as sns\n",
        "import numpy as np\n",
        "from wordcloud import WordCloud\n",
        "import re\n",
        "\n",
        "from bs4 import BeautifulSoup\n",
        "from urllib.request import urlopen, Request\n",
        "from nltk.sentiment.vader import SentimentIntensityAnalyzer\n",
        "\n",
        "import datetime\n",
        "import yfinance as yf\n",
        "import time\n",
        "import requests\n",
        "import io"
      ]
    },
    {
      "cell_type": "code",
      "execution_count": 408,
      "metadata": {
        "id": "WSgZEvuikgTn"
      },
      "outputs": [],
      "source": [
        "import nltk\n",
        "from nltk.corpus import stopwords\n",
        "from nltk.stem import WordNetLemmatizer"
      ]
    },
    {
      "cell_type": "code",
      "execution_count": 409,
      "metadata": {
        "id": "9hbdUWDKkgv_"
      },
      "outputs": [],
      "source": [
        "from sklearn.feature_extraction.text import CountVectorizer\n",
        "from sklearn.model_selection import GridSearchCV\n",
        "from sklearn.ensemble import RandomForestClassifier"
      ]
    },
    {
      "cell_type": "code",
      "execution_count": 410,
      "metadata": {
        "id": "Eqvj106lkgyU"
      },
      "outputs": [],
      "source": [
        "from sklearn.metrics import accuracy_score,precision_score,recall_score,confusion_matrix,roc_curve,classification_report\n",
        "from sklearn.metrics import plot_confusion_matrix"
      ]
    },
    {
      "cell_type": "markdown",
      "metadata": {},
      "source": [
        "# Stock Data Helper Functions #"
      ]
    },
    {
      "cell_type": "code",
      "execution_count": 411,
      "metadata": {},
      "outputs": [],
      "source": [
        "def arrayToString(arr):\n",
        "    print(\"Starting array to list\")\n",
        "    listToStr = ' '.join([str(elem) for elem in arr])\n",
        "    return listToStr\n"
      ]
    },
    {
      "cell_type": "code",
      "execution_count": 412,
      "metadata": {},
      "outputs": [
        {
          "name": "stdout",
          "output_type": "stream",
          "text": [
            "Starting array to list\n",
            "Getting stock data for stock $AAPL TSLA\n",
            "[*********************100%***********************]  2 of 2 completed\n"
          ]
        },
        {
          "data": {
            "text/html": [
              "<div>\n",
              "<style scoped>\n",
              "    .dataframe tbody tr th:only-of-type {\n",
              "        vertical-align: middle;\n",
              "    }\n",
              "\n",
              "    .dataframe tbody tr th {\n",
              "        vertical-align: top;\n",
              "    }\n",
              "\n",
              "    .dataframe thead tr th {\n",
              "        text-align: left;\n",
              "    }\n",
              "\n",
              "    .dataframe thead tr:last-of-type th {\n",
              "        text-align: right;\n",
              "    }\n",
              "</style>\n",
              "<table border=\"1\" class=\"dataframe\">\n",
              "  <thead>\n",
              "    <tr>\n",
              "      <th></th>\n",
              "      <th colspan=\"6\" halign=\"left\">TSLA</th>\n",
              "      <th colspan=\"6\" halign=\"left\">AAPL</th>\n",
              "    </tr>\n",
              "    <tr>\n",
              "      <th></th>\n",
              "      <th>Open</th>\n",
              "      <th>High</th>\n",
              "      <th>Low</th>\n",
              "      <th>Close</th>\n",
              "      <th>Adj Close</th>\n",
              "      <th>Volume</th>\n",
              "      <th>Open</th>\n",
              "      <th>High</th>\n",
              "      <th>Low</th>\n",
              "      <th>Close</th>\n",
              "      <th>Adj Close</th>\n",
              "      <th>Volume</th>\n",
              "    </tr>\n",
              "    <tr>\n",
              "      <th>Date</th>\n",
              "      <th></th>\n",
              "      <th></th>\n",
              "      <th></th>\n",
              "      <th></th>\n",
              "      <th></th>\n",
              "      <th></th>\n",
              "      <th></th>\n",
              "      <th></th>\n",
              "      <th></th>\n",
              "      <th></th>\n",
              "      <th></th>\n",
              "      <th></th>\n",
              "    </tr>\n",
              "  </thead>\n",
              "  <tbody>\n",
              "    <tr>\n",
              "      <th>2022-12-21</th>\n",
              "      <td>139.339996</td>\n",
              "      <td>141.259995</td>\n",
              "      <td>135.889999</td>\n",
              "      <td>137.570007</td>\n",
              "      <td>137.570007</td>\n",
              "      <td>145051100</td>\n",
              "      <td>132.979996</td>\n",
              "      <td>136.809998</td>\n",
              "      <td>132.75</td>\n",
              "      <td>135.449997</td>\n",
              "      <td>135.449997</td>\n",
              "      <td>85859600</td>\n",
              "    </tr>\n",
              "  </tbody>\n",
              "</table>\n",
              "</div>"
            ],
            "text/plain": [
              "                  TSLA                                                  \\\n",
              "                  Open        High         Low       Close   Adj Close   \n",
              "Date                                                                     \n",
              "2022-12-21  139.339996  141.259995  135.889999  137.570007  137.570007   \n",
              "\n",
              "                             AAPL                                              \\\n",
              "               Volume        Open        High     Low       Close   Adj Close   \n",
              "Date                                                                            \n",
              "2022-12-21  145051100  132.979996  136.809998  132.75  135.449997  135.449997   \n",
              "\n",
              "                      \n",
              "              Volume  \n",
              "Date                  \n",
              "2022-12-21  85859600  "
            ]
          },
          "execution_count": 412,
          "metadata": {},
          "output_type": "execute_result"
        }
      ],
      "source": [
        "def getStockDataDaily(symbols, day):\n",
        "    symbols = arrayToString(symbols)\n",
        "    print(\"Getting stock data for stock $\"+symbols)\n",
        "    df = yf.download(symbols, start=day, period = \"1d\", group_by='ticker')\n",
        "    return df\n",
        "\n",
        "getStockDataDaily(['AAPL', 'TSLA'], \"2022-12-21\")"
      ]
    },
    {
      "cell_type": "code",
      "execution_count": 413,
      "metadata": {},
      "outputs": [
        {
          "name": "stdout",
          "output_type": "stream",
          "text": [
            "Getting stock close for stock $AAPL\n",
            "AAPL 135.4499969482422\n"
          ]
        },
        {
          "data": {
            "text/plain": [
              "135.4499969482422"
            ]
          },
          "execution_count": 413,
          "metadata": {},
          "output_type": "execute_result"
        }
      ],
      "source": [
        "def getStockClose(symbol):\n",
        "    print(\"Getting stock close for stock $\"+symbol)\n",
        "    ticker = yf.Ticker(symbol)\n",
        "    data = ticker.history()\n",
        "    #print(data)\n",
        "    last_price = data['Close'].iloc[-1]\n",
        "    print(symbol, last_price)\n",
        "    return last_price\n",
        "\n",
        "getStockClose(\"AAPL\")"
      ]
    },
    {
      "cell_type": "code",
      "execution_count": 414,
      "metadata": {},
      "outputs": [
        {
          "name": "stdout",
          "output_type": "stream",
          "text": [
            "Getting stock open for stock $AAPL\n",
            "AAPL 132.97999572753906\n"
          ]
        },
        {
          "data": {
            "text/plain": [
              "132.97999572753906"
            ]
          },
          "execution_count": 414,
          "metadata": {},
          "output_type": "execute_result"
        }
      ],
      "source": [
        "def getStockOpen(symbol):\n",
        "    print(\"Getting stock open for stock $\"+symbol)\n",
        "    ticker = yf.Ticker(symbol)\n",
        "    data = ticker.history()\n",
        "    #print(data)\n",
        "    last_price = data['Open'].iloc[-1]\n",
        "    print(symbol, last_price)\n",
        "    return last_price\n",
        "\n",
        "getStockOpen(\"AAPL\")"
      ]
    },
    {
      "cell_type": "code",
      "execution_count": 415,
      "metadata": {},
      "outputs": [
        {
          "name": "stdout",
          "output_type": "stream",
          "text": [
            "Getting stock high for stock $AAPL\n",
            "AAPL 136.80999755859375\n"
          ]
        },
        {
          "data": {
            "text/plain": [
              "136.80999755859375"
            ]
          },
          "execution_count": 415,
          "metadata": {},
          "output_type": "execute_result"
        }
      ],
      "source": [
        "def getStockHigh(symbol):\n",
        "    print(\"Getting stock high for stock $\"+symbol)\n",
        "    ticker = yf.Ticker(symbol)\n",
        "    data = ticker.history()\n",
        "    #print(data)\n",
        "    last_price = data['High'].iloc[-1]\n",
        "    print(symbol, last_price)\n",
        "    return last_price\n",
        "\n",
        "getStockHigh(\"AAPL\")"
      ]
    },
    {
      "cell_type": "code",
      "execution_count": 416,
      "metadata": {},
      "outputs": [
        {
          "name": "stdout",
          "output_type": "stream",
          "text": [
            "Getting stock low for stock $AAPL\n",
            "AAPL 132.75\n"
          ]
        },
        {
          "data": {
            "text/plain": [
              "132.75"
            ]
          },
          "execution_count": 416,
          "metadata": {},
          "output_type": "execute_result"
        }
      ],
      "source": [
        "def getStockLow(symbol):\n",
        "    print(\"Getting stock low for stock $\"+symbol)\n",
        "    ticker = yf.Ticker(symbol)\n",
        "    data = ticker.history()\n",
        "    #print(data)\n",
        "    last_price = data['Low'].iloc[-1]\n",
        "    print(symbol, last_price)\n",
        "    return last_price\n",
        "\n",
        "getStockLow(\"AAPL\")"
      ]
    },
    {
      "cell_type": "markdown",
      "metadata": {},
      "source": [
        "# Gathering FinViz Data #"
      ]
    },
    {
      "cell_type": "code",
      "execution_count": 417,
      "metadata": {},
      "outputs": [],
      "source": [
        "# Parameters \n",
        "n = 3 #the # of article headlines displayed per ticker\n",
        "tickers = ['AAPL', 'TSLA', 'AMZN']"
      ]
    },
    {
      "cell_type": "code",
      "execution_count": 418,
      "metadata": {},
      "outputs": [
        {
          "name": "stdout",
          "output_type": "stream",
          "text": [
            "current url is: https://finviz.com/quote.ashx?t=AAPL\n",
            "current url is: https://finviz.com/quote.ashx?t=TSLA\n",
            "current url is: https://finviz.com/quote.ashx?t=AMZN\n",
            "\n",
            "\n",
            "Recent News Headlines for AAPL: \n",
            "Why Amazon, Apple, and Chewy Stocks All Rallied on Wednesday ( Dec-21-22 06:37PM )\n",
            "Apple to launch first AR headset in 2023 ( 04:56PM )\n",
            "Tech stocks: The 'best' and worst performers of 2022 ( 04:18PM )\n",
            "\n",
            "\n",
            "Recent News Headlines for TSLA: \n",
            "Analysis-Short sellers gain nearly $304 billion after tumble in U.S. stocks ( Dec-22-22 01:04AM )\n",
            "Tesla offers discount on some car models in U.S., Canada ( 12:11AM )\n",
            "Dow Jones Futures: S&P 500 Regains Key Level, But Stay Cautious; Tesla Doubles U.S. Discount ( Dec-21-22 10:04PM )\n",
            "\n",
            "\n",
            "Recent News Headlines for AMZN: \n",
            "Why Amazon, Apple, and Chewy Stocks All Rallied on Wednesday ( Dec-21-22 06:37PM )\n",
            "How the EU Took On Big Tech in 2022 ( 03:52PM )\n",
            "Justin Bieber the latest major act to sell music rights in reported $200 million deal ( 03:39PM )\n"
          ]
        }
      ],
      "source": [
        "# Get Data\n",
        "finwiz_url = 'https://finviz.com/quote.ashx?t='\n",
        "news_tables = {}\n",
        "\n",
        "for ticker in tickers:\n",
        "    url = finwiz_url + ticker\n",
        "    print(\"current url is: \" +url)\n",
        "    header = {\"User-Agent\": \"Mozilla/5.0 (Windows NT 10.0; Win64; x64) AppleWebKit/537.36 (KHTML, like Gecko) Chrome/92.0.4515.159 Safari/537.36.\"}\n",
        "    req = Request(url=url,headers=header) \n",
        "    resp = urlopen(req)    \n",
        "    html = BeautifulSoup(resp, features=\"lxml\")\n",
        "    news_table = html.find(id='news-table')\n",
        "    news_tables[ticker] = news_table\n",
        "\n",
        "try:\n",
        "    for ticker in tickers:\n",
        "        df = news_tables[ticker]\n",
        "        df_tr = df.findAll('tr')\n",
        "    \n",
        "        print ('\\n')\n",
        "        print ('Recent News Headlines for {}: '.format(ticker))\n",
        "        \n",
        "        for i, table_row in enumerate(df_tr):\n",
        "            a_text = table_row.a.text\n",
        "            td_text = table_row.td.text\n",
        "            td_text = td_text.strip()\n",
        "            print(a_text,'(',td_text,')')\n",
        "            if i == n-1:\n",
        "                break\n",
        "except KeyError:\n",
        "    pass"
      ]
    },
    {
      "cell_type": "code",
      "execution_count": 419,
      "metadata": {},
      "outputs": [
        {
          "name": "stdout",
          "output_type": "stream",
          "text": [
            "Dec-21-22 06:37PMWhy Amazon, Apple, and Chewy Stocks All Rallied on Wednesday Motley Fool\n",
            "04:56PMApple to launch first AR headset in 2023 Yahoo Finance Video\n",
            "04:18PMTech stocks: The 'best' and worst performers of 2022 Yahoo Finance\n",
            "03:52PMHow the EU Took On Big Tech in 2022 WSJ\n",
            "03:39PMJustin Bieber the latest major act to sell music rights in reported $200 million deal Yahoo Finance\n",
            "\n",
            "03:16PM\n",
            "Loading…\n",
            "\n",
            "03:16PMApple's Regulatory Risks Led Pullback Likely To Render A Buying Opportunity, Analyst Says Benzinga\n",
            "02:51PMTeslas stock drop has been bad. But this company has wiped out more investor wealth in 2022. MarketWatch\n",
            "02:25PM5 Things You Might Not Know About Apple CEO Tim Cook Benzinga\n",
            "12:47PMApple Stock Has Struggled This Year. The Case for a Better Next Year. Barrons.com\n",
            "12:00PM2 Growth Stocks to Buy in December Motley Fool\n",
            "11:07AMApple Stock Has Struggled in 2022. But Analyst Sees Resilient Demand for Tech Giants Products Next Year. Barrons.com\n",
            "10:44AMTech stocks had a rough year. Apple, Microsoft, and Qualcomm did slightly better. Yahoo Finance Video\n",
            "10:40AMBetter Buy for 2023: Apple vs. Nvidia Motley Fool\n",
            "10:30AMHere are the 3 big bets Warren Buffett is taking into 2023  if you're worried about the new year, it might be time to follow along MoneyWise\n",
            "10:19AMAlphabet (GOOGL) Updates Workspace Apps With Toggle Feature Zacks\n",
            "\n",
            "09:25AM\n",
            "Loading…\n",
            "\n",
            "09:25AMApple (AAPL) Set to Shift Some MacBook Production to Vietnam Zacks\n",
            "08:33AMIs Bed Bath & Beyond Stock Really a Cheap Buy? Here's What the Charts Say Motley Fool\n",
            "08:00AMAmid Weak Digital Ad Outlook, Apple, Walmart, Internet TV Are Still Bright Spots Investor's Business Daily\n",
            "07:00AMApple May Face Greatest Loyalty Test Yet The Wall Street Journal\n",
            "06:00AMA Look At The Fair Value Of Apple Inc. (NASDAQ:AAPL) Simply Wall St.\n",
            "05:15AMApple Stock: Bull vs. Bear Motley Fool\n",
            "Dec-20-22 11:21PMNo Sign of Smartphone Recovery Until Late 2023, TDK CEO Cautions Bloomberg\n",
            "08:06PMApple (AAPL) vs. Microsoft (MSFT): Which stock is the Better Buy for 2023? Zacks\n",
            "05:45PMApple (AAPL) Stock Sinks As Market Gains: What You Should Know Zacks\n",
            "04:33PMApple Partially Shifts Macbook Production to Vietnam Investopedia\n",
            "04:11PMHow big tech defeated the biggest antitrust push in decades on Capitol Hill LA Times\n",
            "12:03PMAmazon settles with the EU over antitrust charges Yahoo Finance Video\n",
            "09:49AM12 Best Stocks To Invest In Right Now Insider Monkey\n",
            "09:43AMNo love for meme stocks  stock-trading kids are loading up on Apple and index funds MarketWatch\n",
            "09:41AMStocks mixed at open, Apple and Tesla move lower Yahoo Finance Video\n",
            "\n",
            "09:31AM\n",
            "Loading…\n",
            "\n",
            "09:31AMTarget, Amazon and 4 More Retailers That Will Reward You for Turning in Your Old Stuff GOBankingRates\n",
            "09:09AMApple files for more construction at NW Austin campus American City Business Journals\n",
            "09:08AMTwitter Rolls Out 'Blue For Business,' Visa Pitches Auto-Payments On Ethereum Blockchain, Justin Bieber Slams H&M: Today's Top Stories Benzinga\n",
            "09:01AM1 Top Stock to Buy for 2023 and Beyond Motley Fool\n",
            "08:15AMParis Court Slaps Apple With Fine Of 1M Over App Store Practices Benzinga\n",
            "07:53AMDow Jones Extends Losing Streak As Apple Sells Off; Tesla Hits New Low Amid Elon Musk Twitter Poll Investor's Business Daily\n",
            "07:30AMPurpose Investments Debuts Yield Shares, the Worlds First Yield-Focused Single-Stock ETFs GlobeNewswire\n",
            "07:00AMWill Nvidia Be a Trillion-Dollar Stock by 2030? Motley Fool\n",
            "06:59AMPayPal Stock: Buy, Sell, or Hold Before 2023? Motley Fool\n",
            "06:44AMApple Christmas iPhone Sales Will Take Supply Chain Hit, Says JPMorgan; Cuts Price Target TheStreet.com\n",
            "06:04AMAmazon stock is now down 50% this year and is at a 52-week low Yahoo Finance\n",
            "05:30AMStock Picking Makes a Comeback in Market Turbulence The Wall Street Journal\n",
            "05:20AMGot $1,000? 5 Buffett Stocks to Buy and Hold Forever Motley Fool\n",
            "Dec-19-22 06:10PMWhy Apple Stock Flopped on Monday Motley Fool\n",
            "03:48PMSports streaming: The math is difficult in negotiations and viewership count, analyst says Yahoo Finance Video\n",
            "12:47PMUpgrading Your Phone for the Holidays Could Save You $1,000 Right Now With This Provider GOBankingRates\n",
            "12:42PMUPDATE 1-Apple fined 1 mln euros by Paris court over App Store practices Reuters\n",
            "12:38PMNever Lose Your Things Again  The Startup Pouring Gasoline on the Apple AirTag Benzinga\n",
            "11:58AMApple fined 1 million euros by Paris court over App Store practices Reuters\n",
            "10:16AMAlphabet (GOOGL) Boosts Wear OS Platform With KoruLab Takeover Zacks\n",
            "10:06AMGoogle, Amazon, Microsoft's Growing Finance Business Is Getting Them Bank-Like Treatment. Are Beaten Down Tech Stocks A Buy Now? Investor's Business Daily\n",
            "09:26AMSee it from the air: Williamson County raking in some of America's biggest projects American City Business Journals\n",
            "09:00AMInvestors Heavily Search Apple Inc. (AAPL): Here is What You Need to Know Zacks\n",
            "09:00AMShould You Buy Spotify Stock Before the End of 2022? Motley Fool\n",
            "08:24AMWhy More EV Makers Arent Making Cars at All Barrons.com\n",
            "07:00AMIs Apple Stock A Buy Amid Holiday Season Shopping? Investor's Business Daily\n",
            "05:36AMTesla stock pops on Musk's Twitter 'step down' poll Yahoo Finance\n",
            "05:06AMWarren Buffett Has Spent $136 Billion Buying These 4 Stocks Since 2016 Motley Fool\n",
            "Dec-18-22 11:48PMApple Suppliers Accelerate Buildup Outside China, Analysts Say Bloomberg\n",
            "11:03PMBig Techs' Growing Finance Business Is Getting Them Bank-Like Treatment. Are Beaten Down Tech Stocks A Buy Now? Investor's Business Daily\n",
            "10:21AMNever Mind the FAANG Stocks, Buy the GHOST Stocks Before 2023 Motley Fool\n",
            "10:00AMIts Time to Boot the Moochers Off Your Spotify, Netflix and Other Accounts The Wall Street Journal\n",
            "08:30AMEXCLUSIVE: New American Accessories Brand Aims to Redefine Luxury NFT Experience WWD\n",
            "07:50AMA Bull Market Is Coming: 2 Trillion-Dollar Growth Stocks to Buy Before They Soar Motley Fool\n",
            "07:30AMSemiconductor Stocks Are On the Rise: 3 Companies to Watch Right Now Motley Fool\n",
            "07:20AM3 Metaverse Stocks to Buy Right Now Motley Fool\n",
            "Dec-17-22 09:51AM15 Most Boycotted Companies and Brands in History Insider Monkey\n",
            "08:15AMSteve Jobs 'wouldnt have succeeded' without Tim Cook, former Apple exec explains Yahoo Finance\n",
            "06:40AM3 Stocks to Invest in Virtual Reality Motley Fool\n",
            "06:32AMDoes ExxonMobil's Massive $50 Billion Stock Buyback Make It a Buy? Motley Fool\n",
            "06:00AMInsiders probably made the right decision selling US$3.0m worth of shares earlier this year as Apple Inc.'s (NASDAQ:AAPL)) stock dips by 5.4%. Simply Wall St.\n",
            "05:00AMBig Tech is Designing Chips Too, Should Semiconductor Investors Worry? Motley Fool\n",
            "Dec-16-22 06:13PMWeekly Round Up TheStreet.com\n",
            "04:54PMHow Apples privacy changes may impact Meta Yahoo Finance Video\n",
            "04:38PMThe No. 1 set and forget stock in tech hardware for next year? You guessed it. MarketWatch\n",
            "02:08PMApple Stock Breaks Below Key Support. TheStreet.com\n",
            "01:32PMStock market sell-off: Investors 'are changing their focus,' market strategist explains Yahoo Finance\n",
            "12:21PMHow Apple Makes Money Investopedia\n",
            "12:12PMMastercard (MA) Brings Secure Payments to Kuwait via Apple Pay Zacks\n",
            "12:12PMApple Explores Allowing iPhone, iPad Users to Download Apps Outside Its Store The Wall Street Journal\n",
            "10:41AMApple Stock Is a Top Pick for 2023, Analyst Says. Look Past Recent Struggles. Barrons.com\n",
            "09:45AMBetter Buy: Amazon vs. Apple Motley Fool\n",
            "09:38AMApp store avalanche forecast as Apple bows to EU demands Reuters\n",
            "09:35AMCORRECTED-App store avalanche forecast as Apple bows to EU demands Reuters\n",
            "09:00AMStar-Studded New Christmas Movies Still Cant Beat the Classics The Wall Street Journal\n",
            "08:21AMDow Jones Futures Fall After Nasdaq Breaks Key Level, Apple Dives; Here's The Silver Lining Investor's Business Daily\n",
            "06:20AMIs Warren Buffett's Berkshire Hathaway Stock a Buy Before the End of 2022? Motley Fool\n",
            "05:15AM40 Billion Reasons Why These Semiconductor Stocks Could Keep Beating the Market in 2023 Motley Fool\n",
            "02:00AMTesla and GM Are Betting Their Future on Electric Vehicles. Foxconn and Magna Want a Piece of the Action. Barrons.com\n",
            "Dec-15-22 05:07PMApple users unlikely to ditch App Store for cheaper alternatives, analyst says Yahoo Finance\n",
            "04:09PMWhy Taiwan Semiconductor Manufacturing, Applied Materials, and Skyworks Solutions Fell Hard Today Motley Fool\n",
            "12:35PMWhy Apple, Amazon, and Microsoft Are All Falling Today Motley Fool\n",
            "09:17AM10 Best-Performing Technology ETFs in 2022 Insider Monkey\n",
            "09:11AM2 Top Stocks Poised for Bull Runs in 2023 Motley Fool\n",
            "09:00AM3 Things About Apple That Smart Investors Know Motley Fool\n",
            "08:54AMApple (AAPL) Launches App Freeform for iPhone & iPad Users Zacks\n",
            "08:00AMJobs couldnt have succeeded without Tim Cook: Chahil Yahoo Finance Video\n",
            "08:00AMInfluencers with Andy Serwer: Satjiv Chahil Yahoo Finance Video\n",
            "08:00AMApple Supplier Foxconn Cuts Covid Rules at China iPhone Factory. The Damage Might Have Been Done. Barrons.com\n",
            "07:04AMCrucial Apple iPhone Supplier Relaxes Covid Restrictions In China Factory Benzinga\n",
            "Dec-22-22 01:04AMAnalysis-Short sellers gain nearly $304 billion after tumble in U.S. stocks Reuters\n",
            "12:11AMTesla offers discount on some car models in U.S., Canada Reuters\n",
            "Dec-21-22 10:04PMDow Jones Futures: S&P 500 Regains Key Level, But Stay Cautious; Tesla Doubles U.S. Discount Investor's Business Daily\n",
            "10:01PMS&P 500 Index Regains Key Level, But Stay Cautious; Tesla Doubles U.S. Discount Investor's Business Daily\n",
            "08:21PMTesla Stock Vs. BYD Stock: TSLA Stock Keeps Plunging On China Demand Fears, Musk's Twitter Reign Investor's Business Daily\n",
            "\n",
            "07:45PM\n",
            "Loading…\n",
            "\n",
            "07:45PMTesla driver in multi-car crash told police self-driving software malfunctioned Reuters\n",
            "06:19PMTesla stocks losing streak continues after report of hiring freeze, layoff plans MarketWatch\n",
            "05:45PMTesla (TSLA) Stock Sinks As Market Gains: What You Should Know Zacks\n",
            "05:03PMTesla sends Shanghai boss and aides to jumpstart US output Reuters\n",
            "05:00PMFOCUS-Tesla sends Shanghai boss and aides to jumpstart US output Reuters\n",
            "04:59PMTesla Bears Are Sitting on $15 Billion in Gains This Year The Wall Street Journal\n",
            "04:40PMTraders Rush into Tesla Put Options The Wall Street Journal\n",
            "04:34PMStock Market Today: Stocks End Higher on Nike, Consumer Sentiment Boost TheStreet.com\n",
            "04:31PMPressure Mounts for Musk as Tanking Tesla Shares Prompt Layoff Talk Investopedia\n",
            "04:28PMNo, Elon Musks Tweets Arent Hurting Tesla Sales Yet. The Stock Dropped Anyway. Barrons.com\n",
            "\n",
            "04:26PM\n",
            "Loading…\n",
            "\n",
            "04:26PMThese Stocks Are Moving the Most Today: Nike, Six Flags, Adaptive Bio, and More Barrons.com\n",
            "04:18PMTech stocks: The 'best' and worst performers of 2022 Yahoo Finance\n",
            "03:44PMTesla investor on Elon Musk: Twitter isnt good for him Yahoo Finance Video\n",
            "03:17PMPossible Tesla bounce good for a trade, but not an investment, says technical analyst MarketWatch\n",
            "02:51PMTeslas stock drop has been bad. But this company has wiped out more investor wealth in 2022. MarketWatch\n",
            "01:52PMThree leadership qualities that Elon Musks replacement as Twitters CEO will need MarketWatch\n",
            "01:15PM12 Best Tech Stocks For Long Term Investment Insider Monkey\n",
            "01:00PMRetail Investors Bought More Tesla Than Ever This Year The Wall Street Journal\n",
            "12:52PMTeslas troubles are more proof Elon Musk needs to step down as Twitter CEO Fortune\n",
            "12:46PMTesla stock looks to break losing streak after report of hiring freeze, layoff plans MarketWatch\n",
            "12:37PMTesla stock has been close to getting a break  but after report of hiring freeze, more layoffs MarketWatch\n",
            "12:36PMAre Elon Musks Twitter Troubles Hurting Tesla Vehicle Sales? Early Data Say  No. Barrons.com\n",
            "12:27PMTesla Stock Is Having Its Worst Quarter Ever. Elon Musk Blames Financial Math. Barrons.com\n",
            "11:47AMDelta and Moderna Share Good News Motley Fool\n",
            "11:44AMTesla stock hits new 52-week low, continues month-long decline Yahoo Finance Video\n",
            "\n",
            "11:15AM\n",
            "Loading…\n",
            "\n",
            "11:15AMCathie Wood Goes Bargain-Hunting: 3 Stocks She Just Bought Motley Fool\n",
            "10:57AMMusk Says Cost-Cutting Averted $3 Billion Twitter Shortfall Bloomberg\n",
            "10:24AMReport: Tesla freezes hiring again, plans layoffs early in 2023 American City Business Journals\n",
            "10:24AMTesla Stock Trims Gains On Musk Twitter Pledge, Tesla Hiring Freeze Investor's Business Daily\n",
            "10:24AMTesla Stock Rises As Musk Pledges Exit From Embattled Twitter Investor's Business Daily\n",
            "10:22AMTesla Shares Suffer Worst Year Ever. And 2023 Looks Bad, Too Bloomberg\n",
            "10:08AMDow Jones Rallies After Economic Data; Nike Surges 15% On Earnings; Tesla Hits New Low Investor's Business Daily\n",
            "10:06AMWhy the Smartest Investors Are Still Buying Tesla Stock Motley Fool\n",
            "09:54AMDow Jones Rallies Ahead Of Economic Data; Nike Surges 15% On Earnings; Tesla Hits New Low Investor's Business Daily\n",
            "09:50AMMusk Blames Financial Math  for Teslas Stock Fall. He Needs More Lessons. Barrons.com\n",
            "09:49AMStocks Higher Amid Nike, FedEx Earnings Beats TheStreet.com\n",
            "09:18AMDow Jones Futures Rally Ahead Of Consumer, Housing Data; Nike Surges On Earnings Investor's Business Daily\n",
            "09:05AMDown Almost 30% This Month, Is Tesla Stock a Buy? Motley Fool\n",
            "08:34AMTwitter Was Being Scammed $60M Every Year, Tesla Freezes Hiring, Netflix On Microsoft's Acquisition Radar: Today's Top Stories Benzinga\n",
            "08:27AMDow Jones Futures Climb Ahead Of Consumer, Housing Data; Nike Surges On Earnings Investor's Business Daily\n",
            "08:23AMDow Jones Futures Signal Market Rally As Nike Jumps; Tesla Stock Halts Meltdown Investor's Business Daily\n",
            "08:10AMIf You Invested $10,000 in Tesla Stock at Its IPO, Here's How Much You'd Have Today Motley Fool\n",
            "07:54AMWar of Words Between Elon Musk and a Tesla Investor TheStreet.com\n",
            "07:27AMElon Musks Tweets Arent Hurting Tesla Sales. Heres the Proof. Barrons.com\n",
            "07:00AMDoes Elon Musk Still Want to Be the CEO of Tesla? Bloomberg\n",
            "06:57AMBOJ, Yield Curve, Tuesday's Markets, Tesla Trade, Zelenskyy in DC, Nike Rocks It TheStreet.com\n",
            "06:44AMMusk to Abdicate at Twitter, but Tesla Still Has His Premium Priced in Barrons.com\n",
            "06:42AMUPDATE 1-Tesla to freeze hiring, lay off employees next quarter - Electrek Reuters\n",
            "06:33AMTesla to freeze hiring, lay off employees next quarter: report Reuters\n",
            "06:13AMMorning Bid: A year in reverse Reuters\n",
            "06:03AMTesla shares rise over 2% in premarket after Musk promises to step down as Twitter CEO MarketWatch\n",
            "06:00AMDow Jones Futures Rise As Nike Jumps; Market Rally Still Shaky As Tesla Meltdown Continues Investor's Business Daily\n",
            "06:00AMMORNING BID-A year in reverse Reuters\n",
            "05:35AMEver Wonder What Drives Tesla's Revenue? Motley Fool\n",
            "05:25AMTesla Stock Has Tanked. Elon Musk Blames Rising Rates, Not Twitter. Barrons.com\n",
            "05:04AMWhy Investors Should Avoid Tesla Stock In 2023 Motley Fool\n",
            "04:15AMCathie Wood Loads Up Tesla Amid Growing Criticism of Elon Musk Bloomberg\n",
            "03:55AMMusk Will Resign as Twitter CEO and Focus on Engineering Bloomberg\n",
            "Dec-20-22 10:23PMMusk to Resign When New Twitter CEO Found Bloomberg -8.05%\n",
            "10:07PMDow Jones Futures Rise On Nike As Market Rally Snaps Losing Streak; Tesla Meltdown Continues Investor's Business Daily\n",
            "09:15PMElon Musk says hell step down as Twitter CEO when he finds someone foolish enough to take the job MarketWatch\n",
            "08:45PMUPDATE 3-Musk to step down as Twitter CEO once he finds 'someone foolish' enough as successor Reuters\n",
            "06:30PMTeslas dropping share price takes valuation below ExxonMobils Financial Times\n",
            "06:30PMTesla share slide sends valuation below ExxonMobil Financial Times\n",
            "06:17PMA Big Tech Stock Just Set an Enormous Record (It Didn't Want To) TheStreet.com\n",
            "05:33PMElon Musks Twitter Problems Are Multiplying Bloomberg\n",
            "05:12PMDow Jones Futures: Market Rally Snaps Losing Streak; Tesla Meltdown Continues Investor's Business Daily\n",
            "05:09PMTesla is now worth less than Exxon as stock plunges toward worst month, quarter and year in history MarketWatch\n",
            "05:08PMElon Musk considering possible new Twitter CEO including pals from PayPal Fox Business\n",
            "05:05PMMusk Lashes Out at Unhappy Investor as Tesla Shares Retreat Bloomberg\n",
            "04:44PMTesla Stock Just Keeps Falling. The Chart Is in Control. Barrons.com\n",
            "04:40PMUS STOCKS-Wall St closes slightly higher after four-day sell off Reuters\n",
            "04:28PMBig Oil Stages a Big Comeback as Exxons Valuation Passes Tesla Bloomberg\n",
            "04:04PMU.S. EV adoption outlook fell by 30% in 2022 Yahoo Finance Video\n",
            "03:52PMEvercore ISI cuts Tesla price target Yahoo Finance Video\n",
            "03:51PMOSHA proposes nearly $300K in fines for Tesla supplier in Central Texas American City Business Journals\n",
            "03:50PMWhy Tesla Hit Another 2-Year Low Today Motley Fool\n",
            "02:42PMUS STOCKS-Wall Street up, regains ground after four-day sell off Reuters\n",
            "02:07PMTesla Stock Will Go Lower Until This Stops the Fall Barrons.com\n",
            "01:46PMAfter Tesla stock lost critical battle line, shares plunge toward worst month, quarter and year in history MarketWatch\n",
            "01:33PMElon Musk Picks High-Stakes Fight With Sen. Elizabeth Warren TheStreet.com\n",
            "01:31PMTesla stock concerns go beyond Elon Musk multitasking at Twitter: Analyst Yahoo Finance\n",
            "01:08PMTesla falls on growing angst over Musk's focus on Twitter Reuters\n",
            "01:08PMUS STOCKS-Wall St edges higher as energy, financial stocks rise Reuters\n",
            "12:45PMTesla Now Less Valuable than Johnson & Johnson The Wall Street Journal\n",
            "12:35PMTesla Shares Are Weak. The Reason Why Is in the Stock Chart. Barrons.com\n",
            "12:28PMWhy Tesla, GM stand to benefit from Treasury's EV tax credit rule delay Yahoo Finance\n",
            "12:10PMDow Jones Rises; A Perfect Set Up For Santa Claus Rally? Tesla's Musk Restricts Twitter Polling; Micron, Fedex, Nike On Tap Investor's Business Daily\n",
            "12:10PMDow Jones Rises: A Perfect Setup For Santa Claus Rally? Tesla's Musk Restricts Twitter Polling; Micron, FedEx, Nike On Tap Investor's Business Daily\n",
            "11:33AMElon Musk Picks High Stake Fight With Senator Elizabeth Warren TheStreet.com\n",
            "10:51AMUS STOCKS-Energy, financial stocks lift Wall St after BOJ policy surprise Reuters\n",
            "10:46AMElon Musk is actively looking for Twitter's next CEO: Report Yahoo Finance\n",
            "10:15AMHow Much Lower Will Tesla Stock Go? Motley Fool\n",
            "10:08AMDow Jones Reverses Higher; Tesla Stock Hits New Low On Price Target Cuts Investor's Business Daily\n",
            "10:08AMTesla EV Buyers Are Waiting for Discounts. The Purchase Subsidies List Is Delayed. Barrons.com\n",
            "Dec-21-22 06:37PMWhy Amazon, Apple, and Chewy Stocks All Rallied on Wednesday Motley Fool\n",
            "03:52PMHow the EU Took On Big Tech in 2022 WSJ\n",
            "03:39PMJustin Bieber the latest major act to sell music rights in reported $200 million deal Yahoo Finance\n",
            "03:09PMGoogle Downplays Microsoft Cloud Potential Versus Wall Street; Analyst Disagrees Benzinga\n",
            "02:51PMTeslas stock drop has been bad. But this company has wiped out more investor wealth in 2022. MarketWatch\n",
            "\n",
            "12:56PM\n",
            "Loading…\n",
            "\n",
            "12:56PM11 Best Penny Stocks to Buy Now Insider Monkey\n",
            "12:00PM3 Top E-Commerce Stocks to Buy Right Now Motley Fool\n",
            "11:49AMDisney and Amazon Are Close to Joining an Unenviable Club of 44 Stocks Barrons.com\n",
            "11:15AM3 Reasons to Buy Amazon Stock Before 2023 Motley Fool\n",
            "10:15AMIs Amazon Stock a Buy Going Into 2023 After Nike's Report? Motley Fool\n",
            "10:05AMAmazon: What to Expect in 2023 and Beyond Motley Fool\n",
            "09:54AMPrice Matching Can Save You Hundreds: Heres What Stores Offer It GOBankingRates\n",
            "09:24AM11 Best TaaS Stocks to Buy Now Insider Monkey\n",
            "09:23AMThe Smartest Investors Are Buying These 3 Stocks Hand Over Fist Motley Fool\n",
            "09:00AM3 Things About Amazon Stock That Smart Investors Know Motley Fool\n",
            "\n",
            "08:55AM\n",
            "Loading…\n",
            "\n",
            "08:55AMInterest Rate Hikes Won't Stop These 2 Cash-Rich Growth Stocks Motley Fool\n",
            "08:17AM2 Warren Buffett Stocks to Buy More Of in December Motley Fool\n",
            "07:00AMWhich Cloud Computing Stock Will Reign Supreme in 2023? Motley Fool\n",
            "06:50AM2 Top Warren Buffett Stocks to Buy Right Now Motley Fool\n",
            "06:18AM2 Big Stock Market Predictions for 2023 Motley Fool\n",
            "06:15AMA Once-in-a-Decade Investing Opportunity Is Here. Should You Buy Now? Motley Fool\n",
            "06:00AMHow Amazon's AWS hires for and develops hard-to-find cloud skills Quartz\n",
            "05:34AM2 High-Conviction Growth Stocks To Buy Aggressively Before the End of 2022 Motley Fool\n",
            "05:20AMGot $300? These 2 Stocks Could Supercharge Your Portfolio in 2023 Motley Fool\n",
            "05:12AMChewy Stock: Bull vs. Bear Motley Fool\n",
            "02:21AMThese are some of the Puget Sound region's most notable tech layoffs of 2022 (Photos) American City Business Journals\n",
            "Dec-20-22 07:04PMWells Fargo, Amazon Look to Move On Motley Fool\n",
            "04:21PMUSPS will electrify entire mail-delivery fleet within just a few years MarketWatch\n",
            "04:02PMPharmacies limit the purchase of kids' meds. How bad are the shortages? Yahoo Finance\n",
            "03:00PMA.I. is getting your holiday gifts to you more efficiently than ever Fortune\n",
            "\n",
            "02:49PM\n",
            "Loading…\n",
            "\n",
            "02:49PM13 Best New Tech Stocks to Buy Now Insider Monkey\n",
            "02:03PMAmazon loans $54.8M to Nashville affordable housing projects American City Business Journals\n",
            "01:10PMDisney, Amazon May Join an Unenviable Club of 44 Stocks Barrons.com\n",
            "12:51PMImax (IMAX) Delivers a Massive Opening of Avatar: The Way Of Water Zacks\n",
            "12:06PMAmazon union push is not going to stop, Chris Smalls says Yahoo Finance Video\n",
            "12:03PMAmazon settles with the EU over antitrust charges Yahoo Finance Video\n",
            "11:58AMBig Tech faces unionization push as employee priorities shift Yahoo Finance Video\n",
            "11:15AMHave $2,000? 2 Market-Crash-Ready Stocks to Buy Motley Fool\n",
            "11:06AM2 Game-Changing Stocks That Could Help Set You Up for Life Motley Fool\n",
            "10:15AMGood News for Amazon Stock: E-Commerce Is Turning the Corner Motley Fool\n",
            "09:52AMWhy Amazon stock has tanked by 50% in 2022 Yahoo Finance Video\n",
            "09:46AMAmazon Seals EU Antitrust Truce to Dodge Fines, Boost Rivals Bloomberg\n",
            "09:31AMTarget, Amazon and 4 More Retailers That Will Reward You for Turning in Your Old Stuff GOBankingRates\n",
            "08:39AMAmazon Settles European Antitrust Cases With No Fines. Its a Rare Truce Between Big Tech and the EU. Barrons.com\n",
            "08:29AMUPDATE 1-Amazon reaches settlement in three EU antitrust cases, avoids fine Reuters\n",
            "08:28AMZscaler (ZS) Joins JCDC to Boost U.S. Cybersecurity Posture Zacks\n",
            "08:11AMAmazon Agrees to Settle EU Antitrust Cases, Avoiding Fines The Wall Street Journal\n",
            "08:08AMAmazon Web Services Secures Navy Contract For Over $700M Benzinga\n",
            "08:00AMThese Will Be The Best 10 Stocks In 2023, Analysts Say Investor's Business Daily\n",
            "07:56AMAmazon agrees deal with EU to end long-running data probes Financial Times\n",
            "07:45AMDown 33% in 2022, Can This Unstoppable Growth Stock Make a Comeback in 2023? Motley Fool\n",
            "07:30AMPurpose Investments Debuts Yield Shares, the Worlds First Yield-Focused Single-Stock ETFs GlobeNewswire\n",
            "07:30AMCould Amazon's New Chip Be the End of AMD and Other Chip Stocks? Motley Fool\n",
            "07:25AMAmazon to change marketplace policies in European Commission settlement MarketWatch\n",
            "07:15AMAmazon reaches settlement in three EU antitrust cases, avoids fine Reuters\n",
            "07:03AMAmazon reaches settlement with EU over use of data, avoids fine Reuters\n",
            "06:48AMAmazon gets approval for 10 more acres at Lakeland airport American City Business Journals\n",
            "06:45AM'Everything is on the table': Analysts eye next media mega-merger amid profit push Yahoo Finance\n",
            "06:30AM12 of the Best Men's Gifts for Under $50 on Amazon Motley Fool\n",
            "06:21AM3 Stocks That Can Double in 2023 After Being Cut in Half Last Year Motley Fool\n",
            "06:07AM2 Warren Buffett Stocks to Buy Hand Over Fist Motley Fool\n",
            "06:04AMAmazon stock is now down 50% this year and is at a 52-week low Yahoo Finance\n",
            "06:00AMThis New App Wants to Pay You to Share Your Data For Advertising The Wall Street Journal\n",
            "05:52AMLooking for a Surefire Winner in the Next Bull Market? Buy Amazon Stock. Motley Fool\n",
            "05:40AMDown 79%, Shopify Stock Is a Rare Buying Opportunity in a Bear Market Motley Fool\n",
            "05:30AMStock Picking Makes a Comeback in Market Turbulence The Wall Street Journal\n",
            "05:20AMGot $1,000? 5 Buffett Stocks to Buy and Hold Forever Motley Fool\n",
            "05:12AMGot $1,000? 2 Top Growth Stocks to Buy That Could Double Your Money Motley Fool\n",
            "05:05AM3 Tech Stocks With More Potential Than Any Cryptocurrency Motley Fool\n",
            "Dec-19-22 06:44PMAnalyst Report: Amazon.com, Inc. Morningstar Research\n",
            "06:27PMAmazons cloud-computing unit awarded 5-year, $723 million Navy contract MarketWatch\n",
            "03:45PMStreaming platforms, media companies weigh M&A opportunities heading into 2023 Yahoo Finance Video\n",
            "01:17PMWhy Amazon.com Stock Is Still Falling Motley Fool\n",
            "01:12PMAmazon loans $16M to Gilbane for Hyattsville apartments American City Business Journals\n",
            "11:45AMAmazon.com Stock Gives Up Post-Covid Gains The Wall Street Journal\n",
            "11:40AMSnap won't make money until 2027, analyst says Yahoo Finance\n",
            "11:01AMWill Workers Strike Affect Amazon's (AMZN) Holiday Prospects? Zacks\n",
            "09:30AMAmazon, Down Almost 50% This Year, Is the Top Big Tech Stock to Buy for 2023 Motley Fool\n",
            "08:58AMElon Musk's Latest 'Twitter Files' Show Internal Angst Over FBI Requests, L3Harris Scoops Up Aerojet, Mesa Air End Regional Flights For American Airlines: Today's Top Stories Benzinga\n",
            "08:36AMGermany Union Urge Amazon's Warehouse Employees To Stage Protest Against Pay Benzinga\n",
            "08:31AMHere Are Barrons 10 Top Stocks for the New Year Barrons.com\n",
            "07:54AMUS Watchdog Nudges Amazon Over Laxity In Recording Workhouse Injuries Benzinga\n",
            "07:43AMThe Zacks Analyst Blog Highlights Amazon.com, Novartis, Philip Morris International, Automatic Data Processing and Live Nation Entertainment Zacks\n",
            "06:22AMHere's My Favorite Stock I Bought in 2022 Motley Fool\n",
            "05:57AM3 Warren Buffett Stocks That Could Soar 39% to 83% in 2023, According to Wall Street Motley Fool\n",
            "Dec-18-22 06:11PMHeres everything coming to Amazons Prime Video in January 2023 MarketWatch\n",
            "05:35PMIs Amazon.com (AMZN) a Worthy Investment Choice? Insider Monkey\n",
            "12:00PM4 Reasons You Should Cancel Amazon Prime GOBankingRates\n",
            "10:21AMNever Mind the FAANG Stocks, Buy the GHOST Stocks Before 2023 Motley Fool\n",
            "10:00AMIts Time to Boot the Moochers Off Your Spotify, Netflix and Other Accounts The Wall Street Journal\n",
            "09:06AMGerman union warns Amazon of rolling pre-Christmas strikes Reuters\n",
            "08:47AMHere's Why Shopify Could Be a Breakout Stock in 2023 Motley Fool\n",
            "07:50AMA Bull Market Is Coming: 2 Trillion-Dollar Growth Stocks to Buy Before They Soar Motley Fool\n",
            "06:18AM5 Top Warren Buffett Stocks to Buy for 2023 Motley Fool\n",
            "05:15AM5 No-Brainer Stocks to Buy Before 2023 Motley Fool\n",
            "05:05AM2 Stocks to Buy at a Massive Discount Right Now Motley Fool\n",
            "Dec-17-22 03:00PMWant to Support Your Favorite Charity? Amazon Makes It Easy Motley Fool\n",
            "09:51AM15 Most Boycotted Companies and Brands in History Insider Monkey\n",
            "09:00AMWant to Save More Money on Food? Try This Motley Fool\n",
            "06:20AMIs It Safe to Buy Growth Stocks Again? Motley Fool\n"
          ]
        }
      ],
      "source": [
        "# Iterate through the news\n",
        "parsed_news = []\n",
        "for file_name, news_table in news_tables.items():\n",
        "    for x in news_table.findAll('tr'):\n",
        "        print(x.get_text())\n",
        "        text = x.get_text() \n",
        "        date_scrape = x.td.text.split()\n",
        "\n",
        "        if len(date_scrape) == 1:\n",
        "            time = date_scrape[0]\n",
        "            \n",
        "        else:\n",
        "            date = date_scrape[0]\n",
        "            time = date_scrape[1]\n",
        "\n",
        "        ticker = file_name.split('_')[0]\n",
        "        \n",
        "        parsed_news.append([ticker, date, time, text ])"
      ]
    },
    {
      "cell_type": "markdown",
      "metadata": {},
      "source": [
        "# Sentiment Analysis of FinViz data #"
      ]
    },
    {
      "cell_type": "code",
      "execution_count": 420,
      "metadata": {},
      "outputs": [
        {
          "name": "stderr",
          "output_type": "stream",
          "text": [
            "[nltk_data] Downloading package vader_lexicon to\n",
            "[nltk_data]     C:\\Users\\Ishaan\\AppData\\Roaming\\nltk_data...\n",
            "[nltk_data]   Package vader_lexicon is already up-to-date!\n"
          ]
        },
        {
          "data": {
            "text/plain": [
              "True"
            ]
          },
          "execution_count": 420,
          "metadata": {},
          "output_type": "execute_result"
        }
      ],
      "source": [
        "nltk.download('vader_lexicon')"
      ]
    },
    {
      "cell_type": "code",
      "execution_count": 421,
      "metadata": {},
      "outputs": [
        {
          "name": "stdout",
          "output_type": "stream",
          "text": [
            "\n",
            "\n",
            "              Date     Time    neg    neu    pos  compound\n",
            "Ticker                                                    \n",
            "AAPL    2022-12-18  10:21AM  0.331  0.669  0.000   -0.7125\n",
            "AAPL    2022-12-18  10:00AM  0.153  0.847  0.000   -0.4404\n",
            "AAPL    2022-12-18  08:30AM  0.000  1.000  0.000    0.0000\n",
            "AAPL    2022-12-18  07:50AM  0.157  0.703  0.141   -0.0772\n",
            "AAPL    2022-12-18  07:30AM  0.195  0.805  0.000   -0.4404\n",
            "\n",
            "\n",
            "              Date     Time    neg    neu    pos  compound\n",
            "Ticker                                                    \n",
            "TSLA    2022-12-18  06:15PM  0.163  0.837  0.000   -0.5106\n",
            "TSLA    2022-12-18  05:01PM  0.000  0.737  0.263    0.3612\n",
            "TSLA    2022-12-18  02:09PM  0.299  0.701  0.000   -0.7506\n",
            "TSLA    2022-12-18  02:05PM  0.369  0.631  0.000   -0.8779\n",
            "TSLA    2022-12-18  12:21PM  0.206  0.794  0.000   -0.3818\n",
            "\n",
            "\n",
            "              Date     Time    neg    neu    pos  compound\n",
            "Ticker                                                    \n",
            "AMZN    2022-12-18  06:11PM  0.091  0.909  0.000   -0.0258\n",
            "AMZN    2022-12-18  05:35PM  0.000  0.707  0.293    0.4404\n",
            "AMZN    2022-12-18  12:00PM  0.206  0.619  0.175   -0.0772\n",
            "AMZN    2022-12-18  10:21AM  0.350  0.650  0.000   -0.7125\n",
            "AMZN    2022-12-18  10:00AM  0.153  0.847  0.000   -0.4404\n",
            "\n",
            "\n",
            "        Mean Sentiment\n",
            "Ticker                \n",
            "AAPL             -0.05\n",
            "TSLA             -0.10\n",
            "AMZN             -0.11\n"
          ]
        }
      ],
      "source": [
        "# View Data \n",
        "news['Date'] = pd.to_datetime(news.Date).dt.date\n",
        "\n",
        "unique_ticker = news['Ticker'].unique().tolist()\n",
        "news_dict = {name: news.loc[news['Ticker'] == name] for name in unique_ticker}\n",
        "\n",
        "values = []\n",
        "for ticker in tickers: \n",
        "    dataframe = news_dict[ticker]\n",
        "    dataframe = dataframe.set_index('Ticker')\n",
        "    dataframe = dataframe.drop(columns = ['Headline'])\n",
        "    print ('\\n')\n",
        "    print (dataframe.head())\n",
        "    \n",
        "    mean = round(dataframe['compound'].mean(), 2)\n",
        "    values.append(mean)\n",
        "    \n",
        "df = pd.DataFrame(list(zip(tickers, values)), columns =['Ticker', 'Mean Sentiment']) \n",
        "df = df.set_index('Ticker')\n",
        "df = df.sort_values('Mean Sentiment', ascending=False)\n",
        "print ('\\n')\n",
        "print (df)"
      ]
    },
    {
      "cell_type": "code",
      "execution_count": 422,
      "metadata": {},
      "outputs": [
        {
          "name": "stdout",
          "output_type": "stream",
          "text": [
            "Getting stock open for stock $AAPL\n",
            "AAPL 132.97999572753906\n"
          ]
        }
      ],
      "source": [
        "#Testing helper functions from stock_helper_functions.ipynb\n",
        "aapl_open = getStockOpen(\"AAPL\")"
      ]
    },
    {
      "cell_type": "markdown",
      "metadata": {},
      "source": [
        "# Creating Dataset #"
      ]
    },
    {
      "cell_type": "code",
      "execution_count": 423,
      "metadata": {},
      "outputs": [],
      "source": [
        "#Defining a new dataframe called 'dataset'\n",
        "dataset = pd.DataFrame()"
      ]
    },
    {
      "cell_type": "code",
      "execution_count": 424,
      "metadata": {},
      "outputs": [
        {
          "name": "stdout",
          "output_type": "stream",
          "text": [
            "Starting array to list\n",
            "Getting stock data for stock $AAPL TSLA AMZN\n",
            "[*********************100%***********************]  3 of 3 completed\n",
            "                  TSLA                                                  \\\n",
            "                  Open        High         Low       Close   Adj Close   \n",
            "Date                                                                     \n",
            "2022-12-21  139.339996  141.259995  135.889999  137.570007  137.570007   \n",
            "\n",
            "                        AMZN                                              \\\n",
            "               Volume   Open       High        Low      Close  Adj Close   \n",
            "Date                                                                       \n",
            "2022-12-21  145051100  86.18  87.230003  85.209999  86.769997  86.769997   \n",
            "\n",
            "                            AAPL                                              \\\n",
            "              Volume        Open        High     Low       Close   Adj Close   \n",
            "Date                                                                           \n",
            "2022-12-21  59185400  132.979996  136.809998  132.75  135.449997  135.449997   \n",
            "\n",
            "                      \n",
            "              Volume  \n",
            "Date                  \n",
            "2022-12-21  85859600  \n"
          ]
        }
      ],
      "source": [
        "#Pulling stock data\n",
        "daily_stock = getStockDataDaily(tickers, '2022-12-21')\n",
        "print(daily_stock)"
      ]
    },
    {
      "cell_type": "code",
      "execution_count": 448,
      "metadata": {},
      "outputs": [
        {
          "data": {
            "text/plain": [
              "('AAPL', 'Adj Close', Timestamp('2022-12-21 00:00:00'))"
            ]
          },
          "execution_count": 448,
          "metadata": {},
          "output_type": "execute_result"
        }
      ],
      "source": [
        "#for i in tickers:\n",
        "    #df_individual = daily_stock[i]\n",
        "    #print(df_individual)\n",
        "daily_stock.index[0]"
      ]
    }
  ],
  "metadata": {
    "colab": {
      "authorship_tag": "ABX9TyO2ChGGwJkijmmb0vDcCR40",
      "include_colab_link": true,
      "name": "Sentiment Analysis.ipynb",
      "provenance": []
    },
    "kernelspec": {
      "display_name": "Python 3.10.0 64-bit",
      "language": "python",
      "name": "python3"
    },
    "language_info": {
      "codemirror_mode": {
        "name": "ipython",
        "version": 3
      },
      "file_extension": ".py",
      "mimetype": "text/x-python",
      "name": "python",
      "nbconvert_exporter": "python",
      "pygments_lexer": "ipython3",
      "version": "3.10.0"
    },
    "vscode": {
      "interpreter": {
        "hash": "369f2c481f4da34e4445cda3fffd2e751bd1c4d706f27375911949ba6bb62e1c"
      }
    }
  },
  "nbformat": 4,
  "nbformat_minor": 0
}
