{
 "cells": [
  {
   "cell_type": "code",
   "execution_count": 15,
   "metadata": {},
   "outputs": [],
   "source": [
    "from bs4 import BeautifulSoup\n",
    "from urllib.request import urlopen, Request\n",
    "from nltk.sentiment.vader import SentimentIntensityAnalyzer\n",
    "import pandas as pd"
   ]
  },
  {
   "cell_type": "code",
   "execution_count": 10,
   "metadata": {},
   "outputs": [
    {
     "name": "stdout",
     "output_type": "stream",
     "text": [
      "AAPL\n"
     ]
    }
   ],
   "source": [
    "ticker = input(\"Enter Ticker\")\n",
    "print(ticker)"
   ]
  },
  {
   "cell_type": "code",
   "execution_count": 11,
   "metadata": {},
   "outputs": [
    {
     "data": {
      "text/plain": [
       "{'news':        Date                                              Title  \\\n",
       " 0   06:24PM  Impossible Foods CEO chews out Bloomberg artic...   \n",
       " 1   06:24PM  President of St. Louis Fed pushes for steeper ...   \n",
       " 2   06:08PM  Stocks moving in after-hours: Nvidia, Lucid, E...   \n",
       " 3   06:06PM  Subway adds EV charging parks in competition w...   \n",
       " 4   06:06PM    JPMorgan restricts employees from using ChatGPT   \n",
       " ..      ...                                                ...   \n",
       " 85  07:38AM         What's behind the fruit and veg shortages?   \n",
       " 86  07:32AM  Futures stable after Wall St rout on rate worries   \n",
       " 87  07:23AM  China’s Economic Support for Russia Could Elic...   \n",
       " 88  07:17AM      S&P 500 index seen climbing 5% by end of 2023   \n",
       " 89  07:14AM  Diversity, equity and inclusion jobs slashed a...   \n",
       " \n",
       "                Source                                               Link  \n",
       " 0     foxbusiness.com  https://foxbusiness.com/economy/impossible-foo...  \n",
       " 1     foxbusiness.com  https://foxbusiness.com/economy/president-st-l...  \n",
       " 2   finance.yahoo.com  https://finance.yahoo.com/news/stocks-moving-i...  \n",
       " 3     foxbusiness.com  https://foxbusiness.com/markets/subway-adds-ev...  \n",
       " 4     foxbusiness.com  https://foxbusiness.com/technology/jpmorgan-re...  \n",
       " ..                ...                                                ...  \n",
       " 85      www.bbc.co.uk  https://www.bbc.co.uk/news/business-64718826?a...  \n",
       " 86    www.reuters.com  https://www.reuters.com/markets/us/futures-sta...  \n",
       " 87    www.nytimes.com  https://www.nytimes.com/2023/02/22/us/politics...  \n",
       " 88    www.reuters.com  https://www.reuters.com/markets/us/sp-500-inde...  \n",
       " 89    foxbusiness.com  https://foxbusiness.com/economy/diversity-equi...  \n",
       " \n",
       " [90 rows x 4 columns],\n",
       " 'blogs':        Date                                              Title  \\\n",
       " 0   05:11PM  Nvidia Soars 8% After Beating Earnings, Guidin...   \n",
       " 1   04:45PM  Idaho Lawmakers Seek To Criminalize Injecting ...   \n",
       " 2   04:39PM  Mortgage Purchase Applications Drop to the Low...   \n",
       " 3   04:36PM  WTI Extends Losses After Another Massive Crude...   \n",
       " 4   04:20PM  If We No Longer Pay Attention To Things We Don...   \n",
       " ..      ...                                                ...   \n",
       " 85   Jan-06                         Being Honest With Yourself   \n",
       " 86   Jan-01                         How To Start Your New Year   \n",
       " 87   Dec-25  Evidence-Based Spirituality:  Finding Personal...   \n",
       " 88   Dec-18                           Your Mental Sharpe Ratio   \n",
       " 89   May-21  New Issue Now Available: What Hedge Funds Boug...   \n",
       " \n",
       "                      Source                                               Link  \n",
       " 0         www.zerohedge.com  https://www.zerohedge.com/markets/nvidia-soars...  \n",
       " 1         www.zerohedge.com  https://www.zerohedge.com/political/idaho-lawm...  \n",
       " 2              mishtalk.com  https://mishtalk.com/economics/mortgage-purcha...  \n",
       " 3         www.zerohedge.com  https://www.zerohedge.com/energy/wti-extends-l...  \n",
       " 4         www.zerohedge.com  https://www.zerohedge.com/political/if-we-no-l...  \n",
       " ..                      ...                                                ...  \n",
       " 85  traderfeed.blogspot.com  http://traderfeed.blogspot.com/2023/01/being-h...  \n",
       " 86  traderfeed.blogspot.com  http://traderfeed.blogspot.com/2023/01/how-to-...  \n",
       " 87  traderfeed.blogspot.com  http://traderfeed.blogspot.com/2022/12/evidenc...  \n",
       " 88  traderfeed.blogspot.com  http://traderfeed.blogspot.com/2022/12/your-me...  \n",
       " 89      www.marketfolly.com  http://www.marketfolly.com/2022/05/new-issue-n...  \n",
       " \n",
       " [90 rows x 4 columns]}"
      ]
     },
     "execution_count": 11,
     "metadata": {},
     "output_type": "execute_result"
    }
   ],
   "source": [
    "from finvizfinance.news import News\n",
    "fnews = News()\n",
    "all_news = fnews.get_news()\n",
    "all_news"
   ]
  },
  {
   "cell_type": "code",
   "execution_count": 12,
   "metadata": {},
   "outputs": [
    {
     "name": "stdout",
     "output_type": "stream",
     "text": [
      "current url is: https://finviz.com/quote.ashx?t=AAPL\n",
      "\n",
      "\n",
      "Recent News Headlines for AAPL: \n",
      "Why Abbott Laboratories Stock Sank Today ( Feb-22-23 06:07PM )\n",
      "President Biden upholds ITC ruling on Apple Watchs EKG patent battle ( 04:07PM )\n",
      "Dexcom Slumps As A New Rival Reportedly Arrives On Scene: Apple ( 04:04PM )\n"
     ]
    }
   ],
   "source": [
    "# Get Data\n",
    "n = 3\n",
    "finwiz_url = 'https://finviz.com/quote.ashx?t='\n",
    "news_tables = {}\n",
    "\n",
    "#for ticker in tickers:\n",
    "url = finwiz_url + ticker\n",
    "print(\"current url is: \" +url)\n",
    "header = {\"User-Agent\": \"Mozilla/5.0 (Windows NT 10.0; Win64; x64) AppleWebKit/537.36 (KHTML, like Gecko) Chrome/92.0.4515.159 Safari/537.36.\"}\n",
    "req = Request(url=url,headers=header) \n",
    "resp = urlopen(req)    \n",
    "html = BeautifulSoup(resp, features=\"lxml\")\n",
    "news_table = html.find(id='news-table')\n",
    "news_tables[ticker] = news_table\n",
    "\n",
    "try:\n",
    "    #for ticker in tickers:\n",
    "    df = news_tables[ticker]\n",
    "    df_tr = df.findAll('tr')\n",
    "    \n",
    "    print ('\\n')\n",
    "    print ('Recent News Headlines for {}: '.format(ticker))\n",
    "        \n",
    "    for i, table_row in enumerate(df_tr):\n",
    "        a_text = table_row.a.text\n",
    "        td_text = table_row.td.text\n",
    "        td_text = td_text.strip()\n",
    "        print(a_text,'(',td_text,')')\n",
    "        if i == n-1:\n",
    "            break\n",
    "except KeyError:\n",
    "    pass"
   ]
  },
  {
   "cell_type": "code",
   "execution_count": 13,
   "metadata": {},
   "outputs": [
    {
     "name": "stdout",
     "output_type": "stream",
     "text": [
      "[['AAPL', 'Feb-22-23', '06:07PM', 'Feb-22-23 06:07PMWhy Abbott Laboratories Stock Sank Today Motley Fool'], ['AAPL', 'Feb-22-23', '04:07PM', '04:07PMPresident Biden upholds ITC ruling on Apple Watchs EKG patent battle Yahoo Finance Video'], ['AAPL', 'Feb-22-23', '04:04PM', \"04:04PMDexcom Slumps As A New Rival Reportedly Arrives On Scene: Apple Investor's Business Daily\"], ['AAPL', 'Feb-22-23', '03:33PM', '03:33PMMicrosoft is bringing ChatGPT-powered Bing to your smartphone, challenging Google Yahoo Finance'], ['AAPL', 'Feb-22-23', '02:31PM', \"02:31PMSpruill's hot take: Incentivize Triangle startups  not Apple, Google and Amazon American City Business Journals\"], ['AAPL', 'Feb-22-23', '12:53PM', '\\n12:53PM\\nLoading…\\n'], ['AAPL', 'Feb-22-23', '12:53PM', '12:53PMApple Makes Major Progress on No-Prick Blood Glucose Tracking for Its Watch Bloomberg'], ['AAPL', 'Feb-22-23', '11:22AM', '11:22AMMicrosoft Brings ChatGPT-Powered Bing to Apple, Android Mobile Devices The Wall Street Journal'], ['AAPL', 'Feb-22-23', '09:37AM', '09:37AMGot $5,000? These 2 Low-Risk Growth Stocks Also Pay Dividends Motley Fool'], ['AAPL', 'Feb-22-23', '08:30AM', \"08:30AMApple TV+ growth has 'flat-lined' as users say service lacks value: UBS Yahoo Finance\"], ['AAPL', 'Feb-22-23', '07:45AM', '07:45AMA Bull Market Is Coming: 2 Big Reasons to Buy Amazon Stock Right Now Motley Fool'], ['AAPL', 'Feb-21-23', '08:30PM', \"Feb-21-23 08:30PMBiden admin declines to overrule trade court's import ban on Apple Watch Fox Business\"], ['AAPL', 'Feb-21-23', '06:37PM', '06:37PMWhy Apple Stock Tasted Sour on Tuesday Motley Fool'], ['AAPL', 'Feb-21-23', '04:02PM', '04:02PMApple TV+ reports stalling U.S. adoption, subscriptions Yahoo Finance Video'], ['AAPL', 'Feb-21-23', '03:25PM', \"03:25PMUPDATE 2-Biden admin won't veto ITC's Apple Watch import ban ruling Reuters\"], ['AAPL', 'Feb-21-23', '02:20PM', \"02:20PMBiden admin won't veto ITC's Apple Watch import ban ruling Reuters\"], ['AAPL', 'Feb-21-23', '11:43AM', '\\n11:43AM\\nLoading…\\n'], ['AAPL', 'Feb-21-23', '11:43AM', '11:43AMIs Apple Still a Good Investment? GuruFocus.com'], ['AAPL', 'Feb-21-23', '11:37AM', \"11:37AMHackers Scored Data Center Logins for Some of the World's Biggest Companies Bloomberg\"], ['AAPL', 'Feb-21-23', '10:00AM', \"10:00AMWarren Buffett's new 13F is out  and he's leaning on these 4 big holdings to fight white-hot inflation MoneyWise\"], ['AAPL', 'Feb-21-23', '09:28AM', '09:28AMDemocratic Rep. David Cicilline leaving Congress to head foundation MarketWatch'], ['AAPL', 'Feb-21-23', '06:05AM', \"06:05AMWarren Buffett Stocks: What's Inside Berkshire Hathaway's Portfolio? Investor's Business Daily\"], ['AAPL', 'Feb-21-23', '06:00AM', '06:00AMHow Apple captured Gen Z in the US  and changed their social circles Financial Times'], ['AAPL', 'Feb-21-23', '05:10AM', '05:10AMThis Top Fintech Stock Is Just Too Cheap Motley Fool'], ['AAPL', 'Feb-21-23', '05:00AM', \"05:00AM20 Billion Reasons Alphabet's Moat Isn't as Big as It Seems Motley Fool\"], ['AAPL', 'Feb-20-23', '06:17PM', \"Feb-20-23 06:17PMMark Zuckerberg's 2023 Resolution: Copying Elon Musk And Twitter TheStreet.com\"], ['AAPL', 'Feb-20-23', '02:53PM', '02:53PMMark Zuckerberg Makes a Puzzling Change TheStreet.com'], ['AAPL', 'Feb-20-23', '12:33PM', \"12:33PM5G Stocks To Buy And Watch As Cloud Computing Plays Bigger Role Investor's Business Daily\"], ['AAPL', 'Feb-20-23', '12:31PM', '12:31PMZuckerberg Makes Change That May Upset Facebook and Instagram Users TheStreet.com'], ['AAPL', 'Feb-20-23', '12:23PM', '12:23PMZuckerberg Outlines Change That May Upset Facebook and Instagram Users TheStreet.com'], ['AAPL', 'Feb-20-23', '09:36AM', '09:36AMHave $1,000? These 2 Stocks Could Be Bargain Buys for 2023 and Beyond Motley Fool'], ['AAPL', 'Feb-20-23', '06:26AM', '06:26AMWhere Will Roku Stock Be in 1 Year? Motley Fool'], ['AAPL', 'Feb-20-23', '06:25AM', '\\n06:25AM\\nLoading…\\n'], ['AAPL', 'Feb-20-23', '06:25AM', '06:25AMApple iPhone Growth Could Lag Rivals for First Time Since 2019 Barrons.com'], ['AAPL', 'Feb-20-23', '05:05AM', '05:05AMApple Shareholders Urged to Back Executives Pay Packages by ISS: Report Barrons.com'], ['AAPL', 'Feb-19-23', '03:13PM', 'Feb-19-23 03:13PMApple Watch faces potential import ban over patent dispute with Masimo Fox Business'], ['AAPL', 'Feb-19-23', '01:55PM', \"01:55PMShark Tank's Kevin O'Leary: ChatGPT is 'killing' Google's dominance Yahoo Finance\"], ['AAPL', 'Feb-19-23', '01:21PM', '01:21PMMeta to launch subscription service for Facebook and Instagram Financial Times'], ['AAPL', 'Feb-19-23', '10:13AM', '10:13AMIs The Trade Desk Stock a Buy Now? Motley Fool'], ['AAPL', 'Feb-19-23', '09:38AM', '09:38AM10 Best Performing Warren Buffett Stocks in 2023 Insider Monkey'], ['AAPL', 'Feb-19-23', '08:30AM', '08:30AMHistoric Buying Opportunity: Why Alphabet Is a No-Brainer Stock Motley Fool'], ['AAPL', 'Feb-19-23', '08:15AM', '08:15AM5 Top Stocks With Magnificent Share-Repurchase Track Records Motley Fool'], ['AAPL', 'Feb-19-23', '07:10AM', \"07:10AM76% of Warren Buffett's Berkshire Hathaway Portfolio Value Is in These 5 Stocks Motley Fool\"], ['AAPL', 'Feb-19-23', '05:52AM', \"05:52AM75% of Warren Buffett's Portfolio Is Invested in 5 Stocks: Here's the 1 That's Made Him the Most Money Motley Fool\"], ['AAPL', 'Feb-18-23', '01:35PM', 'Feb-18-23 01:35PMBest Stock to Buy: Amazon Stock vs. Alphabet Stock vs. Apple Stock Motley Fool'], ['AAPL', 'Feb-18-23', '01:03PM', \"01:03PMZebra Technology's Analysis Points to Improved Infrastructure Motley Fool\"], ['AAPL', 'Feb-18-23', '12:57PM', \"12:57PMISS urges Apple shareholders to vote for CEO Tim Cook, other execs' pay packages Reuters\"], ['AAPL', 'Feb-18-23', '12:54PM', \"12:54PMISS urges Apple shareholders to vote for CEO Tim Cook, other execs' pay packages Reuters\"], ['AAPL', 'Feb-18-23', '10:39AM', '10:39AMT-Mobile Gives Subscribers a Valuable Free Gift (Thanks Apple) TheStreet.com'], ['AAPL', 'Feb-18-23', '10:30AM', '10:30AMTarget, Amazon and 4 More Retailers That Will Reward You for Turning in Your Old Stuff GOBankingRates'], ['AAPL', 'Feb-18-23', '09:10AM', '09:10AMBetter Buy: Apple vs. Amazon Motley Fool'], ['AAPL', 'Feb-18-23', '08:31AM', \"08:31AMTwilio's Layoffs, Spotify's Strategy, and Super Bowl Ads Motley Fool\"], ['AAPL', 'Feb-17-23', '06:21PM', 'Feb-17-23 06:21PMWeekly Roundup TheStreet.com'], ['AAPL', 'Feb-17-23', '05:57PM', '05:57PMT-Mobile and Apple Offer Free Sports Service for Phone Subscribers TheStreet.com'], ['AAPL', 'Feb-17-23', '03:48PM', '03:48PMInterview With David Rolfe of Wedgewood Partners Motley Fool'], ['AAPL', 'Feb-17-23', '09:00AM', '09:00AMHere is What to Know Beyond Why Apple Inc. (AAPL) is a Trending Stock Zacks'], ['AAPL', 'Feb-17-23', '08:42AM', '08:42AMZacks Value Trader Highlights: Taiwan Semiconductor, Chevron, US Bancorp, Apple and Amazon Zacks'], ['AAPL', 'Feb-17-23', '08:31AM', '08:31AMApples Cook and Amazons Jassy are among the most overpaid CEOs, study finds, but a media boss bested them with $232 million in excess pay Fortune'], ['AAPL', 'Feb-17-23', '07:49AM', '07:49AMT-Mobile and Apple Offer a Major Free Gift to Customers TheStreet.com'], ['AAPL', 'Feb-17-23', '06:30AM', '06:30AM2 Warren Buffett Stocks to Buy Hand Over Fist and Hold for 30 Years or More Motley Fool'], ['AAPL', 'Feb-17-23', '06:01AM', '06:01AMIs Apple (NASDAQ:AAPL) Using Too Much Debt? Simply Wall St.'], ['AAPL', 'Feb-17-23', '04:27AM', '04:27AMUPDATE 2-Tech giants from Google to TikTok face tougher EU rules Reuters'], ['AAPL', 'Feb-16-23', '04:45PM', 'Feb-16-23 04:45PMApple plans to weigh customer history for new buy now, pay later service Yahoo Finance Video'], ['AAPL', 'Feb-16-23', '04:18PM', '04:18PMThese Stocks Are Moving the Most Today: Tesla, Shopify, TravelCenters, Roku, and More Barrons.com'], ['AAPL', 'Feb-16-23', '02:38PM', '02:38PMRetail investors are pouring a record $1.5 billion per day into the stock market Yahoo Finance'], ['AAPL', 'Feb-16-23', '02:07PM', '02:07PMT-Mobile and Apple Team on a Huge Gift to Customers TheStreet.com'], ['AAPL', 'Feb-16-23', '01:13PM', '01:13PMStreaming wars: Key takeaways from Netflix, Apple, Paramount and Disney earnings Yahoo Finance Video'], ['AAPL', 'Feb-16-23', '11:50AM', '11:50AMU.S. DOJ ramps up antitrust investigation into Apple: Report Yahoo Finance Video'], ['AAPL', 'Feb-16-23', '10:15AM', '10:15AMUp Over 20% in 2023, Apple Is Still an Ultimate Bear Market Stock Motley Fool'], ['AAPL', 'Feb-16-23', '08:07AM', \"08:07AMApple Vulnerable To DOJ's Broader Antitrust Probe Involving iOS Favoring Itself Benzinga\"], ['AAPL', 'Feb-16-23', '08:04AM', '08:04AMZacks Market Edge Highlights: Robinhood, PayPal, Block, Apple and Chewy Zacks'], ['AAPL', 'Feb-16-23', '07:23AM', '07:23AMApples latest patent sparks speculation a foldable iPhone may be in the works Fortune'], ['AAPL', 'Feb-16-23', '03:12AM', '03:12AMChatGPT fever and Japans rocket dreams Financial Times'], ['AAPL', 'Feb-16-23', '01:32AM', '01:32AMPRESS DIGEST-Wall Street Journal - Feb 16 Reuters'], ['AAPL', 'Feb-15-23', '11:42PM', 'Feb-15-23 11:42PMApple reportedly delays launch of mixed-reality headset until June MarketWatch'], ['AAPL', 'Feb-15-23', '06:06PM', '06:06PMElon Musk and Steve Jobs Agree on Challenging Convention TheStreet.com'], ['AAPL', 'Feb-15-23', '04:49PM', '04:49PMElon Musk and Steve Jobs on the Key to Disruptive Tech Products TheStreet.com'], ['AAPL', 'Feb-15-23', '04:38PM', '04:38PMElon Musk Agrees With Steve Jobs on the Key to Disruptive Products TheStreet.com'], ['AAPL', 'Feb-15-23', '04:23PM', '04:23PMApple wants to move its manufacturing out of China Quartz'], ['AAPL', 'Feb-15-23', '04:04PM', '04:04PMHouse Panel Issues Subpoenas to Tech CEOs for Information on Content Moderation The Wall Street Journal'], ['AAPL', 'Feb-15-23', '03:55PM', '03:55PMApple Pushes Back Mixed-Reality Headset Debut Two Months to June Bloomberg'], ['AAPL', 'Feb-15-23', '03:29PM', '03:29PMDOJ officials draft potential antitrust complaint against Apple Yahoo Finance Video'], ['AAPL', 'Feb-15-23', '03:18PM', '03:18PMU.S. Escalates Apple Probe, Looks to Involve Antitrust Chief The Wall Street Journal'], ['AAPL', 'Feb-15-23', '02:49PM', '02:49PMAmazon, Apple, Meta CEOs subpoenaed by House Judiciary chairman MarketWatch'], ['AAPL', 'Feb-15-23', '02:44PM', '02:44PMGenZ and the Future of Investing Zacks'], ['AAPL', 'Feb-15-23', '02:27PM', '02:27PMLook: Apple Just Filed a Patent for a Potentially Revolutionary New IPhone TheStreet.com'], ['AAPL', 'Feb-15-23', '01:08PM', '01:08PMU.S. Justice Department escalates Apple probe - WSJ Reuters'], ['AAPL', 'Feb-15-23', '01:08PM', '01:08PMTime to Take a Bite Out of Apple ETFs Following Warren Buffett? Zacks'], ['AAPL', 'Feb-15-23', '01:04PM', '01:04PMUPDATE 2-U.S. Justice Department escalates Apple probe - WSJ Reuters'], ['AAPL', 'Feb-15-23', '12:53PM', '12:53PMJustice Department edges closer to antitrust action vs. Apple: report MarketWatch'], ['AAPL', 'Feb-15-23', '12:41PM', '12:41PMMicrosoft and Google are in a Game of Thrones battle over A.I. but Apple and Amazon still have huge roles to play, according to Wedbush Fortune'], ['AAPL', 'Feb-15-23', '11:23AM', '11:23AMWarren Buffetts Berkshire slashes TSMC holding, continues to build Apple stake Yahoo Finance'], ['AAPL', 'Feb-15-23', '09:34AM', \"09:34AM13F: 3 of Buffett's Latest Moves Zacks\"], ['AAPL', 'Feb-15-23', '07:59AM', '07:59AMThis Non-FAANG Big Tech Stock Is a Buy for 2023 and Beyond Motley Fool'], ['AAPL', 'Feb-15-23', '07:49AM', '07:49AMBerkshire Hathaway Didnt Buy More Occidental Petroleum Stockand More Filing Confusion Barrons.com'], ['AAPL', 'Feb-15-23', '06:18AM', \"06:18AMCan Shiba Inu Reach $1? Here's Why 589.6 Trillion Is the Key Number Motley Fool\"], ['AAPL', 'Feb-15-23', '06:06AM', '06:06AMApple Stock: Headed to $177? Motley Fool'], ['AAPL', 'Feb-15-23', '05:52AM', \"05:52AMWarren Buffett Just Bought 4 Stocks. Here's the Best of the Bunch. Motley Fool\"], ['AAPL', 'Feb-15-23', '01:39AM', \"01:39AMFedspeak, U.S. retail sales, U.K. inflation, Apple stake - what's moving markets Investing.com\"], ['AAPL', 'Feb-15-23', '12:27AM', '12:27AMEuropes Big Tech trust buster Financial Times'], ['AAPL', 'Feb-14-23', '07:35PM', 'Feb-14-23 07:35PMApple to Scrutinize Customer History for New Buy Now, Pay Later Service Bloomberg'], ['AAPL', 'Feb-14-23', '05:55PM', '05:55PMBerkshire Hathaway Boosts Stake in Apple, Paramount Global in Relatively Quiet Quarter The Wall Street Journal'], ['AAPL', 'Feb-14-23', '05:52PM', '05:52PMBerkshire Didnt Buy More Occidental Petroleum and More Filing Confusion Barrons.com']]\n"
     ]
    }
   ],
   "source": [
    "# Iterate through the news\n",
    "parsed_news = []\n",
    "for file_name, news_table in news_tables.items():\n",
    "    for x in news_table.findAll('tr'):\n",
    "        #print(x.get_text())\n",
    "        text = x.get_text() \n",
    "        date_scrape = x.td.text.split()\n",
    "\n",
    "        if len(date_scrape) == 1:\n",
    "            time = date_scrape[0]\n",
    "            \n",
    "        else:\n",
    "            date = date_scrape[0]\n",
    "            time = date_scrape[1]\n",
    "\n",
    "        ticker = file_name.split('_')[0]\n",
    "        \n",
    "        parsed_news.append([ticker, date, time, text ])\n",
    "print(parsed_news)"
   ]
  },
  {
   "cell_type": "code",
   "execution_count": 16,
   "metadata": {},
   "outputs": [],
   "source": [
    "df = pd.DataFrame(parsed_news, columns =['Ticker', 'Date', 'Time',\"Headline\"])"
   ]
  },
  {
   "cell_type": "code",
   "execution_count": 18,
   "metadata": {},
   "outputs": [
    {
     "name": "stdout",
     "output_type": "stream",
     "text": [
      "<bound method NDFrame.head of     Ticker       Date     Time  \\\n",
      "0     AAPL  Feb-22-23  06:07PM   \n",
      "1     AAPL  Feb-22-23  04:07PM   \n",
      "2     AAPL  Feb-22-23  04:04PM   \n",
      "3     AAPL  Feb-22-23  03:33PM   \n",
      "4     AAPL  Feb-22-23  02:31PM   \n",
      "..     ...        ...      ...   \n",
      "98    AAPL  Feb-15-23  01:39AM   \n",
      "99    AAPL  Feb-15-23  12:27AM   \n",
      "100   AAPL  Feb-14-23  07:35PM   \n",
      "101   AAPL  Feb-14-23  05:55PM   \n",
      "102   AAPL  Feb-14-23  05:52PM   \n",
      "\n",
      "                                              Headline  \n",
      "0    Feb-22-23 06:07PMWhy Abbott Laboratories Stock...  \n",
      "1    04:07PMPresident Biden upholds ITC ruling on A...  \n",
      "2    04:04PMDexcom Slumps As A New Rival Reportedly...  \n",
      "3    03:33PMMicrosoft is bringing ChatGPT-powered B...  \n",
      "4    02:31PMSpruill's hot take: Incentivize Triangl...  \n",
      "..                                                 ...  \n",
      "98   01:39AMFedspeak, U.S. retail sales, U.K. infla...  \n",
      "99   12:27AMEuropes Big Tech trust buster Financial...  \n",
      "100  Feb-14-23 07:35PMApple to Scrutinize Customer ...  \n",
      "101  05:55PMBerkshire Hathaway Boosts Stake in Appl...  \n",
      "102  05:52PMBerkshire Didnt Buy More Occidental Pet...  \n",
      "\n",
      "[103 rows x 4 columns]>\n"
     ]
    }
   ],
   "source": [
    "print(df.head)"
   ]
  },
  {
   "cell_type": "code",
   "execution_count": 20,
   "metadata": {},
   "outputs": [],
   "source": [
    "filename = \"datasets/\" + ticker + \"-recent.csv\"\n",
    "df.to_csv(filename)"
   ]
  }
 ],
 "metadata": {
  "kernelspec": {
   "display_name": "Python 3",
   "language": "python",
   "name": "python3"
  },
  "language_info": {
   "codemirror_mode": {
    "name": "ipython",
    "version": 3
   },
   "file_extension": ".py",
   "mimetype": "text/x-python",
   "name": "python",
   "nbconvert_exporter": "python",
   "pygments_lexer": "ipython3",
   "version": "3.10.0"
  },
  "orig_nbformat": 4,
  "vscode": {
   "interpreter": {
    "hash": "369f2c481f4da34e4445cda3fffd2e751bd1c4d706f27375911949ba6bb62e1c"
   }
  }
 },
 "nbformat": 4,
 "nbformat_minor": 2
}
